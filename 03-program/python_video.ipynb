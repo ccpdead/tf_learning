{
 "cells": [
  {
   "cell_type": "code",
   "execution_count": 1,
   "id": "initial_id",
   "metadata": {
    "collapsed": true,
    "ExecuteTime": {
     "end_time": "2023-09-23T09:12:11.354070096Z",
     "start_time": "2023-09-23T09:12:09.900260245Z"
    }
   },
   "outputs": [
    {
     "name": "stderr",
     "output_type": "stream",
     "text": [
      "2023-09-23 17:12:10.119521: I tensorflow/core/platform/cpu_feature_guard.cc:182] This TensorFlow binary is optimized to use available CPU instructions in performance-critical operations.\n",
      "To enable the following instructions: AVX2 FMA, in other operations, rebuild TensorFlow with the appropriate compiler flags.\n",
      "2023-09-23 17:12:10.690377: W tensorflow/compiler/tf2tensorrt/utils/py_utils.cc:38] TF-TRT Warning: Could not find TensorRT\n"
     ]
    }
   ],
   "source": [
    "import cv2\n",
    "import numpy as np\n",
    "import tensorflow as tf"
   ]
  },
  {
   "cell_type": "code",
   "execution_count": 2,
   "outputs": [
    {
     "name": "stderr",
     "output_type": "stream",
     "text": [
      "WARNING:absl:Importing a function (__inference_pruned_11507) with ops with unsaved custom gradients. Will likely fail if a gradient is requested.\n",
      "2023-09-23 17:12:14.479159: I tensorflow/compiler/xla/stream_executor/cuda/cuda_gpu_executor.cc:995] successful NUMA node read from SysFS had negative value (-1), but there must be at least one NUMA node, so returning NUMA node zero. See more at https://github.com/torvalds/linux/blob/v6.0/Documentation/ABI/testing/sysfs-bus-pci#L344-L355\n",
      "2023-09-23 17:12:14.498657: I tensorflow/compiler/xla/stream_executor/cuda/cuda_gpu_executor.cc:995] successful NUMA node read from SysFS had negative value (-1), but there must be at least one NUMA node, so returning NUMA node zero. See more at https://github.com/torvalds/linux/blob/v6.0/Documentation/ABI/testing/sysfs-bus-pci#L344-L355\n",
      "2023-09-23 17:12:14.498835: I tensorflow/compiler/xla/stream_executor/cuda/cuda_gpu_executor.cc:995] successful NUMA node read from SysFS had negative value (-1), but there must be at least one NUMA node, so returning NUMA node zero. See more at https://github.com/torvalds/linux/blob/v6.0/Documentation/ABI/testing/sysfs-bus-pci#L344-L355\n",
      "2023-09-23 17:12:14.500210: I tensorflow/compiler/xla/stream_executor/cuda/cuda_gpu_executor.cc:995] successful NUMA node read from SysFS had negative value (-1), but there must be at least one NUMA node, so returning NUMA node zero. See more at https://github.com/torvalds/linux/blob/v6.0/Documentation/ABI/testing/sysfs-bus-pci#L344-L355\n",
      "2023-09-23 17:12:14.500357: I tensorflow/compiler/xla/stream_executor/cuda/cuda_gpu_executor.cc:995] successful NUMA node read from SysFS had negative value (-1), but there must be at least one NUMA node, so returning NUMA node zero. See more at https://github.com/torvalds/linux/blob/v6.0/Documentation/ABI/testing/sysfs-bus-pci#L344-L355\n",
      "2023-09-23 17:12:14.500500: I tensorflow/compiler/xla/stream_executor/cuda/cuda_gpu_executor.cc:995] successful NUMA node read from SysFS had negative value (-1), but there must be at least one NUMA node, so returning NUMA node zero. See more at https://github.com/torvalds/linux/blob/v6.0/Documentation/ABI/testing/sysfs-bus-pci#L344-L355\n",
      "2023-09-23 17:12:14.848472: I tensorflow/compiler/xla/stream_executor/cuda/cuda_gpu_executor.cc:995] successful NUMA node read from SysFS had negative value (-1), but there must be at least one NUMA node, so returning NUMA node zero. See more at https://github.com/torvalds/linux/blob/v6.0/Documentation/ABI/testing/sysfs-bus-pci#L344-L355\n",
      "2023-09-23 17:12:14.848637: I tensorflow/compiler/xla/stream_executor/cuda/cuda_gpu_executor.cc:995] successful NUMA node read from SysFS had negative value (-1), but there must be at least one NUMA node, so returning NUMA node zero. See more at https://github.com/torvalds/linux/blob/v6.0/Documentation/ABI/testing/sysfs-bus-pci#L344-L355\n",
      "2023-09-23 17:12:14.848755: I tensorflow/compiler/xla/stream_executor/cuda/cuda_gpu_executor.cc:995] successful NUMA node read from SysFS had negative value (-1), but there must be at least one NUMA node, so returning NUMA node zero. See more at https://github.com/torvalds/linux/blob/v6.0/Documentation/ABI/testing/sysfs-bus-pci#L344-L355\n",
      "2023-09-23 17:12:14.848844: I tensorflow/core/common_runtime/gpu/gpu_device.cc:1639] Created device /job:localhost/replica:0/task:0/device:GPU:0 with 3342 MB memory:  -> device: 0, name: NVIDIA GeForce RTX 3060 Laptop GPU, pci bus id: 0000:01:00.0, compute capability: 8.6\n"
     ]
    }
   ],
   "source": [
    "name = {0: \"cup\", 1: \"gcup\", 2: \"bowl\", 3: \"plate\", 4: \"spoon\"}\n",
    "new_model = tf.saved_model.load(\"/home/jhr/Program/TensorFlow/Yolo/model/last_saved_model-3\")\n",
    "model_signature = new_model.signatures[\"serving_default\"]"
   ],
   "metadata": {
    "collapsed": false,
    "ExecuteTime": {
     "end_time": "2023-09-23T09:12:15.118762135Z",
     "start_time": "2023-09-23T09:12:13.549625175Z"
    }
   },
   "id": "31b50fec5d53259c"
  },
  {
   "cell_type": "code",
   "execution_count": 3,
   "outputs": [
    {
     "name": "stdout",
     "output_type": "stream",
     "text": [
      "ConcreteFunction signature_wrapper(*, x)\n",
      "  Args:\n",
      "    x: float32 Tensor, shape=(1, 640, 640, 3)\n",
      "  Returns:\n",
      "    {'output_0': <1>}\n",
      "      <1>: float32 Tensor, shape=(1, 25200, 10)\n"
     ]
    }
   ],
   "source": [
    "print(model_signature)"
   ],
   "metadata": {
    "collapsed": false,
    "ExecuteTime": {
     "end_time": "2023-09-23T09:12:20.797752862Z",
     "start_time": "2023-09-23T09:12:20.791726235Z"
    }
   },
   "id": "e7256544aee8a314"
  },
  {
   "cell_type": "code",
   "execution_count": 4,
   "outputs": [
    {
     "ename": "TypeError",
     "evalue": "Binding inputs to tf.function `signature_wrapper` failed due to `too many positional arguments`. Received args: (array([[[[0.8901961 , 0.8901961 , 0.8901961 ],\n         [0.9019608 , 0.9019608 , 0.9019608 ],\n         [0.8980392 , 0.8980392 , 0.8980392 ],\n         ...,\n         [0.76862746, 0.76862746, 0.76862746],\n         [0.77254903, 0.77254903, 0.77254903],\n         [0.77254903, 0.77254903, 0.77254903]],\n\n        [[0.8926471 , 0.8926471 , 0.8926471 ],\n         [0.8995098 , 0.8995098 , 0.8995098 ],\n         [0.8931373 , 0.8931373 , 0.8931373 ],\n         ...,\n         [0.76617646, 0.76617646, 0.76617646],\n         [0.77009803, 0.77009803, 0.77009803],\n         [0.77009803, 0.77009803, 0.77009803]],\n\n        [[0.89411765, 0.89411765, 0.89411765],\n         [0.8980392 , 0.8980392 , 0.8980392 ],\n         [0.8872549 , 0.8872549 , 0.8872549 ],\n         ...,\n         [0.7647059 , 0.7647059 , 0.7647059 ],\n         [0.76862746, 0.76862746, 0.76862746],\n         [0.76862746, 0.76862746, 0.76862746]],\n\n        ...,\n\n        [[0.92156863, 0.92156863, 0.92156863],\n         [0.9137255 , 0.9137255 , 0.9137255 ],\n         [0.91862744, 0.91862744, 0.91862744],\n         ...,\n         [0.6382353 , 0.6382353 , 0.6382353 ],\n         [0.8367647 , 0.8367647 , 0.8367647 ],\n         [0.79362744, 0.79362744, 0.79362744]],\n\n        [[0.92156863, 0.92156863, 0.92156863],\n         [0.9137255 , 0.9137255 , 0.9137255 ],\n         [0.9230392 , 0.9230392 , 0.9230392 ],\n         ...,\n         [0.63235295, 0.63235295, 0.63235295],\n         [0.8308824 , 0.8308824 , 0.8308824 ],\n         [0.7877451 , 0.7877451 , 0.7877451 ]],\n\n        [[0.92156863, 0.92156863, 0.92156863],\n         [0.9137255 , 0.9137255 , 0.9137255 ],\n         [0.9254902 , 0.9254902 , 0.9254902 ],\n         ...,\n         [0.627451  , 0.627451  , 0.627451  ],\n         [0.8235294 , 0.8235294 , 0.8235294 ],\n         [0.78039217, 0.78039217, 0.78039217]]]], dtype=float32),) and kwargs: {} for signature: (*, x: TensorSpec(shape=(1, 640, 640, 3), dtype=tf.float32, name='x')).",
     "output_type": "error",
     "traceback": [
      "\u001B[0;31m---------------------------------------------------------------------------\u001B[0m",
      "\u001B[0;31mTypeError\u001B[0m                                 Traceback (most recent call last)",
      "File \u001B[0;32m~/anaconda3/lib/python3.11/site-packages/tensorflow/python/eager/polymorphic_function/function_spec.py:403\u001B[0m, in \u001B[0;36mFunctionSpec.bind_function_inputs\u001B[0;34m(self, args, kwargs)\u001B[0m\n\u001B[1;32m    402\u001B[0m \u001B[38;5;28;01mtry\u001B[39;00m:\n\u001B[0;32m--> 403\u001B[0m   bound_arguments \u001B[38;5;241m=\u001B[39m \u001B[38;5;28mself\u001B[39m\u001B[38;5;241m.\u001B[39mfunction_type\u001B[38;5;241m.\u001B[39mbind_with_defaults(\n\u001B[1;32m    404\u001B[0m       args, sanitized_kwargs, \u001B[38;5;28mself\u001B[39m\u001B[38;5;241m.\u001B[39mdefault_values)\n\u001B[1;32m    405\u001B[0m \u001B[38;5;28;01mexcept\u001B[39;00m \u001B[38;5;167;01mException\u001B[39;00m \u001B[38;5;28;01mas\u001B[39;00m e:\n",
      "File \u001B[0;32m~/anaconda3/lib/python3.11/site-packages/tensorflow/core/function/polymorphism/function_type.py:237\u001B[0m, in \u001B[0;36mFunctionType.bind_with_defaults\u001B[0;34m(self, args, kwargs, default_values)\u001B[0m\n\u001B[1;32m    236\u001B[0m \u001B[38;5;250m\u001B[39m\u001B[38;5;124;03m\"\"\"Returns BoundArguments with default values filled in.\"\"\"\u001B[39;00m\n\u001B[0;32m--> 237\u001B[0m bound_arguments \u001B[38;5;241m=\u001B[39m \u001B[38;5;28mself\u001B[39m\u001B[38;5;241m.\u001B[39mbind(\u001B[38;5;241m*\u001B[39margs, \u001B[38;5;241m*\u001B[39m\u001B[38;5;241m*\u001B[39mkwargs)\n\u001B[1;32m    238\u001B[0m bound_arguments\u001B[38;5;241m.\u001B[39mapply_defaults()\n",
      "File \u001B[0;32m~/anaconda3/lib/python3.11/inspect.py:3212\u001B[0m, in \u001B[0;36mSignature.bind\u001B[0;34m(self, *args, **kwargs)\u001B[0m\n\u001B[1;32m   3208\u001B[0m \u001B[38;5;250m\u001B[39m\u001B[38;5;124;03m\"\"\"Get a BoundArguments object, that maps the passed `args`\u001B[39;00m\n\u001B[1;32m   3209\u001B[0m \u001B[38;5;124;03mand `kwargs` to the function's signature.  Raises `TypeError`\u001B[39;00m\n\u001B[1;32m   3210\u001B[0m \u001B[38;5;124;03mif the passed arguments can not be bound.\u001B[39;00m\n\u001B[1;32m   3211\u001B[0m \u001B[38;5;124;03m\"\"\"\u001B[39;00m\n\u001B[0;32m-> 3212\u001B[0m \u001B[38;5;28;01mreturn\u001B[39;00m \u001B[38;5;28mself\u001B[39m\u001B[38;5;241m.\u001B[39m_bind(args, kwargs)\n",
      "File \u001B[0;32m~/anaconda3/lib/python3.11/inspect.py:3138\u001B[0m, in \u001B[0;36mSignature._bind\u001B[0;34m(self, args, kwargs, partial)\u001B[0m\n\u001B[1;32m   3135\u001B[0m \u001B[38;5;28;01mif\u001B[39;00m param\u001B[38;5;241m.\u001B[39mkind \u001B[38;5;129;01min\u001B[39;00m (_VAR_KEYWORD, _KEYWORD_ONLY):\n\u001B[1;32m   3136\u001B[0m     \u001B[38;5;66;03m# Looks like we have no parameter for this positional\u001B[39;00m\n\u001B[1;32m   3137\u001B[0m     \u001B[38;5;66;03m# argument\u001B[39;00m\n\u001B[0;32m-> 3138\u001B[0m     \u001B[38;5;28;01mraise\u001B[39;00m \u001B[38;5;167;01mTypeError\u001B[39;00m(\n\u001B[1;32m   3139\u001B[0m         \u001B[38;5;124m'\u001B[39m\u001B[38;5;124mtoo many positional arguments\u001B[39m\u001B[38;5;124m'\u001B[39m) \u001B[38;5;28;01mfrom\u001B[39;00m \u001B[38;5;28;01mNone\u001B[39;00m\n\u001B[1;32m   3141\u001B[0m \u001B[38;5;28;01mif\u001B[39;00m param\u001B[38;5;241m.\u001B[39mkind \u001B[38;5;241m==\u001B[39m _VAR_POSITIONAL:\n\u001B[1;32m   3142\u001B[0m     \u001B[38;5;66;03m# We have an '*args'-like argument, let's fill it with\u001B[39;00m\n\u001B[1;32m   3143\u001B[0m     \u001B[38;5;66;03m# all positional arguments we have left and move on to\u001B[39;00m\n\u001B[1;32m   3144\u001B[0m     \u001B[38;5;66;03m# the next phase\u001B[39;00m\n",
      "\u001B[0;31mTypeError\u001B[0m: too many positional arguments",
      "\nThe above exception was the direct cause of the following exception:\n",
      "\u001B[0;31mTypeError\u001B[0m                                 Traceback (most recent call last)",
      "Cell \u001B[0;32mIn[4], line 8\u001B[0m\n\u001B[1;32m      6\u001B[0m dataset \u001B[38;5;241m=\u001B[39m tf\u001B[38;5;241m.\u001B[39mconstant(img)\n\u001B[1;32m      7\u001B[0m dataset \u001B[38;5;241m=\u001B[39m np\u001B[38;5;241m.\u001B[39mexpand_dims(dataset,\u001B[38;5;241m0\u001B[39m)\n\u001B[0;32m----> 8\u001B[0m resout \u001B[38;5;241m=\u001B[39m model_signature(dataset)\n\u001B[1;32m      9\u001B[0m resout\u001B[38;5;241m=\u001B[39mresout[\u001B[38;5;124m\"\u001B[39m\u001B[38;5;124moutput_0\u001B[39m\u001B[38;5;124m\"\u001B[39m]\n\u001B[1;32m     10\u001B[0m resout\u001B[38;5;241m=\u001B[39mnp\u001B[38;5;241m.\u001B[39marray(resout)\n",
      "File \u001B[0;32m~/anaconda3/lib/python3.11/site-packages/tensorflow/python/eager/polymorphic_function/monomorphic_function.py:1184\u001B[0m, in \u001B[0;36mConcreteFunction.__call__\u001B[0;34m(self, *args, **kwargs)\u001B[0m\n\u001B[1;32m   1134\u001B[0m \u001B[38;5;28;01mdef\u001B[39;00m \u001B[38;5;21m__call__\u001B[39m(\u001B[38;5;28mself\u001B[39m, \u001B[38;5;241m*\u001B[39margs, \u001B[38;5;241m*\u001B[39m\u001B[38;5;241m*\u001B[39mkwargs):\n\u001B[1;32m   1135\u001B[0m \u001B[38;5;250m  \u001B[39m\u001B[38;5;124;03m\"\"\"Executes the wrapped function.\u001B[39;00m\n\u001B[1;32m   1136\u001B[0m \n\u001B[1;32m   1137\u001B[0m \u001B[38;5;124;03m  ConcreteFunctions have two signatures:\u001B[39;00m\n\u001B[0;32m   (...)\u001B[0m\n\u001B[1;32m   1182\u001B[0m \u001B[38;5;124;03m    TypeError: If the arguments do not match the function's signature.\u001B[39;00m\n\u001B[1;32m   1183\u001B[0m \u001B[38;5;124;03m  \"\"\"\u001B[39;00m\n\u001B[0;32m-> 1184\u001B[0m   \u001B[38;5;28;01mreturn\u001B[39;00m \u001B[38;5;28mself\u001B[39m\u001B[38;5;241m.\u001B[39m_call_impl(args, kwargs)\n",
      "File \u001B[0;32m~/anaconda3/lib/python3.11/site-packages/tensorflow/python/eager/polymorphic_function/monomorphic_function.py:1198\u001B[0m, in \u001B[0;36mConcreteFunction._call_impl\u001B[0;34m(self, args, kwargs)\u001B[0m\n\u001B[1;32m   1196\u001B[0m       \u001B[38;5;28;01mreturn\u001B[39;00m \u001B[38;5;28mself\u001B[39m\u001B[38;5;241m.\u001B[39m_call_with_flat_signature(args, kwargs)\n\u001B[1;32m   1197\u001B[0m     \u001B[38;5;28;01mexcept\u001B[39;00m \u001B[38;5;167;01mTypeError\u001B[39;00m:\n\u001B[0;32m-> 1198\u001B[0m       \u001B[38;5;28;01mraise\u001B[39;00m structured_err\n\u001B[1;32m   1200\u001B[0m \u001B[38;5;28;01mreturn\u001B[39;00m \u001B[38;5;28mself\u001B[39m\u001B[38;5;241m.\u001B[39m_call_with_flat_signature(args, kwargs)\n",
      "File \u001B[0;32m~/anaconda3/lib/python3.11/site-packages/tensorflow/python/eager/polymorphic_function/monomorphic_function.py:1193\u001B[0m, in \u001B[0;36mConcreteFunction._call_impl\u001B[0;34m(self, args, kwargs)\u001B[0m\n\u001B[1;32m   1191\u001B[0m \u001B[38;5;28;01mif\u001B[39;00m \u001B[38;5;28mself\u001B[39m\u001B[38;5;241m.\u001B[39m_function_spec \u001B[38;5;129;01mis\u001B[39;00m \u001B[38;5;129;01mnot\u001B[39;00m \u001B[38;5;28;01mNone\u001B[39;00m:\n\u001B[1;32m   1192\u001B[0m   \u001B[38;5;28;01mtry\u001B[39;00m:\n\u001B[0;32m-> 1193\u001B[0m     \u001B[38;5;28;01mreturn\u001B[39;00m \u001B[38;5;28mself\u001B[39m\u001B[38;5;241m.\u001B[39m_call_with_structured_signature(args, kwargs)\n\u001B[1;32m   1194\u001B[0m   \u001B[38;5;28;01mexcept\u001B[39;00m \u001B[38;5;167;01mTypeError\u001B[39;00m \u001B[38;5;28;01mas\u001B[39;00m structured_err:\n\u001B[1;32m   1195\u001B[0m     \u001B[38;5;28;01mtry\u001B[39;00m:\n",
      "File \u001B[0;32m~/anaconda3/lib/python3.11/site-packages/tensorflow/python/eager/polymorphic_function/monomorphic_function.py:1269\u001B[0m, in \u001B[0;36mConcreteFunction._call_with_structured_signature\u001B[0;34m(self, args, kwargs)\u001B[0m\n\u001B[1;32m   1254\u001B[0m \u001B[38;5;28;01mdef\u001B[39;00m \u001B[38;5;21m_call_with_structured_signature\u001B[39m(\u001B[38;5;28mself\u001B[39m, args, kwargs):\n\u001B[1;32m   1255\u001B[0m \u001B[38;5;250m  \u001B[39m\u001B[38;5;124;03m\"\"\"Executes the wrapped function with the structured signature.\u001B[39;00m\n\u001B[1;32m   1256\u001B[0m \n\u001B[1;32m   1257\u001B[0m \u001B[38;5;124;03m  Args:\u001B[39;00m\n\u001B[0;32m   (...)\u001B[0m\n\u001B[1;32m   1266\u001B[0m \u001B[38;5;124;03m      of this `ConcreteFunction`.\u001B[39;00m\n\u001B[1;32m   1267\u001B[0m \u001B[38;5;124;03m  \"\"\"\u001B[39;00m\n\u001B[1;32m   1268\u001B[0m   args, kwargs, filtered_flat_args \u001B[38;5;241m=\u001B[39m (\n\u001B[0;32m-> 1269\u001B[0m       \u001B[38;5;28mself\u001B[39m\u001B[38;5;241m.\u001B[39m_function_spec\u001B[38;5;241m.\u001B[39mcanonicalize_function_inputs(args, kwargs))\n\u001B[1;32m   1270\u001B[0m   \u001B[38;5;28;01mreturn\u001B[39;00m \u001B[38;5;28mself\u001B[39m\u001B[38;5;241m.\u001B[39m_call_flat(\n\u001B[1;32m   1271\u001B[0m       filtered_flat_args,\n\u001B[1;32m   1272\u001B[0m       captured_inputs\u001B[38;5;241m=\u001B[39m\u001B[38;5;28mself\u001B[39m\u001B[38;5;241m.\u001B[39mcaptured_inputs)\n",
      "File \u001B[0;32m~/anaconda3/lib/python3.11/site-packages/tensorflow/python/eager/polymorphic_function/function_spec.py:386\u001B[0m, in \u001B[0;36mFunctionSpec.canonicalize_function_inputs\u001B[0;34m(self, args, kwargs)\u001B[0m\n\u001B[1;32m    384\u001B[0m \u001B[38;5;28;01mif\u001B[39;00m \u001B[38;5;28mself\u001B[39m\u001B[38;5;241m.\u001B[39mis_pure:\n\u001B[1;32m    385\u001B[0m   args, kwargs \u001B[38;5;241m=\u001B[39m _convert_variables_to_tensors(args, kwargs)\n\u001B[0;32m--> 386\u001B[0m args, kwargs \u001B[38;5;241m=\u001B[39m \u001B[38;5;28mself\u001B[39m\u001B[38;5;241m.\u001B[39mbind_function_inputs(args, kwargs)\n\u001B[1;32m    387\u001B[0m filtered_flat_args \u001B[38;5;241m=\u001B[39m filter_function_inputs(args, kwargs)\n\u001B[1;32m    389\u001B[0m \u001B[38;5;28;01mreturn\u001B[39;00m args, kwargs, filtered_flat_args\n",
      "File \u001B[0;32m~/anaconda3/lib/python3.11/site-packages/tensorflow/python/eager/polymorphic_function/function_spec.py:406\u001B[0m, in \u001B[0;36mFunctionSpec.bind_function_inputs\u001B[0;34m(self, args, kwargs)\u001B[0m\n\u001B[1;32m    403\u001B[0m   bound_arguments \u001B[38;5;241m=\u001B[39m \u001B[38;5;28mself\u001B[39m\u001B[38;5;241m.\u001B[39mfunction_type\u001B[38;5;241m.\u001B[39mbind_with_defaults(\n\u001B[1;32m    404\u001B[0m       args, sanitized_kwargs, \u001B[38;5;28mself\u001B[39m\u001B[38;5;241m.\u001B[39mdefault_values)\n\u001B[1;32m    405\u001B[0m \u001B[38;5;28;01mexcept\u001B[39;00m \u001B[38;5;167;01mException\u001B[39;00m \u001B[38;5;28;01mas\u001B[39;00m e:\n\u001B[0;32m--> 406\u001B[0m   \u001B[38;5;28;01mraise\u001B[39;00m \u001B[38;5;167;01mTypeError\u001B[39;00m(\n\u001B[1;32m    407\u001B[0m       \u001B[38;5;124mf\u001B[39m\u001B[38;5;124m\"\u001B[39m\u001B[38;5;124mBinding inputs to tf.function `\u001B[39m\u001B[38;5;132;01m{\u001B[39;00m\u001B[38;5;28mself\u001B[39m\u001B[38;5;241m.\u001B[39m_name\u001B[38;5;132;01m}\u001B[39;00m\u001B[38;5;124m` failed due to `\u001B[39m\u001B[38;5;132;01m{\u001B[39;00me\u001B[38;5;132;01m}\u001B[39;00m\u001B[38;5;124m`. \u001B[39m\u001B[38;5;124m\"\u001B[39m\n\u001B[1;32m    408\u001B[0m       \u001B[38;5;124mf\u001B[39m\u001B[38;5;124m\"\u001B[39m\u001B[38;5;124mReceived args: \u001B[39m\u001B[38;5;132;01m{\u001B[39;00margs\u001B[38;5;132;01m}\u001B[39;00m\u001B[38;5;124m and kwargs: \u001B[39m\u001B[38;5;132;01m{\u001B[39;00msanitized_kwargs\u001B[38;5;132;01m}\u001B[39;00m\u001B[38;5;124m for signature:\u001B[39m\u001B[38;5;124m\"\u001B[39m\n\u001B[1;32m    409\u001B[0m       \u001B[38;5;124mf\u001B[39m\u001B[38;5;124m\"\u001B[39m\u001B[38;5;124m \u001B[39m\u001B[38;5;132;01m{\u001B[39;00m\u001B[38;5;28mself\u001B[39m\u001B[38;5;241m.\u001B[39mfunction_type\u001B[38;5;132;01m}\u001B[39;00m\u001B[38;5;124m.\u001B[39m\u001B[38;5;124m\"\u001B[39m\n\u001B[1;32m    410\u001B[0m   ) \u001B[38;5;28;01mfrom\u001B[39;00m \u001B[38;5;21;01me\u001B[39;00m\n\u001B[1;32m    411\u001B[0m \u001B[38;5;28;01mreturn\u001B[39;00m bound_arguments\u001B[38;5;241m.\u001B[39margs, bound_arguments\u001B[38;5;241m.\u001B[39mkwargs\n",
      "\u001B[0;31mTypeError\u001B[0m: Binding inputs to tf.function `signature_wrapper` failed due to `too many positional arguments`. Received args: (array([[[[0.8901961 , 0.8901961 , 0.8901961 ],\n         [0.9019608 , 0.9019608 , 0.9019608 ],\n         [0.8980392 , 0.8980392 , 0.8980392 ],\n         ...,\n         [0.76862746, 0.76862746, 0.76862746],\n         [0.77254903, 0.77254903, 0.77254903],\n         [0.77254903, 0.77254903, 0.77254903]],\n\n        [[0.8926471 , 0.8926471 , 0.8926471 ],\n         [0.8995098 , 0.8995098 , 0.8995098 ],\n         [0.8931373 , 0.8931373 , 0.8931373 ],\n         ...,\n         [0.76617646, 0.76617646, 0.76617646],\n         [0.77009803, 0.77009803, 0.77009803],\n         [0.77009803, 0.77009803, 0.77009803]],\n\n        [[0.89411765, 0.89411765, 0.89411765],\n         [0.8980392 , 0.8980392 , 0.8980392 ],\n         [0.8872549 , 0.8872549 , 0.8872549 ],\n         ...,\n         [0.7647059 , 0.7647059 , 0.7647059 ],\n         [0.76862746, 0.76862746, 0.76862746],\n         [0.76862746, 0.76862746, 0.76862746]],\n\n        ...,\n\n        [[0.92156863, 0.92156863, 0.92156863],\n         [0.9137255 , 0.9137255 , 0.9137255 ],\n         [0.91862744, 0.91862744, 0.91862744],\n         ...,\n         [0.6382353 , 0.6382353 , 0.6382353 ],\n         [0.8367647 , 0.8367647 , 0.8367647 ],\n         [0.79362744, 0.79362744, 0.79362744]],\n\n        [[0.92156863, 0.92156863, 0.92156863],\n         [0.9137255 , 0.9137255 , 0.9137255 ],\n         [0.9230392 , 0.9230392 , 0.9230392 ],\n         ...,\n         [0.63235295, 0.63235295, 0.63235295],\n         [0.8308824 , 0.8308824 , 0.8308824 ],\n         [0.7877451 , 0.7877451 , 0.7877451 ]],\n\n        [[0.92156863, 0.92156863, 0.92156863],\n         [0.9137255 , 0.9137255 , 0.9137255 ],\n         [0.9254902 , 0.9254902 , 0.9254902 ],\n         ...,\n         [0.627451  , 0.627451  , 0.627451  ],\n         [0.8235294 , 0.8235294 , 0.8235294 ],\n         [0.78039217, 0.78039217, 0.78039217]]]], dtype=float32),) and kwargs: {} for signature: (*, x: TensorSpec(shape=(1, 640, 640, 3), dtype=tf.float32, name='x'))."
     ]
    }
   ],
   "source": [
    "load_image = cv2.imread(\"cap1_15.jpg\")\n",
    "img = tf.convert_to_tensor(load_image)\n",
    "# img = tf.image.decode_jpeg(img, channels=3)\n",
    "img = tf.image.resize(img,[640,640])\n",
    "img = img/255.0\n",
    "dataset = tf.constant(img)\n",
    "dataset = np.expand_dims(dataset,0)\n",
    "resout = model_signature(dataset)\n",
    "resout=resout[\"output_0\"]\n",
    "resout=np.array(resout)"
   ],
   "metadata": {
    "collapsed": false,
    "ExecuteTime": {
     "end_time": "2023-09-23T09:12:27.420249551Z",
     "start_time": "2023-09-23T09:12:26.623972184Z"
    }
   },
   "id": "bbd39176b8d84144"
  },
  {
   "cell_type": "code",
   "execution_count": null,
   "outputs": [],
   "source": [],
   "metadata": {
    "collapsed": false
   },
   "id": "64b9f589dda2660e"
  }
 ],
 "metadata": {
  "kernelspec": {
   "display_name": "Python 3",
   "language": "python",
   "name": "python3"
  },
  "language_info": {
   "codemirror_mode": {
    "name": "ipython",
    "version": 2
   },
   "file_extension": ".py",
   "mimetype": "text/x-python",
   "name": "python",
   "nbconvert_exporter": "python",
   "pygments_lexer": "ipython2",
   "version": "2.7.6"
  }
 },
 "nbformat": 4,
 "nbformat_minor": 5
}
