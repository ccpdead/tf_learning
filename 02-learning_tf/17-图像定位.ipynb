{
 "cells": [
  {
   "cell_type": "code",
   "execution_count": null,
   "metadata": {},
   "outputs": [],
   "source": [
    "from matplotlib.patches import Rectangle\n",
    "import glob\n",
    "from lxml import etree\n",
    "import pathlib\n",
    "import numpy as np\n",
    "import tensorflow as tf\n",
    "from tensorflow import keras\n",
    "import matplotlib.pyplot as plt\n",
    "%matplotlib inline"
   ]
  },
  {
   "cell_type": "code",
   "execution_count": null,
   "outputs": [],
   "source": [
    "data = \"/home/jhr/Program/TensorFlow/data/\""
   ],
   "metadata": {
    "collapsed": false
   }
  },
  {
   "cell_type": "code",
   "execution_count": null,
   "metadata": {},
   "outputs": [],
   "source": [
    "# 加载图像\n",
    "img = tf.io.read_file(\n",
    "    data+'location/images1/images/Abyssinian_1.jpg')\n",
    "# 进行编码解析\n",
    "img = tf.image.decode_jpeg(img)\n",
    "print(img.shape)\n",
    "plt.imshow(img)"
   ]
  },
  {
   "cell_type": "code",
   "execution_count": null,
   "metadata": {},
   "outputs": [],
   "source": [
    "xml = open(\n",
    "    data+'location/annotations1/annotations/xmls/Abyssinian_1.xml').read()"
   ]
  },
  {
   "cell_type": "code",
   "execution_count": null,
   "metadata": {},
   "outputs": [],
   "source": [
    "sel = etree.HTML(xml)"
   ]
  },
  {
   "cell_type": "code",
   "execution_count": null,
   "metadata": {},
   "outputs": [],
   "source": [
    "# 获取xml数据\n",
    "width = int(sel.xpath('//size/width/text()')[0])\n",
    "height = int(sel.xpath('//size/height/text()')[0])\n",
    "xmin = int(sel.xpath('//bndbox/xmin/text()')[0])\n",
    "xmax = int(sel.xpath('//bndbox/xmax/text()')[0])\n",
    "ymin = int(sel.xpath('//bndbox/ymin/text()')[0])\n",
    "ymax = int(sel.xpath('//bndbox/ymax/text()')[0])"
   ]
  },
  {
   "cell_type": "code",
   "execution_count": null,
   "metadata": {},
   "outputs": [],
   "source": [
    "width, height, xmin, xmax, ymin, ymax"
   ]
  },
  {
   "cell_type": "code",
   "execution_count": null,
   "metadata": {},
   "outputs": [],
   "source": [
    "# 绘制矩形框\n",
    "plt.imshow(img)\n",
    "rect = Rectangle((xmin, ymin), (xmax-xmin),\n",
    "                 (ymax-ymin), fill=False, color='red')\n",
    "ax = plt.gca()\n",
    "ax.axes.add_patch(rect)"
   ]
  },
  {
   "cell_type": "code",
   "execution_count": null,
   "metadata": {},
   "outputs": [],
   "source": [
    "# 注意，图像加载时是按照0-255的大小，需要通过归一化将数据限定在0-1\n",
    "img = tf.image.resize(img, [224, 224])\n",
    "img = img/255.0\n",
    "# plt.imshow(img)"
   ]
  },
  {
   "cell_type": "code",
   "execution_count": null,
   "metadata": {},
   "outputs": [],
   "source": [
    "# 对图像框做比例缩放\n",
    "xmin = (xmin/width)*224\n",
    "xmax = (xmax/width)*224\n",
    "ymin = (ymin/height)*224\n",
    "ymax = (ymax/height)*224"
   ]
  },
  {
   "cell_type": "code",
   "execution_count": null,
   "metadata": {
    "scrolled": true
   },
   "outputs": [],
   "source": [
    "# 绘制矩形框\n",
    "plt.imshow(img)\n",
    "rect = Rectangle((xmin, ymin), (xmax-xmin),\n",
    "                 (ymax-ymin), fill=False, color='red')\n",
    "ax = plt.gca()\n",
    "ax.axes.add_patch(rect)"
   ]
  },
  {
   "cell_type": "markdown",
   "metadata": {},
   "source": [
    "---"
   ]
  },
  {
   "cell_type": "markdown",
   "metadata": {},
   "source": [
    "## 创建输入管道"
   ]
  },
  {
   "cell_type": "code",
   "execution_count": null,
   "metadata": {},
   "outputs": [],
   "source": [
    "from matplotlib.patches import Rectangle\n",
    "import glob\n",
    "from lxml import etree\n",
    "import pathlib\n",
    "import numpy as np\n",
    "import tensorflow as tf\n",
    "from tensorflow import keras\n",
    "import matplotlib.pyplot as plt\n",
    "%matplotlib inline"
   ]
  },
  {
   "cell_type": "code",
   "execution_count": null,
   "metadata": {},
   "outputs": [],
   "source": [
    "images = glob.glob(data+'location/images1/images/*.jpg')"
   ]
  },
  {
   "cell_type": "code",
   "execution_count": null,
   "metadata": {},
   "outputs": [],
   "source": [
    "images[:5], len(images)"
   ]
  },
  {
   "cell_type": "code",
   "execution_count": null,
   "metadata": {},
   "outputs": [],
   "source": [
    "xmls = glob.glob(\n",
    "    data+'location/annotations1/annotations/xmls/*.xml')"
   ]
  },
  {
   "cell_type": "code",
   "execution_count": null,
   "metadata": {},
   "outputs": [],
   "source": [
    "# 对xml文件进行从a-z的排序\n",
    "xmls.sort(key=lambda x: x.split('/')[-1].split('.xml')[0])"
   ]
  },
  {
   "cell_type": "code",
   "execution_count": null,
   "metadata": {},
   "outputs": [],
   "source": [
    "names = [x.split('/')[-1].split('.xml')[0] for x in xmls]"
   ]
  },
  {
   "cell_type": "code",
   "execution_count": null,
   "metadata": {},
   "outputs": [],
   "source": [
    "len(names), names[:5]"
   ]
  },
  {
   "cell_type": "code",
   "execution_count": null,
   "metadata": {},
   "outputs": [],
   "source": [
    "# 测试数据集合\n",
    "imgs_train = [img for img in images if (\n",
    "    img.split('/')[-1].split('.jpg')[0]) in names]"
   ]
  },
  {
   "cell_type": "code",
   "execution_count": null,
   "metadata": {},
   "outputs": [],
   "source": [
    "# 进行a-z排序\n",
    "imgs_train.sort(key=lambda x: x.split('/')[-1].split('.jpg')[0])"
   ]
  },
  {
   "cell_type": "code",
   "execution_count": null,
   "metadata": {},
   "outputs": [],
   "source": [
    "len(imgs_train), imgs_train[:5]"
   ]
  },
  {
   "cell_type": "code",
   "execution_count": null,
   "metadata": {},
   "outputs": [],
   "source": [
    "# 测试数据集\n",
    "img_test = [img for img in images if (\n",
    "    img.split('/')[-1].split('.jpg')[0]) not in names]"
   ]
  },
  {
   "cell_type": "code",
   "execution_count": null,
   "metadata": {},
   "outputs": [],
   "source": [
    "len(img_test)"
   ]
  },
  {
   "cell_type": "code",
   "execution_count": null,
   "metadata": {},
   "outputs": [],
   "source": [
    "def to_path(path):\n",
    "    xml = open('{}'.format(path)).read()\n",
    "    sel = etree.HTML(xml)\n",
    "\n",
    "    # 获取xml数据\n",
    "    width = int(sel.xpath('//size/width/text()')[0])\n",
    "    height = int(sel.xpath('//size/height/text()')[0])\n",
    "    xmin = int(sel.xpath('//bndbox/xmin/text()')[0])\n",
    "    xmax = int(sel.xpath('//bndbox/xmax/text()')[0])\n",
    "    ymin = int(sel.xpath('//bndbox/ymin/text()')[0])\n",
    "    ymax = int(sel.xpath('//bndbox/ymax/text()')[0])\n",
    "    # 输出比例值\n",
    "    return [xmin/width, ymin/height, xmax/width, ymax/height]"
   ]
  },
  {
   "cell_type": "code",
   "execution_count": null,
   "metadata": {},
   "outputs": [],
   "source": [
    "# xmin,ymin,xmax,ymax\n",
    "labels = [to_path(path) for path in xmls]"
   ]
  },
  {
   "cell_type": "code",
   "execution_count": null,
   "metadata": {},
   "outputs": [],
   "source": [
    "# 将列表数据分成四个单独数据\n",
    "out1, out2, out3, out4 = list(zip(*labels))"
   ]
  },
  {
   "cell_type": "code",
   "execution_count": null,
   "metadata": {},
   "outputs": [],
   "source": [
    "# 转化为numpy数据类型\n",
    "out1 = np.array(out1)\n",
    "out2 = np.array(out2)\n",
    "out3 = np.array(out3)\n",
    "out4 = np.array(out4)"
   ]
  },
  {
   "cell_type": "code",
   "execution_count": null,
   "metadata": {},
   "outputs": [],
   "source": [
    "label_dataset = tf.data.Dataset.from_tensor_slices((out1, out2, out3, out4))"
   ]
  },
  {
   "cell_type": "code",
   "execution_count": null,
   "metadata": {},
   "outputs": [],
   "source": [
    "label_dataset"
   ]
  },
  {
   "cell_type": "code",
   "execution_count": null,
   "metadata": {},
   "outputs": [],
   "source": [
    "@tf.function\n",
    "def load_image(path):\n",
    "    img = tf.io.read_file(path)\n",
    "    img = tf.image.decode_jpeg(img, channels=3)\n",
    "    img = tf.image.resize(img, (224, 224))\n",
    "    img = img/127.5 - 1\n",
    "    return img"
   ]
  },
  {
   "cell_type": "code",
   "execution_count": null,
   "metadata": {},
   "outputs": [],
   "source": [
    "image_dataset = tf.data.Dataset.from_tensor_slices(imgs_train)\n",
    "AUTOTUNE = tf.data.experimental.AUTOTUNE\n",
    "image_dataset = image_dataset.map(load_image,\n",
    "num_parallel_calls=AUTOTUNE)"
   ]
  },
  {
   "cell_type": "code",
   "execution_count": null,
   "metadata": {},
   "outputs": [],
   "source": [
    "image_dataset"
   ]
  },
  {
   "cell_type": "code",
   "execution_count": null,
   "metadata": {},
   "outputs": [],
   "source": [
    "dataset = tf.data.Dataset.zip((image_dataset, label_dataset))"
   ]
  },
  {
   "cell_type": "markdown",
   "metadata": {},
   "source": [
    "**单机多卡训练**"
   ]
  },
  {
   "cell_type": "code",
   "execution_count": null,
   "metadata": {},
   "outputs": [],
   "source": [
    "batch_size_per_replica=32#单卡batch数量\n",
    "strategy = tf.distribute.MirroredStrategy()\n",
    "print('Number of devices: %d' % strategy.num_replicas_in_sync)  # 輸出設備數量\n",
    "batch_size=batch_size_per_replica*strategy.num_replicas_in_sync #输出总batch"
   ]
  },
  {
   "cell_type": "markdown",
   "metadata": {},
   "source": [
    "**创建测试数据集以及训练数据集**"
   ]
  },
  {
   "cell_type": "code",
   "execution_count": null,
   "metadata": {},
   "outputs": [],
   "source": [
    "test_count = int(len(imgs_train)*0.2)\n",
    "train_count = len(imgs_train)-test_count\n",
    "test_count, train_count\n",
    "\n",
    "dataset_train = dataset.skip(train_count)\n",
    "dataset_test = dataset.skip(test_count)\n",
    "\n",
    "# batch_size=64\n",
    "\n",
    "dataset_train = dataset_train.repeat().shuffle(train_count).batch(batch_size)\n",
    "dataset_test = dataset.repeat().batch(batch_size)"
   ]
  },
  {
   "cell_type": "code",
   "execution_count": null,
   "metadata": {
    "scrolled": true
   },
   "outputs": [],
   "source": [
    "# # 显示数据\n",
    "# for img, label in dataset_train.take(3):\n",
    "#     plt.imshow(tf.keras.preprocessing.image.array_to_img(img[0]))\n",
    "#     out1, out2, out3, out4 = label\n",
    "#     xmin, ymin, xmax, ymax = out1[0].numpy(\n",
    "#     )*224, out2[0].numpy()*224, out3[0].numpy()*224, out4[0].numpy()*224\n",
    "#     rect = Rectangle((xmin, ymin), (xmax-xmin),\n",
    "#                      (ymax-ymin), fill=False, color='red')\n",
    "#     ax = plt.gca()\n",
    "#     ax.axes.add_patch(rect)\n",
    "#     plt.show()"
   ]
  },
  {
   "cell_type": "markdown",
   "metadata": {},
   "source": [
    "### 创建模型"
   ]
  },
  {
   "cell_type": "code",
   "execution_count": null,
   "metadata": {},
   "outputs": [],
   "source": [
    "#单卡训练\n",
    "#加载预训练模型\n",
    "xception = tf.keras.applications.Xception(weights='imagenet',\n",
    "                                          include_top=False,\n",
    "                                          input_shape=(224, 224, 3))\n",
    "xception.trainabler = True"
   ]
  },
  {
   "cell_type": "code",
   "execution_count": null,
   "outputs": [],
   "source": [
    "inputs = tf.keras.layers.Input(shape=(224, 224, 3))\n",
    "x = xception(inputs)\n",
    "x = tf.keras.layers.GlobalAveragePooling2D()(x)  # 全连接层\n",
    "x = tf.keras.layers.Dense(2048, activation='relu')(x)\n",
    "x = tf.keras.layers.Dense(256, activation='relu')(x)\n",
    "\n",
    "out1 = tf.keras.layers.Dense(1)(x)\n",
    "out2 = tf.keras.layers.Dense(1)(x)\n",
    "out3 = tf.keras.layers.Dense(1)(x)\n",
    "out4 = tf.keras.layers.Dense(1)(x)"
   ],
   "metadata": {
    "collapsed": false
   }
  },
  {
   "cell_type": "code",
   "execution_count": null,
   "outputs": [],
   "source": [
    "#创建模型\n",
    "prediction = [out1, out2, out3, out4]\n",
    "model = tf.keras.models.Model(inputs=inputs, outputs=prediction)\n",
    "\n",
    "#编译模型\n",
    "model.compile(tf.keras.optimizers.Adam(learning_rate=0.0001),\n",
    "              loss='mse',\n",
    "              metrics=['acc'])"
   ],
   "metadata": {
    "collapsed": false
   }
  },
  {
   "cell_type": "code",
   "execution_count": null,
   "metadata": {},
   "outputs": [],
   "source": [
    "#多卡训练\n",
    "with strategy.scope():\n",
    "  xception = tf.keras.applications.Xception(weights='imagenet',\n",
    "                                          include_top=False,\n",
    "                                          input_shape=(224, 224, 3))\n",
    "  xception.trainabler = False\n",
    "\n",
    "  inputs = tf.keras.layers.Input(shape=(224, 224, 3))\n",
    "  x = xception(inputs)\n",
    "  x = tf.keras.layers.GlobalAveragePooling2D()(x)  # 全连接层\n",
    "  x = tf.keras.layers.Dense(2048, activation='relu')(x)\n",
    "  x = tf.keras.layers.Dense(256, activation='relu')(x)\n",
    "\n",
    "  out1 = tf.keras.layers.Dense(1)(x)\n",
    "  out2 = tf.keras.layers.Dense(1)(x)\n",
    "  out3 = tf.keras.layers.Dense(1)(x)\n",
    "  out4 = tf.keras.layers.Dense(1)(x)\n",
    "\n",
    "  prediction = [out1, out2, out3, out4]\n",
    "  model = tf.keras.models.Model(inputs=inputs, outputs=prediction)\n",
    "  model.compile(tf.keras.optimizers.Adam(learning_rate=0.0001),\n",
    "              loss='mse',\n",
    "              metrics=['mae'])"
   ]
  },
  {
   "cell_type": "code",
   "execution_count": null,
   "metadata": {},
   "outputs": [],
   "source": [
    "model.summary()"
   ]
  },
  {
   "cell_type": "code",
   "execution_count": null,
   "metadata": {},
   "outputs": [],
   "source": [
    "EPOCHS = 50"
   ]
  },
  {
   "cell_type": "code",
   "execution_count": 100,
   "metadata": {},
   "outputs": [
    {
     "name": "stdout",
     "output_type": "stream",
     "text": [
      "34/46 [=====================>........] - ETA: 4s - loss: 0.0018 - dense_44_loss: 3.5342e-04 - dense_45_loss: 3.0114e-04 - dense_46_loss: 5.9763e-04 - dense_47_loss: 5.6008e-04 - dense_44_acc: 0.0000e+00 - dense_45_acc: 0.0000e+00 - dense_46_acc: 0.0069 - dense_47_acc: 0.0000e+00"
     ]
    },
    {
     "name": "stderr",
     "output_type": "stream",
     "text": [
      "Corrupt JPEG data: premature end of data segment\n",
      "Corrupt JPEG data: 240 extraneous bytes before marker 0xd9\n"
     ]
    },
    {
     "name": "stdout",
     "output_type": "stream",
     "text": [
      "45/46 [============================>.] - ETA: 0s - loss: 0.0018 - dense_44_loss: 3.2750e-04 - dense_45_loss: 3.0278e-04 - dense_46_loss: 5.8992e-04 - dense_47_loss: 5.5221e-04 - dense_44_acc: 0.0000e+00 - dense_45_acc: 0.0000e+00 - dense_46_acc: 0.0063 - dense_47_acc: 0.0000e+00"
     ]
    },
    {
     "name": "stderr",
     "output_type": "stream",
     "text": [
      "Corrupt JPEG data: premature end of data segment\n",
      "Corrupt JPEG data: 240 extraneous bytes before marker 0xd9\n"
     ]
    },
    {
     "name": "stdout",
     "output_type": "stream",
     "text": [
      "46/46 [==============================] - 18s 401ms/step - loss: 0.0018 - dense_44_loss: 3.3862e-04 - dense_45_loss: 3.0039e-04 - dense_46_loss: 6.4639e-04 - dense_47_loss: 5.4833e-04 - dense_44_acc: 0.0000e+00 - dense_45_acc: 0.0000e+00 - dense_46_acc: 0.0061 - dense_47_acc: 0.0000e+00 - val_loss: 0.0629 - val_dense_44_loss: 0.0199 - val_dense_45_loss: 0.0087 - val_dense_46_loss: 0.0213 - val_dense_47_loss: 0.0130 - val_dense_44_acc: 0.0000e+00 - val_dense_45_acc: 0.0000e+00 - val_dense_46_acc: 0.0071 - val_dense_47_acc: 0.0014\n",
      "Epoch 43/50\n",
      "11/46 [======>.......................] - ETA: 13s - loss: 0.0020 - dense_44_loss: 3.2634e-04 - dense_45_loss: 1.8494e-04 - dense_46_loss: 6.1525e-04 - dense_47_loss: 8.6925e-04 - dense_44_acc: 0.0000e+00 - dense_45_acc: 0.0000e+00 - dense_46_acc: 0.0057 - dense_47_acc: 0.0000e+00"
     ]
    },
    {
     "name": "stderr",
     "output_type": "stream",
     "text": [
      "Corrupt JPEG data: premature end of data segment\n",
      "Corrupt JPEG data: 240 extraneous bytes before marker 0xd9\n"
     ]
    },
    {
     "name": "stdout",
     "output_type": "stream",
     "text": [
      "22/46 [=============>................] - ETA: 8s - loss: 0.0018 - dense_44_loss: 2.9521e-04 - dense_45_loss: 1.8527e-04 - dense_46_loss: 5.2975e-04 - dense_47_loss: 7.6561e-04 - dense_44_acc: 0.0000e+00 - dense_45_acc: 0.0000e+00 - dense_46_acc: 0.0057 - dense_47_acc: 0.0000e+00"
     ]
    },
    {
     "name": "stderr",
     "output_type": "stream",
     "text": [
      "Corrupt JPEG data: premature end of data segment\n",
      "Corrupt JPEG data: 240 extraneous bytes before marker 0xd9\n"
     ]
    },
    {
     "name": "stdout",
     "output_type": "stream",
     "text": [
      "34/46 [=====================>........] - ETA: 4s - loss: 0.0017 - dense_44_loss: 3.0923e-04 - dense_45_loss: 2.1680e-04 - dense_46_loss: 5.3821e-04 - dense_47_loss: 6.3354e-04 - dense_44_acc: 0.0000e+00 - dense_45_acc: 0.0000e+00 - dense_46_acc: 0.0069 - dense_47_acc: 0.0000e+00"
     ]
    },
    {
     "name": "stderr",
     "output_type": "stream",
     "text": [
      "Corrupt JPEG data: premature end of data segment\n",
      "Corrupt JPEG data: 240 extraneous bytes before marker 0xd9\n"
     ]
    },
    {
     "name": "stdout",
     "output_type": "stream",
     "text": [
      "45/46 [============================>.] - ETA: 0s - loss: 0.0018 - dense_44_loss: 3.6324e-04 - dense_45_loss: 2.0808e-04 - dense_46_loss: 5.5888e-04 - dense_47_loss: 6.2046e-04 - dense_44_acc: 0.0000e+00 - dense_45_acc: 0.0000e+00 - dense_46_acc: 0.0063 - dense_47_acc: 0.0000e+00"
     ]
    },
    {
     "name": "stderr",
     "output_type": "stream",
     "text": [
      "Corrupt JPEG data: premature end of data segment\n",
      "Corrupt JPEG data: 240 extraneous bytes before marker 0xd9\n"
     ]
    },
    {
     "name": "stdout",
     "output_type": "stream",
     "text": [
      "46/46 [==============================] - 18s 402ms/step - loss: 0.0018 - dense_44_loss: 3.9842e-04 - dense_45_loss: 2.0638e-04 - dense_46_loss: 5.5365e-04 - dense_47_loss: 6.1428e-04 - dense_44_acc: 0.0000e+00 - dense_45_acc: 0.0000e+00 - dense_46_acc: 0.0061 - dense_47_acc: 0.0000e+00 - val_loss: 0.0580 - val_dense_44_loss: 0.0169 - val_dense_45_loss: 0.0083 - val_dense_46_loss: 0.0194 - val_dense_47_loss: 0.0134 - val_dense_44_acc: 0.0000e+00 - val_dense_45_acc: 0.0000e+00 - val_dense_46_acc: 0.0071 - val_dense_47_acc: 0.0014\n",
      "Epoch 44/50\n",
      "11/46 [======>.......................] - ETA: 13s - loss: 0.0015 - dense_44_loss: 3.5899e-04 - dense_45_loss: 1.3914e-04 - dense_46_loss: 5.0021e-04 - dense_47_loss: 5.3029e-04 - dense_44_acc: 0.0000e+00 - dense_45_acc: 0.0000e+00 - dense_46_acc: 0.0057 - dense_47_acc: 0.0000e+00"
     ]
    },
    {
     "name": "stderr",
     "output_type": "stream",
     "text": [
      "Corrupt JPEG data: premature end of data segment\n",
      "Corrupt JPEG data: 240 extraneous bytes before marker 0xd9\n"
     ]
    },
    {
     "name": "stdout",
     "output_type": "stream",
     "text": [
      "22/46 [=============>................] - ETA: 8s - loss: 0.0014 - dense_44_loss: 3.3362e-04 - dense_45_loss: 1.5242e-04 - dense_46_loss: 4.7745e-04 - dense_47_loss: 4.3296e-04 - dense_44_acc: 0.0000e+00 - dense_45_acc: 0.0000e+00 - dense_46_acc: 0.0050 - dense_47_acc: 0.0000e+00"
     ]
    },
    {
     "name": "stderr",
     "output_type": "stream",
     "text": [
      "Corrupt JPEG data: premature end of data segment\n",
      "Corrupt JPEG data: 240 extraneous bytes before marker 0xd9\n"
     ]
    },
    {
     "name": "stdout",
     "output_type": "stream",
     "text": [
      "34/46 [=====================>........] - ETA: 4s - loss: 0.0015 - dense_44_loss: 2.8505e-04 - dense_45_loss: 1.5750e-04 - dense_46_loss: 4.7648e-04 - dense_47_loss: 5.5019e-04 - dense_44_acc: 0.0000e+00 - dense_45_acc: 0.0000e+00 - dense_46_acc: 0.0046 - dense_47_acc: 0.0000e+00"
     ]
    },
    {
     "name": "stderr",
     "output_type": "stream",
     "text": [
      "Corrupt JPEG data: premature end of data segment\n",
      "Corrupt JPEG data: 240 extraneous bytes before marker 0xd9\n"
     ]
    },
    {
     "name": "stdout",
     "output_type": "stream",
     "text": [
      "45/46 [============================>.] - ETA: 0s - loss: 0.0015 - dense_44_loss: 2.5823e-04 - dense_45_loss: 1.8454e-04 - dense_46_loss: 5.1116e-04 - dense_47_loss: 5.8547e-04 - dense_44_acc: 0.0000e+00 - dense_45_acc: 0.0000e+00 - dense_46_acc: 0.0052 - dense_47_acc: 0.0000e+00"
     ]
    },
    {
     "name": "stderr",
     "output_type": "stream",
     "text": [
      "Corrupt JPEG data: premature end of data segment\n",
      "Corrupt JPEG data: 240 extraneous bytes before marker 0xd9\n"
     ]
    },
    {
     "name": "stdout",
     "output_type": "stream",
     "text": [
      "46/46 [==============================] - 18s 402ms/step - loss: 0.0015 - dense_44_loss: 2.5544e-04 - dense_45_loss: 1.8228e-04 - dense_46_loss: 5.1230e-04 - dense_47_loss: 5.9364e-04 - dense_44_acc: 0.0000e+00 - dense_45_acc: 0.0000e+00 - dense_46_acc: 0.0054 - dense_47_acc: 0.0000e+00 - val_loss: 0.0597 - val_dense_44_loss: 0.0181 - val_dense_45_loss: 0.0094 - val_dense_46_loss: 0.0191 - val_dense_47_loss: 0.0130 - val_dense_44_acc: 0.0000e+00 - val_dense_45_acc: 0.0000e+00 - val_dense_46_acc: 0.0071 - val_dense_47_acc: 0.0014\n",
      "Epoch 45/50\n",
      "11/46 [======>.......................] - ETA: 13s - loss: 0.0017 - dense_44_loss: 4.4785e-04 - dense_45_loss: 2.9260e-04 - dense_46_loss: 4.5936e-04 - dense_47_loss: 4.9625e-04 - dense_44_acc: 0.0000e+00 - dense_45_acc: 0.0000e+00 - dense_46_acc: 0.0071 - dense_47_acc: 0.0000e+00"
     ]
    },
    {
     "name": "stderr",
     "output_type": "stream",
     "text": [
      "Corrupt JPEG data: premature end of data segment\n",
      "Corrupt JPEG data: 240 extraneous bytes before marker 0xd9\n"
     ]
    },
    {
     "name": "stdout",
     "output_type": "stream",
     "text": [
      "22/46 [=============>................] - ETA: 8s - loss: 0.0016 - dense_44_loss: 3.9881e-04 - dense_45_loss: 2.4195e-04 - dense_46_loss: 4.0314e-04 - dense_47_loss: 5.3424e-04 - dense_44_acc: 0.0000e+00 - dense_45_acc: 0.0000e+00 - dense_46_acc: 0.0071 - dense_47_acc: 0.0000e+00"
     ]
    },
    {
     "name": "stderr",
     "output_type": "stream",
     "text": [
      "Corrupt JPEG data: premature end of data segment\n",
      "Corrupt JPEG data: 240 extraneous bytes before marker 0xd9\n"
     ]
    },
    {
     "name": "stdout",
     "output_type": "stream",
     "text": [
      "34/46 [=====================>........] - ETA: 4s - loss: 0.0015 - dense_44_loss: 3.5764e-04 - dense_45_loss: 2.2759e-04 - dense_46_loss: 4.2986e-04 - dense_47_loss: 5.0177e-04 - dense_44_acc: 0.0000e+00 - dense_45_acc: 0.0000e+00 - dense_46_acc: 0.0060 - dense_47_acc: 0.0000e+00"
     ]
    },
    {
     "name": "stderr",
     "output_type": "stream",
     "text": [
      "Corrupt JPEG data: premature end of data segment\n",
      "Corrupt JPEG data: 240 extraneous bytes before marker 0xd9\n"
     ]
    },
    {
     "name": "stdout",
     "output_type": "stream",
     "text": [
      "45/46 [============================>.] - ETA: 0s - loss: 0.0015 - dense_44_loss: 3.4870e-04 - dense_45_loss: 2.4527e-04 - dense_46_loss: 4.7032e-04 - dense_47_loss: 4.6391e-04 - dense_44_acc: 0.0000e+00 - dense_45_acc: 0.0000e+00 - dense_46_acc: 0.0052 - dense_47_acc: 0.0000e+00"
     ]
    },
    {
     "name": "stderr",
     "output_type": "stream",
     "text": [
      "Corrupt JPEG data: premature end of data segment\n",
      "Corrupt JPEG data: 240 extraneous bytes before marker 0xd9\n"
     ]
    },
    {
     "name": "stdout",
     "output_type": "stream",
     "text": [
      "46/46 [==============================] - 18s 402ms/step - loss: 0.0015 - dense_44_loss: 3.4792e-04 - dense_45_loss: 2.4315e-04 - dense_46_loss: 4.7734e-04 - dense_47_loss: 4.7292e-04 - dense_44_acc: 0.0000e+00 - dense_45_acc: 0.0000e+00 - dense_46_acc: 0.0051 - dense_47_acc: 0.0000e+00 - val_loss: 0.0591 - val_dense_44_loss: 0.0181 - val_dense_45_loss: 0.0084 - val_dense_46_loss: 0.0196 - val_dense_47_loss: 0.0130 - val_dense_44_acc: 0.0000e+00 - val_dense_45_acc: 0.0000e+00 - val_dense_46_acc: 0.0071 - val_dense_47_acc: 0.0014\n",
      "Epoch 46/50\n",
      "11/46 [======>.......................] - ETA: 13s - loss: 0.0011 - dense_44_loss: 2.1656e-04 - dense_45_loss: 2.0171e-04 - dense_46_loss: 3.8260e-04 - dense_47_loss: 3.1031e-04 - dense_44_acc: 0.0000e+00 - dense_45_acc: 0.0000e+00 - dense_46_acc: 0.0028 - dense_47_acc: 0.0000e+00"
     ]
    },
    {
     "name": "stderr",
     "output_type": "stream",
     "text": [
      "Corrupt JPEG data: premature end of data segment\n",
      "Corrupt JPEG data: 240 extraneous bytes before marker 0xd9\n"
     ]
    },
    {
     "name": "stdout",
     "output_type": "stream",
     "text": [
      "22/46 [=============>................] - ETA: 8s - loss: 0.0011 - dense_44_loss: 2.1968e-04 - dense_45_loss: 2.1253e-04 - dense_46_loss: 3.7715e-04 - dense_47_loss: 3.2926e-04 - dense_44_acc: 0.0000e+00 - dense_45_acc: 0.0000e+00 - dense_46_acc: 0.0050 - dense_47_acc: 0.0000e+00"
     ]
    },
    {
     "name": "stderr",
     "output_type": "stream",
     "text": [
      "Corrupt JPEG data: premature end of data segment\n",
      "Corrupt JPEG data: 240 extraneous bytes before marker 0xd9\n"
     ]
    },
    {
     "name": "stdout",
     "output_type": "stream",
     "text": [
      "34/46 [=====================>........] - ETA: 4s - loss: 0.0014 - dense_44_loss: 2.2504e-04 - dense_45_loss: 1.9340e-04 - dense_46_loss: 5.8596e-04 - dense_47_loss: 3.7428e-04 - dense_44_acc: 0.0000e+00 - dense_45_acc: 0.0000e+00 - dense_46_acc: 0.0051 - dense_47_acc: 0.0000e+00"
     ]
    },
    {
     "name": "stderr",
     "output_type": "stream",
     "text": [
      "Corrupt JPEG data: premature end of data segment\n",
      "Corrupt JPEG data: 240 extraneous bytes before marker 0xd9\n"
     ]
    },
    {
     "name": "stdout",
     "output_type": "stream",
     "text": [
      "45/46 [============================>.] - ETA: 0s - loss: 0.0017 - dense_44_loss: 3.0276e-04 - dense_45_loss: 2.2338e-04 - dense_46_loss: 7.7489e-04 - dense_47_loss: 4.2643e-04 - dense_44_acc: 0.0000e+00 - dense_45_acc: 0.0000e+00 - dense_46_acc: 0.0052 - dense_47_acc: 0.0000e+00"
     ]
    },
    {
     "name": "stderr",
     "output_type": "stream",
     "text": [
      "Corrupt JPEG data: premature end of data segment\n",
      "Corrupt JPEG data: 240 extraneous bytes before marker 0xd9\n"
     ]
    },
    {
     "name": "stdout",
     "output_type": "stream",
     "text": [
      "46/46 [==============================] - 19s 403ms/step - loss: 0.0018 - dense_44_loss: 2.9990e-04 - dense_45_loss: 2.2448e-04 - dense_46_loss: 8.0519e-04 - dense_47_loss: 4.3494e-04 - dense_44_acc: 0.0000e+00 - dense_45_acc: 0.0000e+00 - dense_46_acc: 0.0051 - dense_47_acc: 0.0000e+00 - val_loss: 0.0594 - val_dense_44_loss: 0.0178 - val_dense_45_loss: 0.0089 - val_dense_46_loss: 0.0202 - val_dense_47_loss: 0.0125 - val_dense_44_acc: 0.0000e+00 - val_dense_45_acc: 0.0000e+00 - val_dense_46_acc: 0.0071 - val_dense_47_acc: 0.0014\n",
      "Epoch 47/50\n",
      "11/46 [======>.......................] - ETA: 13s - loss: 0.0022 - dense_44_loss: 3.6423e-04 - dense_45_loss: 1.7401e-04 - dense_46_loss: 8.1882e-04 - dense_47_loss: 8.4090e-04 - dense_44_acc: 0.0000e+00 - dense_45_acc: 0.0000e+00 - dense_46_acc: 0.0057 - dense_47_acc: 0.0000e+00"
     ]
    },
    {
     "name": "stderr",
     "output_type": "stream",
     "text": [
      "Corrupt JPEG data: premature end of data segment\n",
      "Corrupt JPEG data: 240 extraneous bytes before marker 0xd9\n"
     ]
    },
    {
     "name": "stdout",
     "output_type": "stream",
     "text": [
      "22/46 [=============>................] - ETA: 8s - loss: 0.0020 - dense_44_loss: 3.6215e-04 - dense_45_loss: 2.5978e-04 - dense_46_loss: 6.5796e-04 - dense_47_loss: 6.7830e-04 - dense_44_acc: 0.0000e+00 - dense_45_acc: 0.0000e+00 - dense_46_acc: 0.0057 - dense_47_acc: 0.0000e+00"
     ]
    },
    {
     "name": "stderr",
     "output_type": "stream",
     "text": [
      "Corrupt JPEG data: premature end of data segment\n",
      "Corrupt JPEG data: 240 extraneous bytes before marker 0xd9\n"
     ]
    },
    {
     "name": "stdout",
     "output_type": "stream",
     "text": [
      "34/46 [=====================>........] - ETA: 4s - loss: 0.0018 - dense_44_loss: 3.4946e-04 - dense_45_loss: 2.6411e-04 - dense_46_loss: 6.2760e-04 - dense_47_loss: 5.6918e-04 - dense_44_acc: 0.0000e+00 - dense_45_acc: 0.0000e+00 - dense_46_acc: 0.0051 - dense_47_acc: 0.0000e+00"
     ]
    },
    {
     "name": "stderr",
     "output_type": "stream",
     "text": [
      "Corrupt JPEG data: premature end of data segment\n",
      "Corrupt JPEG data: 240 extraneous bytes before marker 0xd9\n"
     ]
    },
    {
     "name": "stdout",
     "output_type": "stream",
     "text": [
      "45/46 [============================>.] - ETA: 0s - loss: 0.0018 - dense_44_loss: 3.3554e-04 - dense_45_loss: 2.6378e-04 - dense_46_loss: 6.3118e-04 - dense_47_loss: 5.3235e-04 - dense_44_acc: 0.0000e+00 - dense_45_acc: 0.0000e+00 - dense_46_acc: 0.0049 - dense_47_acc: 0.0000e+00"
     ]
    },
    {
     "name": "stderr",
     "output_type": "stream",
     "text": [
      "Corrupt JPEG data: premature end of data segment\n",
      "Corrupt JPEG data: 240 extraneous bytes before marker 0xd9\n"
     ]
    },
    {
     "name": "stdout",
     "output_type": "stream",
     "text": [
      "46/46 [==============================] - 18s 403ms/step - loss: 0.0018 - dense_44_loss: 3.3636e-04 - dense_45_loss: 2.6192e-04 - dense_46_loss: 6.2734e-04 - dense_47_loss: 5.2904e-04 - dense_44_acc: 0.0000e+00 - dense_45_acc: 0.0000e+00 - dense_46_acc: 0.0048 - dense_47_acc: 0.0000e+00 - val_loss: 0.0582 - val_dense_44_loss: 0.0171 - val_dense_45_loss: 0.0077 - val_dense_46_loss: 0.0204 - val_dense_47_loss: 0.0130 - val_dense_44_acc: 0.0000e+00 - val_dense_45_acc: 0.0000e+00 - val_dense_46_acc: 0.0071 - val_dense_47_acc: 0.0014\n",
      "Epoch 48/50\n",
      "11/46 [======>.......................] - ETA: 13s - loss: 0.0020 - dense_44_loss: 4.2007e-04 - dense_45_loss: 3.5253e-04 - dense_46_loss: 6.3369e-04 - dense_47_loss: 6.1121e-04 - dense_44_acc: 0.0000e+00 - dense_45_acc: 0.0000e+00 - dense_46_acc: 0.0000e+00 - dense_47_acc: 0.0000e+00"
     ]
    },
    {
     "name": "stderr",
     "output_type": "stream",
     "text": [
      "Corrupt JPEG data: premature end of data segment\n",
      "Corrupt JPEG data: 240 extraneous bytes before marker 0xd9\n"
     ]
    },
    {
     "name": "stdout",
     "output_type": "stream",
     "text": [
      "22/46 [=============>................] - ETA: 9s - loss: 0.0019 - dense_44_loss: 3.8619e-04 - dense_45_loss: 3.4161e-04 - dense_46_loss: 6.1665e-04 - dense_47_loss: 6.0352e-04 - dense_44_acc: 0.0000e+00 - dense_45_acc: 0.0000e+00 - dense_46_acc: 0.0014 - dense_47_acc: 0.0000e+00"
     ]
    },
    {
     "name": "stderr",
     "output_type": "stream",
     "text": [
      "Corrupt JPEG data: premature end of data segment\n",
      "Corrupt JPEG data: 240 extraneous bytes before marker 0xd9\n"
     ]
    },
    {
     "name": "stdout",
     "output_type": "stream",
     "text": [
      "34/46 [=====================>........] - ETA: 4s - loss: 0.0019 - dense_44_loss: 3.5552e-04 - dense_45_loss: 3.1722e-04 - dense_46_loss: 6.5692e-04 - dense_47_loss: 6.1325e-04 - dense_44_acc: 0.0000e+00 - dense_45_acc: 0.0000e+00 - dense_46_acc: 0.0023 - dense_47_acc: 0.0000e+00"
     ]
    },
    {
     "name": "stderr",
     "output_type": "stream",
     "text": [
      "Corrupt JPEG data: premature end of data segment\n",
      "Corrupt JPEG data: 240 extraneous bytes before marker 0xd9\n"
     ]
    },
    {
     "name": "stdout",
     "output_type": "stream",
     "text": [
      "37/46 [=======================>......] - ETA: 3s - loss: 0.0019 - dense_44_loss: 3.5630e-04 - dense_45_loss: 3.1834e-04 - dense_46_loss: 6.2533e-04 - dense_47_loss: 5.8731e-04 - dense_44_acc: 0.0000e+00 - dense_45_acc: 0.0000e+00 - dense_46_acc: 0.0025 - dense_47_acc: 0.0000e+00"
     ]
    },
    {
     "ename": "KeyboardInterrupt",
     "evalue": "",
     "output_type": "error",
     "traceback": [
      "\u001B[0;31m---------------------------------------------------------------------------\u001B[0m",
      "\u001B[0;31mKeyboardInterrupt\u001B[0m                         Traceback (most recent call last)",
      "Cell \u001B[0;32mIn[100], line 1\u001B[0m\n\u001B[0;32m----> 1\u001B[0m history \u001B[38;5;241m=\u001B[39m \u001B[43mmodel\u001B[49m\u001B[38;5;241;43m.\u001B[39;49m\u001B[43mfit\u001B[49m\u001B[43m(\u001B[49m\u001B[43mdataset_train\u001B[49m\u001B[43m,\u001B[49m\n\u001B[1;32m      2\u001B[0m \u001B[43m                    \u001B[49m\u001B[43mepochs\u001B[49m\u001B[38;5;241;43m=\u001B[39;49m\u001B[43mEPOCHS\u001B[49m\u001B[43m,\u001B[49m\n\u001B[1;32m      3\u001B[0m \u001B[43m                    \u001B[49m\u001B[43msteps_per_epoch\u001B[49m\u001B[38;5;241;43m=\u001B[39;49m\u001B[43mtrain_count\u001B[49m\u001B[38;5;241;43m/\u001B[39;49m\u001B[38;5;241;43m/\u001B[39;49m\u001B[43mbatch_size\u001B[49m\u001B[43m,\u001B[49m\n\u001B[1;32m      4\u001B[0m \u001B[43m                    \u001B[49m\u001B[43mvalidation_data\u001B[49m\u001B[38;5;241;43m=\u001B[39;49m\u001B[43mdataset_test\u001B[49m\u001B[43m,\u001B[49m\n\u001B[1;32m      5\u001B[0m \u001B[43m                    \u001B[49m\u001B[43mvalidation_steps\u001B[49m\u001B[38;5;241;43m=\u001B[39;49m\u001B[43mtest_count\u001B[49m\u001B[38;5;241;43m/\u001B[39;49m\u001B[38;5;241;43m/\u001B[39;49m\u001B[43mbatch_size\u001B[49m\n\u001B[1;32m      6\u001B[0m \u001B[43m                    \u001B[49m\u001B[43m)\u001B[49m\n",
      "File \u001B[0;32m~/anaconda3/envs/yolo/lib/python3.11/site-packages/keras/src/utils/traceback_utils.py:65\u001B[0m, in \u001B[0;36mfilter_traceback.<locals>.error_handler\u001B[0;34m(*args, **kwargs)\u001B[0m\n\u001B[1;32m     63\u001B[0m filtered_tb \u001B[38;5;241m=\u001B[39m \u001B[38;5;28;01mNone\u001B[39;00m\n\u001B[1;32m     64\u001B[0m \u001B[38;5;28;01mtry\u001B[39;00m:\n\u001B[0;32m---> 65\u001B[0m     \u001B[38;5;28;01mreturn\u001B[39;00m \u001B[43mfn\u001B[49m\u001B[43m(\u001B[49m\u001B[38;5;241;43m*\u001B[39;49m\u001B[43margs\u001B[49m\u001B[43m,\u001B[49m\u001B[43m \u001B[49m\u001B[38;5;241;43m*\u001B[39;49m\u001B[38;5;241;43m*\u001B[39;49m\u001B[43mkwargs\u001B[49m\u001B[43m)\u001B[49m\n\u001B[1;32m     66\u001B[0m \u001B[38;5;28;01mexcept\u001B[39;00m \u001B[38;5;167;01mException\u001B[39;00m \u001B[38;5;28;01mas\u001B[39;00m e:\n\u001B[1;32m     67\u001B[0m     filtered_tb \u001B[38;5;241m=\u001B[39m _process_traceback_frames(e\u001B[38;5;241m.\u001B[39m__traceback__)\n",
      "File \u001B[0;32m~/anaconda3/envs/yolo/lib/python3.11/site-packages/keras/src/engine/training.py:1748\u001B[0m, in \u001B[0;36mModel.fit\u001B[0;34m(self, x, y, batch_size, epochs, verbose, callbacks, validation_split, validation_data, shuffle, class_weight, sample_weight, initial_epoch, steps_per_epoch, validation_steps, validation_batch_size, validation_freq, max_queue_size, workers, use_multiprocessing)\u001B[0m\n\u001B[1;32m   1746\u001B[0m logs \u001B[38;5;241m=\u001B[39m tmp_logs\n\u001B[1;32m   1747\u001B[0m end_step \u001B[38;5;241m=\u001B[39m step \u001B[38;5;241m+\u001B[39m data_handler\u001B[38;5;241m.\u001B[39mstep_increment\n\u001B[0;32m-> 1748\u001B[0m \u001B[43mcallbacks\u001B[49m\u001B[38;5;241;43m.\u001B[39;49m\u001B[43mon_train_batch_end\u001B[49m\u001B[43m(\u001B[49m\u001B[43mend_step\u001B[49m\u001B[43m,\u001B[49m\u001B[43m \u001B[49m\u001B[43mlogs\u001B[49m\u001B[43m)\u001B[49m\n\u001B[1;32m   1749\u001B[0m \u001B[38;5;28;01mif\u001B[39;00m \u001B[38;5;28mself\u001B[39m\u001B[38;5;241m.\u001B[39mstop_training:\n\u001B[1;32m   1750\u001B[0m     \u001B[38;5;28;01mbreak\u001B[39;00m\n",
      "File \u001B[0;32m~/anaconda3/envs/yolo/lib/python3.11/site-packages/keras/src/callbacks.py:475\u001B[0m, in \u001B[0;36mCallbackList.on_train_batch_end\u001B[0;34m(self, batch, logs)\u001B[0m\n\u001B[1;32m    468\u001B[0m \u001B[38;5;250m\u001B[39m\u001B[38;5;124;03m\"\"\"Calls the `on_train_batch_end` methods of its callbacks.\u001B[39;00m\n\u001B[1;32m    469\u001B[0m \n\u001B[1;32m    470\u001B[0m \u001B[38;5;124;03mArgs:\u001B[39;00m\n\u001B[1;32m    471\u001B[0m \u001B[38;5;124;03m    batch: Integer, index of batch within the current epoch.\u001B[39;00m\n\u001B[1;32m    472\u001B[0m \u001B[38;5;124;03m    logs: Dict. Aggregated metric results up until this batch.\u001B[39;00m\n\u001B[1;32m    473\u001B[0m \u001B[38;5;124;03m\"\"\"\u001B[39;00m\n\u001B[1;32m    474\u001B[0m \u001B[38;5;28;01mif\u001B[39;00m \u001B[38;5;28mself\u001B[39m\u001B[38;5;241m.\u001B[39m_should_call_train_batch_hooks:\n\u001B[0;32m--> 475\u001B[0m     \u001B[38;5;28;43mself\u001B[39;49m\u001B[38;5;241;43m.\u001B[39;49m\u001B[43m_call_batch_hook\u001B[49m\u001B[43m(\u001B[49m\u001B[43mModeKeys\u001B[49m\u001B[38;5;241;43m.\u001B[39;49m\u001B[43mTRAIN\u001B[49m\u001B[43m,\u001B[49m\u001B[43m \u001B[49m\u001B[38;5;124;43m\"\u001B[39;49m\u001B[38;5;124;43mend\u001B[39;49m\u001B[38;5;124;43m\"\u001B[39;49m\u001B[43m,\u001B[49m\u001B[43m \u001B[49m\u001B[43mbatch\u001B[49m\u001B[43m,\u001B[49m\u001B[43m \u001B[49m\u001B[43mlogs\u001B[49m\u001B[38;5;241;43m=\u001B[39;49m\u001B[43mlogs\u001B[49m\u001B[43m)\u001B[49m\n",
      "File \u001B[0;32m~/anaconda3/envs/yolo/lib/python3.11/site-packages/keras/src/callbacks.py:322\u001B[0m, in \u001B[0;36mCallbackList._call_batch_hook\u001B[0;34m(self, mode, hook, batch, logs)\u001B[0m\n\u001B[1;32m    320\u001B[0m     \u001B[38;5;28mself\u001B[39m\u001B[38;5;241m.\u001B[39m_call_batch_begin_hook(mode, batch, logs)\n\u001B[1;32m    321\u001B[0m \u001B[38;5;28;01melif\u001B[39;00m hook \u001B[38;5;241m==\u001B[39m \u001B[38;5;124m\"\u001B[39m\u001B[38;5;124mend\u001B[39m\u001B[38;5;124m\"\u001B[39m:\n\u001B[0;32m--> 322\u001B[0m     \u001B[38;5;28;43mself\u001B[39;49m\u001B[38;5;241;43m.\u001B[39;49m\u001B[43m_call_batch_end_hook\u001B[49m\u001B[43m(\u001B[49m\u001B[43mmode\u001B[49m\u001B[43m,\u001B[49m\u001B[43m \u001B[49m\u001B[43mbatch\u001B[49m\u001B[43m,\u001B[49m\u001B[43m \u001B[49m\u001B[43mlogs\u001B[49m\u001B[43m)\u001B[49m\n\u001B[1;32m    323\u001B[0m \u001B[38;5;28;01melse\u001B[39;00m:\n\u001B[1;32m    324\u001B[0m     \u001B[38;5;28;01mraise\u001B[39;00m \u001B[38;5;167;01mValueError\u001B[39;00m(\n\u001B[1;32m    325\u001B[0m         \u001B[38;5;124mf\u001B[39m\u001B[38;5;124m\"\u001B[39m\u001B[38;5;124mUnrecognized hook: \u001B[39m\u001B[38;5;132;01m{\u001B[39;00mhook\u001B[38;5;132;01m}\u001B[39;00m\u001B[38;5;124m. \u001B[39m\u001B[38;5;124m\"\u001B[39m\n\u001B[1;32m    326\u001B[0m         \u001B[38;5;124m'\u001B[39m\u001B[38;5;124mExpected values are [\u001B[39m\u001B[38;5;124m\"\u001B[39m\u001B[38;5;124mbegin\u001B[39m\u001B[38;5;124m\"\u001B[39m\u001B[38;5;124m, \u001B[39m\u001B[38;5;124m\"\u001B[39m\u001B[38;5;124mend\u001B[39m\u001B[38;5;124m\"\u001B[39m\u001B[38;5;124m]\u001B[39m\u001B[38;5;124m'\u001B[39m\n\u001B[1;32m    327\u001B[0m     )\n",
      "File \u001B[0;32m~/anaconda3/envs/yolo/lib/python3.11/site-packages/keras/src/callbacks.py:345\u001B[0m, in \u001B[0;36mCallbackList._call_batch_end_hook\u001B[0;34m(self, mode, batch, logs)\u001B[0m\n\u001B[1;32m    342\u001B[0m     batch_time \u001B[38;5;241m=\u001B[39m time\u001B[38;5;241m.\u001B[39mtime() \u001B[38;5;241m-\u001B[39m \u001B[38;5;28mself\u001B[39m\u001B[38;5;241m.\u001B[39m_batch_start_time\n\u001B[1;32m    343\u001B[0m     \u001B[38;5;28mself\u001B[39m\u001B[38;5;241m.\u001B[39m_batch_times\u001B[38;5;241m.\u001B[39mappend(batch_time)\n\u001B[0;32m--> 345\u001B[0m \u001B[38;5;28;43mself\u001B[39;49m\u001B[38;5;241;43m.\u001B[39;49m\u001B[43m_call_batch_hook_helper\u001B[49m\u001B[43m(\u001B[49m\u001B[43mhook_name\u001B[49m\u001B[43m,\u001B[49m\u001B[43m \u001B[49m\u001B[43mbatch\u001B[49m\u001B[43m,\u001B[49m\u001B[43m \u001B[49m\u001B[43mlogs\u001B[49m\u001B[43m)\u001B[49m\n\u001B[1;32m    347\u001B[0m \u001B[38;5;28;01mif\u001B[39;00m \u001B[38;5;28mlen\u001B[39m(\u001B[38;5;28mself\u001B[39m\u001B[38;5;241m.\u001B[39m_batch_times) \u001B[38;5;241m>\u001B[39m\u001B[38;5;241m=\u001B[39m \u001B[38;5;28mself\u001B[39m\u001B[38;5;241m.\u001B[39m_num_batches_for_timing_check:\n\u001B[1;32m    348\u001B[0m     end_hook_name \u001B[38;5;241m=\u001B[39m hook_name\n",
      "File \u001B[0;32m~/anaconda3/envs/yolo/lib/python3.11/site-packages/keras/src/callbacks.py:393\u001B[0m, in \u001B[0;36mCallbackList._call_batch_hook_helper\u001B[0;34m(self, hook_name, batch, logs)\u001B[0m\n\u001B[1;32m    391\u001B[0m \u001B[38;5;28;01mfor\u001B[39;00m callback \u001B[38;5;129;01min\u001B[39;00m \u001B[38;5;28mself\u001B[39m\u001B[38;5;241m.\u001B[39mcallbacks:\n\u001B[1;32m    392\u001B[0m     hook \u001B[38;5;241m=\u001B[39m \u001B[38;5;28mgetattr\u001B[39m(callback, hook_name)\n\u001B[0;32m--> 393\u001B[0m     \u001B[43mhook\u001B[49m\u001B[43m(\u001B[49m\u001B[43mbatch\u001B[49m\u001B[43m,\u001B[49m\u001B[43m \u001B[49m\u001B[43mlogs\u001B[49m\u001B[43m)\u001B[49m\n\u001B[1;32m    395\u001B[0m \u001B[38;5;28;01mif\u001B[39;00m \u001B[38;5;28mself\u001B[39m\u001B[38;5;241m.\u001B[39m_check_timing:\n\u001B[1;32m    396\u001B[0m     \u001B[38;5;28;01mif\u001B[39;00m hook_name \u001B[38;5;129;01mnot\u001B[39;00m \u001B[38;5;129;01min\u001B[39;00m \u001B[38;5;28mself\u001B[39m\u001B[38;5;241m.\u001B[39m_hook_times:\n",
      "File \u001B[0;32m~/anaconda3/envs/yolo/lib/python3.11/site-packages/keras/src/callbacks.py:1093\u001B[0m, in \u001B[0;36mProgbarLogger.on_train_batch_end\u001B[0;34m(self, batch, logs)\u001B[0m\n\u001B[1;32m   1092\u001B[0m \u001B[38;5;28;01mdef\u001B[39;00m \u001B[38;5;21mon_train_batch_end\u001B[39m(\u001B[38;5;28mself\u001B[39m, batch, logs\u001B[38;5;241m=\u001B[39m\u001B[38;5;28;01mNone\u001B[39;00m):\n\u001B[0;32m-> 1093\u001B[0m     \u001B[38;5;28;43mself\u001B[39;49m\u001B[38;5;241;43m.\u001B[39;49m\u001B[43m_batch_update_progbar\u001B[49m\u001B[43m(\u001B[49m\u001B[43mbatch\u001B[49m\u001B[43m,\u001B[49m\u001B[43m \u001B[49m\u001B[43mlogs\u001B[49m\u001B[43m)\u001B[49m\n",
      "File \u001B[0;32m~/anaconda3/envs/yolo/lib/python3.11/site-packages/keras/src/callbacks.py:1169\u001B[0m, in \u001B[0;36mProgbarLogger._batch_update_progbar\u001B[0;34m(self, batch, logs)\u001B[0m\n\u001B[1;32m   1165\u001B[0m     \u001B[38;5;28mself\u001B[39m\u001B[38;5;241m.\u001B[39mseen \u001B[38;5;241m+\u001B[39m\u001B[38;5;241m=\u001B[39m add_seen\n\u001B[1;32m   1167\u001B[0m \u001B[38;5;28;01mif\u001B[39;00m \u001B[38;5;28mself\u001B[39m\u001B[38;5;241m.\u001B[39mverbose \u001B[38;5;241m==\u001B[39m \u001B[38;5;241m1\u001B[39m:\n\u001B[1;32m   1168\u001B[0m     \u001B[38;5;66;03m# Only block async when verbose = 1.\u001B[39;00m\n\u001B[0;32m-> 1169\u001B[0m     logs \u001B[38;5;241m=\u001B[39m \u001B[43mtf_utils\u001B[49m\u001B[38;5;241;43m.\u001B[39;49m\u001B[43msync_to_numpy_or_python_type\u001B[49m\u001B[43m(\u001B[49m\u001B[43mlogs\u001B[49m\u001B[43m)\u001B[49m\n\u001B[1;32m   1170\u001B[0m     \u001B[38;5;28mself\u001B[39m\u001B[38;5;241m.\u001B[39mprogbar\u001B[38;5;241m.\u001B[39mupdate(\u001B[38;5;28mself\u001B[39m\u001B[38;5;241m.\u001B[39mseen, \u001B[38;5;28mlist\u001B[39m(logs\u001B[38;5;241m.\u001B[39mitems()), finalize\u001B[38;5;241m=\u001B[39m\u001B[38;5;28;01mFalse\u001B[39;00m)\n",
      "File \u001B[0;32m~/anaconda3/envs/yolo/lib/python3.11/site-packages/keras/src/utils/tf_utils.py:694\u001B[0m, in \u001B[0;36msync_to_numpy_or_python_type\u001B[0;34m(tensors)\u001B[0m\n\u001B[1;32m    691\u001B[0m         \u001B[38;5;28;01mreturn\u001B[39;00m t\n\u001B[1;32m    692\u001B[0m     \u001B[38;5;28;01mreturn\u001B[39;00m t\u001B[38;5;241m.\u001B[39mitem() \u001B[38;5;28;01mif\u001B[39;00m np\u001B[38;5;241m.\u001B[39mndim(t) \u001B[38;5;241m==\u001B[39m \u001B[38;5;241m0\u001B[39m \u001B[38;5;28;01melse\u001B[39;00m t\n\u001B[0;32m--> 694\u001B[0m \u001B[38;5;28;01mreturn\u001B[39;00m \u001B[43mtf\u001B[49m\u001B[38;5;241;43m.\u001B[39;49m\u001B[43mnest\u001B[49m\u001B[38;5;241;43m.\u001B[39;49m\u001B[43mmap_structure\u001B[49m\u001B[43m(\u001B[49m\u001B[43m_to_single_numpy_or_python_type\u001B[49m\u001B[43m,\u001B[49m\u001B[43m \u001B[49m\u001B[43mtensors\u001B[49m\u001B[43m)\u001B[49m\n",
      "File \u001B[0;32m~/anaconda3/envs/yolo/lib/python3.11/site-packages/tensorflow/python/util/nest.py:624\u001B[0m, in \u001B[0;36mmap_structure\u001B[0;34m(func, *structure, **kwargs)\u001B[0m\n\u001B[1;32m    538\u001B[0m \u001B[38;5;129m@tf_export\u001B[39m(\u001B[38;5;124m\"\u001B[39m\u001B[38;5;124mnest.map_structure\u001B[39m\u001B[38;5;124m\"\u001B[39m)\n\u001B[1;32m    539\u001B[0m \u001B[38;5;28;01mdef\u001B[39;00m \u001B[38;5;21mmap_structure\u001B[39m(func, \u001B[38;5;241m*\u001B[39mstructure, \u001B[38;5;241m*\u001B[39m\u001B[38;5;241m*\u001B[39mkwargs):\n\u001B[1;32m    540\u001B[0m \u001B[38;5;250m  \u001B[39m\u001B[38;5;124;03m\"\"\"Creates a new structure by applying `func` to each atom in `structure`.\u001B[39;00m\n\u001B[1;32m    541\u001B[0m \n\u001B[1;32m    542\u001B[0m \u001B[38;5;124;03m  Refer to [tf.nest](https://www.tensorflow.org/api_docs/python/tf/nest)\u001B[39;00m\n\u001B[0;32m   (...)\u001B[0m\n\u001B[1;32m    622\u001B[0m \u001B[38;5;124;03m    ValueError: If wrong keyword arguments are provided.\u001B[39;00m\n\u001B[1;32m    623\u001B[0m \u001B[38;5;124;03m  \"\"\"\u001B[39;00m\n\u001B[0;32m--> 624\u001B[0m   \u001B[38;5;28;01mreturn\u001B[39;00m \u001B[43mnest_util\u001B[49m\u001B[38;5;241;43m.\u001B[39;49m\u001B[43mmap_structure\u001B[49m\u001B[43m(\u001B[49m\n\u001B[1;32m    625\u001B[0m \u001B[43m      \u001B[49m\u001B[43mnest_util\u001B[49m\u001B[38;5;241;43m.\u001B[39;49m\u001B[43mModality\u001B[49m\u001B[38;5;241;43m.\u001B[39;49m\u001B[43mCORE\u001B[49m\u001B[43m,\u001B[49m\u001B[43m \u001B[49m\u001B[43mfunc\u001B[49m\u001B[43m,\u001B[49m\u001B[43m \u001B[49m\u001B[38;5;241;43m*\u001B[39;49m\u001B[43mstructure\u001B[49m\u001B[43m,\u001B[49m\u001B[43m \u001B[49m\u001B[38;5;241;43m*\u001B[39;49m\u001B[38;5;241;43m*\u001B[39;49m\u001B[43mkwargs\u001B[49m\n\u001B[1;32m    626\u001B[0m \u001B[43m  \u001B[49m\u001B[43m)\u001B[49m\n",
      "File \u001B[0;32m~/anaconda3/envs/yolo/lib/python3.11/site-packages/tensorflow/python/util/nest_util.py:1054\u001B[0m, in \u001B[0;36mmap_structure\u001B[0;34m(modality, func, *structure, **kwargs)\u001B[0m\n\u001B[1;32m    957\u001B[0m \u001B[38;5;250m\u001B[39m\u001B[38;5;124;03m\"\"\"Creates a new structure by applying `func` to each atom in `structure`.\u001B[39;00m\n\u001B[1;32m    958\u001B[0m \n\u001B[1;32m    959\u001B[0m \u001B[38;5;124;03m- For Modality.CORE: Refer to\u001B[39;00m\n\u001B[0;32m   (...)\u001B[0m\n\u001B[1;32m   1051\u001B[0m \u001B[38;5;124;03m  ValueError: If wrong keyword arguments are provided.\u001B[39;00m\n\u001B[1;32m   1052\u001B[0m \u001B[38;5;124;03m\"\"\"\u001B[39;00m\n\u001B[1;32m   1053\u001B[0m \u001B[38;5;28;01mif\u001B[39;00m modality \u001B[38;5;241m==\u001B[39m Modality\u001B[38;5;241m.\u001B[39mCORE:\n\u001B[0;32m-> 1054\u001B[0m   \u001B[38;5;28;01mreturn\u001B[39;00m \u001B[43m_tf_core_map_structure\u001B[49m\u001B[43m(\u001B[49m\u001B[43mfunc\u001B[49m\u001B[43m,\u001B[49m\u001B[43m \u001B[49m\u001B[38;5;241;43m*\u001B[39;49m\u001B[43mstructure\u001B[49m\u001B[43m,\u001B[49m\u001B[43m \u001B[49m\u001B[38;5;241;43m*\u001B[39;49m\u001B[38;5;241;43m*\u001B[39;49m\u001B[43mkwargs\u001B[49m\u001B[43m)\u001B[49m\n\u001B[1;32m   1055\u001B[0m \u001B[38;5;28;01melif\u001B[39;00m modality \u001B[38;5;241m==\u001B[39m Modality\u001B[38;5;241m.\u001B[39mDATA:\n\u001B[1;32m   1056\u001B[0m   \u001B[38;5;28;01mreturn\u001B[39;00m _tf_data_map_structure(func, \u001B[38;5;241m*\u001B[39mstructure, \u001B[38;5;241m*\u001B[39m\u001B[38;5;241m*\u001B[39mkwargs)\n",
      "File \u001B[0;32m~/anaconda3/envs/yolo/lib/python3.11/site-packages/tensorflow/python/util/nest_util.py:1094\u001B[0m, in \u001B[0;36m_tf_core_map_structure\u001B[0;34m(func, *structure, **kwargs)\u001B[0m\n\u001B[1;32m   1089\u001B[0m flat_structure \u001B[38;5;241m=\u001B[39m (_tf_core_flatten(s, expand_composites) \u001B[38;5;28;01mfor\u001B[39;00m s \u001B[38;5;129;01min\u001B[39;00m structure)\n\u001B[1;32m   1090\u001B[0m entries \u001B[38;5;241m=\u001B[39m \u001B[38;5;28mzip\u001B[39m(\u001B[38;5;241m*\u001B[39mflat_structure)\n\u001B[1;32m   1092\u001B[0m \u001B[38;5;28;01mreturn\u001B[39;00m _tf_core_pack_sequence_as(\n\u001B[1;32m   1093\u001B[0m     structure[\u001B[38;5;241m0\u001B[39m],\n\u001B[0;32m-> 1094\u001B[0m     \u001B[43m[\u001B[49m\u001B[43mfunc\u001B[49m\u001B[43m(\u001B[49m\u001B[38;5;241;43m*\u001B[39;49m\u001B[43mx\u001B[49m\u001B[43m)\u001B[49m\u001B[43m \u001B[49m\u001B[38;5;28;43;01mfor\u001B[39;49;00m\u001B[43m \u001B[49m\u001B[43mx\u001B[49m\u001B[43m \u001B[49m\u001B[38;5;129;43;01min\u001B[39;49;00m\u001B[43m \u001B[49m\u001B[43mentries\u001B[49m\u001B[43m]\u001B[49m,\n\u001B[1;32m   1095\u001B[0m     expand_composites\u001B[38;5;241m=\u001B[39mexpand_composites,\n\u001B[1;32m   1096\u001B[0m )\n",
      "File \u001B[0;32m~/anaconda3/envs/yolo/lib/python3.11/site-packages/tensorflow/python/util/nest_util.py:1094\u001B[0m, in \u001B[0;36m<listcomp>\u001B[0;34m(.0)\u001B[0m\n\u001B[1;32m   1089\u001B[0m flat_structure \u001B[38;5;241m=\u001B[39m (_tf_core_flatten(s, expand_composites) \u001B[38;5;28;01mfor\u001B[39;00m s \u001B[38;5;129;01min\u001B[39;00m structure)\n\u001B[1;32m   1090\u001B[0m entries \u001B[38;5;241m=\u001B[39m \u001B[38;5;28mzip\u001B[39m(\u001B[38;5;241m*\u001B[39mflat_structure)\n\u001B[1;32m   1092\u001B[0m \u001B[38;5;28;01mreturn\u001B[39;00m _tf_core_pack_sequence_as(\n\u001B[1;32m   1093\u001B[0m     structure[\u001B[38;5;241m0\u001B[39m],\n\u001B[0;32m-> 1094\u001B[0m     [\u001B[43mfunc\u001B[49m\u001B[43m(\u001B[49m\u001B[38;5;241;43m*\u001B[39;49m\u001B[43mx\u001B[49m\u001B[43m)\u001B[49m \u001B[38;5;28;01mfor\u001B[39;00m x \u001B[38;5;129;01min\u001B[39;00m entries],\n\u001B[1;32m   1095\u001B[0m     expand_composites\u001B[38;5;241m=\u001B[39mexpand_composites,\n\u001B[1;32m   1096\u001B[0m )\n",
      "File \u001B[0;32m~/anaconda3/envs/yolo/lib/python3.11/site-packages/keras/src/utils/tf_utils.py:687\u001B[0m, in \u001B[0;36msync_to_numpy_or_python_type.<locals>._to_single_numpy_or_python_type\u001B[0;34m(t)\u001B[0m\n\u001B[1;32m    684\u001B[0m \u001B[38;5;28;01mdef\u001B[39;00m \u001B[38;5;21m_to_single_numpy_or_python_type\u001B[39m(t):\n\u001B[1;32m    685\u001B[0m     \u001B[38;5;66;03m# Don't turn ragged or sparse tensors to NumPy.\u001B[39;00m\n\u001B[1;32m    686\u001B[0m     \u001B[38;5;28;01mif\u001B[39;00m \u001B[38;5;28misinstance\u001B[39m(t, tf\u001B[38;5;241m.\u001B[39mTensor):\n\u001B[0;32m--> 687\u001B[0m         t \u001B[38;5;241m=\u001B[39m \u001B[43mt\u001B[49m\u001B[38;5;241;43m.\u001B[39;49m\u001B[43mnumpy\u001B[49m\u001B[43m(\u001B[49m\u001B[43m)\u001B[49m\n\u001B[1;32m    688\u001B[0m     \u001B[38;5;66;03m# Strings, ragged and sparse tensors don't have .item(). Return them\u001B[39;00m\n\u001B[1;32m    689\u001B[0m     \u001B[38;5;66;03m# as-is.\u001B[39;00m\n\u001B[1;32m    690\u001B[0m     \u001B[38;5;28;01mif\u001B[39;00m \u001B[38;5;129;01mnot\u001B[39;00m \u001B[38;5;28misinstance\u001B[39m(t, (np\u001B[38;5;241m.\u001B[39mndarray, np\u001B[38;5;241m.\u001B[39mgeneric)):\n",
      "File \u001B[0;32m~/anaconda3/envs/yolo/lib/python3.11/site-packages/tensorflow/python/framework/ops.py:1141\u001B[0m, in \u001B[0;36m_EagerTensorBase.numpy\u001B[0;34m(self)\u001B[0m\n\u001B[1;32m   1118\u001B[0m \u001B[38;5;250m\u001B[39m\u001B[38;5;124;03m\"\"\"Copy of the contents of this Tensor into a NumPy array or scalar.\u001B[39;00m\n\u001B[1;32m   1119\u001B[0m \n\u001B[1;32m   1120\u001B[0m \u001B[38;5;124;03mUnlike NumPy arrays, Tensors are immutable, so this method has to copy\u001B[39;00m\n\u001B[0;32m   (...)\u001B[0m\n\u001B[1;32m   1138\u001B[0m \u001B[38;5;124;03m    NumPy dtype.\u001B[39;00m\n\u001B[1;32m   1139\u001B[0m \u001B[38;5;124;03m\"\"\"\u001B[39;00m\n\u001B[1;32m   1140\u001B[0m \u001B[38;5;66;03m# TODO(slebedev): Consider avoiding a copy for non-CPU or remote tensors.\u001B[39;00m\n\u001B[0;32m-> 1141\u001B[0m maybe_arr \u001B[38;5;241m=\u001B[39m \u001B[38;5;28;43mself\u001B[39;49m\u001B[38;5;241;43m.\u001B[39;49m\u001B[43m_numpy\u001B[49m\u001B[43m(\u001B[49m\u001B[43m)\u001B[49m  \u001B[38;5;66;03m# pylint: disable=protected-access\u001B[39;00m\n\u001B[1;32m   1142\u001B[0m \u001B[38;5;28;01mreturn\u001B[39;00m maybe_arr\u001B[38;5;241m.\u001B[39mcopy() \u001B[38;5;28;01mif\u001B[39;00m \u001B[38;5;28misinstance\u001B[39m(maybe_arr, np\u001B[38;5;241m.\u001B[39mndarray) \u001B[38;5;28;01melse\u001B[39;00m maybe_arr\n",
      "File \u001B[0;32m~/anaconda3/envs/yolo/lib/python3.11/site-packages/tensorflow/python/framework/ops.py:1107\u001B[0m, in \u001B[0;36m_EagerTensorBase._numpy\u001B[0;34m(self)\u001B[0m\n\u001B[1;32m   1105\u001B[0m \u001B[38;5;28;01mdef\u001B[39;00m \u001B[38;5;21m_numpy\u001B[39m(\u001B[38;5;28mself\u001B[39m):\n\u001B[1;32m   1106\u001B[0m   \u001B[38;5;28;01mtry\u001B[39;00m:\n\u001B[0;32m-> 1107\u001B[0m     \u001B[38;5;28;01mreturn\u001B[39;00m \u001B[38;5;28;43mself\u001B[39;49m\u001B[38;5;241;43m.\u001B[39;49m\u001B[43m_numpy_internal\u001B[49m\u001B[43m(\u001B[49m\u001B[43m)\u001B[49m\n\u001B[1;32m   1108\u001B[0m   \u001B[38;5;28;01mexcept\u001B[39;00m core\u001B[38;5;241m.\u001B[39m_NotOkStatusException \u001B[38;5;28;01mas\u001B[39;00m e:  \u001B[38;5;66;03m# pylint: disable=protected-access\u001B[39;00m\n\u001B[1;32m   1109\u001B[0m     \u001B[38;5;28;01mraise\u001B[39;00m core\u001B[38;5;241m.\u001B[39m_status_to_exception(e) \u001B[38;5;28;01mfrom\u001B[39;00m \u001B[38;5;28;01mNone\u001B[39;00m\n",
      "\u001B[0;31mKeyboardInterrupt\u001B[0m: "
     ]
    }
   ],
   "source": [
    "history = model.fit(dataset_train,\n",
    "                    epochs=EPOCHS,\n",
    "                    steps_per_epoch=train_count//batch_size,\n",
    "                    validation_data=dataset_test,\n",
    "                    validation_steps=test_count//batch_size\n",
    "                    )"
   ]
  },
  {
   "cell_type": "code",
   "execution_count": null,
   "metadata": {
    "ExecuteTime": {
     "end_time": "2023-09-27T07:40:05.135851563Z",
     "start_time": "2023-09-27T07:40:05.132418327Z"
    }
   },
   "outputs": [],
   "source": [
    "history.history.keys()"
   ]
  },
  {
   "cell_type": "code",
   "execution_count": null,
   "metadata": {
    "ExecuteTime": {
     "start_time": "2023-09-27T07:40:05.132532041Z"
    }
   },
   "outputs": [],
   "source": [
    "plt.plot(history.epoch, history.history.get('loss'), label='loss', color='b')\n",
    "plt.plot(history.epoch, history.history.get(\n",
    "    'val_loss'), label='val_loss', color='r')"
   ]
  },
  {
   "cell_type": "markdown",
   "source": [
    "## 保存模型"
   ],
   "metadata": {
    "collapsed": false
   }
  },
  {
   "cell_type": "code",
   "execution_count": null,
   "metadata": {},
   "outputs": [],
   "source": [
    "model.save('location_v1.h5')"
   ]
  },
  {
   "cell_type": "markdown",
   "metadata": {},
   "source": [
    "## 加载模型测试"
   ]
  },
  {
   "cell_type": "code",
   "execution_count": null,
   "metadata": {},
   "outputs": [],
   "source": [
    "# 在测试服务器上加载模型\n",
    "new_model = tf.keras.models.load_model('./location_v1.h5')"
   ]
  },
  {
   "cell_type": "code",
   "execution_count": null,
   "metadata": {
    "scrolled": false
   },
   "outputs": [],
   "source": [
    "# 注意，dataset是一个batch，因此out输出的是一个batch的数据\n",
    "for img, _ in dataset_test.take(1):\n",
    "    out1, out2, out3, out4 = new_model.predict(img)\n",
    "    for i in range(9):\n",
    "        plt.figure(figsize=(8,24))\n",
    "        plt.subplot(9,1,1+i)\n",
    "        plt.imshow(tf.keras.preprocessing.image.array_to_img(img[i]))\n",
    "        xmin, ymin, xmax, ymax = out1[i] * \\\n",
    "            224, out2[i]*224, out3[i]*224, out4[i]*224\n",
    "\n",
    "        rect = Rectangle((xmin, ymin), (xmax-xmin),\n",
    "                         (ymax-ymin), fill=False, color='red')\n",
    "\n",
    "        ax = plt.gca()\n",
    "        ax.axes.add_patch(rect)\n",
    "        plt.show()"
   ]
  },
  {
   "cell_type": "code",
   "execution_count": null,
   "metadata": {},
   "outputs": [],
   "source": [
    "# tf.saved_model.save(model,\"../\")"
   ]
  },
  {
   "cell_type": "code",
   "execution_count": null,
   "metadata": {},
   "outputs": [],
   "source": []
  },
  {
   "cell_type": "code",
   "execution_count": null,
   "metadata": {},
   "outputs": [],
   "source": []
  }
 ],
 "metadata": {
  "kernelspec": {
   "display_name": "Python 3 (ipykernel)",
   "language": "python",
   "name": "python3"
  }
 },
 "nbformat": 4,
 "nbformat_minor": 2
}
