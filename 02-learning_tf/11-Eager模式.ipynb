{
 "cells": [
  {
   "cell_type": "code",
   "execution_count": 1,
   "id": "103c4008",
   "metadata": {},
   "outputs": [
    {
     "name": "stderr",
     "output_type": "stream",
     "text": [
      "2023-07-27 14:21:45.458426: I tensorflow/tsl/cuda/cudart_stub.cc:28] Could not find cuda drivers on your machine, GPU will not be used.\n",
      "2023-07-27 14:21:45.498087: I tensorflow/tsl/cuda/cudart_stub.cc:28] Could not find cuda drivers on your machine, GPU will not be used.\n",
      "2023-07-27 14:21:45.499566: I tensorflow/core/platform/cpu_feature_guard.cc:182] This TensorFlow binary is optimized to use available CPU instructions in performance-critical operations.\n",
      "To enable the following instructions: AVX2 FMA, in other operations, rebuild TensorFlow with the appropriate compiler flags.\n",
      "2023-07-27 14:21:46.318550: W tensorflow/compiler/tf2tensorrt/utils/py_utils.cc:38] TF-TRT Warning: Could not find TensorRT\n"
     ]
    },
    {
     "data": {
      "text/plain": [
       "True"
      ]
     },
     "execution_count": 1,
     "metadata": {},
     "output_type": "execute_result"
    }
   ],
   "source": [
    "import tensorflow as tf\n",
    "tf.executing_eagerly()"
   ]
  },
  {
   "cell_type": "code",
   "execution_count": 2,
   "id": "6866bb7d",
   "metadata": {},
   "outputs": [
    {
     "data": {
      "text/plain": [
       "[[2]]"
      ]
     },
     "execution_count": 2,
     "metadata": {},
     "output_type": "execute_result"
    }
   ],
   "source": [
    "x = [[2,]]\n",
    "x"
   ]
  },
  {
   "cell_type": "code",
   "execution_count": 3,
   "id": "63496bb1",
   "metadata": {},
   "outputs": [
    {
     "name": "stdout",
     "output_type": "stream",
     "text": [
      "tf.Tensor([[4]], shape=(1, 1), dtype=int32)\n"
     ]
    }
   ],
   "source": [
    "m = tf.matmul(x, x)  # 矩阵矩阵相乘\n",
    "print(m)"
   ]
  },
  {
   "cell_type": "code",
   "execution_count": 4,
   "id": "b613b4e7",
   "metadata": {},
   "outputs": [
    {
     "data": {
      "text/plain": [
       "array([[4]], dtype=int32)"
      ]
     },
     "execution_count": 4,
     "metadata": {},
     "output_type": "execute_result"
    }
   ],
   "source": [
    "m.numpy()"
   ]
  },
  {
   "cell_type": "code",
   "execution_count": 5,
   "id": "803af447",
   "metadata": {},
   "outputs": [
    {
     "data": {
      "text/plain": [
       "<tf.Tensor: shape=(2, 2), dtype=int32, numpy=\n",
       "array([[1, 2],\n",
       "       [3, 4]], dtype=int32)>"
      ]
     },
     "execution_count": 5,
     "metadata": {},
     "output_type": "execute_result"
    }
   ],
   "source": [
    "a = tf.constant([[1, 2],\n",
    "                [3, 4]])\n",
    "a"
   ]
  },
  {
   "cell_type": "code",
   "execution_count": 6,
   "id": "4b2c1736",
   "metadata": {},
   "outputs": [
    {
     "data": {
      "text/plain": [
       "array([[1, 2],\n",
       "       [3, 4]], dtype=int32)"
      ]
     },
     "execution_count": 6,
     "metadata": {},
     "output_type": "execute_result"
    }
   ],
   "source": [
    "a.numpy()"
   ]
  },
  {
   "cell_type": "code",
   "execution_count": 7,
   "id": "6e7a5124",
   "metadata": {},
   "outputs": [
    {
     "data": {
      "text/plain": [
       "<tf.Tensor: shape=(2, 2), dtype=int32, numpy=\n",
       "array([[2, 3],\n",
       "       [4, 5]], dtype=int32)>"
      ]
     },
     "execution_count": 7,
     "metadata": {},
     "output_type": "execute_result"
    }
   ],
   "source": [
    "b = tf.add(a, 1)  # 矩阵加法\n",
    "b"
   ]
  },
  {
   "cell_type": "code",
   "execution_count": 8,
   "id": "13b19b19",
   "metadata": {},
   "outputs": [
    {
     "data": {
      "text/plain": [
       "<tf.Tensor: shape=(2, 2), dtype=int32, numpy=\n",
       "array([[ 2,  6],\n",
       "       [12, 20]], dtype=int32)>"
      ]
     },
     "execution_count": 8,
     "metadata": {},
     "output_type": "execute_result"
    }
   ],
   "source": [
    "c = tf.multiply(a, b)  # 矩阵相乘\n",
    "c"
   ]
  },
  {
   "cell_type": "code",
   "execution_count": 9,
   "id": "82ec2f90",
   "metadata": {},
   "outputs": [
    {
     "data": {
      "text/plain": [
       "<tf.Tensor: shape=(), dtype=int32, numpy=10>"
      ]
     },
     "execution_count": 9,
     "metadata": {},
     "output_type": "execute_result"
    }
   ],
   "source": [
    "num = tf.convert_to_tensor(10)\n",
    "num"
   ]
  },
  {
   "cell_type": "code",
   "execution_count": 10,
   "id": "d37f8896",
   "metadata": {},
   "outputs": [
    {
     "name": "stdout",
     "output_type": "stream",
     "text": [
      "even\n",
      "odd\n",
      "even\n",
      "odd\n",
      "even\n",
      "odd\n",
      "even\n",
      "odd\n",
      "even\n",
      "odd\n"
     ]
    }
   ],
   "source": [
    "for i in range(num.numpy()):\n",
    "    i = tf.constant(i)  # 建立tensor常亮\n",
    "    if int(i % 2) == 0:\n",
    "        print(\"even\")\n",
    "    else:\n",
    "        print('odd')"
   ]
  },
  {
   "cell_type": "code",
   "execution_count": 11,
   "id": "60ae2a6b",
   "metadata": {},
   "outputs": [],
   "source": [
    "import numpy as np"
   ]
  },
  {
   "cell_type": "code",
   "execution_count": 12,
   "id": "5f835072",
   "metadata": {},
   "outputs": [
    {
     "data": {
      "text/plain": [
       "array([[5, 6],\n",
       "       [7, 8]])"
      ]
     },
     "execution_count": 12,
     "metadata": {},
     "output_type": "execute_result"
    }
   ],
   "source": [
    "d = np.array([[5, 6], [7, 8]])\n",
    "d"
   ]
  },
  {
   "cell_type": "code",
   "execution_count": 13,
   "id": "bef56e7e",
   "metadata": {},
   "outputs": [
    {
     "data": {
      "text/plain": [
       "array([[3, 5],\n",
       "       [7, 9]], dtype=int32)"
      ]
     },
     "execution_count": 13,
     "metadata": {},
     "output_type": "execute_result"
    }
   ],
   "source": [
    "(a+b).numpy()"
   ]
  },
  {
   "cell_type": "code",
   "execution_count": 14,
   "id": "80fbdd5f",
   "metadata": {},
   "outputs": [
    {
     "data": {
      "text/plain": [
       "<tf.Tensor: shape=(), dtype=int32, numpy=10>"
      ]
     },
     "execution_count": 14,
     "metadata": {},
     "output_type": "execute_result"
    }
   ],
   "source": [
    "g = tf.convert_to_tensor(10)\n",
    "g"
   ]
  },
  {
   "cell_type": "code",
   "execution_count": 15,
   "id": "852aabeb",
   "metadata": {},
   "outputs": [
    {
     "data": {
      "text/plain": [
       "10.0"
      ]
     },
     "execution_count": 15,
     "metadata": {},
     "output_type": "execute_result"
    }
   ],
   "source": [
    "float(g)  # 将tensor类型转化为python类型"
   ]
  },
  {
   "cell_type": "markdown",
   "id": "4499d2b0",
   "metadata": {},
   "source": [
    "# 变量与自动微分运算"
   ]
  },
  {
   "cell_type": "code",
   "execution_count": 16,
   "id": "a93773d6",
   "metadata": {},
   "outputs": [],
   "source": [
    "import tensorflow as tf"
   ]
  },
  {
   "cell_type": "code",
   "execution_count": 17,
   "id": "9c35c4ca",
   "metadata": {},
   "outputs": [
    {
     "data": {
      "text/plain": [
       "<tf.Variable 'Variable:0' shape=() dtype=float32, numpy=0.0>"
      ]
     },
     "execution_count": 17,
     "metadata": {},
     "output_type": "execute_result"
    }
   ],
   "source": [
    "v = tf.Variable(0.0)  # 创建变量\n",
    "v"
   ]
  },
  {
   "cell_type": "code",
   "execution_count": 18,
   "id": "a5a1bf81",
   "metadata": {},
   "outputs": [
    {
     "data": {
      "text/plain": [
       "<tf.Tensor: shape=(), dtype=float32, numpy=1.0>"
      ]
     },
     "execution_count": 18,
     "metadata": {},
     "output_type": "execute_result"
    }
   ],
   "source": [
    "v+1"
   ]
  },
  {
   "cell_type": "code",
   "execution_count": 19,
   "id": "c6a1b4a8",
   "metadata": {},
   "outputs": [
    {
     "data": {
      "text/plain": [
       "<tf.Variable 'Variable:0' shape=() dtype=float32, numpy=5.0>"
      ]
     },
     "execution_count": 19,
     "metadata": {},
     "output_type": "execute_result"
    }
   ],
   "source": [
    "v.assign(5)  # 直接更改变量\n",
    "v"
   ]
  },
  {
   "cell_type": "code",
   "execution_count": 20,
   "id": "dbe26540",
   "metadata": {},
   "outputs": [
    {
     "data": {
      "text/plain": [
       "<tf.Variable 'Variable:0' shape=() dtype=float32, numpy=6.0>"
      ]
     },
     "execution_count": 20,
     "metadata": {},
     "output_type": "execute_result"
    }
   ],
   "source": [
    "v.assign_add(1)  # 加1\n",
    "v"
   ]
  },
  {
   "cell_type": "code",
   "execution_count": 21,
   "id": "23a715d3",
   "metadata": {},
   "outputs": [
    {
     "data": {
      "text/plain": [
       "<tf.Variable 'Variable:0' shape=() dtype=float32, numpy=6.0>"
      ]
     },
     "execution_count": 21,
     "metadata": {},
     "output_type": "execute_result"
    }
   ],
   "source": [
    "v.read_value()  # 读取变量\n",
    "v"
   ]
  },
  {
   "cell_type": "markdown",
   "id": "2068bdf4",
   "metadata": {},
   "source": [
    "### 变量求微分"
   ]
  },
  {
   "cell_type": "code",
   "execution_count": 22,
   "id": "61b7ad50",
   "metadata": {},
   "outputs": [
    {
     "data": {
      "text/plain": [
       "<tf.Variable 'Variable:0' shape=(1, 1) dtype=float32, numpy=array([[1.]], dtype=float32)>"
      ]
     },
     "execution_count": 22,
     "metadata": {},
     "output_type": "execute_result"
    }
   ],
   "source": [
    "w = tf.Variable([[1.0]])\n",
    "w"
   ]
  },
  {
   "cell_type": "code",
   "execution_count": 23,
   "id": "ee1f0d33",
   "metadata": {},
   "outputs": [],
   "source": [
    "with tf.GradientTape() as t:\n",
    "    loss = w*w"
   ]
  },
  {
   "cell_type": "code",
   "execution_count": 24,
   "id": "a2c60ec5",
   "metadata": {},
   "outputs": [
    {
     "data": {
      "text/plain": [
       "<tf.Tensor: shape=(1, 1), dtype=float32, numpy=array([[2.]], dtype=float32)>"
      ]
     },
     "execution_count": 24,
     "metadata": {},
     "output_type": "execute_result"
    }
   ],
   "source": [
    "grad = t.gradient(loss, w)  # 求解loss对w的微分\n",
    "grad"
   ]
  },
  {
   "cell_type": "markdown",
   "id": "386e0fdc",
   "metadata": {},
   "source": [
    "### 常量求微分"
   ]
  },
  {
   "cell_type": "code",
   "execution_count": 25,
   "id": "e032c6f9",
   "metadata": {},
   "outputs": [],
   "source": [
    "w = tf.constant(3.0)\n",
    "with tf.GradientTape() as t:\n",
    "    t.watch(w)\n",
    "    loss = w*w"
   ]
  },
  {
   "cell_type": "code",
   "execution_count": 26,
   "id": "cbd66f7e",
   "metadata": {},
   "outputs": [],
   "source": [
    "dloss_dw = t.gradient(loss, w)  # gradient函数只能计算一次，计算过后释放资源。"
   ]
  },
  {
   "cell_type": "code",
   "execution_count": 27,
   "id": "535fd596",
   "metadata": {},
   "outputs": [
    {
     "data": {
      "text/plain": [
       "<tf.Tensor: shape=(), dtype=float32, numpy=6.0>"
      ]
     },
     "execution_count": 27,
     "metadata": {},
     "output_type": "execute_result"
    }
   ],
   "source": [
    "dloss_dw"
   ]
  },
  {
   "cell_type": "markdown",
   "id": "c2d3a384",
   "metadata": {},
   "source": [
    "连续求微分"
   ]
  },
  {
   "cell_type": "code",
   "execution_count": 28,
   "id": "c9298eea",
   "metadata": {},
   "outputs": [],
   "source": [
    "w = tf.constant(3.0)\n",
    "with tf.GradientTape(persistent=True) as t:\n",
    "    t.watch(w)\n",
    "    y = w*w\n",
    "    z = y*y"
   ]
  },
  {
   "cell_type": "code",
   "execution_count": 29,
   "id": "54d9a80e",
   "metadata": {},
   "outputs": [
    {
     "data": {
      "text/plain": [
       "<tf.Tensor: shape=(), dtype=float32, numpy=6.0>"
      ]
     },
     "execution_count": 29,
     "metadata": {},
     "output_type": "execute_result"
    }
   ],
   "source": [
    "dy_dw = t.gradient(y, w)\n",
    "dy_dw"
   ]
  },
  {
   "cell_type": "code",
   "execution_count": 30,
   "id": "f1f781ac",
   "metadata": {},
   "outputs": [
    {
     "data": {
      "text/plain": [
       "<tf.Tensor: shape=(), dtype=float32, numpy=108.0>"
      ]
     },
     "execution_count": 30,
     "metadata": {},
     "output_type": "execute_result"
    }
   ],
   "source": [
    "dz_dz = t.gradient(z, w)  # 这里会出现错误，因为gradient已经被释放\n",
    "dz_dz"
   ]
  },
  {
   "cell_type": "markdown",
   "id": "91dfacb2",
   "metadata": {},
   "source": [
    "# Mnist 数据集"
   ]
  },
  {
   "cell_type": "code",
   "execution_count": 101,
   "id": "e2d1dbf6",
   "metadata": {},
   "outputs": [],
   "source": [
    "(train_image, train_labels), (test_image,test_labels) = tf.keras.datasets.mnist.load_data()"
   ]
  },
  {
   "cell_type": "code",
   "execution_count": 79,
   "id": "0bfc7cb7",
   "metadata": {},
   "outputs": [
    {
     "data": {
      "text/plain": [
       "(60000, 28, 28)"
      ]
     },
     "execution_count": 79,
     "metadata": {},
     "output_type": "execute_result"
    }
   ],
   "source": [
    "train_image.shape"
   ]
  },
  {
   "cell_type": "code",
   "execution_count": 102,
   "id": "30c5fb3b",
   "metadata": {},
   "outputs": [
    {
     "data": {
      "text/plain": [
       "(TensorShape([60000, 28, 28, 1]), TensorShape([10000, 28, 28, 1]))"
      ]
     },
     "execution_count": 102,
     "metadata": {},
     "output_type": "execute_result"
    }
   ],
   "source": [
    "# 扩增维度\n",
    "train_image = tf.expand_dims(train_image, -1)  \n",
    "test_image=tf.expand_dims(test_image,-1)\n",
    "train_image.shape,test_image.shape"
   ]
  },
  {
   "cell_type": "code",
   "execution_count": 81,
   "id": "373d95ac",
   "metadata": {},
   "outputs": [],
   "source": [
    "# 归一化，更改数据类型-》float32\n",
    "train_image = tf.cast(train_image/255, tf.float32)  \n",
    "test_image = tf.cast(test_image/255, tf.float32)\n",
    "# label类型转换\n",
    "train_labels = tf.cast(train_labels, tf.int64)  \n",
    "test_labels = tf.cast(test_labels, tf.int64)"
   ]
  },
  {
   "cell_type": "code",
   "execution_count": 82,
   "id": "68ddfccf",
   "metadata": {},
   "outputs": [],
   "source": [
    "# 通过元组的方式建立数据集\n",
    "dataset = tf.data.Dataset.from_tensor_slices(\n",
    "    (train_image, train_labels)\n",
    ")\n",
    "\n",
    "test_dataset= tf.data.Dataset.from_tensor_slices(\n",
    "    (test_image, test_labels)\n",
    ")"
   ]
  },
  {
   "cell_type": "code",
   "execution_count": 83,
   "id": "413280cf",
   "metadata": {},
   "outputs": [],
   "source": [
    "dataset = dataset.shuffle(300)  # 乱序\n",
    "dataset = dataset.batch(32)  # 批次\n",
    "test_dataset = test_dataset.batch(32)  # 批次"
   ]
  },
  {
   "cell_type": "code",
   "execution_count": 99,
   "id": "bf8fe5a5",
   "metadata": {},
   "outputs": [
    {
     "data": {
      "text/plain": [
       "(<_BatchDataset element_spec=(TensorSpec(shape=(None, 28, 28, 1), dtype=tf.float32, name=None), TensorSpec(shape=(None,), dtype=tf.int64, name=None))>,\n",
       " <_BatchDataset element_spec=(TensorSpec(shape=(None, 28, 28, 1), dtype=tf.float32, name=None), TensorSpec(shape=(None,), dtype=tf.int64, name=None))>)"
      ]
     },
     "execution_count": 99,
     "metadata": {},
     "output_type": "execute_result"
    }
   ],
   "source": [
    "test_dataset,dataset"
   ]
  },
  {
   "cell_type": "code",
   "execution_count": 84,
   "id": "30f34cb3",
   "metadata": {},
   "outputs": [],
   "source": [
    "#定义模型\n",
    "model = tf.keras.Sequential([\n",
    "    tf.keras.layers.Conv2D(\n",
    "        16, [3, 3], activation='relu', input_shape=(None, None, 1)),\n",
    "    tf.keras.layers.Conv2D(32, [3, 3], activation='relu'),\n",
    "    tf.keras.layers.GlobalMaxPool2D(),  # 全局平均池化\n",
    "    tf.keras.layers.Dense(10)\n",
    "])"
   ]
  },
  {
   "cell_type": "markdown",
   "id": "e509c660",
   "metadata": {},
   "source": [
    "---"
   ]
  },
  {
   "cell_type": "code",
   "execution_count": 85,
   "id": "f5b3c373",
   "metadata": {},
   "outputs": [],
   "source": [
    "#model.trainable_variables  # 可训练参数"
   ]
  },
  {
   "cell_type": "code",
   "execution_count": 86,
   "id": "716564f3",
   "metadata": {},
   "outputs": [],
   "source": [
    "# 定义优化函数\n",
    "optimizer = tf.keras.optimizers.Adam()  \n",
    "# 定义损失函数\n",
    "loss_func = tf.keras.losses.SparseCategoricalCrossentropy(\n",
    "    from_logits=True)  "
   ]
  },
  {
   "cell_type": "code",
   "execution_count": 87,
   "id": "735466d1",
   "metadata": {},
   "outputs": [
    {
     "data": {
      "text/plain": [
       "(TensorShape([32, 28, 28, 1]), TensorShape([32]))"
      ]
     },
     "execution_count": 87,
     "metadata": {},
     "output_type": "execute_result"
    }
   ],
   "source": [
    "features, labels = (next(iter(dataset)))  # 迭代器\n",
    "features.shape, labels.shape"
   ]
  },
  {
   "cell_type": "code",
   "execution_count": 88,
   "id": "fad841a0",
   "metadata": {},
   "outputs": [
    {
     "data": {
      "text/plain": [
       "TensorShape([32, 10])"
      ]
     },
     "execution_count": 88,
     "metadata": {},
     "output_type": "execute_result"
    }
   ],
   "source": [
    "predictions = model(features)\n",
    "predictions.shape  # 这里32的原因是，定义的一个批次是32，因此每一批次中有32个数据"
   ]
  },
  {
   "cell_type": "code",
   "execution_count": 89,
   "id": "3b68f67c",
   "metadata": {},
   "outputs": [
    {
     "data": {
      "text/plain": [
       "<tf.Tensor: shape=(32,), dtype=int64, numpy=\n",
       "array([8, 2, 8, 2, 8, 2, 2, 8, 8, 2, 2, 2, 8, 2, 2, 2, 8, 8, 2, 2, 8, 8,\n",
       "       2, 8, 2, 8, 2, 2, 8, 8, 2, 2])>"
      ]
     },
     "execution_count": 89,
     "metadata": {},
     "output_type": "execute_result"
    }
   ],
   "source": [
    "tf.argmax(predictions, axis=1)  # 查看数据输入模型后的输出值"
   ]
  },
  {
   "cell_type": "code",
   "execution_count": 90,
   "id": "5d326b15",
   "metadata": {},
   "outputs": [
    {
     "data": {
      "text/plain": [
       "<tf.Tensor: shape=(32,), dtype=int64, numpy=\n",
       "array([1, 8, 9, 7, 1, 5, 3, 2, 4, 9, 4, 6, 6, 5, 8, 7, 4, 1, 8, 5, 1, 4,\n",
       "       7, 8, 9, 9, 1, 7, 4, 8, 7, 0])>"
      ]
     },
     "execution_count": 90,
     "metadata": {},
     "output_type": "execute_result"
    }
   ],
   "source": [
    "labels"
   ]
  },
  {
   "cell_type": "markdown",
   "id": "78198a15",
   "metadata": {},
   "source": [
    "---"
   ]
  },
  {
   "cell_type": "code",
   "execution_count": 91,
   "id": "0f8f3c91",
   "metadata": {},
   "outputs": [],
   "source": [
    "def loss(model, x, y):\n",
    "    y_ = model(x)  # y_是经过模型后预测的值，y是真值\n",
    "    return loss_func(y, y_)  # 返回损失值"
   ]
  },
  {
   "cell_type": "code",
   "execution_count": 92,
   "id": "2aedc428",
   "metadata": {},
   "outputs": [],
   "source": [
    "#定义汇总计算对象\n",
    "train_loss=tf.keras.metrics.Mean('train_loss')\n",
    "train_accuracy=tf.keras.metrics.SparseCategoricalAccuracy('train_accuracy')\n",
    "\n",
    "test_loss=tf.keras.metrics.Mean('test_loss')\n",
    "test_accuracy=tf.keras.metrics.SparseCategoricalAccuracy('test_accuracy')"
   ]
  },
  {
   "cell_type": "code",
   "execution_count": 93,
   "id": "6c3da92e",
   "metadata": {},
   "outputs": [],
   "source": [
    "# 训练一步\n",
    "def train_step(model, images, labels):\n",
    "    with tf.GradientTape() as t:  # 追踪损失函数的计算\n",
    "        pred=model(images)#计算预测结果\n",
    "        loss_step=loss_func(labels,pred)\n",
    "        \n",
    "    grads = t.gradient(loss_step, model.trainable_variables)\n",
    "    # 通过优化函数，改变train_variables变量值，使梯度下降最快\n",
    "    optimizer.apply_gradients(zip(grads, model.trainable_variables))\n",
    "    \n",
    "    train_loss(loss_step)#计算损失值\n",
    "    train_accuracy(labels,pred)#计算准确率\n",
    "\n",
    "def test_step(model, images, labels):\n",
    "    pred=model(images)#计算预测结果\n",
    "    loss_step=loss_func(labels,pred)\n",
    "    \n",
    "    test_loss(loss_step)#计算损失值\n",
    "    test_accuracy(labels,pred)#计算准确率"
   ]
  },
  {
   "cell_type": "code",
   "execution_count": 96,
   "id": "2c2b6567",
   "metadata": {},
   "outputs": [],
   "source": [
    "def train():\n",
    "    for epoch in range(10):\n",
    "        print(\"\")\n",
    "        print(\"epoch:{}\".format(epoch))\n",
    "#         for (batch, (images, balels)) in enumerate(dataset):\n",
    "#             train_step(model, images, labels)  # 进行一步训练\n",
    "#             print(\"\\rstep:{}, loss:{:.4f}, acc:{:.4f}\".format(batch,\n",
    "#                                                               train_loss.result(),\n",
    "#                                                               train_accuracy.result()), end=\"\")\n",
    "\n",
    "        for (batch, (images, balels)) in enumerate(test_dataset):\n",
    "            test_step(model, images, labels)  # 进行一步训练\n",
    "            print(\"\\rstep:{}, test_loss:{:.4f}, test_acc:{:.4f}\".format(batch,\n",
    "                                                              test_loss.result(),\n",
    "                                                              test_accuracy.result()), end=\"\")\n",
    "            # 重置状态\n",
    "        train_loss.reset_states()\n",
    "        train_accuracy.reset_states()\n",
    "\n",
    "        test_loss.reset_states()\n",
    "        test_accuracy.reset_states()"
   ]
  },
  {
   "cell_type": "code",
   "execution_count": 97,
   "id": "df30a49e",
   "metadata": {
    "scrolled": true
   },
   "outputs": [
    {
     "name": "stdout",
     "output_type": "stream",
     "text": [
      "\n",
      "epoch:0\n",
      "step:311, test_loss:2.1414, test_acc:0.1512"
     ]
    },
    {
     "ename": "ValueError",
     "evalue": "`labels.shape` must equal `logits.shape` except for the last dimension. Received: labels.shape=(32,) and logits.shape=(16, 10)",
     "output_type": "error",
     "traceback": [
      "\u001b[0;31m---------------------------------------------------------------------------\u001b[0m",
      "\u001b[0;31mValueError\u001b[0m                                Traceback (most recent call last)",
      "Cell \u001b[0;32mIn[97], line 1\u001b[0m\n\u001b[0;32m----> 1\u001b[0m train()\n",
      "Cell \u001b[0;32mIn[96], line 12\u001b[0m, in \u001b[0;36mtrain\u001b[0;34m()\u001b[0m\n\u001b[1;32m      5\u001b[0m \u001b[38;5;66;03m#         for (batch, (images, balels)) in enumerate(dataset):\u001b[39;00m\n\u001b[1;32m      6\u001b[0m \u001b[38;5;66;03m#             train_step(model, images, labels)  # 进行一步训练\u001b[39;00m\n\u001b[1;32m      7\u001b[0m \u001b[38;5;66;03m#             print(\"\\rstep:{}, loss:{:.4f}, acc:{:.4f}\".format(batch,\u001b[39;00m\n\u001b[1;32m      8\u001b[0m \u001b[38;5;66;03m#                                                               train_loss.result(),\u001b[39;00m\n\u001b[1;32m      9\u001b[0m \u001b[38;5;66;03m#                                                               train_accuracy.result()), end=\"\")\u001b[39;00m\n\u001b[1;32m     11\u001b[0m         \u001b[38;5;28;01mfor\u001b[39;00m (batch, (images, balels)) \u001b[38;5;129;01min\u001b[39;00m \u001b[38;5;28menumerate\u001b[39m(test_dataset):\n\u001b[0;32m---> 12\u001b[0m             test_step(model, images, labels)  \u001b[38;5;66;03m# 进行一步训练\u001b[39;00m\n\u001b[1;32m     13\u001b[0m             \u001b[38;5;28mprint\u001b[39m(\u001b[38;5;124m\"\u001b[39m\u001b[38;5;130;01m\\r\u001b[39;00m\u001b[38;5;124mstep:\u001b[39m\u001b[38;5;132;01m{}\u001b[39;00m\u001b[38;5;124m, test_loss:\u001b[39m\u001b[38;5;132;01m{:.4f}\u001b[39;00m\u001b[38;5;124m, test_acc:\u001b[39m\u001b[38;5;132;01m{:.4f}\u001b[39;00m\u001b[38;5;124m\"\u001b[39m\u001b[38;5;241m.\u001b[39mformat(batch,\n\u001b[1;32m     14\u001b[0m                                                               test_loss\u001b[38;5;241m.\u001b[39mresult(),\n\u001b[1;32m     15\u001b[0m                                                               test_accuracy\u001b[38;5;241m.\u001b[39mresult()), end\u001b[38;5;241m=\u001b[39m\u001b[38;5;124m\"\u001b[39m\u001b[38;5;124m\"\u001b[39m)\n\u001b[1;32m     16\u001b[0m             \u001b[38;5;66;03m# 重置状态\u001b[39;00m\n",
      "Cell \u001b[0;32mIn[93], line 14\u001b[0m, in \u001b[0;36mtest_step\u001b[0;34m(model, images, labels)\u001b[0m\n\u001b[1;32m     12\u001b[0m \u001b[38;5;28;01mdef\u001b[39;00m \u001b[38;5;21mtest_step\u001b[39m(model, images, labels):\n\u001b[1;32m     13\u001b[0m     pred\u001b[38;5;241m=\u001b[39mmodel(images)\u001b[38;5;66;03m#计算预测结果\u001b[39;00m\n\u001b[0;32m---> 14\u001b[0m     loss_step\u001b[38;5;241m=\u001b[39mloss_func(labels,pred)\n\u001b[1;32m     16\u001b[0m     test_loss(loss_step)\u001b[38;5;66;03m#计算损失值\u001b[39;00m\n\u001b[1;32m     17\u001b[0m     test_accuracy(labels,pred)\n",
      "File \u001b[0;32m~/anaconda3/lib/python3.11/site-packages/keras/src/losses.py:142\u001b[0m, in \u001b[0;36mLoss.__call__\u001b[0;34m(self, y_true, y_pred, sample_weight)\u001b[0m\n\u001b[1;32m    137\u001b[0m \u001b[38;5;28;01melse\u001b[39;00m:\n\u001b[1;32m    138\u001b[0m     call_fn \u001b[38;5;241m=\u001b[39m tf\u001b[38;5;241m.\u001b[39m__internal__\u001b[38;5;241m.\u001b[39mautograph\u001b[38;5;241m.\u001b[39mtf_convert(\n\u001b[1;32m    139\u001b[0m         \u001b[38;5;28mself\u001b[39m\u001b[38;5;241m.\u001b[39mcall, tf\u001b[38;5;241m.\u001b[39m__internal__\u001b[38;5;241m.\u001b[39mautograph\u001b[38;5;241m.\u001b[39mcontrol_status_ctx()\n\u001b[1;32m    140\u001b[0m     )\n\u001b[0;32m--> 142\u001b[0m losses \u001b[38;5;241m=\u001b[39m call_fn(y_true, y_pred)\n\u001b[1;32m    144\u001b[0m in_mask \u001b[38;5;241m=\u001b[39m losses_utils\u001b[38;5;241m.\u001b[39mget_mask(y_pred)\n\u001b[1;32m    145\u001b[0m out_mask \u001b[38;5;241m=\u001b[39m losses_utils\u001b[38;5;241m.\u001b[39mget_mask(losses)\n",
      "File \u001b[0;32m~/anaconda3/lib/python3.11/site-packages/keras/src/losses.py:268\u001b[0m, in \u001b[0;36mLossFunctionWrapper.call\u001b[0;34m(self, y_true, y_pred)\u001b[0m\n\u001b[1;32m    261\u001b[0m     y_pred, y_true \u001b[38;5;241m=\u001b[39m losses_utils\u001b[38;5;241m.\u001b[39msqueeze_or_expand_dimensions(\n\u001b[1;32m    262\u001b[0m         y_pred, y_true\n\u001b[1;32m    263\u001b[0m     )\n\u001b[1;32m    265\u001b[0m ag_fn \u001b[38;5;241m=\u001b[39m tf\u001b[38;5;241m.\u001b[39m__internal__\u001b[38;5;241m.\u001b[39mautograph\u001b[38;5;241m.\u001b[39mtf_convert(\n\u001b[1;32m    266\u001b[0m     \u001b[38;5;28mself\u001b[39m\u001b[38;5;241m.\u001b[39mfn, tf\u001b[38;5;241m.\u001b[39m__internal__\u001b[38;5;241m.\u001b[39mautograph\u001b[38;5;241m.\u001b[39mcontrol_status_ctx()\n\u001b[1;32m    267\u001b[0m )\n\u001b[0;32m--> 268\u001b[0m \u001b[38;5;28;01mreturn\u001b[39;00m ag_fn(y_true, y_pred, \u001b[38;5;241m*\u001b[39m\u001b[38;5;241m*\u001b[39m\u001b[38;5;28mself\u001b[39m\u001b[38;5;241m.\u001b[39m_fn_kwargs)\n",
      "File \u001b[0;32m~/anaconda3/lib/python3.11/site-packages/tensorflow/python/util/traceback_utils.py:153\u001b[0m, in \u001b[0;36mfilter_traceback.<locals>.error_handler\u001b[0;34m(*args, **kwargs)\u001b[0m\n\u001b[1;32m    151\u001b[0m \u001b[38;5;28;01mexcept\u001b[39;00m \u001b[38;5;167;01mException\u001b[39;00m \u001b[38;5;28;01mas\u001b[39;00m e:\n\u001b[1;32m    152\u001b[0m   filtered_tb \u001b[38;5;241m=\u001b[39m _process_traceback_frames(e\u001b[38;5;241m.\u001b[39m__traceback__)\n\u001b[0;32m--> 153\u001b[0m   \u001b[38;5;28;01mraise\u001b[39;00m e\u001b[38;5;241m.\u001b[39mwith_traceback(filtered_tb) \u001b[38;5;28;01mfrom\u001b[39;00m \u001b[38;5;28;01mNone\u001b[39;00m\n\u001b[1;32m    154\u001b[0m \u001b[38;5;28;01mfinally\u001b[39;00m:\n\u001b[1;32m    155\u001b[0m   \u001b[38;5;28;01mdel\u001b[39;00m filtered_tb\n",
      "File \u001b[0;32m~/anaconda3/lib/python3.11/site-packages/keras/src/losses.py:2354\u001b[0m, in \u001b[0;36msparse_categorical_crossentropy\u001b[0;34m(y_true, y_pred, from_logits, axis, ignore_class)\u001b[0m\n\u001b[1;32m   2304\u001b[0m \u001b[38;5;129m@keras_export\u001b[39m(\n\u001b[1;32m   2305\u001b[0m     \u001b[38;5;124m\"\u001b[39m\u001b[38;5;124mkeras.metrics.sparse_categorical_crossentropy\u001b[39m\u001b[38;5;124m\"\u001b[39m,\n\u001b[1;32m   2306\u001b[0m     \u001b[38;5;124m\"\u001b[39m\u001b[38;5;124mkeras.losses.sparse_categorical_crossentropy\u001b[39m\u001b[38;5;124m\"\u001b[39m,\n\u001b[0;32m   (...)\u001b[0m\n\u001b[1;32m   2310\u001b[0m     y_true, y_pred, from_logits\u001b[38;5;241m=\u001b[39m\u001b[38;5;28;01mFalse\u001b[39;00m, axis\u001b[38;5;241m=\u001b[39m\u001b[38;5;241m-\u001b[39m\u001b[38;5;241m1\u001b[39m, ignore_class\u001b[38;5;241m=\u001b[39m\u001b[38;5;28;01mNone\u001b[39;00m\n\u001b[1;32m   2311\u001b[0m ):\n\u001b[1;32m   2312\u001b[0m \u001b[38;5;250m    \u001b[39m\u001b[38;5;124;03m\"\"\"Computes the sparse categorical crossentropy loss.\u001b[39;00m\n\u001b[1;32m   2313\u001b[0m \n\u001b[1;32m   2314\u001b[0m \u001b[38;5;124;03m    Standalone usage:\u001b[39;00m\n\u001b[0;32m   (...)\u001b[0m\n\u001b[1;32m   2352\u001b[0m \u001b[38;5;124;03m      Sparse categorical crossentropy loss value.\u001b[39;00m\n\u001b[1;32m   2353\u001b[0m \u001b[38;5;124;03m    \"\"\"\u001b[39;00m\n\u001b[0;32m-> 2354\u001b[0m     \u001b[38;5;28;01mreturn\u001b[39;00m backend\u001b[38;5;241m.\u001b[39msparse_categorical_crossentropy(\n\u001b[1;32m   2355\u001b[0m         y_true,\n\u001b[1;32m   2356\u001b[0m         y_pred,\n\u001b[1;32m   2357\u001b[0m         from_logits\u001b[38;5;241m=\u001b[39mfrom_logits,\n\u001b[1;32m   2358\u001b[0m         ignore_class\u001b[38;5;241m=\u001b[39mignore_class,\n\u001b[1;32m   2359\u001b[0m         axis\u001b[38;5;241m=\u001b[39maxis,\n\u001b[1;32m   2360\u001b[0m     )\n",
      "File \u001b[0;32m~/anaconda3/lib/python3.11/site-packages/keras/src/backend.py:5766\u001b[0m, in \u001b[0;36msparse_categorical_crossentropy\u001b[0;34m(target, output, from_logits, axis, ignore_class)\u001b[0m\n\u001b[1;32m   5762\u001b[0m         res \u001b[38;5;241m=\u001b[39m tf\u001b[38;5;241m.\u001b[39mnn\u001b[38;5;241m.\u001b[39msparse_softmax_cross_entropy_with_logits(\n\u001b[1;32m   5763\u001b[0m             labels\u001b[38;5;241m=\u001b[39mtarget, logits\u001b[38;5;241m=\u001b[39moutput\n\u001b[1;32m   5764\u001b[0m         )\n\u001b[1;32m   5765\u001b[0m \u001b[38;5;28;01melse\u001b[39;00m:\n\u001b[0;32m-> 5766\u001b[0m     res \u001b[38;5;241m=\u001b[39m tf\u001b[38;5;241m.\u001b[39mnn\u001b[38;5;241m.\u001b[39msparse_softmax_cross_entropy_with_logits(\n\u001b[1;32m   5767\u001b[0m         labels\u001b[38;5;241m=\u001b[39mtarget, logits\u001b[38;5;241m=\u001b[39moutput\n\u001b[1;32m   5768\u001b[0m     )\n\u001b[1;32m   5770\u001b[0m \u001b[38;5;28;01mif\u001b[39;00m ignore_class \u001b[38;5;129;01mis\u001b[39;00m \u001b[38;5;129;01mnot\u001b[39;00m \u001b[38;5;28;01mNone\u001b[39;00m:\n\u001b[1;32m   5771\u001b[0m     res_shape \u001b[38;5;241m=\u001b[39m cast(output_shape[:\u001b[38;5;241m-\u001b[39m\u001b[38;5;241m1\u001b[39m], \u001b[38;5;124m\"\u001b[39m\u001b[38;5;124mint64\u001b[39m\u001b[38;5;124m\"\u001b[39m)\n",
      "\u001b[0;31mValueError\u001b[0m: `labels.shape` must equal `logits.shape` except for the last dimension. Received: labels.shape=(32,) and logits.shape=(16, 10)"
     ]
    }
   ],
   "source": [
    "train()"
   ]
  },
  {
   "cell_type": "markdown",
   "id": "a93b2d35",
   "metadata": {},
   "source": [
    "# tf.keras.metrics 汇总计算模块"
   ]
  },
  {
   "cell_type": "code",
   "execution_count": 63,
   "id": "e3f34200",
   "metadata": {},
   "outputs": [],
   "source": [
    "m = tf.keras.metrics.Mean('acc')"
   ]
  },
  {
   "cell_type": "code",
   "execution_count": 64,
   "id": "28eef7bb",
   "metadata": {},
   "outputs": [
    {
     "data": {
      "text/plain": [
       "(<tf.Tensor: shape=(), dtype=float32, numpy=10.0>,\n",
       " <tf.Tensor: shape=(), dtype=float32, numpy=15.0>)"
      ]
     },
     "execution_count": 64,
     "metadata": {},
     "output_type": "execute_result"
    }
   ],
   "source": [
    "m(10), m(20)"
   ]
  },
  {
   "cell_type": "code",
   "execution_count": 65,
   "id": "9859c710",
   "metadata": {},
   "outputs": [
    {
     "data": {
      "text/plain": [
       "<tf.Tensor: shape=(), dtype=float32, numpy=15.0>"
      ]
     },
     "execution_count": 65,
     "metadata": {},
     "output_type": "execute_result"
    }
   ],
   "source": [
    "m.result()  # 返回均值"
   ]
  },
  {
   "cell_type": "code",
   "execution_count": 66,
   "id": "7b6cafc5",
   "metadata": {},
   "outputs": [
    {
     "data": {
      "text/plain": [
       "<tf.Tensor: shape=(), dtype=float32, numpy=25.0>"
      ]
     },
     "execution_count": 66,
     "metadata": {},
     "output_type": "execute_result"
    }
   ],
   "source": [
    "m([30, 40])"
   ]
  },
  {
   "cell_type": "code",
   "execution_count": 67,
   "id": "602e1e40",
   "metadata": {},
   "outputs": [
    {
     "data": {
      "text/plain": [
       "<tf.Tensor: shape=(), dtype=float32, numpy=25.0>"
      ]
     },
     "execution_count": 67,
     "metadata": {},
     "output_type": "execute_result"
    }
   ],
   "source": [
    "m.result()"
   ]
  },
  {
   "cell_type": "code",
   "execution_count": 68,
   "id": "bdd5c993",
   "metadata": {},
   "outputs": [],
   "source": [
    "m.reset_states()  # 数据初始化"
   ]
  },
  {
   "cell_type": "code",
   "execution_count": 71,
   "id": "f7f4068d",
   "metadata": {},
   "outputs": [
    {
     "data": {
      "text/plain": [
       "<tf.Tensor: shape=(), dtype=float32, numpy=1.0>"
      ]
     },
     "execution_count": 71,
     "metadata": {},
     "output_type": "execute_result"
    }
   ],
   "source": [
    "m(1)"
   ]
  },
  {
   "cell_type": "code",
   "execution_count": 72,
   "id": "59473f61",
   "metadata": {},
   "outputs": [
    {
     "data": {
      "text/plain": [
       "<tf.Tensor: shape=(), dtype=float32, numpy=0.15625>"
      ]
     },
     "execution_count": 72,
     "metadata": {},
     "output_type": "execute_result"
    }
   ],
   "source": [
    "a = tf.keras.metrics.SparseCategoricalAccuracy('acc')  # 初始化计算准确率对象\n",
    "a(labels, model(features))  # 计算正确率"
   ]
  },
  {
   "cell_type": "code",
   "execution_count": 73,
   "id": "98dae463",
   "metadata": {},
   "outputs": [
    {
     "data": {
      "text/plain": [
       "0.15625"
      ]
     },
     "execution_count": 73,
     "metadata": {},
     "output_type": "execute_result"
    }
   ],
   "source": [
    "5/32  # 每一批次32个数据，根据model(feature)计算出，只有4个正确，因此准确率为5/32\n",
    "# 准确率与sparsecategoricalaccuracy计算无误"
   ]
  },
  {
   "cell_type": "code",
   "execution_count": null,
   "id": "b4f1d799",
   "metadata": {},
   "outputs": [],
   "source": []
  }
 ],
 "metadata": {
  "kernelspec": {
   "display_name": "Python 3 (ipykernel)",
   "language": "python",
   "name": "python3"
  },
  "language_info": {
   "codemirror_mode": {
    "name": "ipython",
    "version": 3
   },
   "file_extension": ".py",
   "mimetype": "text/x-python",
   "name": "python",
   "nbconvert_exporter": "python",
   "pygments_lexer": "ipython3",
   "version": "3.11.3"
  }
 },
 "nbformat": 4,
 "nbformat_minor": 5
}
