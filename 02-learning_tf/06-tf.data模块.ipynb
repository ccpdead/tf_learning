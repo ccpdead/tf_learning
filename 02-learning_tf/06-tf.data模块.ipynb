{
 "cells": [
  {
   "cell_type": "code",
   "execution_count": null,
   "id": "3b8212df",
   "metadata": {},
   "outputs": [],
   "source": [
    "import tensorflow as tf"
   ]
  },
  {
   "cell_type": "code",
   "execution_count": 2,
   "id": "29aa77e6",
   "metadata": {},
   "outputs": [],
   "source": [
    "dataset = tf.data.Dataset.from_tensor_slices([1,2,3,4,5,6,7])"
   ]
  },
  {
   "cell_type": "code",
   "execution_count": 48,
   "id": "09a8555a",
   "metadata": {},
   "outputs": [
    {
     "data": {
      "text/plain": [
       "<_TensorSliceDataset element_spec=TensorSpec(shape=(), dtype=tf.int32, name=None)>"
      ]
     },
     "execution_count": 48,
     "metadata": {},
     "output_type": "execute_result"
    }
   ],
   "source": [
    "dataset"
   ]
  },
  {
   "cell_type": "code",
   "execution_count": 49,
   "id": "a970d4d8",
   "metadata": {},
   "outputs": [
    {
     "name": "stdout",
     "output_type": "stream",
     "text": [
      "tf.Tensor(1, shape=(), dtype=int32)\n",
      "tf.Tensor(2, shape=(), dtype=int32)\n",
      "tf.Tensor(3, shape=(), dtype=int32)\n",
      "tf.Tensor(4, shape=(), dtype=int32)\n",
      "tf.Tensor(5, shape=(), dtype=int32)\n",
      "tf.Tensor(6, shape=(), dtype=int32)\n",
      "tf.Tensor(7, shape=(), dtype=int32)\n"
     ]
    }
   ],
   "source": [
    "for ele in dataset:\n",
    "    print(ele)"
   ]
  },
  {
   "cell_type": "code",
   "execution_count": 50,
   "id": "b9741a96",
   "metadata": {},
   "outputs": [
    {
     "name": "stdout",
     "output_type": "stream",
     "text": [
      "1\n",
      "2\n",
      "3\n",
      "4\n",
      "5\n",
      "6\n",
      "7\n"
     ]
    }
   ],
   "source": [
    "for ele in dataset:\n",
    "    print(ele.numpy())#将tensor转化为numpy类型"
   ]
  },
  {
   "cell_type": "code",
   "execution_count": 51,
   "id": "e53e32d0",
   "metadata": {},
   "outputs": [],
   "source": [
    "#列表\n",
    "dataset = tf.data.Dataset.from_tensor_slices([[1,2],[3,4],[5,6]])"
   ]
  },
  {
   "cell_type": "code",
   "execution_count": 52,
   "id": "15afd71f",
   "metadata": {},
   "outputs": [
    {
     "data": {
      "text/plain": [
       "<_TensorSliceDataset element_spec=TensorSpec(shape=(2,), dtype=tf.int32, name=None)>"
      ]
     },
     "execution_count": 52,
     "metadata": {},
     "output_type": "execute_result"
    }
   ],
   "source": [
    "dataset"
   ]
  },
  {
   "cell_type": "code",
   "execution_count": 53,
   "id": "4a8f4b2e",
   "metadata": {},
   "outputs": [
    {
     "name": "stdout",
     "output_type": "stream",
     "text": [
      "[1 2]\n",
      "[3 4]\n",
      "[5 6]\n"
     ]
    }
   ],
   "source": [
    "for ele in dataset:\n",
    "    print(ele.numpy())"
   ]
  },
  {
   "cell_type": "code",
   "execution_count": 54,
   "id": "fdd26fb6",
   "metadata": {},
   "outputs": [],
   "source": [
    "#字典\n",
    "dataset_dic = tf.data.Dataset.from_tensor_slices({\n",
    "    'a':[1,2,3,4],\n",
    "    'b':[6,7,8,9],\n",
    "    'c':[10,23,12,15]\n",
    "})"
   ]
  },
  {
   "cell_type": "code",
   "execution_count": 55,
   "id": "2ad7118c",
   "metadata": {},
   "outputs": [
    {
     "data": {
      "text/plain": [
       "<_TensorSliceDataset element_spec={'a': TensorSpec(shape=(), dtype=tf.int32, name=None), 'b': TensorSpec(shape=(), dtype=tf.int32, name=None), 'c': TensorSpec(shape=(), dtype=tf.int32, name=None)}>"
      ]
     },
     "execution_count": 55,
     "metadata": {},
     "output_type": "execute_result"
    }
   ],
   "source": [
    "dataset_dic"
   ]
  },
  {
   "cell_type": "code",
   "execution_count": 56,
   "id": "7b553db7",
   "metadata": {},
   "outputs": [
    {
     "name": "stdout",
     "output_type": "stream",
     "text": [
      "{'a': <tf.Tensor: shape=(), dtype=int32, numpy=1>, 'b': <tf.Tensor: shape=(), dtype=int32, numpy=6>, 'c': <tf.Tensor: shape=(), dtype=int32, numpy=10>}\n",
      "{'a': <tf.Tensor: shape=(), dtype=int32, numpy=2>, 'b': <tf.Tensor: shape=(), dtype=int32, numpy=7>, 'c': <tf.Tensor: shape=(), dtype=int32, numpy=23>}\n",
      "{'a': <tf.Tensor: shape=(), dtype=int32, numpy=3>, 'b': <tf.Tensor: shape=(), dtype=int32, numpy=8>, 'c': <tf.Tensor: shape=(), dtype=int32, numpy=12>}\n",
      "{'a': <tf.Tensor: shape=(), dtype=int32, numpy=4>, 'b': <tf.Tensor: shape=(), dtype=int32, numpy=9>, 'c': <tf.Tensor: shape=(), dtype=int32, numpy=15>}\n"
     ]
    }
   ],
   "source": [
    "for ele in dataset_dic:\n",
    "    print(ele)"
   ]
  },
  {
   "cell_type": "code",
   "execution_count": 83,
   "id": "73c1bea7",
   "metadata": {},
   "outputs": [],
   "source": [
    "import numpy as np"
   ]
  },
  {
   "cell_type": "code",
   "execution_count": 84,
   "id": "c536ee67",
   "metadata": {},
   "outputs": [],
   "source": [
    "#numpy 列表\n",
    "dataset = tf.data.Dataset.from_tensor_slices(np.array([1,2,3,4,5,6,7]))"
   ]
  },
  {
   "cell_type": "code",
   "execution_count": 59,
   "id": "30cff4e9",
   "metadata": {},
   "outputs": [
    {
     "name": "stdout",
     "output_type": "stream",
     "text": [
      "1\n",
      "2\n"
     ]
    }
   ],
   "source": [
    "for ele in dataset.take(2):\n",
    "    print(ele.numpy())"
   ]
  },
  {
   "cell_type": "code",
   "execution_count": 60,
   "id": "64544d03",
   "metadata": {},
   "outputs": [
    {
     "data": {
      "text/plain": [
       "<tf.Tensor: shape=(), dtype=int64, numpy=1>"
      ]
     },
     "execution_count": 60,
     "metadata": {},
     "output_type": "execute_result"
    }
   ],
   "source": [
    "#迭代器\n",
    "next(iter(dataset.take(1)))"
   ]
  },
  {
   "cell_type": "code",
   "execution_count": 81,
   "id": "3f9fb8d8",
   "metadata": {},
   "outputs": [],
   "source": [
    "dataset = dataset.shuffle(2)#乱续x次\n",
    "dataset=dataset.repeat(count=3)#循环x次"
   ]
  },
  {
   "cell_type": "code",
   "execution_count": 85,
   "id": "31142860",
   "metadata": {},
   "outputs": [
    {
     "name": "stdout",
     "output_type": "stream",
     "text": [
      "1\n",
      "2\n",
      "3\n",
      "4\n",
      "5\n",
      "6\n",
      "7\n"
     ]
    }
   ],
   "source": [
    "for ele in dataset:\n",
    "    print(ele.numpy())"
   ]
  },
  {
   "cell_type": "code",
   "execution_count": 86,
   "id": "4c30bf11",
   "metadata": {},
   "outputs": [],
   "source": [
    "dataset=dataset.shuffle(7)#乱续7次\n",
    "dataset=dataset.repeat(count=3)#重复三次\n",
    "dataset=dataset.batch(7)#分为3批次"
   ]
  },
  {
   "cell_type": "code",
   "execution_count": 87,
   "id": "0b6c1acc",
   "metadata": {},
   "outputs": [
    {
     "name": "stdout",
     "output_type": "stream",
     "text": [
      "[3 1 5 7 2 4 6]\n",
      "[7 4 5 3 1 6 2]\n",
      "[6 1 3 5 2 4 7]\n"
     ]
    }
   ],
   "source": [
    "for ele in dataset:\n",
    "    print(ele.numpy())"
   ]
  },
  {
   "cell_type": "code",
   "execution_count": 44,
   "id": "9614b72a",
   "metadata": {},
   "outputs": [],
   "source": [
    "dataset = tf.data.Dataset.from_tensor_slices([1,2,3,4,5,6,7])\n",
    "dataset=dataset.map(tf.square)#对每个数求平方"
   ]
  },
  {
   "cell_type": "code",
   "execution_count": 45,
   "id": "1e87e24b",
   "metadata": {},
   "outputs": [
    {
     "name": "stdout",
     "output_type": "stream",
     "text": [
      "1\n",
      "4\n",
      "9\n",
      "16\n",
      "25\n",
      "36\n",
      "49\n"
     ]
    }
   ],
   "source": [
    "for ele in dataset:\n",
    "    print(ele.numpy())"
   ]
  },
  {
   "cell_type": "markdown",
   "id": "cbb6c22e",
   "metadata": {},
   "source": [
    "## TF.data输入模块实例"
   ]
  },
  {
   "cell_type": "code",
   "execution_count": 3,
   "id": "660aa53f",
   "metadata": {},
   "outputs": [],
   "source": [
    "import tensorflow as tf\n",
    "import matplotlib.pyplot as plt\n",
    "%matplotlib inline"
   ]
  },
  {
   "cell_type": "code",
   "execution_count": 4,
   "id": "3ba92113",
   "metadata": {},
   "outputs": [],
   "source": [
    "#加载mnist数字数据集\n",
    "(train_images,train_labels),(test_images,test_labels) = tf.keras.datasets.mnist.load_data()"
   ]
  },
  {
   "cell_type": "code",
   "execution_count": 5,
   "id": "4d60ccbe",
   "metadata": {},
   "outputs": [],
   "source": [
    "#数据归一化操作\n",
    "train_images=train_images/255.0\n",
    "test_images=test_images/255.0"
   ]
  },
  {
   "cell_type": "markdown",
   "id": "5a093be8",
   "metadata": {},
   "source": [
    "---"
   ]
  },
  {
   "cell_type": "code",
   "execution_count": 6,
   "id": "1fcba2d8",
   "metadata": {},
   "outputs": [],
   "source": [
    "# #创建tf.data数据\n",
    "# ds_train_image=tf.data.Dataset.from_tensor_slices(train_images)\n",
    "# ds_train_lab=tf.data.Dataset.from_tensor_slices(train_labels)\n",
    "\n",
    "# #合并数据\n",
    "# ds_train=tf.data.Dataset.zip(ds_train_image,ds_train_lab)\n",
    "\n",
    "#直接通过元组的方式创建训练数据集\n",
    "ds_train=tf.data.Dataset.from_tensor_slices((train_images,train_labels))"
   ]
  },
  {
   "cell_type": "code",
   "execution_count": 7,
   "id": "06373a62",
   "metadata": {},
   "outputs": [],
   "source": [
    "#data数据有三种处理方法，乱序，重复\n",
    "ds_train=ds_train.shuffle(10000).repeat().batch(64) #乱序,重复，分批次"
   ]
  },
  {
   "cell_type": "markdown",
   "id": "1f9eef1c",
   "metadata": {},
   "source": [
    "---"
   ]
  },
  {
   "cell_type": "code",
   "execution_count": 8,
   "id": "3b2196fa",
   "metadata": {
    "scrolled": true
   },
   "outputs": [],
   "source": [
    "#将数据放到元组内\n",
    "ds_test=tf.data.Dataset.from_tensor_slices((test_images,test_labels))"
   ]
  },
  {
   "cell_type": "code",
   "execution_count": 9,
   "id": "c46be3e2",
   "metadata": {},
   "outputs": [],
   "source": [
    "ds_test=ds_test.batch(64)#64批次"
   ]
  },
  {
   "cell_type": "markdown",
   "id": "663414c9",
   "metadata": {},
   "source": [
    "---"
   ]
  },
  {
   "cell_type": "code",
   "execution_count": 10,
   "id": "788857d1",
   "metadata": {},
   "outputs": [],
   "source": [
    "#创建模型\n",
    "model=tf.keras.Sequential([\n",
    "    tf.keras.layers.Flatten(input_shape=(28,28)),\n",
    "    tf.keras.layers.Dense(128,activation='relu'),\n",
    "    tf.keras.layers.Dense(10,activation='softmax')\n",
    "])"
   ]
  },
  {
   "cell_type": "code",
   "execution_count": 16,
   "id": "0bc49bff",
   "metadata": {},
   "outputs": [],
   "source": [
    "model.compile(optimizer='adam',\n",
    "              loss='sparse_categorical_crossentropy',\n",
    "              metrics=['accuracy']\n",
    "             )"
   ]
  },
  {
   "cell_type": "code",
   "execution_count": 17,
   "id": "b7d6e02d",
   "metadata": {},
   "outputs": [],
   "source": [
    "#训练步数，60000/64.\n",
    "#每次循环64次，总共60000图片\n",
    "steps_per_epochs=train_images.shape[0]/64\n"
   ]
  },
  {
   "cell_type": "code",
   "execution_count": 19,
   "id": "0674816c",
   "metadata": {
    "scrolled": true
   },
   "outputs": [
    {
     "name": "stdout",
     "output_type": "stream",
     "text": [
      "Epoch 1/100\n",
      "937/937 [==============================] - 3s 3ms/step - loss: 0.0169 - accuracy: 0.9955 - val_loss: 0.0741 - val_accuracy: 0.9789\n",
      "Epoch 2/100\n",
      "937/937 [==============================] - 3s 3ms/step - loss: 0.0141 - accuracy: 0.9961 - val_loss: 0.0757 - val_accuracy: 0.9792\n",
      "Epoch 3/100\n",
      "937/937 [==============================] - 7s 7ms/step - loss: 0.0128 - accuracy: 0.9963 - val_loss: 0.0783 - val_accuracy: 0.9787\n",
      "Epoch 4/100\n",
      "937/937 [==============================] - 5s 6ms/step - loss: 0.0091 - accuracy: 0.9978 - val_loss: 0.0777 - val_accuracy: 0.9794\n",
      "Epoch 5/100\n",
      "937/937 [==============================] - 4s 4ms/step - loss: 0.0077 - accuracy: 0.9982 - val_loss: 0.0894 - val_accuracy: 0.9755\n",
      "Epoch 6/100\n",
      "937/937 [==============================] - 4s 4ms/step - loss: 0.0064 - accuracy: 0.9987 - val_loss: 0.0879 - val_accuracy: 0.9776\n",
      "Epoch 7/100\n",
      "937/937 [==============================] - 4s 4ms/step - loss: 0.0079 - accuracy: 0.9978 - val_loss: 0.0920 - val_accuracy: 0.9767\n",
      "Epoch 8/100\n",
      "937/937 [==============================] - 3s 4ms/step - loss: 0.0076 - accuracy: 0.9977 - val_loss: 0.0905 - val_accuracy: 0.9785\n",
      "Epoch 9/100\n",
      "937/937 [==============================] - 3s 3ms/step - loss: 0.0052 - accuracy: 0.9988 - val_loss: 0.0853 - val_accuracy: 0.9783\n",
      "Epoch 10/100\n",
      "937/937 [==============================] - 4s 4ms/step - loss: 0.0035 - accuracy: 0.9993 - val_loss: 0.0867 - val_accuracy: 0.9783\n",
      "Epoch 11/100\n",
      "937/937 [==============================] - 3s 3ms/step - loss: 0.0049 - accuracy: 0.9987 - val_loss: 0.0942 - val_accuracy: 0.9787\n",
      "Epoch 12/100\n",
      "937/937 [==============================] - 3s 4ms/step - loss: 0.0057 - accuracy: 0.9982 - val_loss: 0.0872 - val_accuracy: 0.9793\n",
      "Epoch 13/100\n",
      "937/937 [==============================] - 4s 4ms/step - loss: 0.0032 - accuracy: 0.9992 - val_loss: 0.0927 - val_accuracy: 0.9785\n",
      "Epoch 14/100\n",
      "937/937 [==============================] - 4s 4ms/step - loss: 0.0048 - accuracy: 0.9986 - val_loss: 0.1017 - val_accuracy: 0.9794\n",
      "Epoch 15/100\n",
      "937/937 [==============================] - 3s 4ms/step - loss: 0.0022 - accuracy: 0.9996 - val_loss: 0.0935 - val_accuracy: 0.9797\n",
      "Epoch 16/100\n",
      "937/937 [==============================] - 4s 4ms/step - loss: 5.6496e-04 - accuracy: 1.0000 - val_loss: 0.0907 - val_accuracy: 0.9801\n",
      "Epoch 17/100\n",
      "937/937 [==============================] - 6s 6ms/step - loss: 4.1940e-04 - accuracy: 1.0000 - val_loss: 0.0964 - val_accuracy: 0.9802\n",
      "Epoch 18/100\n",
      "937/937 [==============================] - 3s 3ms/step - loss: 0.0108 - accuracy: 0.9968 - val_loss: 0.1028 - val_accuracy: 0.9782\n",
      "Epoch 19/100\n",
      "937/937 [==============================] - 3s 3ms/step - loss: 0.0024 - accuracy: 0.9994 - val_loss: 0.0986 - val_accuracy: 0.9804\n",
      "Epoch 20/100\n",
      "937/937 [==============================] - 3s 3ms/step - loss: 7.9731e-04 - accuracy: 0.9999 - val_loss: 0.0929 - val_accuracy: 0.9814\n",
      "Epoch 21/100\n",
      "937/937 [==============================] - 3s 3ms/step - loss: 0.0062 - accuracy: 0.9982 - val_loss: 0.1229 - val_accuracy: 0.9759\n",
      "Epoch 22/100\n",
      "937/937 [==============================] - 4s 4ms/step - loss: 0.0036 - accuracy: 0.9989 - val_loss: 0.1223 - val_accuracy: 0.9758\n",
      "Epoch 23/100\n",
      "937/937 [==============================] - 3s 4ms/step - loss: 9.0600e-04 - accuracy: 0.9999 - val_loss: 0.1008 - val_accuracy: 0.9816\n",
      "Epoch 24/100\n",
      "937/937 [==============================] - 3s 4ms/step - loss: 3.1127e-04 - accuracy: 1.0000 - val_loss: 0.0983 - val_accuracy: 0.9811\n",
      "Epoch 25/100\n",
      "937/937 [==============================] - 3s 3ms/step - loss: 0.0060 - accuracy: 0.9982 - val_loss: 0.1065 - val_accuracy: 0.9791\n",
      "Epoch 26/100\n",
      "937/937 [==============================] - 3s 3ms/step - loss: 0.0029 - accuracy: 0.9991 - val_loss: 0.1069 - val_accuracy: 0.9805\n",
      "Epoch 27/100\n",
      "937/937 [==============================] - 4s 4ms/step - loss: 4.6123e-04 - accuracy: 1.0000 - val_loss: 0.1035 - val_accuracy: 0.9806\n",
      "Epoch 28/100\n",
      "937/937 [==============================] - 3s 4ms/step - loss: 1.8941e-04 - accuracy: 1.0000 - val_loss: 0.1020 - val_accuracy: 0.9805\n",
      "Epoch 29/100\n",
      "937/937 [==============================] - 3s 3ms/step - loss: 1.2905e-04 - accuracy: 1.0000 - val_loss: 0.1030 - val_accuracy: 0.9810\n",
      "Epoch 30/100\n",
      "937/937 [==============================] - 3s 3ms/step - loss: 1.0048e-04 - accuracy: 1.0000 - val_loss: 0.1034 - val_accuracy: 0.9809\n",
      "Epoch 31/100\n",
      "937/937 [==============================] - 4s 4ms/step - loss: 0.0076 - accuracy: 0.9979 - val_loss: 0.1434 - val_accuracy: 0.9736\n",
      "Epoch 32/100\n",
      "937/937 [==============================] - 5s 5ms/step - loss: 0.0044 - accuracy: 0.9987 - val_loss: 0.1120 - val_accuracy: 0.9804\n",
      "Epoch 33/100\n",
      "937/937 [==============================] - 7s 7ms/step - loss: 6.2852e-04 - accuracy: 0.9999 - val_loss: 0.1062 - val_accuracy: 0.9812\n",
      "Epoch 34/100\n",
      "937/937 [==============================] - 4s 5ms/step - loss: 1.8244e-04 - accuracy: 1.0000 - val_loss: 0.1080 - val_accuracy: 0.9814\n",
      "Epoch 35/100\n",
      "937/937 [==============================] - 6s 6ms/step - loss: 0.0082 - accuracy: 0.9974 - val_loss: 0.1248 - val_accuracy: 0.9782\n",
      "Epoch 36/100\n",
      "937/937 [==============================] - 9s 10ms/step - loss: 0.0012 - accuracy: 0.9997 - val_loss: 0.1122 - val_accuracy: 0.9800\n",
      "Epoch 37/100\n",
      "937/937 [==============================] - 8s 9ms/step - loss: 7.2805e-04 - accuracy: 0.9998 - val_loss: 0.1130 - val_accuracy: 0.9807\n",
      "Epoch 38/100\n",
      "937/937 [==============================] - 9s 9ms/step - loss: 1.1281e-04 - accuracy: 1.0000 - val_loss: 0.1102 - val_accuracy: 0.9810\n",
      "Epoch 39/100\n",
      "937/937 [==============================] - 9s 10ms/step - loss: 7.0490e-05 - accuracy: 1.0000 - val_loss: 0.1111 - val_accuracy: 0.9811\n",
      "Epoch 40/100\n",
      "937/937 [==============================] - 8s 9ms/step - loss: 5.5880e-05 - accuracy: 1.0000 - val_loss: 0.1126 - val_accuracy: 0.9807\n",
      "Epoch 41/100\n",
      "937/937 [==============================] - 9s 10ms/step - loss: 0.0075 - accuracy: 0.9979 - val_loss: 0.1237 - val_accuracy: 0.9781\n",
      "Epoch 42/100\n",
      "937/937 [==============================] - 8s 9ms/step - loss: 0.0035 - accuracy: 0.9987 - val_loss: 0.1216 - val_accuracy: 0.9794\n",
      "Epoch 43/100\n",
      "937/937 [==============================] - 9s 10ms/step - loss: 0.0010 - accuracy: 0.9997 - val_loss: 0.1186 - val_accuracy: 0.9797\n",
      "Epoch 44/100\n",
      "937/937 [==============================] - 8s 8ms/step - loss: 2.0765e-04 - accuracy: 1.0000 - val_loss: 0.1113 - val_accuracy: 0.9817\n",
      "Epoch 45/100\n",
      "937/937 [==============================] - 5s 6ms/step - loss: 7.0375e-05 - accuracy: 1.0000 - val_loss: 0.1123 - val_accuracy: 0.9817\n",
      "Epoch 46/100\n",
      "937/937 [==============================] - 5s 5ms/step - loss: 4.9287e-05 - accuracy: 1.0000 - val_loss: 0.1129 - val_accuracy: 0.9814\n",
      "Epoch 47/100\n",
      "937/937 [==============================] - 5s 5ms/step - loss: 3.9552e-05 - accuracy: 1.0000 - val_loss: 0.1143 - val_accuracy: 0.9812\n",
      "Epoch 48/100\n",
      "937/937 [==============================] - 5s 5ms/step - loss: 3.2827e-05 - accuracy: 1.0000 - val_loss: 0.1157 - val_accuracy: 0.9814\n",
      "Epoch 49/100\n",
      "937/937 [==============================] - 5s 5ms/step - loss: 2.7299e-05 - accuracy: 1.0000 - val_loss: 0.1159 - val_accuracy: 0.9815\n",
      "Epoch 50/100\n",
      "937/937 [==============================] - 5s 5ms/step - loss: 2.2677e-05 - accuracy: 1.0000 - val_loss: 0.1179 - val_accuracy: 0.9809\n",
      "Epoch 51/100\n",
      "937/937 [==============================] - 5s 5ms/step - loss: 0.0094 - accuracy: 0.9974 - val_loss: 0.1356 - val_accuracy: 0.9773\n",
      "Epoch 52/100\n",
      "937/937 [==============================] - 6s 6ms/step - loss: 0.0015 - accuracy: 0.9997 - val_loss: 0.1319 - val_accuracy: 0.9792\n",
      "Epoch 53/100\n",
      "937/937 [==============================] - 5s 5ms/step - loss: 6.5245e-04 - accuracy: 0.9998 - val_loss: 0.1275 - val_accuracy: 0.9794\n",
      "Epoch 54/100\n",
      "937/937 [==============================] - 4s 5ms/step - loss: 0.0033 - accuracy: 0.9991 - val_loss: 0.1359 - val_accuracy: 0.9791\n",
      "Epoch 55/100\n",
      "937/937 [==============================] - 5s 5ms/step - loss: 0.0015 - accuracy: 0.9995 - val_loss: 0.1305 - val_accuracy: 0.9784\n",
      "Epoch 56/100\n",
      "937/937 [==============================] - 5s 5ms/step - loss: 0.0021 - accuracy: 0.9994 - val_loss: 0.1352 - val_accuracy: 0.9782\n",
      "Epoch 57/100\n"
     ]
    },
    {
     "name": "stdout",
     "output_type": "stream",
     "text": [
      "937/937 [==============================] - 4s 4ms/step - loss: 0.0025 - accuracy: 0.9992 - val_loss: 0.1401 - val_accuracy: 0.9791\n",
      "Epoch 58/100\n",
      "937/937 [==============================] - 4s 4ms/step - loss: 0.0025 - accuracy: 0.9992 - val_loss: 0.1356 - val_accuracy: 0.9786\n",
      "Epoch 59/100\n",
      "937/937 [==============================] - 5s 5ms/step - loss: 0.0027 - accuracy: 0.9991 - val_loss: 0.1390 - val_accuracy: 0.9815\n",
      "Epoch 60/100\n",
      "937/937 [==============================] - 4s 4ms/step - loss: 4.0506e-04 - accuracy: 0.9999 - val_loss: 0.1261 - val_accuracy: 0.9813\n",
      "Epoch 61/100\n",
      "937/937 [==============================] - 4s 4ms/step - loss: 9.1263e-05 - accuracy: 1.0000 - val_loss: 0.1278 - val_accuracy: 0.9816\n",
      "Epoch 62/100\n",
      "937/937 [==============================] - 4s 5ms/step - loss: 6.8238e-05 - accuracy: 1.0000 - val_loss: 0.1363 - val_accuracy: 0.9810\n",
      "Epoch 63/100\n",
      "937/937 [==============================] - 4s 5ms/step - loss: 0.0058 - accuracy: 0.9981 - val_loss: 0.1389 - val_accuracy: 0.9790\n",
      "Epoch 64/100\n",
      "937/937 [==============================] - 4s 5ms/step - loss: 0.0018 - accuracy: 0.9995 - val_loss: 0.1375 - val_accuracy: 0.9798\n",
      "Epoch 65/100\n",
      "937/937 [==============================] - 4s 4ms/step - loss: 7.5263e-04 - accuracy: 0.9998 - val_loss: 0.1610 - val_accuracy: 0.9782\n",
      "Epoch 66/100\n",
      "937/937 [==============================] - 5s 5ms/step - loss: 0.0053 - accuracy: 0.9985 - val_loss: 0.1657 - val_accuracy: 0.9766\n",
      "Epoch 67/100\n",
      "937/937 [==============================] - 4s 4ms/step - loss: 0.0015 - accuracy: 0.9995 - val_loss: 0.1529 - val_accuracy: 0.9784\n",
      "Epoch 68/100\n",
      "937/937 [==============================] - 4s 5ms/step - loss: 0.0022 - accuracy: 0.9992 - val_loss: 0.1748 - val_accuracy: 0.9751\n",
      "Epoch 69/100\n",
      "937/937 [==============================] - 4s 4ms/step - loss: 9.8042e-04 - accuracy: 0.9998 - val_loss: 0.1404 - val_accuracy: 0.9802\n",
      "Epoch 70/100\n",
      "937/937 [==============================] - 5s 5ms/step - loss: 4.8821e-05 - accuracy: 1.0000 - val_loss: 0.1393 - val_accuracy: 0.9804\n",
      "Epoch 71/100\n",
      "937/937 [==============================] - 4s 5ms/step - loss: 2.2023e-05 - accuracy: 1.0000 - val_loss: 0.1385 - val_accuracy: 0.9805\n",
      "Epoch 72/100\n",
      "937/937 [==============================] - 4s 4ms/step - loss: 1.6912e-05 - accuracy: 1.0000 - val_loss: 0.1385 - val_accuracy: 0.9807\n",
      "Epoch 73/100\n",
      "937/937 [==============================] - 4s 5ms/step - loss: 1.3423e-05 - accuracy: 1.0000 - val_loss: 0.1388 - val_accuracy: 0.9810\n",
      "Epoch 74/100\n",
      "937/937 [==============================] - 5s 5ms/step - loss: 1.0670e-05 - accuracy: 1.0000 - val_loss: 0.1390 - val_accuracy: 0.9809\n",
      "Epoch 75/100\n",
      "937/937 [==============================] - 4s 4ms/step - loss: 8.6569e-06 - accuracy: 1.0000 - val_loss: 0.1396 - val_accuracy: 0.9811\n",
      "Epoch 76/100\n",
      "937/937 [==============================] - 4s 4ms/step - loss: 6.7843e-06 - accuracy: 1.0000 - val_loss: 0.1413 - val_accuracy: 0.9807\n",
      "Epoch 77/100\n",
      "937/937 [==============================] - 5s 5ms/step - loss: 5.7576e-06 - accuracy: 1.0000 - val_loss: 0.1417 - val_accuracy: 0.9814\n",
      "Epoch 78/100\n",
      "937/937 [==============================] - 4s 5ms/step - loss: 4.5301e-06 - accuracy: 1.0000 - val_loss: 0.1416 - val_accuracy: 0.9815\n",
      "Epoch 79/100\n",
      "937/937 [==============================] - 5s 5ms/step - loss: 0.0086 - accuracy: 0.9980 - val_loss: 0.1778 - val_accuracy: 0.9790\n",
      "Epoch 80/100\n",
      "937/937 [==============================] - 4s 4ms/step - loss: 0.0015 - accuracy: 0.9996 - val_loss: 0.1524 - val_accuracy: 0.9796\n",
      "Epoch 81/100\n",
      "937/937 [==============================] - 5s 5ms/step - loss: 1.7465e-04 - accuracy: 1.0000 - val_loss: 0.1489 - val_accuracy: 0.9792\n",
      "Epoch 82/100\n",
      "937/937 [==============================] - 4s 5ms/step - loss: 3.5034e-05 - accuracy: 1.0000 - val_loss: 0.1468 - val_accuracy: 0.9804\n",
      "Epoch 83/100\n",
      "937/937 [==============================] - 4s 5ms/step - loss: 1.6689e-05 - accuracy: 1.0000 - val_loss: 0.1465 - val_accuracy: 0.9804\n",
      "Epoch 84/100\n",
      "937/937 [==============================] - 4s 4ms/step - loss: 1.3804e-05 - accuracy: 1.0000 - val_loss: 0.1462 - val_accuracy: 0.9807\n",
      "Epoch 85/100\n",
      "937/937 [==============================] - 5s 5ms/step - loss: 1.0394e-05 - accuracy: 1.0000 - val_loss: 0.1461 - val_accuracy: 0.9807\n",
      "Epoch 86/100\n",
      "937/937 [==============================] - 4s 5ms/step - loss: 8.2862e-06 - accuracy: 1.0000 - val_loss: 0.1462 - val_accuracy: 0.9812\n",
      "Epoch 87/100\n",
      "937/937 [==============================] - 4s 5ms/step - loss: 6.7004e-06 - accuracy: 1.0000 - val_loss: 0.1458 - val_accuracy: 0.9806\n",
      "Epoch 88/100\n",
      "937/937 [==============================] - 4s 5ms/step - loss: 5.3080e-06 - accuracy: 1.0000 - val_loss: 0.1469 - val_accuracy: 0.9811\n",
      "Epoch 89/100\n",
      "937/937 [==============================] - 4s 4ms/step - loss: 4.0322e-06 - accuracy: 1.0000 - val_loss: 0.1483 - val_accuracy: 0.9811\n",
      "Epoch 90/100\n",
      "937/937 [==============================] - 4s 5ms/step - loss: 3.1951e-06 - accuracy: 1.0000 - val_loss: 0.1471 - val_accuracy: 0.9812\n",
      "Epoch 91/100\n",
      "937/937 [==============================] - 4s 4ms/step - loss: 2.5794e-06 - accuracy: 1.0000 - val_loss: 0.1490 - val_accuracy: 0.9810\n",
      "Epoch 92/100\n",
      "937/937 [==============================] - 5s 5ms/step - loss: 0.0082 - accuracy: 0.9980 - val_loss: 0.1690 - val_accuracy: 0.9800\n",
      "Epoch 93/100\n",
      "937/937 [==============================] - 4s 4ms/step - loss: 0.0021 - accuracy: 0.9993 - val_loss: 0.1563 - val_accuracy: 0.9798\n",
      "Epoch 94/100\n",
      "937/937 [==============================] - 4s 5ms/step - loss: 0.0015 - accuracy: 0.9995 - val_loss: 0.1630 - val_accuracy: 0.9781\n",
      "Epoch 95/100\n",
      "937/937 [==============================] - 4s 4ms/step - loss: 5.2224e-04 - accuracy: 0.9998 - val_loss: 0.1597 - val_accuracy: 0.9796\n",
      "Epoch 96/100\n",
      "937/937 [==============================] - 5s 5ms/step - loss: 0.0031 - accuracy: 0.9989 - val_loss: 0.1599 - val_accuracy: 0.9794\n",
      "Epoch 97/100\n",
      "937/937 [==============================] - 4s 4ms/step - loss: 7.0580e-04 - accuracy: 0.9998 - val_loss: 0.1493 - val_accuracy: 0.9792\n",
      "Epoch 98/100\n",
      "937/937 [==============================] - 4s 5ms/step - loss: 4.1213e-05 - accuracy: 1.0000 - val_loss: 0.1479 - val_accuracy: 0.9803\n",
      "Epoch 99/100\n",
      "937/937 [==============================] - 4s 5ms/step - loss: 1.3190e-05 - accuracy: 1.0000 - val_loss: 0.1480 - val_accuracy: 0.9800\n",
      "Epoch 100/100\n",
      "937/937 [==============================] - 4s 5ms/step - loss: 9.2436e-06 - accuracy: 1.0000 - val_loss: 0.1481 - val_accuracy: 0.9805\n"
     ]
    },
    {
     "data": {
      "text/plain": [
       "<keras.src.callbacks.History at 0x7f311382e150>"
      ]
     },
     "execution_count": 19,
     "metadata": {},
     "output_type": "execute_result"
    }
   ],
   "source": [
    "model.fit(ds_train,\n",
    "          epochs=100,\n",
    "          steps_per_epoch=steps_per_epochs,\n",
    "          validation_data=ds_test,\n",
    "          validation_steps=10000/64\n",
    "         )"
   ]
  },
  {
   "cell_type": "code",
   "execution_count": null,
   "id": "f9a13111",
   "metadata": {},
   "outputs": [],
   "source": []
  }
 ],
 "metadata": {
  "kernelspec": {
   "display_name": "Python 3 (ipykernel)",
   "language": "python",
   "name": "python3"
  },
  "language_info": {
   "codemirror_mode": {
    "name": "ipython",
    "version": 3
   },
   "file_extension": ".py",
   "mimetype": "text/x-python",
   "name": "python",
   "nbconvert_exporter": "python",
   "pygments_lexer": "ipython3",
   "version": "3.11.3"
  }
 },
 "nbformat": 4,
 "nbformat_minor": 5
}
