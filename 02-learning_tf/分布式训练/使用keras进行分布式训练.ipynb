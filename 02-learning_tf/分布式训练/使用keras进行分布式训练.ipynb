{
 "cells": [
  {
   "cell_type": "code",
   "execution_count": null,
   "id": "initial_id",
   "metadata": {
    "collapsed": true
   },
   "outputs": [],
   "source": [
    "import tensorflow as tf\n",
    "from tensorflow import keras\n",
    "import os\n",
    "print(tf.__version__)"
   ]
  },
  {
   "cell_type": "code",
   "execution_count": null,
   "outputs": [],
   "source": [
    "(train_image, train_label), (test_image, test_label) = tf.keras.datasets.mnist.load_data()"
   ],
   "metadata": {
    "collapsed": false
   },
   "id": "65a0c80f6ccf07c2"
  },
  {
   "cell_type": "code",
   "execution_count": null,
   "outputs": [],
   "source": [
    "train_image=train_image/255.0\n",
    "test_image=test_image/255.0"
   ],
   "metadata": {
    "collapsed": false
   },
   "id": "7695d03724377b63"
  },
  {
   "cell_type": "code",
   "execution_count": null,
   "outputs": [],
   "source": [
    "ds_train = tf.data.Dataset.from_tensor_slices((train_image,train_label))\n",
    "ds_test = tf.data.Dataset.from_tensor_slices((test_image,test_label))"
   ],
   "metadata": {
    "collapsed": false
   },
   "id": "3366994b8d056738"
  },
  {
   "cell_type": "code",
   "execution_count": null,
   "outputs": [],
   "source": [
    "#定义分布式策略\n",
    "strategy = tf.distribute.MirroredStrategy()\n",
    "print(\"number of devices:{}\".format(strategy.num_replicas_in_sync))"
   ],
   "metadata": {
    "collapsed": false
   },
   "id": "29fe5f82f65c99c4"
  },
  {
   "cell_type": "code",
   "execution_count": null,
   "outputs": [],
   "source": [
    "#设置输入流水线\n",
    "#当使用多个GPU训练模型师，可通过增加批次大小来有效利用额外的计算能力，通常，应使用适合GPU内存的批次大小，并相应调整学习率\n",
    "BUFFER_SIZE = 10000\n",
    "BATCH_SIZE_PER_REPLICA=64\n",
    "BATCH_SIZE = BATCH_SIZE_PER_REPLICA*strategy.num_replicas_in_sync"
   ],
   "metadata": {
    "collapsed": false
   },
   "id": "8c9d24f99df8e254"
  },
  {
   "cell_type": "code",
   "execution_count": null,
   "outputs": [],
   "source": [
    "train_dataset = ds_train.cache().shuffle(BUFFER_SIZE).batch(BATCH_SIZE)\n",
    "eval_dataset = ds_test.batch(BATCH_SIZE)"
   ],
   "metadata": {
    "collapsed": false
   },
   "id": "3092bf5df382231e"
  },
  {
   "cell_type": "code",
   "execution_count": null,
   "outputs": [],
   "source": [
    "# 生成模型\n",
    "with strategy.scope():\n",
    "    model = tf.keras.Sequential([\n",
    "        tf.keras.layers.Conv2D(32,3,activation='relu',input_shape=(28,28,1)),\n",
    "        tf.keras.layers.MaxPool2D(),\n",
    "        tf.keras.layers.Flatten(),\n",
    "        tf.keras.layers.Dense(64,activation='relu'),\n",
    "        tf.keras.layers.Dense(10)\n",
    "    ])\n",
    "    \n",
    "model.compile(loss=tf.keras.losses.SparseCategoricalCrossentropy(from_logits=True),\n",
    "              optimizer=tf.keras.optimizers.Adam(),\n",
    "              metrics=['accuracy'])"
   ],
   "metadata": {
    "collapsed": false
   },
   "id": "e800d8278c9cf3b2"
  },
  {
   "cell_type": "code",
   "execution_count": null,
   "outputs": [],
   "source": [],
   "metadata": {
    "collapsed": false
   },
   "id": "909eff79585d21bf"
  }
 ],
 "metadata": {
  "kernelspec": {
   "display_name": "Python 3",
   "language": "python",
   "name": "python3"
  },
  "language_info": {
   "codemirror_mode": {
    "name": "ipython",
    "version": 2
   },
   "file_extension": ".py",
   "mimetype": "text/x-python",
   "name": "python",
   "nbconvert_exporter": "python",
   "pygments_lexer": "ipython2",
   "version": "2.7.6"
  }
 },
 "nbformat": 4,
 "nbformat_minor": 5
}
