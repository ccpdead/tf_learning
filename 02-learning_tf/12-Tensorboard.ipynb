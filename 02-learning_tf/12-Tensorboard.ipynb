{
 "cells": [
  {
   "cell_type": "code",
   "execution_count": null,
   "id": "3b8cfb28",
   "metadata": {},
   "outputs": [],
   "source": [
    "import tensorflow as tf\n",
    "from tensorflow import keras\n",
    "import datetime"
   ]
  },
  {
   "cell_type": "code",
   "execution_count": null,
   "id": "611790e7",
   "metadata": {},
   "outputs": [],
   "source": [
    "(train_image, train_labels), (test_image,\n",
    "                              test_labels) = tf.keras.datasets.mnist.load_data()"
   ]
  },
  {
   "cell_type": "code",
   "execution_count": null,
   "id": "89001f80",
   "metadata": {},
   "outputs": [],
   "source": [
    "train_image.shape"
   ]
  },
  {
   "cell_type": "code",
   "execution_count": null,
   "id": "278accd8",
   "metadata": {},
   "outputs": [],
   "source": [
    "train_image = tf.expand_dims(train_image, -1)\n",
    "test_image = tf.expand_dims(test_image, -1)"
   ]
  },
  {
   "cell_type": "code",
   "execution_count": null,
   "id": "81c24c99",
   "metadata": {},
   "outputs": [],
   "source": [
    "train_image.shape"
   ]
  },
  {
   "cell_type": "code",
   "execution_count": null,
   "id": "5492c68c",
   "metadata": {},
   "outputs": [],
   "source": [
    "train_image = tf.cast(train_image/255, tf.float32)\n",
    "test_image = tf.cast(test_image/255, tf.float32)"
   ]
  },
  {
   "cell_type": "code",
   "execution_count": null,
   "id": "b44b23dd",
   "metadata": {},
   "outputs": [],
   "source": [
    "train_labels = tf.cast(train_labels, tf.int64)\n",
    "test_labels = tf.cast(test_labels, tf.int64)"
   ]
  },
  {
   "cell_type": "code",
   "execution_count": null,
   "id": "120b33ac",
   "metadata": {},
   "outputs": [],
   "source": [
    "dataset = tf.data.Dataset.from_tensor_slices((train_image, train_labels))\n",
    "test_dataset = tf.data.Dataset.from_tensor_slices((test_image, test_labels))"
   ]
  },
  {
   "cell_type": "code",
   "execution_count": null,
   "id": "93f122bb",
   "metadata": {},
   "outputs": [],
   "source": [
    "dataset"
   ]
  },
  {
   "cell_type": "code",
   "execution_count": null,
   "id": "e21dd330",
   "metadata": {},
   "outputs": [],
   "source": [
    "# 注意，这里repeat没有参数，因此会一直产生数据\n",
    "dataset = dataset.repeat().shuffle(60000).batch(128)\n",
    "test_dataset = test_dataset.repeat().batch(128)"
   ]
  },
  {
   "cell_type": "code",
   "execution_count": null,
   "id": "f2d94e45",
   "metadata": {},
   "outputs": [],
   "source": [
    "dataset, test_dataset"
   ]
  },
  {
   "cell_type": "code",
   "execution_count": null,
   "id": "6750829b",
   "metadata": {},
   "outputs": [],
   "source": [
    "model = tf.keras.Sequential([\n",
    "    tf.keras.layers.Conv2D(\n",
    "        16, [3, 3], activation='relu', input_shape=(None, None, 1)),\n",
    "    tf.keras.layers.Conv2D(32, [3, 3], activation='relu'),\n",
    "    tf.keras.layers.GlobalMaxPooling2D(),\n",
    "    tf.keras.layers.Dense(10, activation='softmax')\n",
    "])\n",
    "\n",
    "model.summary()"
   ]
  },
  {
   "cell_type": "code",
   "execution_count": null,
   "id": "7d404254",
   "metadata": {},
   "outputs": [],
   "source": [
    "model.compile(optimizer='adam',\n",
    "              loss='sparse_categorical_crossentropy',\n",
    "              metrics=['accuracy'])"
   ]
  },
  {
   "cell_type": "code",
   "execution_count": null,
   "id": "d2ed8800",
   "metadata": {},
   "outputs": [],
   "source": [
    "import os\n",
    "log_dir = os.path.join(\n",
    "    'logs', datetime.datetime.now().strftime(\"%Y%m%d-%H:%M:%S\"))"
   ]
  },
  {
   "cell_type": "code",
   "execution_count": null,
   "id": "e212c73f",
   "metadata": {},
   "outputs": [],
   "source": [
    "tensorboard_callback = tf.keras.callbacks.TensorBoard(\n",
    "    log_dir=log_dir, histogram_freq=1)"
   ]
  },
  {
   "cell_type": "code",
   "execution_count": null,
   "id": "fcba681e",
   "metadata": {},
   "outputs": [],
   "source": [
    "# 创建文件编写器\n",
    "file_writer = tf.summary.create_file_writer(log_dir+'/lr')\n",
    "file_writer.set_as_default()"
   ]
  },
  {
   "cell_type": "code",
   "execution_count": null,
   "id": "a4b94d02",
   "metadata": {},
   "outputs": [],
   "source": [
    "# 控制学习速率\n",
    "def lr_sche(epoch):\n",
    "    learning_rate = 0.2\n",
    "    if epoch > 5:\n",
    "        learning_rate = 0.02\n",
    "    if epoch > 10:\n",
    "        learning_rate = 0.01\n",
    "    if epoch > 20:\n",
    "        learning_rate = 0.005\n",
    "    # 将leaning-rate变化写入磁盘\n",
    "    tf.summary.scalar('leaning_rate', data=learning_rate, step=epoch)\n",
    "    return learning_rate"
   ]
  },
  {
   "cell_type": "code",
   "execution_count": null,
   "id": "94f74f7d",
   "metadata": {},
   "outputs": [],
   "source": [
    "lr_callback = tf.keras.callbacks.LearningRateScheduler(lr_sche)"
   ]
  },
  {
   "cell_type": "code",
   "execution_count": null,
   "id": "617ff5ee",
   "metadata": {},
   "outputs": [],
   "source": [
    "model.fit(dataset,\n",
    "          epochs=30,\n",
    "          steps_per_epoch=60000//128,\n",
    "          validation_data=test_dataset,\n",
    "          validation_steps=60000//128,\n",
    "          callbacks=[tensorboard_callback, lr_callback])"
   ]
  },
  {
   "cell_type": "code",
   "execution_count": null,
   "id": "0a2f7b20",
   "metadata": {},
   "outputs": [],
   "source": [
    "%load_ext tensorboard\n",
    "%matplotlib inline\n",
    "%tensorboard - -logdir logs"
   ]
  },
  {
   "cell_type": "code",
   "execution_count": null,
   "id": "0ec2972b",
   "metadata": {},
   "outputs": [],
   "source": []
  },
  {
   "cell_type": "markdown",
   "id": "a530fbb4",
   "metadata": {},
   "source": [
    "# 自定义训练中使用Tensorboard"
   ]
  },
  {
   "cell_type": "code",
   "execution_count": null,
   "id": "f69a5ee6",
   "metadata": {},
   "outputs": [],
   "source": [
    "optimizer = tf.keras.optimizers.Adam()  # 定义优化函数\n",
    "loss_func = tf.keras.losses.SparseCategoricalCrossentropy()  # 定义损失函数"
   ]
  },
  {
   "cell_type": "code",
   "execution_count": null,
   "id": "e4db2963",
   "metadata": {},
   "outputs": [],
   "source": [
    "def loss(model, x, y):\n",
    "    y_model(x)\n",
    "    return loss_func(x, y_)"
   ]
  },
  {
   "cell_type": "code",
   "execution_count": null,
   "id": "3a1f5991",
   "metadata": {},
   "outputs": [],
   "source": [
    "# 创建汇总模块\n",
    "train_loss = tf.keras.metrics.Mean('train_loss')\n",
    "train_accuracy = tf.keras.metrics.SparseCategoricalAccuracy('train_accuracy')\n",
    "\n",
    "test_loss = tf.keras.metrics.Mean('test_loss')\n",
    "test_accuracy = tf.keras.metrics.SparseCategoricalAccuracy('test_accuracy')"
   ]
  },
  {
   "cell_type": "code",
   "execution_count": null,
   "id": "efca3114",
   "metadata": {},
   "outputs": [],
   "source": [
    "def train_step(model, images, labels):\n",
    "    with tf.GradientTape() as t:\n",
    "        pred = model(images)\n",
    "        loss_step = loss_func(labels, pred)\n",
    "    grads = t.gradient(loss_step, model.trainable_variables)\n",
    "    optimizer.apply_gradients(zip(grads, model.trainable_variables))\n",
    "    train_loss(loss_step)\n",
    "    train_accuracy(labels, pred)"
   ]
  },
  {
   "cell_type": "code",
   "execution_count": null,
   "id": "8fbb6fbc",
   "metadata": {},
   "outputs": [],
   "source": [
    "def test_step(model, images, labels):\n",
    "    pred = model(images)\n",
    "    loss_step = loss_func(labels, pred)\n",
    "    test_loss(loss_step)\n",
    "    test_accuracy(labels, pred)"
   ]
  },
  {
   "cell_type": "code",
   "execution_count": null,
   "id": "27047fdf",
   "metadata": {},
   "outputs": [],
   "source": [
    "current_time=datetime.datetime.now().strftime(\"%Y%m%d-%H:%M:%%SVG\")\n",
    "train_log_dir='logs/gradient_tape'+current_time+'train'\n",
    "test_log_dir='logs/gradient_tape'+current_time+'test'\n",
    "\n",
    "train_writer=tf.summary.create_file_writer(train_log_dir)\n",
    "test_writer=tf.summary.create_file_writer(test_log_dir)"
   ]
  },
  {
   "cell_type": "code",
   "execution_count": null,
   "id": "c0ef4bda",
   "metadata": {},
   "outputs": [],
   "source": [
    "def train():\n",
    "    for epoch in range(10):\n",
    "        for(batch, (images, labels)) in enumerate(dataset):\n",
    "            train_step(model, images, labels)\n",
    "            print(\"\\rstep:{}, loss:{:.4f}, acc:{:.4f}\".format(batch,\n",
    "                                                              train_loss.result(),\n",
    "                                                              train_accuracy.result()), end=\"\")\n",
    "        with train_writer.as_default():\n",
    "            tf.summary.scalar('loss', train_loss.result(), step=epoch)\n",
    "            tf.summary.scalar('acc', train_accuracy.result(), step=epoch)\n",
    "#------------------------------------------------------------------------\n",
    "        for (batch, (images, labels)) in enumerate(test_dataset):\n",
    "            test_step(model, images, labels)\n",
    "            print(\"\\rstep:{}, test_loss:{:.4f}, test_acc:{:.4f}\".format(batch,\n",
    "                                                                        test_loss.result(),\n",
    "                                                                        test_accuracy.result()), end=\"\")\n",
    "        with train_writer.as_default():\n",
    "            tf.summary.scalar('test_loss', test_loss.result(), step=epoch)\n",
    "            tf.summary.scalar('test_acc', test_accuracy.result(), step=epoch)\n",
    "#--------------------------------------------------------------------------\n",
    "        template = 'Epoch{},loss:{},acc:{},test_loss:{},test_acc:{}'\n",
    "        print(template.format(epoch+1,\n",
    "                              train_loss.result(),\n",
    "                              train_accuracy.result(),\n",
    "                              test_loss.result(),\n",
    "                              test_accuracy.result()))\n",
    "\n",
    "        train_loss.reset_states()\n",
    "        train_accuracy.reset_states()\n",
    "        test_loss.reset_states()\n",
    "        test_accuracy.reset_states()"
   ]
  },
  {
   "cell_type": "code",
   "execution_count": null,
   "id": "a2a57f06",
   "metadata": {},
   "outputs": [],
   "source": [
    " train()"
   ]
  },
  {
   "cell_type": "code",
   "execution_count": null,
   "id": "4885997e",
   "metadata": {},
   "outputs": [],
   "source": []
  }
 ],
 "metadata": {
  "kernelspec": {
   "display_name": "Python 3 (ipykernel)",
   "language": "python",
   "name": "python3"
  },
  "language_info": {
   "codemirror_mode": {
    "name": "ipython",
    "version": 3
   },
   "file_extension": ".py",
   "mimetype": "text/x-python",
   "name": "python",
   "nbconvert_exporter": "python",
   "pygments_lexer": "ipython3",
   "version": "3.11.3"
  }
 },
 "nbformat": 4,
 "nbformat_minor": 5
}
