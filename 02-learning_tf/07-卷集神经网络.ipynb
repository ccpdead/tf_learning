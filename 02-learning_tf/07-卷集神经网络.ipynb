{
 "cells": [
  {
   "cell_type": "code",
   "execution_count": 1,
   "id": "8c43cb1a",
   "metadata": {
    "ExecuteTime": {
     "end_time": "2023-09-23T09:17:08.792657464Z",
     "start_time": "2023-09-23T09:17:06.241012218Z"
    }
   },
   "outputs": [
    {
     "name": "stderr",
     "output_type": "stream",
     "text": [
      "2023-09-23 17:17:06.421060: I tensorflow/core/platform/cpu_feature_guard.cc:182] This TensorFlow binary is optimized to use available CPU instructions in performance-critical operations.\n",
      "To enable the following instructions: AVX2 FMA, in other operations, rebuild TensorFlow with the appropriate compiler flags.\n",
      "2023-09-23 17:17:07.325679: W tensorflow/compiler/tf2tensorrt/utils/py_utils.cc:38] TF-TRT Warning: Could not find TensorRT\n"
     ]
    }
   ],
   "source": [
    "import tensorflow as tf\n",
    "from tensorflow import keras\n",
    "import matplotlib.pyplot as plt\n",
    "%matplotlib inline\n",
    "import numpy as np"
   ]
  },
  {
   "cell_type": "code",
   "execution_count": 2,
   "id": "03fac989",
   "metadata": {
    "ExecuteTime": {
     "end_time": "2023-09-23T09:17:09.076561872Z",
     "start_time": "2023-09-23T09:17:08.792975128Z"
    }
   },
   "outputs": [],
   "source": [
    "fashion_mnist = keras.datasets.fashion_mnist\n",
    "(train_images,train_labels),(test_images,test_labels)=fashion_mnist.load_data()"
   ]
  },
  {
   "cell_type": "code",
   "execution_count": 3,
   "id": "0e7690b3",
   "metadata": {
    "ExecuteTime": {
     "end_time": "2023-09-23T09:14:10.002622475Z",
     "start_time": "2023-09-23T09:14:09.997352738Z"
    }
   },
   "outputs": [
    {
     "data": {
      "text/plain": [
       "(60000, 28, 28)"
      ]
     },
     "execution_count": 3,
     "metadata": {},
     "output_type": "execute_result"
    }
   ],
   "source": [
    "train_images.shape "
   ]
  },
  {
   "cell_type": "code",
   "execution_count": 4,
   "id": "0353e137",
   "metadata": {
    "ExecuteTime": {
     "end_time": "2023-09-23T09:14:10.717813413Z",
     "start_time": "2023-09-23T09:14:10.710216618Z"
    }
   },
   "outputs": [
    {
     "data": {
      "text/plain": [
       "(60000,)"
      ]
     },
     "execution_count": 4,
     "metadata": {},
     "output_type": "execute_result"
    }
   ],
   "source": [
    "train_labels.shape"
   ]
  },
  {
   "cell_type": "code",
   "execution_count": 5,
   "id": "0976feeb",
   "metadata": {
    "ExecuteTime": {
     "end_time": "2023-09-23T09:14:11.110667339Z",
     "start_time": "2023-09-23T09:14:11.107065243Z"
    }
   },
   "outputs": [
    {
     "data": {
      "text/plain": [
       "(10000, 28, 28)"
      ]
     },
     "execution_count": 5,
     "metadata": {},
     "output_type": "execute_result"
    }
   ],
   "source": [
    "test_images.shape"
   ]
  },
  {
   "cell_type": "code",
   "execution_count": 6,
   "id": "a2c81818",
   "metadata": {
    "ExecuteTime": {
     "end_time": "2023-09-23T09:14:12.162871899Z",
     "start_time": "2023-09-23T09:14:12.158419219Z"
    }
   },
   "outputs": [
    {
     "data": {
      "text/plain": [
       "array([9, 2, 1, ..., 8, 1, 5], dtype=uint8)"
      ]
     },
     "execution_count": 6,
     "metadata": {},
     "output_type": "execute_result"
    }
   ],
   "source": [
    "test_labels"
   ]
  },
  {
   "cell_type": "markdown",
   "id": "f33b1dbc",
   "metadata": {},
   "source": [
    "**扩张到四维，None，hight，width，channal**"
   ]
  },
  {
   "cell_type": "code",
   "execution_count": 7,
   "id": "4d3b1e03",
   "metadata": {
    "ExecuteTime": {
     "end_time": "2023-09-23T09:14:13.675179260Z",
     "start_time": "2023-09-23T09:14:13.673235167Z"
    }
   },
   "outputs": [],
   "source": [
    "train_images = np.expand_dims(train_images,-1)\n",
    "test_images = np.expand_dims(test_images,-1)"
   ]
  },
  {
   "cell_type": "code",
   "execution_count": 8,
   "id": "c43d68b2",
   "metadata": {
    "ExecuteTime": {
     "end_time": "2023-09-23T09:14:14.068355035Z",
     "start_time": "2023-09-23T09:14:14.043949452Z"
    }
   },
   "outputs": [
    {
     "data": {
      "text/plain": [
       "(60000, 28, 28, 1)"
      ]
     },
     "execution_count": 8,
     "metadata": {},
     "output_type": "execute_result"
    }
   ],
   "source": [
    "train_images.shape"
   ]
  },
  {
   "cell_type": "markdown",
   "id": "d03b8a48",
   "metadata": {},
   "source": [
    "**建立模型**"
   ]
  },
  {
   "cell_type": "code",
   "execution_count": 9,
   "id": "2eab6ee5",
   "metadata": {
    "ExecuteTime": {
     "end_time": "2023-09-23T09:14:16.682907292Z",
     "start_time": "2023-09-23T09:14:16.127731692Z"
    }
   },
   "outputs": [
    {
     "name": "stderr",
     "output_type": "stream",
     "text": [
      "2023-09-23 17:14:16.188866: I tensorflow/compiler/xla/stream_executor/cuda/cuda_gpu_executor.cc:995] successful NUMA node read from SysFS had negative value (-1), but there must be at least one NUMA node, so returning NUMA node zero. See more at https://github.com/torvalds/linux/blob/v6.0/Documentation/ABI/testing/sysfs-bus-pci#L344-L355\n",
      "2023-09-23 17:14:16.213580: I tensorflow/compiler/xla/stream_executor/cuda/cuda_gpu_executor.cc:995] successful NUMA node read from SysFS had negative value (-1), but there must be at least one NUMA node, so returning NUMA node zero. See more at https://github.com/torvalds/linux/blob/v6.0/Documentation/ABI/testing/sysfs-bus-pci#L344-L355\n",
      "2023-09-23 17:14:16.213779: I tensorflow/compiler/xla/stream_executor/cuda/cuda_gpu_executor.cc:995] successful NUMA node read from SysFS had negative value (-1), but there must be at least one NUMA node, so returning NUMA node zero. See more at https://github.com/torvalds/linux/blob/v6.0/Documentation/ABI/testing/sysfs-bus-pci#L344-L355\n",
      "2023-09-23 17:14:16.214937: I tensorflow/compiler/xla/stream_executor/cuda/cuda_gpu_executor.cc:995] successful NUMA node read from SysFS had negative value (-1), but there must be at least one NUMA node, so returning NUMA node zero. See more at https://github.com/torvalds/linux/blob/v6.0/Documentation/ABI/testing/sysfs-bus-pci#L344-L355\n",
      "2023-09-23 17:14:16.215077: I tensorflow/compiler/xla/stream_executor/cuda/cuda_gpu_executor.cc:995] successful NUMA node read from SysFS had negative value (-1), but there must be at least one NUMA node, so returning NUMA node zero. See more at https://github.com/torvalds/linux/blob/v6.0/Documentation/ABI/testing/sysfs-bus-pci#L344-L355\n",
      "2023-09-23 17:14:16.215191: I tensorflow/compiler/xla/stream_executor/cuda/cuda_gpu_executor.cc:995] successful NUMA node read from SysFS had negative value (-1), but there must be at least one NUMA node, so returning NUMA node zero. See more at https://github.com/torvalds/linux/blob/v6.0/Documentation/ABI/testing/sysfs-bus-pci#L344-L355\n",
      "2023-09-23 17:14:16.586313: I tensorflow/compiler/xla/stream_executor/cuda/cuda_gpu_executor.cc:995] successful NUMA node read from SysFS had negative value (-1), but there must be at least one NUMA node, so returning NUMA node zero. See more at https://github.com/torvalds/linux/blob/v6.0/Documentation/ABI/testing/sysfs-bus-pci#L344-L355\n",
      "2023-09-23 17:14:16.586476: I tensorflow/compiler/xla/stream_executor/cuda/cuda_gpu_executor.cc:995] successful NUMA node read from SysFS had negative value (-1), but there must be at least one NUMA node, so returning NUMA node zero. See more at https://github.com/torvalds/linux/blob/v6.0/Documentation/ABI/testing/sysfs-bus-pci#L344-L355\n",
      "2023-09-23 17:14:16.586596: I tensorflow/compiler/xla/stream_executor/cuda/cuda_gpu_executor.cc:995] successful NUMA node read from SysFS had negative value (-1), but there must be at least one NUMA node, so returning NUMA node zero. See more at https://github.com/torvalds/linux/blob/v6.0/Documentation/ABI/testing/sysfs-bus-pci#L344-L355\n",
      "2023-09-23 17:14:16.586685: I tensorflow/core/common_runtime/gpu/gpu_device.cc:1639] Created device /job:localhost/replica:0/task:0/device:GPU:0 with 3340 MB memory:  -> device: 0, name: NVIDIA GeForce RTX 3060 Laptop GPU, pci bus id: 0000:01:00.0, compute capability: 8.6\n"
     ]
    }
   ],
   "source": [
    "model = tf.keras.Sequential()\n",
    "model.add(tf.keras.layers.Conv2D(64,(3,3),\n",
    "                                 input_shape=train_images.shape[1:],\n",
    "                                 activation='relu'))\n",
    "model.add(tf.keras.layers.MaxPooling2D())#默认2x2\n",
    "model.add(tf.keras.layers.Conv2D(64,(3,3),activation='relu'))\n",
    "model.add(tf.keras.layers.GlobalAveragePooling2D())#全局平均池化\n",
    "model.add(tf.keras.layers.Dense(10,activation='softmax'))"
   ]
  },
  {
   "cell_type": "code",
   "execution_count": 10,
   "id": "d91a5217",
   "metadata": {
    "ExecuteTime": {
     "end_time": "2023-09-23T09:14:18.775580044Z",
     "start_time": "2023-09-23T09:14:18.726278046Z"
    }
   },
   "outputs": [
    {
     "name": "stdout",
     "output_type": "stream",
     "text": [
      "Model: \"sequential\"\n",
      "_________________________________________________________________\n",
      " Layer (type)                Output Shape              Param #   \n",
      "=================================================================\n",
      " conv2d (Conv2D)             (None, 26, 26, 64)        640       \n",
      "                                                                 \n",
      " max_pooling2d (MaxPooling2  (None, 13, 13, 64)        0         \n",
      " D)                                                              \n",
      "                                                                 \n",
      " conv2d_1 (Conv2D)           (None, 11, 11, 64)        36928     \n",
      "                                                                 \n",
      " global_average_pooling2d (  (None, 64)                0         \n",
      " GlobalAveragePooling2D)                                         \n",
      "                                                                 \n",
      " dense (Dense)               (None, 10)                650       \n",
      "                                                                 \n",
      "=================================================================\n",
      "Total params: 38218 (149.29 KB)\n",
      "Trainable params: 38218 (149.29 KB)\n",
      "Non-trainable params: 0 (0.00 Byte)\n",
      "_________________________________________________________________\n"
     ]
    }
   ],
   "source": [
    "model.summary()"
   ]
  },
  {
   "cell_type": "code",
   "execution_count": null,
   "id": "1dc66007",
   "metadata": {},
   "outputs": [],
   "source": [
    "model = tf.keras.Sequential()\n",
    "model.add(tf.keras.layers.Conv2D(64,(3,3),input_shape=train_images.shape[1:],activation='relu',padding='same'))\n",
    "model.add(tf.keras.layers.Conv2D(64,(3,3),activation='relu',padding='same'))\n",
    "model.add(tf.keras.layers.MaxPooling2D())#默认2x2\n",
    "model.add(tf.keras.layers.Dropout(0.5))\n",
    "model.add(tf.keras.layers.Conv2D(128,(3,3),activation='relu',padding='same'))\n",
    "model.add(tf.keras.layers.Conv2D(128,(3,3),activation='relu',padding='same'))\n",
    "model.add(tf.keras.layers.MaxPooling2D())#默认2x2\n",
    "model.add(tf.keras.layers.Dropout(0.5))\n",
    "model.add(tf.keras.layers.Conv2D(256,(3,3),activation='relu',padding='same'))\n",
    "model.add(tf.keras.layers.Conv2D(256,(3,3),activation='relu',padding='same'))\n",
    "model.add(tf.keras.layers.MaxPooling2D())#默认2x2\n",
    "model.add(tf.keras.layers.Dropout(0.5))\n",
    "model.add(tf.keras.layers.Conv2D(512,(3,3),activation='relu',padding='same'))\n",
    "model.add(tf.keras.layers.Conv2D(512,(3,3),activation='relu',padding='same'))\n",
    "model.add(tf.keras.layers.Dropout(0.5))\n",
    "model.add(tf.keras.layers.GlobalAveragePooling2D())#全局平均池化\n",
    "model.add(tf.keras.layers.Dense(256,activation='relu'))\n",
    "model.add(tf.keras.layers.Dense(10,activation='softmax'))"
   ]
  },
  {
   "cell_type": "code",
   "execution_count": null,
   "id": "9997b0e8",
   "metadata": {},
   "outputs": [],
   "source": [
    "model.summary()"
   ]
  },
  {
   "cell_type": "code",
   "execution_count": 11,
   "id": "68820da9",
   "metadata": {
    "ExecuteTime": {
     "end_time": "2023-09-23T09:14:23.206728140Z",
     "start_time": "2023-09-23T09:14:23.196398188Z"
    }
   },
   "outputs": [],
   "source": [
    "model.compile(optimizer='adam',\n",
    "             loss='sparse_categorical_crossentropy',\n",
    "             metrics=['acc'])"
   ]
  },
  {
   "cell_type": "code",
   "execution_count": 12,
   "id": "26af4813",
   "metadata": {
    "ExecuteTime": {
     "end_time": "2023-09-23T09:14:59.436684795Z",
     "start_time": "2023-09-23T09:14:25.012839987Z"
    },
    "scrolled": true
   },
   "outputs": [
    {
     "name": "stdout",
     "output_type": "stream",
     "text": [
      "Epoch 1/5\n"
     ]
    },
    {
     "name": "stderr",
     "output_type": "stream",
     "text": [
      "2023-09-23 17:14:27.267699: I tensorflow/compiler/xla/stream_executor/cuda/cuda_dnn.cc:432] Loaded cuDNN version 8801\n",
      "2023-09-23 17:14:28.929949: I tensorflow/tsl/platform/default/subprocess.cc:304] Start cannot spawn child process: No such file or directory\n",
      "2023-09-23 17:14:29.052727: I tensorflow/compiler/xla/stream_executor/cuda/cuda_blas.cc:606] TensorFloat-32 will be used for the matrix multiplication. This will only be logged once.\n",
      "2023-09-23 17:14:29.136310: I tensorflow/compiler/xla/service/service.cc:168] XLA service 0x7f3d3e2c8320 initialized for platform CUDA (this does not guarantee that XLA will be used). Devices:\n",
      "2023-09-23 17:14:29.136332: I tensorflow/compiler/xla/service/service.cc:176]   StreamExecutor device (0): NVIDIA GeForce RTX 3060 Laptop GPU, Compute Capability 8.6\n",
      "2023-09-23 17:14:29.199545: I tensorflow/compiler/mlir/tensorflow/utils/dump_mlir_util.cc:255] disabling MLIR crash reproducer, set env var `MLIR_CRASH_REPRODUCER_DIRECTORY` to enable.\n",
      "2023-09-23 17:14:29.456258: I tensorflow/tsl/platform/default/subprocess.cc:304] Start cannot spawn child process: No such file or directory\n",
      "2023-09-23 17:14:29.547484: I ./tensorflow/compiler/jit/device_compiler.h:186] Compiled cluster using XLA!  This line is logged at most once for the lifetime of the process.\n"
     ]
    },
    {
     "name": "stdout",
     "output_type": "stream",
     "text": [
      "1875/1875 [==============================] - 11s 3ms/step - loss: 0.7734 - acc: 0.7532 - val_loss: 0.5283 - val_acc: 0.8132\n",
      "Epoch 2/5\n",
      "1875/1875 [==============================] - 6s 3ms/step - loss: 0.4629 - acc: 0.8388 - val_loss: 0.4480 - val_acc: 0.8449\n",
      "Epoch 3/5\n",
      "1875/1875 [==============================] - 6s 3ms/step - loss: 0.4081 - acc: 0.8588 - val_loss: 0.4519 - val_acc: 0.8387\n",
      "Epoch 4/5\n",
      "1875/1875 [==============================] - 6s 3ms/step - loss: 0.3736 - acc: 0.8679 - val_loss: 0.3896 - val_acc: 0.8633\n",
      "Epoch 5/5\n",
      "1875/1875 [==============================] - 6s 3ms/step - loss: 0.3496 - acc: 0.8774 - val_loss: 0.4319 - val_acc: 0.8485\n"
     ]
    }
   ],
   "source": [
    "history=model.fit(train_images,\n",
    "                  train_labels,\n",
    "                  epochs=5,\n",
    "                 validation_data=(test_images,test_labels))"
   ]
  },
  {
   "cell_type": "code",
   "execution_count": 13,
   "id": "3eb600ff",
   "metadata": {
    "ExecuteTime": {
     "end_time": "2023-09-23T09:15:00.815729663Z",
     "start_time": "2023-09-23T09:15:00.811738364Z"
    }
   },
   "outputs": [
    {
     "data": {
      "text/plain": [
       "dict_keys(['loss', 'acc', 'val_loss', 'val_acc'])"
      ]
     },
     "execution_count": 13,
     "metadata": {},
     "output_type": "execute_result"
    }
   ],
   "source": [
    "history.history.keys()"
   ]
  },
  {
   "cell_type": "code",
   "execution_count": 15,
   "id": "74035931",
   "metadata": {
    "ExecuteTime": {
     "end_time": "2023-09-23T09:15:05.274826795Z",
     "start_time": "2023-09-23T09:15:05.180849692Z"
    }
   },
   "outputs": [
    {
     "data": {
      "text/plain": [
       "[<matplotlib.lines.Line2D at 0x7f40701f9650>]"
      ]
     },
     "execution_count": 15,
     "metadata": {},
     "output_type": "execute_result"
    },
    {
     "data": {
      "image/png": "[encoded data removed]",
      "text/plain": [
       "<Figure size 640x480 with 1 Axes>"
      ]
     },
     "metadata": {},
     "output_type": "display_data"
    }
   ],
   "source": [
    "plt.plot(history.epoch,history.history.get('acc'),label='acc')\n",
    "plt.plot(history.epoch,history.history.get('val_acc'),label='val_acc')"
   ]
  },
  {
   "cell_type": "code",
   "execution_count": null,
   "id": "917c1c48",
   "metadata": {},
   "outputs": [],
   "source": []
  }
 ],
 "metadata": {
  "kernelspec": {
   "display_name": "Python 3 (ipykernel)",
   "language": "python",
   "name": "python3"
  },
  "language_info": {
   "codemirror_mode": {
    "name": "ipython",
    "version": 3
   },
   "file_extension": ".py",
   "mimetype": "text/x-python",
   "name": "python",
   "nbconvert_exporter": "python",
   "pygments_lexer": "ipython3",
   "version": "3.11.4"
  }
 },
 "nbformat": 4,
 "nbformat_minor": 5
}
