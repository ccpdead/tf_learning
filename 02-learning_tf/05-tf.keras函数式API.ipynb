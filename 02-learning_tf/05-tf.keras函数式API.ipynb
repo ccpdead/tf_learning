{
 "cells": [
  {
   "cell_type": "code",
   "execution_count": 1,
   "id": "1cea62c4",
   "metadata": {},
   "outputs": [
    {
     "name": "stderr",
     "output_type": "stream",
     "text": [
      "2023-07-21 09:21:54.499353: I tensorflow/tsl/cuda/cudart_stub.cc:28] Could not find cuda drivers on your machine, GPU will not be used.\n",
      "2023-07-21 09:21:54.540130: I tensorflow/tsl/cuda/cudart_stub.cc:28] Could not find cuda drivers on your machine, GPU will not be used.\n",
      "2023-07-21 09:21:54.540855: I tensorflow/core/platform/cpu_feature_guard.cc:182] This TensorFlow binary is optimized to use available CPU instructions in performance-critical operations.\n",
      "To enable the following instructions: AVX2 FMA, in other operations, rebuild TensorFlow with the appropriate compiler flags.\n",
      "2023-07-21 09:21:55.212597: W tensorflow/compiler/tf2tensorrt/utils/py_utils.cc:38] TF-TRT Warning: Could not find TensorRT\n"
     ]
    }
   ],
   "source": [
    "import tensorflow as tf\n",
    "import pandas as pd\n",
    "import numpy as np\n",
    "import matplotlib.pyplot as plt\n",
    "from tensorflow import keras\n",
    "%matplotlib inline"
   ]
  },
  {
   "cell_type": "code",
   "execution_count": 2,
   "id": "53dd759d",
   "metadata": {},
   "outputs": [],
   "source": [
    "fashion_mnist = keras.datasets.fashion_mnist\n",
    "(train_images,train_labels),(test_images,test_labels) = fashion_mnist.load_data()"
   ]
  },
  {
   "cell_type": "code",
   "execution_count": 3,
   "id": "162fbe02",
   "metadata": {},
   "outputs": [],
   "source": [
    "train_images=train_images/255.0\n",
    "test_images=test_images/255.0"
   ]
  },
  {
   "cell_type": "code",
   "execution_count": 4,
   "id": "8b4d9c7f",
   "metadata": {},
   "outputs": [],
   "source": [
    "#创建层\n",
    "input=keras.Input(shape=(28,28))\n",
    "x=keras.layers.Flatten()(input)\n",
    "x=keras.layers.Dense(32,activation='relu')(x)\n",
    "x=keras.layers.Dropout(0.5)(x)\n",
    "x=keras.layers.Dense(64,activation='relu')(x)\n",
    "output=keras.layers.Dense(10,activation='softmax')(x)"
   ]
  },
  {
   "cell_type": "code",
   "execution_count": 5,
   "id": "16dca86b",
   "metadata": {},
   "outputs": [],
   "source": [
    "#初始化模型\n",
    "model=keras.Model(inputs=input,outputs=output)"
   ]
  },
  {
   "cell_type": "code",
   "execution_count": 6,
   "id": "988b618f",
   "metadata": {},
   "outputs": [
    {
     "name": "stdout",
     "output_type": "stream",
     "text": [
      "Model: \"model\"\n",
      "_________________________________________________________________\n",
      " Layer (type)                Output Shape              Param #   \n",
      "=================================================================\n",
      " input_1 (InputLayer)        [(None, 28, 28)]          0         \n",
      "                                                                 \n",
      " flatten (Flatten)           (None, 784)               0         \n",
      "                                                                 \n",
      " dense (Dense)               (None, 32)                25120     \n",
      "                                                                 \n",
      " dropout (Dropout)           (None, 32)                0         \n",
      "                                                                 \n",
      " dense_1 (Dense)             (None, 64)                2112      \n",
      "                                                                 \n",
      " dense_2 (Dense)             (None, 10)                650       \n",
      "                                                                 \n",
      "=================================================================\n",
      "Total params: 27882 (108.91 KB)\n",
      "Trainable params: 27882 (108.91 KB)\n",
      "Non-trainable params: 0 (0.00 Byte)\n",
      "_________________________________________________________________\n"
     ]
    }
   ],
   "source": [
    "model.summary()"
   ]
  },
  {
   "cell_type": "code",
   "execution_count": 7,
   "id": "5de3a54c",
   "metadata": {},
   "outputs": [],
   "source": [
    " model.compile(optimizer='adam',\n",
    "              loss='sparse_categorical_crossentropy',\n",
    "              metrics=['acc'])"
   ]
  },
  {
   "cell_type": "code",
   "execution_count": 8,
   "id": "9d9a8d05",
   "metadata": {},
   "outputs": [
    {
     "name": "stdout",
     "output_type": "stream",
     "text": [
      "Epoch 1/30\n",
      "1875/1875 [==============================] - 3s 1ms/step - loss: 0.9069 - acc: 0.6582 - val_loss: 0.5763 - val_acc: 0.8069\n",
      "Epoch 2/30\n",
      "1875/1875 [==============================] - 2s 1ms/step - loss: 0.6894 - acc: 0.7436 - val_loss: 0.5959 - val_acc: 0.7767\n",
      "Epoch 3/30\n",
      "1875/1875 [==============================] - 3s 1ms/step - loss: 0.6478 - acc: 0.7631 - val_loss: 0.6299 - val_acc: 0.7550\n",
      "Epoch 4/30\n",
      "1875/1875 [==============================] - 2s 1ms/step - loss: 0.6221 - acc: 0.7724 - val_loss: 0.5700 - val_acc: 0.7976\n",
      "Epoch 5/30\n",
      "1875/1875 [==============================] - 2s 1ms/step - loss: 0.5964 - acc: 0.7814 - val_loss: 0.6250 - val_acc: 0.7666\n",
      "Epoch 6/30\n",
      "1875/1875 [==============================] - 2s 1ms/step - loss: 0.5834 - acc: 0.7879 - val_loss: 0.6323 - val_acc: 0.7438\n",
      "Epoch 7/30\n",
      "1875/1875 [==============================] - 3s 1ms/step - loss: 0.5685 - acc: 0.7925 - val_loss: 0.6320 - val_acc: 0.7525\n",
      "Epoch 8/30\n",
      "1875/1875 [==============================] - 2s 1ms/step - loss: 0.5598 - acc: 0.7972 - val_loss: 0.6254 - val_acc: 0.7478\n",
      "Epoch 9/30\n",
      "1875/1875 [==============================] - 2s 1ms/step - loss: 0.5495 - acc: 0.8003 - val_loss: 0.6069 - val_acc: 0.7818\n",
      "Epoch 10/30\n",
      "1875/1875 [==============================] - 3s 1ms/step - loss: 0.5351 - acc: 0.8055 - val_loss: 0.5461 - val_acc: 0.7984\n",
      "Epoch 11/30\n",
      "1875/1875 [==============================] - 2s 1ms/step - loss: 0.5305 - acc: 0.8079 - val_loss: 0.5856 - val_acc: 0.7968\n",
      "Epoch 12/30\n",
      "1875/1875 [==============================] - 2s 1ms/step - loss: 0.5220 - acc: 0.8106 - val_loss: 0.5417 - val_acc: 0.7894\n",
      "Epoch 13/30\n",
      "1875/1875 [==============================] - 2s 1ms/step - loss: 0.5151 - acc: 0.8123 - val_loss: 0.5897 - val_acc: 0.7787\n",
      "Epoch 14/30\n",
      "1875/1875 [==============================] - 2s 1ms/step - loss: 0.5144 - acc: 0.8131 - val_loss: 0.5981 - val_acc: 0.7742\n",
      "Epoch 15/30\n",
      "1875/1875 [==============================] - 3s 1ms/step - loss: 0.5061 - acc: 0.8154 - val_loss: 0.5423 - val_acc: 0.8010\n",
      "Epoch 16/30\n",
      "1875/1875 [==============================] - 3s 1ms/step - loss: 0.5100 - acc: 0.8146 - val_loss: 0.5755 - val_acc: 0.7987\n",
      "Epoch 17/30\n",
      "1875/1875 [==============================] - 3s 1ms/step - loss: 0.5016 - acc: 0.8183 - val_loss: 0.5879 - val_acc: 0.7848\n",
      "Epoch 18/30\n",
      "1875/1875 [==============================] - 3s 1ms/step - loss: 0.4974 - acc: 0.8213 - val_loss: 0.6069 - val_acc: 0.7843\n",
      "Epoch 19/30\n",
      "1875/1875 [==============================] - 3s 1ms/step - loss: 0.4987 - acc: 0.8190 - val_loss: 0.5151 - val_acc: 0.8286\n",
      "Epoch 20/30\n",
      "1875/1875 [==============================] - 3s 1ms/step - loss: 0.4949 - acc: 0.8216 - val_loss: 0.5873 - val_acc: 0.7836\n",
      "Epoch 21/30\n",
      "1875/1875 [==============================] - 3s 2ms/step - loss: 0.4931 - acc: 0.8219 - val_loss: 0.6277 - val_acc: 0.7564\n",
      "Epoch 22/30\n",
      "1875/1875 [==============================] - 3s 2ms/step - loss: 0.4877 - acc: 0.8248 - val_loss: 0.6093 - val_acc: 0.7745\n",
      "Epoch 23/30\n",
      "1875/1875 [==============================] - 3s 2ms/step - loss: 0.4885 - acc: 0.8225 - val_loss: 0.5649 - val_acc: 0.8058\n",
      "Epoch 24/30\n",
      "1875/1875 [==============================] - 3s 2ms/step - loss: 0.4805 - acc: 0.8267 - val_loss: 0.5412 - val_acc: 0.8151\n",
      "Epoch 25/30\n",
      "1875/1875 [==============================] - 3s 1ms/step - loss: 0.4879 - acc: 0.8239 - val_loss: 0.6105 - val_acc: 0.7718\n",
      "Epoch 26/30\n",
      "1875/1875 [==============================] - 3s 1ms/step - loss: 0.4835 - acc: 0.8258 - val_loss: 0.5849 - val_acc: 0.7833\n",
      "Epoch 27/30\n",
      "1875/1875 [==============================] - 3s 2ms/step - loss: 0.4772 - acc: 0.8260 - val_loss: 0.5955 - val_acc: 0.7833\n",
      "Epoch 28/30\n",
      "1875/1875 [==============================] - 3s 1ms/step - loss: 0.4761 - acc: 0.8272 - val_loss: 0.5524 - val_acc: 0.8091\n",
      "Epoch 29/30\n",
      "1875/1875 [==============================] - 3s 1ms/step - loss: 0.4780 - acc: 0.8269 - val_loss: 0.5570 - val_acc: 0.8050\n",
      "Epoch 30/30\n",
      "1875/1875 [==============================] - 3s 1ms/step - loss: 0.4779 - acc: 0.8281 - val_loss: 0.6139 - val_acc: 0.7682\n"
     ]
    }
   ],
   "source": [
    "history=model.fit(train_images,\n",
    "                 train_labels,\n",
    "                 epochs=30,\n",
    "                 validation_data=(test_images,test_labels))"
   ]
  },
  {
   "cell_type": "code",
   "execution_count": 9,
   "id": "986f9320",
   "metadata": {},
   "outputs": [
    {
     "data": {
      "text/plain": [
       "dict_keys(['loss', 'acc', 'val_loss', 'val_acc'])"
      ]
     },
     "execution_count": 9,
     "metadata": {},
     "output_type": "execute_result"
    }
   ],
   "source": [
    "history.history.keys()"
   ]
  },
  {
   "cell_type": "code",
   "execution_count": 10,
   "id": "c8ca6b4b",
   "metadata": {
    "scrolled": false
   },
   "outputs": [
    {
     "data": {
      "text/plain": [
       "<matplotlib.legend.Legend at 0x7f4940214150>"
      ]
     },
     "execution_count": 10,
     "metadata": {},
     "output_type": "execute_result"
    },
    {
     "data": {
      "image/png": "[encoded data removed]",
      "text/plain": [
       "<Figure size 640x480 with 1 Axes>"
      ]
     },
     "metadata": {},
     "output_type": "display_data"
    }
   ],
   "source": [
    "#绘制损失数据\n",
    "plt.plot(history.epoch,history.history.get('acc'),label='acc')\n",
    "plt.plot(history.epoch,history.history.get('val_acc'),label='val_acc')\n",
    "plt.legend()"
   ]
  },
  {
   "cell_type": "code",
   "execution_count": null,
   "id": "f9f4b793",
   "metadata": {},
   "outputs": [],
   "source": []
  }
 ],
 "metadata": {
  "kernelspec": {
   "display_name": "Python 3 (ipykernel)",
   "language": "python",
   "name": "python3"
  },
  "language_info": {
   "codemirror_mode": {
    "name": "ipython",
    "version": 3
   },
   "file_extension": ".py",
   "mimetype": "text/x-python",
   "name": "python",
   "nbconvert_exporter": "python",
   "pygments_lexer": "ipython3",
   "version": "3.11.3"
  }
 },
 "nbformat": 4,
 "nbformat_minor": 5
}
