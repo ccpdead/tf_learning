{
 "cells": [
  {
   "cell_type": "code",
   "execution_count": 1,
   "id": "779d06f7",
   "metadata": {
    "collapsed": true
   },
   "outputs": [
    {
     "name": "stderr",
     "output_type": "stream",
     "text": [
      "2023-07-21 10:22:56.311045: I tensorflow/tsl/cuda/cudart_stub.cc:28] Could not find cuda drivers on your machine, GPU will not be used.\n",
      "2023-07-21 10:22:56.349534: I tensorflow/tsl/cuda/cudart_stub.cc:28] Could not find cuda drivers on your machine, GPU will not be used.\n",
      "2023-07-21 10:22:56.350186: I tensorflow/core/platform/cpu_feature_guard.cc:182] This TensorFlow binary is optimized to use available CPU instructions in performance-critical operations.\n",
      "To enable the following instructions: AVX2 FMA, in other operations, rebuild TensorFlow with the appropriate compiler flags.\n",
      "2023-07-21 10:22:57.057559: W tensorflow/compiler/tf2tensorrt/utils/py_utils.cc:38] TF-TRT Warning: Could not find TensorRT\n"
     ]
    }
   ],
   "source": [
    "import tensorflow as tf\n",
    "import pandas as pd\n",
    "import numpy as np\n",
    "import matplotlib.pyplot as plt\n",
    "%matplotlib inline"
   ]
  },
  {
   "cell_type": "code",
   "execution_count": 3,
   "id": "0e435081",
   "metadata": {},
   "outputs": [],
   "source": [
    "#加载数据\n",
    "(train_image,train_lable),(test_image,test_label)=tf.keras.datasets.fashion_mnist.load_data()"
   ]
  },
  {
   "cell_type": "code",
   "execution_count": 4,
   "id": "1d90fd2a",
   "metadata": {},
   "outputs": [
    {
     "data": {
      "text/plain": [
       "((60000, 28, 28), (60000,))"
      ]
     },
     "execution_count": 4,
     "metadata": {},
     "output_type": "execute_result"
    }
   ],
   "source": [
    "#训练数据\n",
    "train_image.shape,train_lable.shape"
   ]
  },
  {
   "cell_type": "code",
   "execution_count": 5,
   "id": "fb2494de",
   "metadata": {},
   "outputs": [
    {
     "data": {
      "text/plain": [
       "((10000, 28, 28), (10000,))"
      ]
     },
     "execution_count": 5,
     "metadata": {},
     "output_type": "execute_result"
    }
   ],
   "source": [
    "#测试数据\n",
    "test_image.shape,test_label.shape"
   ]
  },
  {
   "cell_type": "code",
   "execution_count": 6,
   "id": "32021470",
   "metadata": {},
   "outputs": [
    {
     "data": {
      "text/plain": [
       "<matplotlib.image.AxesImage at 0x7f5eca917710>"
      ]
     },
     "execution_count": 6,
     "metadata": {},
     "output_type": "execute_result"
    },
    {
     "data": {
      "image/png": "[encoded data removed]",
      "text/plain": [
       "<Figure size 640x480 with 1 Axes>"
      ]
     },
     "metadata": {},
     "output_type": "display_data"
    }
   ],
   "source": [
    "plt.imshow(train_image[1])"
   ]
  },
  {
   "cell_type": "code",
   "execution_count": 43,
   "id": "8d31ea41",
   "metadata": {},
   "outputs": [
    {
     "data": {
      "text/plain": [
       "array([9, 0, 0, ..., 3, 0, 5], dtype=uint8)"
      ]
     },
     "execution_count": 43,
     "metadata": {},
     "output_type": "execute_result"
    }
   ],
   "source": [
    "train_lable"
   ]
  },
  {
   "cell_type": "code",
   "execution_count": 44,
   "id": "36837a64",
   "metadata": {},
   "outputs": [],
   "source": [
    "#创建模型\n",
    "model = tf.keras.Sequential()\n",
    "model.add(tf.keras.layers.Flatten(input_shape=(28,28)))#28*28 输入层\n",
    "model.add(tf.keras.layers.Dense(128,activation='relu'))#隐藏层\n",
    "model.add(tf.keras.layers.Dense(10,activation='softmax'))#输出层"
   ]
  },
  {
   "cell_type": "code",
   "execution_count": 45,
   "id": "33658092",
   "metadata": {},
   "outputs": [],
   "source": [
    "model.compile(optimizer='adam',\n",
    "             loss='sparse_categorical_crossentropy',\n",
    "             metrics='acc')"
   ]
  },
  {
   "cell_type": "code",
   "execution_count": 46,
   "id": "608efc07",
   "metadata": {},
   "outputs": [
    {
     "name": "stdout",
     "output_type": "stream",
     "text": [
      "Epoch 1/10\n",
      "1875/1875 [==============================] - 5s 2ms/step - loss: 2.8112 - acc: 0.6787\n",
      "Epoch 2/10\n",
      "1875/1875 [==============================] - 4s 2ms/step - loss: 0.6655 - acc: 0.7565\n",
      "Epoch 3/10\n",
      "1875/1875 [==============================] - 5s 3ms/step - loss: 0.5604 - acc: 0.8015\n",
      "Epoch 4/10\n",
      "1875/1875 [==============================] - 4s 2ms/step - loss: 0.5318 - acc: 0.8156\n",
      "Epoch 5/10\n",
      "1875/1875 [==============================] - 4s 2ms/step - loss: 0.5159 - acc: 0.8202\n",
      "Epoch 6/10\n",
      "1875/1875 [==============================] - 5s 3ms/step - loss: 0.5041 - acc: 0.8247\n",
      "Epoch 7/10\n",
      "1875/1875 [==============================] - 5s 3ms/step - loss: 0.4951 - acc: 0.8280\n",
      "Epoch 8/10\n",
      "1875/1875 [==============================] - 5s 3ms/step - loss: 0.4880 - acc: 0.8302\n",
      "Epoch 9/10\n",
      "1875/1875 [==============================] - 5s 2ms/step - loss: 0.4828 - acc: 0.8318\n",
      "Epoch 10/10\n",
      "1875/1875 [==============================] - 4s 2ms/step - loss: 0.4772 - acc: 0.8347\n"
     ]
    },
    {
     "data": {
      "text/plain": [
       "<keras.src.callbacks.History at 0x7f27e84a7bd0>"
      ]
     },
     "execution_count": 46,
     "metadata": {},
     "output_type": "execute_result"
    }
   ],
   "source": [
    "#训练模型\n",
    "model.fit(train_image,train_lable,epochs=10)"
   ]
  },
  {
   "cell_type": "code",
   "execution_count": 48,
   "id": "7639e031",
   "metadata": {},
   "outputs": [
    {
     "name": "stdout",
     "output_type": "stream",
     "text": [
      "313/313 [==============================] - 0s 1ms/step - loss: 0.5477 - acc: 0.8176\n"
     ]
    },
    {
     "data": {
      "text/plain": [
       "[0.5476852655410767, 0.8176000118255615]"
      ]
     },
     "execution_count": 48,
     "metadata": {},
     "output_type": "execute_result"
    }
   ],
   "source": [
    "#通过测试数据集对模型检测\n",
    "model.evaluate(test_image,test_label)"
   ]
  },
  {
   "cell_type": "markdown",
   "id": "cecd9f81",
   "metadata": {},
   "source": [
    "**独热编码**"
   ]
  },
  {
   "cell_type": "code",
   "execution_count": 7,
   "id": "9976b916",
   "metadata": {},
   "outputs": [],
   "source": [
    "train_label_onthot = tf.keras.utils.to_categorical(train_lable)\n",
    "test_label_onthot = tf.keras.utils.to_categorical(test_label)"
   ]
  },
  {
   "cell_type": "code",
   "execution_count": 50,
   "id": "116d936f",
   "metadata": {},
   "outputs": [],
   "source": [
    "model.compile(optimizer='adam',\n",
    "             loss='categorical_crossentropy',\n",
    "             metrics='acc')"
   ]
  },
  {
   "cell_type": "code",
   "execution_count": 51,
   "id": "fdf08070",
   "metadata": {},
   "outputs": [
    {
     "name": "stdout",
     "output_type": "stream",
     "text": [
      "Epoch 1/5\n",
      "1875/1875 [==============================] - 5s 2ms/step - loss: 0.4809 - acc: 0.8344\n",
      "Epoch 2/5\n",
      "1875/1875 [==============================] - 4s 2ms/step - loss: 0.4824 - acc: 0.8322\n",
      "Epoch 3/5\n",
      "1875/1875 [==============================] - 4s 2ms/step - loss: 0.4695 - acc: 0.8364\n",
      "Epoch 4/5\n",
      "1875/1875 [==============================] - 4s 2ms/step - loss: 0.4691 - acc: 0.8365\n",
      "Epoch 5/5\n",
      "1875/1875 [==============================] - 4s 2ms/step - loss: 0.4611 - acc: 0.8384\n"
     ]
    },
    {
     "data": {
      "text/plain": [
       "<keras.src.callbacks.History at 0x7f287c4b88d0>"
      ]
     },
     "execution_count": 51,
     "metadata": {},
     "output_type": "execute_result"
    }
   ],
   "source": [
    "model.fit(train_image,train_label_onthot,epochs=5)"
   ]
  },
  {
   "cell_type": "code",
   "execution_count": 52,
   "id": "05a17d92",
   "metadata": {
    "scrolled": true
   },
   "outputs": [
    {
     "name": "stdout",
     "output_type": "stream",
     "text": [
      "313/313 [==============================] - 0s 916us/step\n"
     ]
    }
   ],
   "source": [
    "#模型测试\n",
    "predict=model.predict(test_image)"
   ]
  },
  {
   "cell_type": "code",
   "execution_count": 53,
   "id": "2464cb76",
   "metadata": {},
   "outputs": [
    {
     "data": {
      "text/plain": [
       "((10000, 28, 28), (10000, 10))"
      ]
     },
     "execution_count": 53,
     "metadata": {},
     "output_type": "execute_result"
    }
   ],
   "source": [
    "test_image.shape,predict.shape"
   ]
  },
  {
   "cell_type": "code",
   "execution_count": 54,
   "id": "17c96dcc",
   "metadata": {},
   "outputs": [
    {
     "data": {
      "text/plain": [
       "array([6.9578402e-30, 1.5653383e-21, 0.0000000e+00, 2.4431276e-25,\n",
       "       0.0000000e+00, 3.2245556e-01, 0.0000000e+00, 7.8412723e-03,\n",
       "       3.0038869e-15, 6.6970319e-01], dtype=float32)"
      ]
     },
     "execution_count": 54,
     "metadata": {},
     "output_type": "execute_result"
    }
   ],
   "source": [
    "predict[0]"
   ]
  },
  {
   "cell_type": "code",
   "execution_count": 55,
   "id": "c4c3ad05",
   "metadata": {},
   "outputs": [
    {
     "data": {
      "text/plain": [
       "9"
      ]
     },
     "execution_count": 55,
     "metadata": {},
     "output_type": "execute_result"
    }
   ],
   "source": [
    "#取出最大值\n",
    "np.argmax(predict[0])"
   ]
  },
  {
   "cell_type": "markdown",
   "id": "4357c6dd",
   "metadata": {},
   "source": [
    "--------------------------------------------------------------"
   ]
  },
  {
   "cell_type": "markdown",
   "id": "8ad4cd8b",
   "metadata": {},
   "source": [
    "## 过拟合"
   ]
  },
  {
   "cell_type": "code",
   "execution_count": 8,
   "id": "dd1da3b6",
   "metadata": {},
   "outputs": [],
   "source": [
    "#创建模型\n",
    "model = tf.keras.Sequential()\n",
    "model.add(tf.keras.layers.Flatten(input_shape=(28,28)))#28*28 输入层\n",
    "model.add(tf.keras.layers.Dense(128,activation='relu'))#隐藏层\n",
    "model.add(tf.keras.layers.Dense(128,activation='relu'))#隐藏层\n",
    "model.add(tf.keras.layers.Dense(128,activation='relu'))#隐藏层\n",
    "model.add(tf.keras.layers.Dense(10,activation='softmax'))#输出层"
   ]
  },
  {
   "cell_type": "code",
   "execution_count": 9,
   "id": "321bc240",
   "metadata": {},
   "outputs": [
    {
     "name": "stdout",
     "output_type": "stream",
     "text": [
      "Model: \"sequential\"\n",
      "_________________________________________________________________\n",
      " Layer (type)                Output Shape              Param #   \n",
      "=================================================================\n",
      " flatten (Flatten)           (None, 784)               0         \n",
      "                                                                 \n",
      " dense (Dense)               (None, 128)               100480    \n",
      "                                                                 \n",
      " dense_1 (Dense)             (None, 128)               16512     \n",
      "                                                                 \n",
      " dense_2 (Dense)             (None, 128)               16512     \n",
      "                                                                 \n",
      " dense_3 (Dense)             (None, 10)                1290      \n",
      "                                                                 \n",
      "=================================================================\n",
      "Total params: 134794 (526.54 KB)\n",
      "Trainable params: 134794 (526.54 KB)\n",
      "Non-trainable params: 0 (0.00 Byte)\n",
      "_________________________________________________________________\n"
     ]
    }
   ],
   "source": [
    "model.summary()"
   ]
  },
  {
   "cell_type": "code",
   "execution_count": 10,
   "id": "302cf2af",
   "metadata": {},
   "outputs": [],
   "source": [
    "model.compile(optimizer=tf.keras.optimizers.Adam(learning_rate=0.001),\n",
    "             loss='categorical_crossentropy',\n",
    "             metrics=['acc'])"
   ]
  },
  {
   "cell_type": "code",
   "execution_count": 34,
   "id": "083b076a",
   "metadata": {},
   "outputs": [],
   "source": [
    "# history = model.fit(train_image,train_label_onthot,epochs=5)\n",
    "# plt.plot(history.epoch,history.history.get('loss'))"
   ]
  },
  {
   "cell_type": "code",
   "execution_count": 15,
   "id": "f54e8112",
   "metadata": {
    "scrolled": true
   },
   "outputs": [
    {
     "name": "stdout",
     "output_type": "stream",
     "text": [
      "Epoch 1/1000\n",
      "1875/1875 [==============================] - 5s 3ms/step - loss: 0.2144 - acc: 0.9226 - val_loss: 0.7268 - val_acc: 0.8734\n",
      "Epoch 2/1000\n",
      "1875/1875 [==============================] - 5s 3ms/step - loss: 0.2328 - acc: 0.9187 - val_loss: 0.8300 - val_acc: 0.8715\n",
      "Epoch 3/1000\n",
      "1875/1875 [==============================] - 5s 3ms/step - loss: 0.2225 - acc: 0.9243 - val_loss: 1.2228 - val_acc: 0.8746\n",
      "Epoch 4/1000\n",
      "1875/1875 [==============================] - 5s 3ms/step - loss: 0.2207 - acc: 0.9213 - val_loss: 1.1066 - val_acc: 0.8746\n",
      "Epoch 5/1000\n",
      "1875/1875 [==============================] - 5s 3ms/step - loss: 0.2394 - acc: 0.9192 - val_loss: 1.0471 - val_acc: 0.8767\n",
      "Epoch 6/1000\n",
      "1875/1875 [==============================] - 5s 3ms/step - loss: 0.2138 - acc: 0.9249 - val_loss: 1.0969 - val_acc: 0.8727\n",
      "Epoch 7/1000\n",
      "1875/1875 [==============================] - 6s 3ms/step - loss: 0.2181 - acc: 0.9229 - val_loss: 0.9391 - val_acc: 0.8790\n",
      "Epoch 8/1000\n",
      "1875/1875 [==============================] - 6s 3ms/step - loss: 0.2201 - acc: 0.9222 - val_loss: 1.1187 - val_acc: 0.8732\n",
      "Epoch 9/1000\n",
      "1875/1875 [==============================] - 6s 3ms/step - loss: 0.2418 - acc: 0.9176 - val_loss: 0.7701 - val_acc: 0.8736\n",
      "Epoch 10/1000\n",
      "1875/1875 [==============================] - 6s 3ms/step - loss: 0.2402 - acc: 0.9190 - val_loss: 0.8631 - val_acc: 0.8665\n",
      "Epoch 11/1000\n",
      "1875/1875 [==============================] - 6s 3ms/step - loss: 0.2363 - acc: 0.9172 - val_loss: 1.0969 - val_acc: 0.8741\n",
      "Epoch 12/1000\n",
      "1875/1875 [==============================] - 7s 4ms/step - loss: 0.2339 - acc: 0.9203 - val_loss: 1.2711 - val_acc: 0.8677\n",
      "Epoch 13/1000\n",
      "1875/1875 [==============================] - 5s 3ms/step - loss: 0.2198 - acc: 0.9232 - val_loss: 1.4869 - val_acc: 0.8676\n",
      "Epoch 14/1000\n",
      "1875/1875 [==============================] - 5s 3ms/step - loss: 0.2155 - acc: 0.9221 - val_loss: 1.1625 - val_acc: 0.8698\n",
      "Epoch 15/1000\n",
      "1875/1875 [==============================] - 5s 3ms/step - loss: 0.2192 - acc: 0.9204 - val_loss: 1.6846 - val_acc: 0.8703\n",
      "Epoch 16/1000\n",
      "1875/1875 [==============================] - 5s 3ms/step - loss: 0.2388 - acc: 0.9185 - val_loss: 0.9877 - val_acc: 0.8740\n",
      "Epoch 17/1000\n",
      "1875/1875 [==============================] - 7s 4ms/step - loss: 0.2196 - acc: 0.9220 - val_loss: 1.0362 - val_acc: 0.8709\n",
      "Epoch 18/1000\n",
      "1875/1875 [==============================] - 7s 4ms/step - loss: 0.2116 - acc: 0.9241 - val_loss: 5.0378 - val_acc: 0.8364\n",
      "Epoch 19/1000\n",
      "1875/1875 [==============================] - 8s 4ms/step - loss: 0.6741 - acc: 0.9086 - val_loss: 0.6904 - val_acc: 0.8765\n",
      "Epoch 20/1000\n",
      "1875/1875 [==============================] - 8s 4ms/step - loss: 0.2309 - acc: 0.9250 - val_loss: 0.9438 - val_acc: 0.8708\n",
      "Epoch 21/1000\n",
      "1875/1875 [==============================] - 7s 4ms/step - loss: 0.2183 - acc: 0.9234 - val_loss: 0.8007 - val_acc: 0.8578\n",
      "Epoch 22/1000\n",
      "1875/1875 [==============================] - 7s 4ms/step - loss: 0.2126 - acc: 0.9238 - val_loss: 0.9633 - val_acc: 0.8688\n",
      "Epoch 23/1000\n",
      "1875/1875 [==============================] - 11s 6ms/step - loss: 0.2196 - acc: 0.9230 - val_loss: 0.8865 - val_acc: 0.8710\n",
      "Epoch 24/1000\n",
      "1875/1875 [==============================] - 7s 4ms/step - loss: 0.2145 - acc: 0.9236 - val_loss: 1.2565 - val_acc: 0.8702\n",
      "Epoch 25/1000\n",
      "1875/1875 [==============================] - 7s 4ms/step - loss: 0.2385 - acc: 0.9192 - val_loss: 1.1459 - val_acc: 0.8720\n",
      "Epoch 26/1000\n",
      "1875/1875 [==============================] - 11s 6ms/step - loss: 0.2391 - acc: 0.9210 - val_loss: 1.1778 - val_acc: 0.8743\n",
      "Epoch 27/1000\n",
      "1875/1875 [==============================] - 14s 7ms/step - loss: 0.2587 - acc: 0.9190 - val_loss: 1.1215 - val_acc: 0.8737\n",
      "Epoch 28/1000\n",
      "1875/1875 [==============================] - 13s 7ms/step - loss: 0.2150 - acc: 0.9245 - val_loss: 1.1458 - val_acc: 0.8723\n",
      "Epoch 29/1000\n",
      "1875/1875 [==============================] - 12s 7ms/step - loss: 0.2155 - acc: 0.9261 - val_loss: 1.1742 - val_acc: 0.8764\n",
      "Epoch 30/1000\n",
      "1875/1875 [==============================] - 11s 6ms/step - loss: 0.2265 - acc: 0.9246 - val_loss: 1.3307 - val_acc: 0.8806\n",
      "Epoch 31/1000\n",
      "1875/1875 [==============================] - 8s 4ms/step - loss: 0.2734 - acc: 0.9197 - val_loss: 0.7591 - val_acc: 0.8700\n",
      "Epoch 32/1000\n",
      "1875/1875 [==============================] - 7s 4ms/step - loss: 0.2178 - acc: 0.9260 - val_loss: 1.3721 - val_acc: 0.8759\n",
      "Epoch 33/1000\n",
      "1875/1875 [==============================] - 8s 4ms/step - loss: 0.2165 - acc: 0.9251 - val_loss: 1.1925 - val_acc: 0.8630\n",
      "Epoch 34/1000\n",
      "1875/1875 [==============================] - 12s 6ms/step - loss: 0.2072 - acc: 0.9258 - val_loss: 1.3232 - val_acc: 0.8665\n",
      "Epoch 35/1000\n",
      "1875/1875 [==============================] - 12s 6ms/step - loss: 0.2247 - acc: 0.9234 - val_loss: 1.3786 - val_acc: 0.8768\n",
      "Epoch 36/1000\n",
      "1875/1875 [==============================] - 14s 7ms/step - loss: 0.2190 - acc: 0.9223 - val_loss: 1.5469 - val_acc: 0.8661\n",
      "Epoch 37/1000\n",
      "1875/1875 [==============================] - 13s 7ms/step - loss: 0.2070 - acc: 0.9262 - val_loss: 1.3347 - val_acc: 0.8747\n",
      "Epoch 38/1000\n",
      "1875/1875 [==============================] - 9s 5ms/step - loss: 0.2298 - acc: 0.9227 - val_loss: 1.3671 - val_acc: 0.8689\n",
      "Epoch 39/1000\n",
      "1875/1875 [==============================] - 13s 7ms/step - loss: 0.2041 - acc: 0.9272 - val_loss: 1.6018 - val_acc: 0.8702\n",
      "Epoch 40/1000\n",
      "1875/1875 [==============================] - 13s 7ms/step - loss: 0.2219 - acc: 0.9233 - val_loss: 1.1456 - val_acc: 0.8762\n",
      "Epoch 41/1000\n",
      "1875/1875 [==============================] - 13s 7ms/step - loss: 0.2346 - acc: 0.9216 - val_loss: 1.8923 - val_acc: 0.8779\n",
      "Epoch 42/1000\n",
      "1875/1875 [==============================] - 12s 7ms/step - loss: 0.2080 - acc: 0.9258 - val_loss: 2.4203 - val_acc: 0.8615\n",
      "Epoch 43/1000\n",
      "1875/1875 [==============================] - 12s 6ms/step - loss: 0.2155 - acc: 0.9234 - val_loss: 1.7745 - val_acc: 0.8731\n",
      "Epoch 44/1000\n",
      "1875/1875 [==============================] - 12s 6ms/step - loss: 0.2122 - acc: 0.9247 - val_loss: 1.7345 - val_acc: 0.8718\n",
      "Epoch 45/1000\n",
      "1875/1875 [==============================] - 13s 7ms/step - loss: 0.2657 - acc: 0.9172 - val_loss: 1.6220 - val_acc: 0.8635\n",
      "Epoch 46/1000\n",
      "1875/1875 [==============================] - 13s 7ms/step - loss: 0.2245 - acc: 0.9240 - val_loss: 1.6046 - val_acc: 0.8738\n",
      "Epoch 47/1000\n",
      "1875/1875 [==============================] - 11s 6ms/step - loss: 0.2116 - acc: 0.9272 - val_loss: 2.2800 - val_acc: 0.8651\n",
      "Epoch 48/1000\n",
      "1875/1875 [==============================] - 13s 7ms/step - loss: 0.2205 - acc: 0.9246 - val_loss: 1.6132 - val_acc: 0.8753\n",
      "Epoch 49/1000\n",
      "1875/1875 [==============================] - 11s 6ms/step - loss: 0.2068 - acc: 0.9271 - val_loss: 2.0948 - val_acc: 0.8637\n",
      "Epoch 50/1000\n",
      "1875/1875 [==============================] - 11s 6ms/step - loss: 0.2487 - acc: 0.9229 - val_loss: 2.4442 - val_acc: 0.8693\n",
      "Epoch 51/1000\n",
      "1875/1875 [==============================] - 13s 7ms/step - loss: 0.2455 - acc: 0.9229 - val_loss: 2.5830 - val_acc: 0.8746\n",
      "Epoch 52/1000\n",
      "1875/1875 [==============================] - 12s 6ms/step - loss: 0.1950 - acc: 0.9309 - val_loss: 3.3221 - val_acc: 0.8666\n",
      "Epoch 53/1000\n",
      "1875/1875 [==============================] - 13s 7ms/step - loss: 0.2766 - acc: 0.9216 - val_loss: 3.0079 - val_acc: 0.8722\n",
      "Epoch 54/1000\n",
      "1875/1875 [==============================] - 12s 6ms/step - loss: 0.2226 - acc: 0.9257 - val_loss: 2.9056 - val_acc: 0.8727\n",
      "Epoch 55/1000\n",
      "1875/1875 [==============================] - 9s 5ms/step - loss: 0.2187 - acc: 0.9240 - val_loss: 2.2301 - val_acc: 0.8674\n",
      "Epoch 56/1000\n",
      "1875/1875 [==============================] - 9s 5ms/step - loss: 0.2221 - acc: 0.9254 - val_loss: 2.5380 - val_acc: 0.8755\n",
      "Epoch 57/1000\n",
      "1875/1875 [==============================] - 10s 5ms/step - loss: 0.2140 - acc: 0.9269 - val_loss: 2.1452 - val_acc: 0.8685\n",
      "Epoch 58/1000\n",
      "1875/1875 [==============================] - 13s 7ms/step - loss: 0.2134 - acc: 0.9274 - val_loss: 2.9972 - val_acc: 0.8741\n",
      "Epoch 59/1000\n",
      "1875/1875 [==============================] - 10s 5ms/step - loss: 0.2098 - acc: 0.9270 - val_loss: 2.7233 - val_acc: 0.8716\n",
      "Epoch 60/1000\n"
     ]
    },
    {
     "name": "stdout",
     "output_type": "stream",
     "text": [
      "1875/1875 [==============================] - 9s 5ms/step - loss: 0.2310 - acc: 0.9253 - val_loss: 3.1163 - val_acc: 0.8654\n",
      "Epoch 61/1000\n",
      "1875/1875 [==============================] - 10s 5ms/step - loss: 0.2130 - acc: 0.9273 - val_loss: 2.4531 - val_acc: 0.8747\n",
      "Epoch 62/1000\n",
      "1875/1875 [==============================] - 8s 4ms/step - loss: 0.2183 - acc: 0.9255 - val_loss: 2.9906 - val_acc: 0.8568\n",
      "Epoch 63/1000\n",
      "1875/1875 [==============================] - 9s 5ms/step - loss: 0.2219 - acc: 0.9246 - val_loss: 2.7887 - val_acc: 0.8719\n",
      "Epoch 64/1000\n",
      "1875/1875 [==============================] - 12s 6ms/step - loss: 0.2251 - acc: 0.9247 - val_loss: 2.5261 - val_acc: 0.8730\n",
      "Epoch 65/1000\n",
      "1875/1875 [==============================] - 12s 6ms/step - loss: 0.1951 - acc: 0.9297 - val_loss: 3.5168 - val_acc: 0.8787\n",
      "Epoch 66/1000\n",
      "1875/1875 [==============================] - 14s 7ms/step - loss: 0.2207 - acc: 0.9237 - val_loss: 2.2311 - val_acc: 0.8718\n",
      "Epoch 67/1000\n",
      "1875/1875 [==============================] - 10s 5ms/step - loss: 0.2379 - acc: 0.9247 - val_loss: 1.7519 - val_acc: 0.8704\n",
      "Epoch 68/1000\n",
      "1875/1875 [==============================] - 8s 5ms/step - loss: 0.2813 - acc: 0.9229 - val_loss: 2.0233 - val_acc: 0.8766\n",
      "Epoch 69/1000\n",
      "1875/1875 [==============================] - 10s 5ms/step - loss: 0.2050 - acc: 0.9299 - val_loss: 2.8363 - val_acc: 0.8775\n",
      "Epoch 70/1000\n",
      "1875/1875 [==============================] - 11s 6ms/step - loss: 0.2522 - acc: 0.9201 - val_loss: 2.5692 - val_acc: 0.8627\n",
      "Epoch 71/1000\n",
      "1875/1875 [==============================] - 10s 5ms/step - loss: 0.2031 - acc: 0.9296 - val_loss: 2.4260 - val_acc: 0.8745\n",
      "Epoch 72/1000\n",
      "1875/1875 [==============================] - 10s 6ms/step - loss: 0.2194 - acc: 0.9265 - val_loss: 2.5350 - val_acc: 0.8730\n",
      "Epoch 73/1000\n",
      "1875/1875 [==============================] - 9s 5ms/step - loss: 0.2155 - acc: 0.9269 - val_loss: 3.8659 - val_acc: 0.8697\n",
      "Epoch 74/1000\n",
      "1875/1875 [==============================] - 9s 5ms/step - loss: 0.2331 - acc: 0.9227 - val_loss: 2.3193 - val_acc: 0.8663\n",
      "Epoch 75/1000\n",
      "1875/1875 [==============================] - 9s 5ms/step - loss: 0.2274 - acc: 0.9232 - val_loss: 2.3127 - val_acc: 0.8700\n",
      "Epoch 76/1000\n",
      "1875/1875 [==============================] - 8s 4ms/step - loss: 0.2284 - acc: 0.9285 - val_loss: 2.7124 - val_acc: 0.8707\n",
      "Epoch 77/1000\n",
      "1875/1875 [==============================] - 5s 3ms/step - loss: 0.2098 - acc: 0.9282 - val_loss: 2.4849 - val_acc: 0.8666\n",
      "Epoch 78/1000\n",
      "1875/1875 [==============================] - 6s 3ms/step - loss: 0.2260 - acc: 0.9257 - val_loss: 2.7217 - val_acc: 0.8660\n",
      "Epoch 79/1000\n",
      "1875/1875 [==============================] - 6s 3ms/step - loss: 0.2032 - acc: 0.9296 - val_loss: 3.9038 - val_acc: 0.8724\n",
      "Epoch 80/1000\n",
      "1875/1875 [==============================] - 7s 4ms/step - loss: 0.2319 - acc: 0.9258 - val_loss: 2.9973 - val_acc: 0.8757\n",
      "Epoch 81/1000\n",
      "1875/1875 [==============================] - 12s 6ms/step - loss: 0.2141 - acc: 0.9283 - val_loss: 2.8247 - val_acc: 0.8709\n",
      "Epoch 82/1000\n",
      "1875/1875 [==============================] - 10s 5ms/step - loss: 0.1954 - acc: 0.9323 - val_loss: 3.5638 - val_acc: 0.8722\n",
      "Epoch 83/1000\n",
      "1875/1875 [==============================] - 11s 6ms/step - loss: 0.2002 - acc: 0.9311 - val_loss: 4.1005 - val_acc: 0.8647\n",
      "Epoch 84/1000\n",
      "1875/1875 [==============================] - 17s 9ms/step - loss: 0.2503 - acc: 0.9225 - val_loss: 2.8575 - val_acc: 0.8700\n",
      "Epoch 85/1000\n",
      "1875/1875 [==============================] - 12s 6ms/step - loss: 0.2341 - acc: 0.9279 - val_loss: 2.2904 - val_acc: 0.8756\n",
      "Epoch 86/1000\n",
      "1875/1875 [==============================] - 9s 5ms/step - loss: 0.2375 - acc: 0.9195 - val_loss: 1.9894 - val_acc: 0.8649\n",
      "Epoch 87/1000\n",
      "1875/1875 [==============================] - 9s 5ms/step - loss: 0.1920 - acc: 0.9337 - val_loss: 3.0991 - val_acc: 0.8726\n",
      "Epoch 88/1000\n",
      "1875/1875 [==============================] - 9s 5ms/step - loss: 0.2362 - acc: 0.9258 - val_loss: 2.3842 - val_acc: 0.8716\n",
      "Epoch 89/1000\n",
      "1875/1875 [==============================] - 9s 5ms/step - loss: 0.2137 - acc: 0.9296 - val_loss: 2.1532 - val_acc: 0.8719\n",
      "Epoch 90/1000\n",
      "1875/1875 [==============================] - 9s 5ms/step - loss: 0.2159 - acc: 0.9276 - val_loss: 3.5857 - val_acc: 0.8768\n",
      "Epoch 91/1000\n",
      "1875/1875 [==============================] - 8s 4ms/step - loss: 0.2271 - acc: 0.9257 - val_loss: 3.8890 - val_acc: 0.8717\n",
      "Epoch 92/1000\n",
      "1875/1875 [==============================] - 8s 4ms/step - loss: 0.3846 - acc: 0.9266 - val_loss: 2.9960 - val_acc: 0.8783\n",
      "Epoch 93/1000\n",
      "1875/1875 [==============================] - 8s 4ms/step - loss: 0.2125 - acc: 0.9282 - val_loss: 3.6772 - val_acc: 0.8712\n",
      "Epoch 94/1000\n",
      "1875/1875 [==============================] - 8s 4ms/step - loss: 0.2025 - acc: 0.9299 - val_loss: 3.1318 - val_acc: 0.8651\n",
      "Epoch 95/1000\n",
      "1875/1875 [==============================] - 8s 4ms/step - loss: 0.2066 - acc: 0.9289 - val_loss: 3.5256 - val_acc: 0.8779\n",
      "Epoch 96/1000\n",
      "1875/1875 [==============================] - 9s 5ms/step - loss: 0.2165 - acc: 0.9286 - val_loss: 4.1154 - val_acc: 0.8712\n",
      "Epoch 97/1000\n",
      "1875/1875 [==============================] - 8s 4ms/step - loss: 0.2183 - acc: 0.9269 - val_loss: 3.3433 - val_acc: 0.8701\n",
      "Epoch 98/1000\n",
      "1875/1875 [==============================] - 9s 5ms/step - loss: 0.2037 - acc: 0.9311 - val_loss: 4.0079 - val_acc: 0.8668\n",
      "Epoch 99/1000\n",
      "1875/1875 [==============================] - 9s 5ms/step - loss: 0.2433 - acc: 0.9260 - val_loss: 3.3920 - val_acc: 0.8745\n",
      "Epoch 100/1000\n",
      "1875/1875 [==============================] - 8s 4ms/step - loss: 0.1974 - acc: 0.9312 - val_loss: 4.4016 - val_acc: 0.8785\n",
      "Epoch 101/1000\n",
      "1875/1875 [==============================] - 9s 5ms/step - loss: 0.2029 - acc: 0.9299 - val_loss: 4.2040 - val_acc: 0.8646\n",
      "Epoch 102/1000\n",
      "1875/1875 [==============================] - 8s 4ms/step - loss: 0.2040 - acc: 0.9297 - val_loss: 4.5738 - val_acc: 0.8683\n",
      "Epoch 103/1000\n",
      "1875/1875 [==============================] - 8s 5ms/step - loss: 0.2101 - acc: 0.9306 - val_loss: 4.0736 - val_acc: 0.8702\n",
      "Epoch 104/1000\n",
      "1875/1875 [==============================] - 8s 4ms/step - loss: 0.2280 - acc: 0.9248 - val_loss: 5.2503 - val_acc: 0.8717\n",
      "Epoch 105/1000\n",
      "1875/1875 [==============================] - 9s 5ms/step - loss: 0.2018 - acc: 0.9311 - val_loss: 4.1406 - val_acc: 0.8658\n",
      "Epoch 106/1000\n",
      "1875/1875 [==============================] - 8s 4ms/step - loss: 0.2422 - acc: 0.9269 - val_loss: 2.8011 - val_acc: 0.8724\n",
      "Epoch 107/1000\n",
      "1875/1875 [==============================] - 8s 5ms/step - loss: 0.2112 - acc: 0.9275 - val_loss: 3.0557 - val_acc: 0.8670\n",
      "Epoch 108/1000\n",
      "1875/1875 [==============================] - 7s 4ms/step - loss: 0.2147 - acc: 0.9315 - val_loss: 3.8191 - val_acc: 0.8748\n",
      "Epoch 109/1000\n",
      "1875/1875 [==============================] - 9s 5ms/step - loss: 0.2070 - acc: 0.9301 - val_loss: 5.1499 - val_acc: 0.8678\n",
      "Epoch 110/1000\n",
      "1875/1875 [==============================] - 8s 4ms/step - loss: 0.2097 - acc: 0.9316 - val_loss: 4.3704 - val_acc: 0.8710\n",
      "Epoch 111/1000\n",
      "1875/1875 [==============================] - 9s 5ms/step - loss: 0.2244 - acc: 0.9271 - val_loss: 3.5605 - val_acc: 0.8497\n",
      "Epoch 112/1000\n",
      "1875/1875 [==============================] - 8s 4ms/step - loss: 0.2696 - acc: 0.9193 - val_loss: 4.1401 - val_acc: 0.8650\n",
      "Epoch 113/1000\n",
      "1875/1875 [==============================] - 8s 4ms/step - loss: 0.2078 - acc: 0.9287 - val_loss: 4.7413 - val_acc: 0.8715\n",
      "Epoch 114/1000\n",
      "1875/1875 [==============================] - 8s 4ms/step - loss: 0.2175 - acc: 0.9281 - val_loss: 3.3519 - val_acc: 0.8608\n",
      "Epoch 115/1000\n",
      "1875/1875 [==============================] - 8s 4ms/step - loss: 0.2097 - acc: 0.9310 - val_loss: 3.9834 - val_acc: 0.8619\n",
      "Epoch 116/1000\n",
      "1875/1875 [==============================] - 8s 4ms/step - loss: 0.2276 - acc: 0.9285 - val_loss: 5.6738 - val_acc: 0.8621\n",
      "Epoch 117/1000\n",
      "1875/1875 [==============================] - 8s 4ms/step - loss: 0.2239 - acc: 0.9287 - val_loss: 6.1175 - val_acc: 0.8773\n",
      "Epoch 118/1000\n",
      "1875/1875 [==============================] - 8s 4ms/step - loss: 0.2793 - acc: 0.9299 - val_loss: 4.7383 - val_acc: 0.8673\n",
      "Epoch 119/1000\n"
     ]
    },
    {
     "name": "stdout",
     "output_type": "stream",
     "text": [
      "1875/1875 [==============================] - 8s 4ms/step - loss: 0.2282 - acc: 0.9267 - val_loss: 3.9629 - val_acc: 0.8676\n",
      "Epoch 120/1000\n",
      "1875/1875 [==============================] - 8s 4ms/step - loss: 0.1915 - acc: 0.9334 - val_loss: 4.6870 - val_acc: 0.8720\n",
      "Epoch 121/1000\n",
      "1875/1875 [==============================] - 8s 4ms/step - loss: 0.2074 - acc: 0.9313 - val_loss: 4.7471 - val_acc: 0.8682\n",
      "Epoch 122/1000\n",
      "1875/1875 [==============================] - 7s 4ms/step - loss: 0.2148 - acc: 0.9293 - val_loss: 4.6339 - val_acc: 0.8725\n",
      "Epoch 123/1000\n",
      "1875/1875 [==============================] - 6s 3ms/step - loss: 0.1949 - acc: 0.9320 - val_loss: 5.3619 - val_acc: 0.8718\n",
      "Epoch 124/1000\n",
      "1875/1875 [==============================] - 7s 4ms/step - loss: 0.2948 - acc: 0.9142 - val_loss: 3.2136 - val_acc: 0.8651\n",
      "Epoch 125/1000\n",
      "1875/1875 [==============================] - 8s 4ms/step - loss: 0.2166 - acc: 0.9270 - val_loss: 4.6134 - val_acc: 0.8730\n",
      "Epoch 126/1000\n",
      "1875/1875 [==============================] - 8s 4ms/step - loss: 0.2632 - acc: 0.9179 - val_loss: 4.4683 - val_acc: 0.8609\n",
      "Epoch 127/1000\n",
      "1875/1875 [==============================] - 8s 4ms/step - loss: 0.2257 - acc: 0.9261 - val_loss: 4.5097 - val_acc: 0.8718\n",
      "Epoch 128/1000\n",
      "1875/1875 [==============================] - 8s 4ms/step - loss: 0.2639 - acc: 0.9225 - val_loss: 4.6082 - val_acc: 0.8731\n",
      "Epoch 129/1000\n",
      "1875/1875 [==============================] - 9s 5ms/step - loss: 0.2122 - acc: 0.9312 - val_loss: 3.9459 - val_acc: 0.8699\n",
      "Epoch 130/1000\n",
      "1875/1875 [==============================] - 8s 4ms/step - loss: 0.1861 - acc: 0.9353 - val_loss: 5.3842 - val_acc: 0.8750\n",
      "Epoch 131/1000\n",
      "1875/1875 [==============================] - 8s 4ms/step - loss: 0.2487 - acc: 0.9268 - val_loss: 4.4409 - val_acc: 0.8684\n",
      "Epoch 132/1000\n",
      "1875/1875 [==============================] - 8s 4ms/step - loss: 0.2308 - acc: 0.9308 - val_loss: 3.5726 - val_acc: 0.8724\n",
      "Epoch 133/1000\n",
      "1875/1875 [==============================] - 8s 4ms/step - loss: 0.2660 - acc: 0.9269 - val_loss: 5.7087 - val_acc: 0.8591\n",
      "Epoch 134/1000\n",
      "1875/1875 [==============================] - 8s 4ms/step - loss: 0.2129 - acc: 0.9293 - val_loss: 5.2764 - val_acc: 0.8704\n",
      "Epoch 135/1000\n",
      "1875/1875 [==============================] - 8s 4ms/step - loss: 0.1862 - acc: 0.9355 - val_loss: 7.0501 - val_acc: 0.8689\n",
      "Epoch 136/1000\n",
      "1875/1875 [==============================] - 8s 4ms/step - loss: 0.2331 - acc: 0.9275 - val_loss: 8.1896 - val_acc: 0.8379\n",
      "Epoch 137/1000\n",
      "1875/1875 [==============================] - 9s 5ms/step - loss: 0.2573 - acc: 0.9203 - val_loss: 6.0511 - val_acc: 0.8721\n",
      "Epoch 138/1000\n",
      "1875/1875 [==============================] - 8s 4ms/step - loss: 0.2169 - acc: 0.9299 - val_loss: 6.2132 - val_acc: 0.8690\n",
      "Epoch 139/1000\n",
      "1875/1875 [==============================] - 9s 5ms/step - loss: 0.2306 - acc: 0.9289 - val_loss: 7.0147 - val_acc: 0.8752\n",
      "Epoch 140/1000\n",
      "1875/1875 [==============================] - 8s 4ms/step - loss: 0.1909 - acc: 0.9351 - val_loss: 7.0951 - val_acc: 0.8484\n",
      "Epoch 141/1000\n",
      "1875/1875 [==============================] - 8s 4ms/step - loss: 0.2062 - acc: 0.9323 - val_loss: 6.2193 - val_acc: 0.8674\n",
      "Epoch 142/1000\n",
      "1875/1875 [==============================] - 14s 8ms/step - loss: 0.2320 - acc: 0.9283 - val_loss: 8.8866 - val_acc: 0.8716\n",
      "Epoch 143/1000\n",
      "1875/1875 [==============================] - 10s 5ms/step - loss: 0.2628 - acc: 0.9250 - val_loss: 4.4628 - val_acc: 0.8665\n",
      "Epoch 144/1000\n",
      "1875/1875 [==============================] - 10s 5ms/step - loss: 0.2417 - acc: 0.9248 - val_loss: 4.9348 - val_acc: 0.8720\n",
      "Epoch 145/1000\n",
      "1875/1875 [==============================] - 11s 6ms/step - loss: 0.2126 - acc: 0.9298 - val_loss: 4.2956 - val_acc: 0.8636\n",
      "Epoch 146/1000\n",
      "1875/1875 [==============================] - 5s 3ms/step - loss: 0.2330 - acc: 0.9305 - val_loss: 4.3004 - val_acc: 0.8628\n",
      "Epoch 147/1000\n",
      "1875/1875 [==============================] - 5s 3ms/step - loss: 0.1805 - acc: 0.9374 - val_loss: 3.7777 - val_acc: 0.8706\n",
      "Epoch 148/1000\n",
      "1875/1875 [==============================] - 6s 3ms/step - loss: 0.2497 - acc: 0.9244 - val_loss: 3.0198 - val_acc: 0.8681\n",
      "Epoch 149/1000\n",
      "1875/1875 [==============================] - 6s 3ms/step - loss: 0.2706 - acc: 0.9190 - val_loss: 3.0695 - val_acc: 0.8773\n",
      "Epoch 150/1000\n",
      "1875/1875 [==============================] - 5s 3ms/step - loss: 0.2057 - acc: 0.9312 - val_loss: 3.5810 - val_acc: 0.8739\n",
      "Epoch 151/1000\n",
      "1875/1875 [==============================] - 5s 3ms/step - loss: 0.2220 - acc: 0.9283 - val_loss: 4.6657 - val_acc: 0.8725\n",
      "Epoch 152/1000\n",
      "1875/1875 [==============================] - 6s 3ms/step - loss: 0.1913 - acc: 0.9354 - val_loss: 4.4146 - val_acc: 0.8702\n",
      "Epoch 153/1000\n",
      "1875/1875 [==============================] - 5s 3ms/step - loss: 0.2020 - acc: 0.9327 - val_loss: 5.2761 - val_acc: 0.8701\n",
      "Epoch 154/1000\n",
      "1875/1875 [==============================] - 5s 3ms/step - loss: 0.2008 - acc: 0.9335 - val_loss: 4.8464 - val_acc: 0.8720\n",
      "Epoch 155/1000\n",
      "1875/1875 [==============================] - 5s 3ms/step - loss: 0.2686 - acc: 0.9294 - val_loss: 4.6374 - val_acc: 0.8711\n",
      "Epoch 156/1000\n",
      "1875/1875 [==============================] - 5s 3ms/step - loss: 0.2180 - acc: 0.9294 - val_loss: 3.4897 - val_acc: 0.8695\n",
      "Epoch 157/1000\n",
      "1875/1875 [==============================] - 6s 3ms/step - loss: 0.1972 - acc: 0.9333 - val_loss: 5.2698 - val_acc: 0.8703\n",
      "Epoch 158/1000\n",
      "1875/1875 [==============================] - 6s 3ms/step - loss: 0.2207 - acc: 0.9293 - val_loss: 4.5099 - val_acc: 0.8723\n",
      "Epoch 159/1000\n",
      "1875/1875 [==============================] - 6s 3ms/step - loss: 0.2076 - acc: 0.9321 - val_loss: 4.4752 - val_acc: 0.8753\n",
      "Epoch 160/1000\n",
      "1875/1875 [==============================] - 6s 3ms/step - loss: 0.2248 - acc: 0.9297 - val_loss: 5.3506 - val_acc: 0.8725\n",
      "Epoch 161/1000\n",
      "1875/1875 [==============================] - 6s 3ms/step - loss: 0.2474 - acc: 0.9278 - val_loss: 5.1311 - val_acc: 0.8689\n",
      "Epoch 162/1000\n",
      "1875/1875 [==============================] - 6s 3ms/step - loss: 0.2026 - acc: 0.9329 - val_loss: 4.9738 - val_acc: 0.8722\n",
      "Epoch 163/1000\n",
      "1875/1875 [==============================] - 6s 3ms/step - loss: 0.2948 - acc: 0.9174 - val_loss: 3.5922 - val_acc: 0.8624\n",
      "Epoch 164/1000\n",
      "1875/1875 [==============================] - 7s 4ms/step - loss: 0.4604 - acc: 0.9168 - val_loss: 2.8569 - val_acc: 0.8685\n",
      "Epoch 165/1000\n",
      "1875/1875 [==============================] - 6s 3ms/step - loss: 0.2543 - acc: 0.9268 - val_loss: 4.6890 - val_acc: 0.8643\n",
      "Epoch 166/1000\n",
      "1875/1875 [==============================] - 6s 3ms/step - loss: 0.2691 - acc: 0.9250 - val_loss: 5.6081 - val_acc: 0.8745\n",
      "Epoch 167/1000\n",
      "1875/1875 [==============================] - 7s 4ms/step - loss: 0.1982 - acc: 0.9328 - val_loss: 5.0676 - val_acc: 0.8723\n",
      "Epoch 168/1000\n",
      "1875/1875 [==============================] - 6s 3ms/step - loss: 0.2357 - acc: 0.9287 - val_loss: 4.5942 - val_acc: 0.8758\n",
      "Epoch 169/1000\n",
      "1875/1875 [==============================] - 6s 3ms/step - loss: 0.3007 - acc: 0.9315 - val_loss: 4.2209 - val_acc: 0.8681\n",
      "Epoch 170/1000\n",
      "1875/1875 [==============================] - 6s 3ms/step - loss: 0.2246 - acc: 0.9280 - val_loss: 4.2632 - val_acc: 0.8790\n",
      "Epoch 171/1000\n",
      "1875/1875 [==============================] - 6s 3ms/step - loss: 0.2240 - acc: 0.9288 - val_loss: 7.9286 - val_acc: 0.8622\n",
      "Epoch 172/1000\n",
      "1875/1875 [==============================] - 6s 3ms/step - loss: 0.2412 - acc: 0.9274 - val_loss: 8.8171 - val_acc: 0.8706\n",
      "Epoch 173/1000\n",
      "1875/1875 [==============================] - 6s 3ms/step - loss: 0.2241 - acc: 0.9294 - val_loss: 7.1249 - val_acc: 0.8756\n",
      "Epoch 174/1000\n",
      "1875/1875 [==============================] - 6s 3ms/step - loss: 0.2208 - acc: 0.9290 - val_loss: 8.8829 - val_acc: 0.8672\n",
      "Epoch 175/1000\n",
      "1875/1875 [==============================] - 6s 3ms/step - loss: 0.2058 - acc: 0.9333 - val_loss: 7.0060 - val_acc: 0.8671\n",
      "Epoch 176/1000\n",
      "1875/1875 [==============================] - 8s 4ms/step - loss: 0.2672 - acc: 0.9258 - val_loss: 7.5296 - val_acc: 0.8727\n",
      "Epoch 177/1000\n",
      "1875/1875 [==============================] - 6s 3ms/step - loss: 0.1929 - acc: 0.9372 - val_loss: 7.6666 - val_acc: 0.8701\n",
      "Epoch 178/1000\n"
     ]
    },
    {
     "name": "stdout",
     "output_type": "stream",
     "text": [
      "1875/1875 [==============================] - 5s 3ms/step - loss: 0.2931 - acc: 0.9208 - val_loss: 5.2318 - val_acc: 0.8236\n",
      "Epoch 179/1000\n",
      "1875/1875 [==============================] - 6s 3ms/step - loss: 0.3315 - acc: 0.9054 - val_loss: 11.2825 - val_acc: 0.8632\n",
      "Epoch 180/1000\n",
      "1875/1875 [==============================] - 5s 3ms/step - loss: 0.2837 - acc: 0.9234 - val_loss: 10.3552 - val_acc: 0.8717\n",
      "Epoch 181/1000\n",
      "1875/1875 [==============================] - 8s 4ms/step - loss: 0.2014 - acc: 0.9331 - val_loss: 11.5833 - val_acc: 0.8720\n",
      "Epoch 182/1000\n",
      "1875/1875 [==============================] - 7s 4ms/step - loss: 0.2563 - acc: 0.9277 - val_loss: 8.6501 - val_acc: 0.8703\n",
      "Epoch 183/1000\n",
      "1875/1875 [==============================] - 5s 3ms/step - loss: 0.2440 - acc: 0.9317 - val_loss: 8.7242 - val_acc: 0.8635\n",
      "Epoch 184/1000\n",
      "1875/1875 [==============================] - 8s 4ms/step - loss: 0.2333 - acc: 0.9247 - val_loss: 10.7926 - val_acc: 0.8697\n",
      "Epoch 185/1000\n",
      "1875/1875 [==============================] - 7s 4ms/step - loss: 0.4528 - acc: 0.9177 - val_loss: 5.5382 - val_acc: 0.8681\n",
      "Epoch 186/1000\n",
      "1875/1875 [==============================] - 7s 4ms/step - loss: 0.1884 - acc: 0.9364 - val_loss: 8.7114 - val_acc: 0.8754\n",
      "Epoch 187/1000\n",
      "1875/1875 [==============================] - 8s 4ms/step - loss: 0.2204 - acc: 0.9283 - val_loss: 8.3478 - val_acc: 0.8670\n",
      "Epoch 188/1000\n",
      "1875/1875 [==============================] - 7s 4ms/step - loss: 0.3390 - acc: 0.9289 - val_loss: 6.7700 - val_acc: 0.8654\n",
      "Epoch 189/1000\n",
      "1875/1875 [==============================] - 7s 4ms/step - loss: 0.2863 - acc: 0.9232 - val_loss: 5.2407 - val_acc: 0.8729\n",
      "Epoch 190/1000\n",
      "1875/1875 [==============================] - 6s 3ms/step - loss: 0.2102 - acc: 0.9341 - val_loss: 6.7843 - val_acc: 0.8733\n",
      "Epoch 191/1000\n",
      "1875/1875 [==============================] - 6s 3ms/step - loss: 0.2216 - acc: 0.9283 - val_loss: 7.4765 - val_acc: 0.8736\n",
      "Epoch 192/1000\n",
      "1875/1875 [==============================] - 7s 4ms/step - loss: 0.2223 - acc: 0.9278 - val_loss: 6.6723 - val_acc: 0.8747\n",
      "Epoch 193/1000\n",
      "1875/1875 [==============================] - 6s 3ms/step - loss: 0.1763 - acc: 0.9397 - val_loss: 9.0883 - val_acc: 0.8731\n",
      "Epoch 194/1000\n",
      "1400/1875 [=====================>........] - ETA: 1s - loss: 0.3160 - acc: 0.9184"
     ]
    },
    {
     "ename": "KeyboardInterrupt",
     "evalue": "",
     "output_type": "error",
     "traceback": [
      "\u001B[0;31m---------------------------------------------------------------------------\u001B[0m",
      "\u001B[0;31mKeyboardInterrupt\u001B[0m                         Traceback (most recent call last)",
      "Cell \u001B[0;32mIn[15], line 1\u001B[0m\n\u001B[0;32m----> 1\u001B[0m history \u001B[38;5;241m=\u001B[39m model\u001B[38;5;241m.\u001B[39mfit(train_image,train_label_onthot,epochs\u001B[38;5;241m=\u001B[39m\u001B[38;5;241m1000\u001B[39m,\n\u001B[1;32m      2\u001B[0m                    validation_data\u001B[38;5;241m=\u001B[39m(test_image,test_label_onthot))\n",
      "File \u001B[0;32m~/anaconda3/lib/python3.11/site-packages/keras/src/utils/traceback_utils.py:65\u001B[0m, in \u001B[0;36mfilter_traceback.<locals>.error_handler\u001B[0;34m(*args, **kwargs)\u001B[0m\n\u001B[1;32m     63\u001B[0m filtered_tb \u001B[38;5;241m=\u001B[39m \u001B[38;5;28;01mNone\u001B[39;00m\n\u001B[1;32m     64\u001B[0m \u001B[38;5;28;01mtry\u001B[39;00m:\n\u001B[0;32m---> 65\u001B[0m     \u001B[38;5;28;01mreturn\u001B[39;00m fn(\u001B[38;5;241m*\u001B[39margs, \u001B[38;5;241m*\u001B[39m\u001B[38;5;241m*\u001B[39mkwargs)\n\u001B[1;32m     66\u001B[0m \u001B[38;5;28;01mexcept\u001B[39;00m \u001B[38;5;167;01mException\u001B[39;00m \u001B[38;5;28;01mas\u001B[39;00m e:\n\u001B[1;32m     67\u001B[0m     filtered_tb \u001B[38;5;241m=\u001B[39m _process_traceback_frames(e\u001B[38;5;241m.\u001B[39m__traceback__)\n",
      "File \u001B[0;32m~/anaconda3/lib/python3.11/site-packages/keras/src/engine/training.py:1742\u001B[0m, in \u001B[0;36mModel.fit\u001B[0;34m(self, x, y, batch_size, epochs, verbose, callbacks, validation_split, validation_data, shuffle, class_weight, sample_weight, initial_epoch, steps_per_epoch, validation_steps, validation_batch_size, validation_freq, max_queue_size, workers, use_multiprocessing)\u001B[0m\n\u001B[1;32m   1734\u001B[0m \u001B[38;5;28;01mwith\u001B[39;00m tf\u001B[38;5;241m.\u001B[39mprofiler\u001B[38;5;241m.\u001B[39mexperimental\u001B[38;5;241m.\u001B[39mTrace(\n\u001B[1;32m   1735\u001B[0m     \u001B[38;5;124m\"\u001B[39m\u001B[38;5;124mtrain\u001B[39m\u001B[38;5;124m\"\u001B[39m,\n\u001B[1;32m   1736\u001B[0m     epoch_num\u001B[38;5;241m=\u001B[39mepoch,\n\u001B[0;32m   (...)\u001B[0m\n\u001B[1;32m   1739\u001B[0m     _r\u001B[38;5;241m=\u001B[39m\u001B[38;5;241m1\u001B[39m,\n\u001B[1;32m   1740\u001B[0m ):\n\u001B[1;32m   1741\u001B[0m     callbacks\u001B[38;5;241m.\u001B[39mon_train_batch_begin(step)\n\u001B[0;32m-> 1742\u001B[0m     tmp_logs \u001B[38;5;241m=\u001B[39m \u001B[38;5;28mself\u001B[39m\u001B[38;5;241m.\u001B[39mtrain_function(iterator)\n\u001B[1;32m   1743\u001B[0m     \u001B[38;5;28;01mif\u001B[39;00m data_handler\u001B[38;5;241m.\u001B[39mshould_sync:\n\u001B[1;32m   1744\u001B[0m         context\u001B[38;5;241m.\u001B[39masync_wait()\n",
      "File \u001B[0;32m~/anaconda3/lib/python3.11/site-packages/tensorflow/python/util/traceback_utils.py:150\u001B[0m, in \u001B[0;36mfilter_traceback.<locals>.error_handler\u001B[0;34m(*args, **kwargs)\u001B[0m\n\u001B[1;32m    148\u001B[0m filtered_tb \u001B[38;5;241m=\u001B[39m \u001B[38;5;28;01mNone\u001B[39;00m\n\u001B[1;32m    149\u001B[0m \u001B[38;5;28;01mtry\u001B[39;00m:\n\u001B[0;32m--> 150\u001B[0m   \u001B[38;5;28;01mreturn\u001B[39;00m fn(\u001B[38;5;241m*\u001B[39margs, \u001B[38;5;241m*\u001B[39m\u001B[38;5;241m*\u001B[39mkwargs)\n\u001B[1;32m    151\u001B[0m \u001B[38;5;28;01mexcept\u001B[39;00m \u001B[38;5;167;01mException\u001B[39;00m \u001B[38;5;28;01mas\u001B[39;00m e:\n\u001B[1;32m    152\u001B[0m   filtered_tb \u001B[38;5;241m=\u001B[39m _process_traceback_frames(e\u001B[38;5;241m.\u001B[39m__traceback__)\n",
      "File \u001B[0;32m~/anaconda3/lib/python3.11/site-packages/tensorflow/python/eager/polymorphic_function/polymorphic_function.py:825\u001B[0m, in \u001B[0;36mFunction.__call__\u001B[0;34m(self, *args, **kwds)\u001B[0m\n\u001B[1;32m    822\u001B[0m compiler \u001B[38;5;241m=\u001B[39m \u001B[38;5;124m\"\u001B[39m\u001B[38;5;124mxla\u001B[39m\u001B[38;5;124m\"\u001B[39m \u001B[38;5;28;01mif\u001B[39;00m \u001B[38;5;28mself\u001B[39m\u001B[38;5;241m.\u001B[39m_jit_compile \u001B[38;5;28;01melse\u001B[39;00m \u001B[38;5;124m\"\u001B[39m\u001B[38;5;124mnonXla\u001B[39m\u001B[38;5;124m\"\u001B[39m\n\u001B[1;32m    824\u001B[0m \u001B[38;5;28;01mwith\u001B[39;00m OptionalXlaContext(\u001B[38;5;28mself\u001B[39m\u001B[38;5;241m.\u001B[39m_jit_compile):\n\u001B[0;32m--> 825\u001B[0m   result \u001B[38;5;241m=\u001B[39m \u001B[38;5;28mself\u001B[39m\u001B[38;5;241m.\u001B[39m_call(\u001B[38;5;241m*\u001B[39margs, \u001B[38;5;241m*\u001B[39m\u001B[38;5;241m*\u001B[39mkwds)\n\u001B[1;32m    827\u001B[0m new_tracing_count \u001B[38;5;241m=\u001B[39m \u001B[38;5;28mself\u001B[39m\u001B[38;5;241m.\u001B[39mexperimental_get_tracing_count()\n\u001B[1;32m    828\u001B[0m without_tracing \u001B[38;5;241m=\u001B[39m (tracing_count \u001B[38;5;241m==\u001B[39m new_tracing_count)\n",
      "File \u001B[0;32m~/anaconda3/lib/python3.11/site-packages/tensorflow/python/eager/polymorphic_function/polymorphic_function.py:857\u001B[0m, in \u001B[0;36mFunction._call\u001B[0;34m(self, *args, **kwds)\u001B[0m\n\u001B[1;32m    854\u001B[0m   \u001B[38;5;28mself\u001B[39m\u001B[38;5;241m.\u001B[39m_lock\u001B[38;5;241m.\u001B[39mrelease()\n\u001B[1;32m    855\u001B[0m   \u001B[38;5;66;03m# In this case we have created variables on the first call, so we run the\u001B[39;00m\n\u001B[1;32m    856\u001B[0m   \u001B[38;5;66;03m# defunned version which is guaranteed to never create variables.\u001B[39;00m\n\u001B[0;32m--> 857\u001B[0m   \u001B[38;5;28;01mreturn\u001B[39;00m \u001B[38;5;28mself\u001B[39m\u001B[38;5;241m.\u001B[39m_no_variable_creation_fn(\u001B[38;5;241m*\u001B[39margs, \u001B[38;5;241m*\u001B[39m\u001B[38;5;241m*\u001B[39mkwds)  \u001B[38;5;66;03m# pylint: disable=not-callable\u001B[39;00m\n\u001B[1;32m    858\u001B[0m \u001B[38;5;28;01melif\u001B[39;00m \u001B[38;5;28mself\u001B[39m\u001B[38;5;241m.\u001B[39m_variable_creation_fn \u001B[38;5;129;01mis\u001B[39;00m \u001B[38;5;129;01mnot\u001B[39;00m \u001B[38;5;28;01mNone\u001B[39;00m:\n\u001B[1;32m    859\u001B[0m   \u001B[38;5;66;03m# Release the lock early so that multiple threads can perform the call\u001B[39;00m\n\u001B[1;32m    860\u001B[0m   \u001B[38;5;66;03m# in parallel.\u001B[39;00m\n\u001B[1;32m    861\u001B[0m   \u001B[38;5;28mself\u001B[39m\u001B[38;5;241m.\u001B[39m_lock\u001B[38;5;241m.\u001B[39mrelease()\n",
      "File \u001B[0;32m~/anaconda3/lib/python3.11/site-packages/tensorflow/python/eager/polymorphic_function/tracing_compiler.py:148\u001B[0m, in \u001B[0;36mTracingCompiler.__call__\u001B[0;34m(self, *args, **kwargs)\u001B[0m\n\u001B[1;32m    145\u001B[0m \u001B[38;5;28;01mwith\u001B[39;00m \u001B[38;5;28mself\u001B[39m\u001B[38;5;241m.\u001B[39m_lock:\n\u001B[1;32m    146\u001B[0m   (concrete_function,\n\u001B[1;32m    147\u001B[0m    filtered_flat_args) \u001B[38;5;241m=\u001B[39m \u001B[38;5;28mself\u001B[39m\u001B[38;5;241m.\u001B[39m_maybe_define_function(args, kwargs)\n\u001B[0;32m--> 148\u001B[0m \u001B[38;5;28;01mreturn\u001B[39;00m concrete_function\u001B[38;5;241m.\u001B[39m_call_flat(\n\u001B[1;32m    149\u001B[0m     filtered_flat_args, captured_inputs\u001B[38;5;241m=\u001B[39mconcrete_function\u001B[38;5;241m.\u001B[39mcaptured_inputs)\n",
      "File \u001B[0;32m~/anaconda3/lib/python3.11/site-packages/tensorflow/python/eager/polymorphic_function/monomorphic_function.py:1349\u001B[0m, in \u001B[0;36mConcreteFunction._call_flat\u001B[0;34m(self, args, captured_inputs)\u001B[0m\n\u001B[1;32m   1345\u001B[0m possible_gradient_type \u001B[38;5;241m=\u001B[39m gradients_util\u001B[38;5;241m.\u001B[39mPossibleTapeGradientTypes(args)\n\u001B[1;32m   1346\u001B[0m \u001B[38;5;28;01mif\u001B[39;00m (possible_gradient_type \u001B[38;5;241m==\u001B[39m gradients_util\u001B[38;5;241m.\u001B[39mPOSSIBLE_GRADIENT_TYPES_NONE\n\u001B[1;32m   1347\u001B[0m     \u001B[38;5;129;01mand\u001B[39;00m executing_eagerly):\n\u001B[1;32m   1348\u001B[0m   \u001B[38;5;66;03m# No tape is watching; skip to running the function.\u001B[39;00m\n\u001B[0;32m-> 1349\u001B[0m   \u001B[38;5;28;01mreturn\u001B[39;00m \u001B[38;5;28mself\u001B[39m\u001B[38;5;241m.\u001B[39m_build_call_outputs(\u001B[38;5;28mself\u001B[39m\u001B[38;5;241m.\u001B[39m_inference_function(\u001B[38;5;241m*\u001B[39margs))\n\u001B[1;32m   1350\u001B[0m forward_backward \u001B[38;5;241m=\u001B[39m \u001B[38;5;28mself\u001B[39m\u001B[38;5;241m.\u001B[39m_select_forward_and_backward_functions(\n\u001B[1;32m   1351\u001B[0m     args,\n\u001B[1;32m   1352\u001B[0m     possible_gradient_type,\n\u001B[1;32m   1353\u001B[0m     executing_eagerly)\n\u001B[1;32m   1354\u001B[0m forward_function, args_with_tangents \u001B[38;5;241m=\u001B[39m forward_backward\u001B[38;5;241m.\u001B[39mforward()\n",
      "File \u001B[0;32m~/anaconda3/lib/python3.11/site-packages/tensorflow/python/eager/polymorphic_function/atomic_function.py:196\u001B[0m, in \u001B[0;36mAtomicFunction.__call__\u001B[0;34m(self, *args)\u001B[0m\n\u001B[1;32m    194\u001B[0m \u001B[38;5;28;01mwith\u001B[39;00m record\u001B[38;5;241m.\u001B[39mstop_recording():\n\u001B[1;32m    195\u001B[0m   \u001B[38;5;28;01mif\u001B[39;00m \u001B[38;5;28mself\u001B[39m\u001B[38;5;241m.\u001B[39m_bound_context\u001B[38;5;241m.\u001B[39mexecuting_eagerly():\n\u001B[0;32m--> 196\u001B[0m     outputs \u001B[38;5;241m=\u001B[39m \u001B[38;5;28mself\u001B[39m\u001B[38;5;241m.\u001B[39m_bound_context\u001B[38;5;241m.\u001B[39mcall_function(\n\u001B[1;32m    197\u001B[0m         \u001B[38;5;28mself\u001B[39m\u001B[38;5;241m.\u001B[39mname,\n\u001B[1;32m    198\u001B[0m         \u001B[38;5;28mlist\u001B[39m(args),\n\u001B[1;32m    199\u001B[0m         \u001B[38;5;28mlen\u001B[39m(\u001B[38;5;28mself\u001B[39m\u001B[38;5;241m.\u001B[39mfunction_type\u001B[38;5;241m.\u001B[39mflat_outputs),\n\u001B[1;32m    200\u001B[0m     )\n\u001B[1;32m    201\u001B[0m   \u001B[38;5;28;01melse\u001B[39;00m:\n\u001B[1;32m    202\u001B[0m     outputs \u001B[38;5;241m=\u001B[39m make_call_op_in_graph(\u001B[38;5;28mself\u001B[39m, \u001B[38;5;28mlist\u001B[39m(args))\n",
      "File \u001B[0;32m~/anaconda3/lib/python3.11/site-packages/tensorflow/python/eager/context.py:1457\u001B[0m, in \u001B[0;36mContext.call_function\u001B[0;34m(self, name, tensor_inputs, num_outputs)\u001B[0m\n\u001B[1;32m   1455\u001B[0m cancellation_context \u001B[38;5;241m=\u001B[39m cancellation\u001B[38;5;241m.\u001B[39mcontext()\n\u001B[1;32m   1456\u001B[0m \u001B[38;5;28;01mif\u001B[39;00m cancellation_context \u001B[38;5;129;01mis\u001B[39;00m \u001B[38;5;28;01mNone\u001B[39;00m:\n\u001B[0;32m-> 1457\u001B[0m   outputs \u001B[38;5;241m=\u001B[39m execute\u001B[38;5;241m.\u001B[39mexecute(\n\u001B[1;32m   1458\u001B[0m       name\u001B[38;5;241m.\u001B[39mdecode(\u001B[38;5;124m\"\u001B[39m\u001B[38;5;124mutf-8\u001B[39m\u001B[38;5;124m\"\u001B[39m),\n\u001B[1;32m   1459\u001B[0m       num_outputs\u001B[38;5;241m=\u001B[39mnum_outputs,\n\u001B[1;32m   1460\u001B[0m       inputs\u001B[38;5;241m=\u001B[39mtensor_inputs,\n\u001B[1;32m   1461\u001B[0m       attrs\u001B[38;5;241m=\u001B[39mattrs,\n\u001B[1;32m   1462\u001B[0m       ctx\u001B[38;5;241m=\u001B[39m\u001B[38;5;28mself\u001B[39m,\n\u001B[1;32m   1463\u001B[0m   )\n\u001B[1;32m   1464\u001B[0m \u001B[38;5;28;01melse\u001B[39;00m:\n\u001B[1;32m   1465\u001B[0m   outputs \u001B[38;5;241m=\u001B[39m execute\u001B[38;5;241m.\u001B[39mexecute_with_cancellation(\n\u001B[1;32m   1466\u001B[0m       name\u001B[38;5;241m.\u001B[39mdecode(\u001B[38;5;124m\"\u001B[39m\u001B[38;5;124mutf-8\u001B[39m\u001B[38;5;124m\"\u001B[39m),\n\u001B[1;32m   1467\u001B[0m       num_outputs\u001B[38;5;241m=\u001B[39mnum_outputs,\n\u001B[0;32m   (...)\u001B[0m\n\u001B[1;32m   1471\u001B[0m       cancellation_manager\u001B[38;5;241m=\u001B[39mcancellation_context,\n\u001B[1;32m   1472\u001B[0m   )\n",
      "File \u001B[0;32m~/anaconda3/lib/python3.11/site-packages/tensorflow/python/eager/execute.py:53\u001B[0m, in \u001B[0;36mquick_execute\u001B[0;34m(op_name, num_outputs, inputs, attrs, ctx, name)\u001B[0m\n\u001B[1;32m     51\u001B[0m \u001B[38;5;28;01mtry\u001B[39;00m:\n\u001B[1;32m     52\u001B[0m   ctx\u001B[38;5;241m.\u001B[39mensure_initialized()\n\u001B[0;32m---> 53\u001B[0m   tensors \u001B[38;5;241m=\u001B[39m pywrap_tfe\u001B[38;5;241m.\u001B[39mTFE_Py_Execute(ctx\u001B[38;5;241m.\u001B[39m_handle, device_name, op_name,\n\u001B[1;32m     54\u001B[0m                                       inputs, attrs, num_outputs)\n\u001B[1;32m     55\u001B[0m \u001B[38;5;28;01mexcept\u001B[39;00m core\u001B[38;5;241m.\u001B[39m_NotOkStatusException \u001B[38;5;28;01mas\u001B[39;00m e:\n\u001B[1;32m     56\u001B[0m   \u001B[38;5;28;01mif\u001B[39;00m name \u001B[38;5;129;01mis\u001B[39;00m \u001B[38;5;129;01mnot\u001B[39;00m \u001B[38;5;28;01mNone\u001B[39;00m:\n",
      "\u001B[0;31mKeyboardInterrupt\u001B[0m: "
     ]
    }
   ],
   "source": [
    "history = model.fit(train_image,\n",
    "                    train_label_onthot,\n",
    "                    epochs=1000,\n",
    "                   validation_data=(test_image,test_label_onthot))"
   ]
  },
  {
   "cell_type": "code",
   "execution_count": null,
   "id": "1bbca03b",
   "metadata": {},
   "outputs": [],
   "source": [
    "history.history.keys()"
   ]
  },
  {
   "cell_type": "code",
   "execution_count": null,
   "id": "fa38195c",
   "metadata": {},
   "outputs": [],
   "source": [
    "plt.plot(history.epoch,history.history.get('acc'),label='acc')\n",
    "plt.plot(history.epoch,history.history.get('val_acc'),label='val_acc')\n",
    "plt.legend()"
   ]
  },
  {
   "cell_type": "markdown",
   "id": "27ce13ab",
   "metadata": {},
   "source": [
    "## 添加Dropout抑制过拟合\n",
    "---"
   ]
  },
  {
   "cell_type": "code",
   "execution_count": 20,
   "id": "4cd2c9b9",
   "metadata": {},
   "outputs": [],
   "source": [
    "#创建模型\n",
    "model = tf.keras.Sequential()\n",
    "model.add(tf.keras.layers.Flatten(input_shape=(28,28)))#28*28 输入层\n",
    "model.add(tf.keras.layers.Dense(128,activation='relu'))#全连接层\n",
    "model.add(tf.keras.layers.Dropout(0.5))#丢弃层\n",
    "model.add(tf.keras.layers.Dense(128,activation='relu'))#全连接层\n",
    "model.add(tf.keras.layers.Dropout(0.5))#丢弃层\n",
    "model.add(tf.keras.layers.Dense(128,activation='relu'))#全连接层\n",
    "model.add(tf.keras.layers.Dropout(0.5))#丢弃层\n",
    "model.add(tf.keras.layers.Dense(10,activation='softmax'))#全连接层"
   ]
  },
  {
   "cell_type": "code",
   "execution_count": 22,
   "id": "9c4964d0",
   "metadata": {
    "collapsed": true
   },
   "outputs": [
    {
     "name": "stdout",
     "output_type": "stream",
     "text": [
      "Model: \"sequential_3\"\n",
      "_________________________________________________________________\n",
      " Layer (type)                Output Shape              Param #   \n",
      "=================================================================\n",
      " flatten_3 (Flatten)         (None, 784)               0         \n",
      "                                                                 \n",
      " dense_10 (Dense)            (None, 128)               100480    \n",
      "                                                                 \n",
      " dropout_3 (Dropout)         (None, 128)               0         \n",
      "                                                                 \n",
      " dense_11 (Dense)            (None, 128)               16512     \n",
      "                                                                 \n",
      " dropout_4 (Dropout)         (None, 128)               0         \n",
      "                                                                 \n",
      " dense_12 (Dense)            (None, 128)               16512     \n",
      "                                                                 \n",
      " dropout_5 (Dropout)         (None, 128)               0         \n",
      "                                                                 \n",
      " dense_13 (Dense)            (None, 10)                1290      \n",
      "                                                                 \n",
      "=================================================================\n",
      "Total params: 134794 (526.54 KB)\n",
      "Trainable params: 134794 (526.54 KB)\n",
      "Non-trainable params: 0 (0.00 Byte)\n",
      "_________________________________________________________________\n"
     ]
    }
   ],
   "source": [
    "#查看模型\n",
    "model.summary()"
   ]
  },
  {
   "cell_type": "code",
   "execution_count": 59,
   "id": "906091dc",
   "metadata": {
    "collapsed": true
   },
   "outputs": [
    {
     "name": "stdout",
     "output_type": "stream",
     "text": [
      "Epoch 1/10\n",
      "1875/1875 [==============================] - 3s 2ms/step - loss: 0.6445 - acc: 0.7419 - val_loss: 0.7388 - val_acc: 0.7346\n",
      "Epoch 2/10\n",
      "1875/1875 [==============================] - 3s 2ms/step - loss: 0.6424 - acc: 0.7404 - val_loss: 0.6673 - val_acc: 0.7378\n",
      "Epoch 3/10\n",
      "1875/1875 [==============================] - 3s 1ms/step - loss: 0.6387 - acc: 0.7405 - val_loss: 0.6857 - val_acc: 0.7282\n",
      "Epoch 4/10\n",
      "1875/1875 [==============================] - 3s 2ms/step - loss: 0.6373 - acc: 0.7437 - val_loss: 0.6622 - val_acc: 0.7346\n",
      "Epoch 5/10\n",
      "1875/1875 [==============================] - 3s 2ms/step - loss: 0.6306 - acc: 0.7442 - val_loss: 0.6875 - val_acc: 0.7357\n",
      "Epoch 6/10\n",
      "1875/1875 [==============================] - 3s 1ms/step - loss: 0.6263 - acc: 0.7462 - val_loss: 0.7270 - val_acc: 0.7260\n",
      "Epoch 7/10\n",
      "1875/1875 [==============================] - 2s 1ms/step - loss: 0.6236 - acc: 0.7463 - val_loss: 0.7712 - val_acc: 0.7317\n",
      "Epoch 8/10\n",
      "1875/1875 [==============================] - 2s 1ms/step - loss: 0.6254 - acc: 0.7468 - val_loss: 0.6729 - val_acc: 0.7434\n",
      "Epoch 9/10\n",
      "1875/1875 [==============================] - 2s 1ms/step - loss: 0.6204 - acc: 0.7474 - val_loss: 0.6921 - val_acc: 0.7390\n",
      "Epoch 10/10\n",
      "1875/1875 [==============================] - 3s 1ms/step - loss: 0.6251 - acc: 0.7480 - val_loss: 0.6595 - val_acc: 0.7417\n"
     ]
    }
   ],
   "source": [
    "#编译模型\n",
    "model.compile(optimizer=tf.keras.optimizers.Adam(learning_rate=0.001),\n",
    "             loss='categorical_crossentropy',\n",
    "             metrics=['acc'])\n",
    "\n",
    "#运行模型\n",
    "history = model.fit(train_image,train_label_onthot,epochs=10,\n",
    "                   validation_data=(test_image,test_label_onthot))\n",
    "\n",
    "#绘制损失数据\n",
    "plt.plot(history.epoch,history.history.get('acc'),label='acc')\n",
    "plt.plot(history.epoch,history.history.get('val_acc'),label='val_acc')\n",
    "plt.legend()"
   ]
  },
  {
   "cell_type": "markdown",
   "id": "aa2adcfa",
   "metadata": {},
   "source": [
    "## 缩小模型大小抑制过拟合"
   ]
  },
  {
   "cell_type": "code",
   "execution_count": 62,
   "id": "27fc9057",
   "metadata": {},
   "outputs": [],
   "source": [
    "#创建模型\n",
    "model = tf.keras.Sequential()\n",
    "model.add(tf.keras.layers.Flatten(input_shape=(28,28)))#28*28 输入层\n",
    "model.add(tf.keras.layers.Dense(32,activation='relu'))#隐藏层\n",
    "model.add(tf.keras.layers.Dense(10,activation='softmax'))#输出层\n",
    "\n",
    "#编译模型\n",
    "model.compile(optimizer=tf.keras.optimizers.Adam(learning_rate=0.001),\n",
    "             loss='categorical_crossentropy',\n",
    "             metrics=['acc'])"
   ]
  },
  {
   "cell_type": "code",
   "execution_count": 63,
   "id": "c75da37d",
   "metadata": {},
   "outputs": [
    {
     "name": "stdout",
     "output_type": "stream",
     "text": [
      "Model: \"sequential_9\"\n",
      "_________________________________________________________________\n",
      " Layer (type)                Output Shape              Param #   \n",
      "=================================================================\n",
      " flatten_9 (Flatten)         (None, 784)               0         \n",
      "                                                                 \n",
      " dense_26 (Dense)            (None, 32)                25120     \n",
      "                                                                 \n",
      " dense_27 (Dense)            (None, 10)                330       \n",
      "                                                                 \n",
      "=================================================================\n",
      "Total params: 25450 (99.41 KB)\n",
      "Trainable params: 25450 (99.41 KB)\n",
      "Non-trainable params: 0 (0.00 Byte)\n",
      "_________________________________________________________________\n"
     ]
    }
   ],
   "source": [
    "#查看模型\n",
    "model.summary()"
   ]
  },
  {
   "cell_type": "code",
   "execution_count": 58,
   "id": "4c894e31",
   "metadata": {
    "scrolled": true
   },
   "outputs": [
    {
     "name": "stdout",
     "output_type": "stream",
     "text": [
      "Epoch 1/10\n",
      "1875/1875 [==============================] - 3s 2ms/step - loss: 2.7507 - acc: 0.3586 - val_loss: 1.6358 - val_acc: 0.4104\n",
      "Epoch 2/10\n",
      "1875/1875 [==============================] - 3s 2ms/step - loss: 1.3410 - acc: 0.5052 - val_loss: 1.2727 - val_acc: 0.5777\n",
      "Epoch 3/10\n",
      "1875/1875 [==============================] - 3s 1ms/step - loss: 1.0453 - acc: 0.5965 - val_loss: 0.9994 - val_acc: 0.6385\n",
      "Epoch 4/10\n",
      "1875/1875 [==============================] - 3s 1ms/step - loss: 0.8493 - acc: 0.6703 - val_loss: 0.8781 - val_acc: 0.6743\n",
      "Epoch 5/10\n",
      "1875/1875 [==============================] - 3s 1ms/step - loss: 0.7293 - acc: 0.7163 - val_loss: 0.7319 - val_acc: 0.7236\n",
      "Epoch 6/10\n",
      "1875/1875 [==============================] - 3s 1ms/step - loss: 0.6933 - acc: 0.7270 - val_loss: 0.7034 - val_acc: 0.7314\n",
      "Epoch 7/10\n",
      "1875/1875 [==============================] - 3s 1ms/step - loss: 0.6754 - acc: 0.7303 - val_loss: 0.6889 - val_acc: 0.7238\n",
      "Epoch 8/10\n",
      "1875/1875 [==============================] - 3s 1ms/step - loss: 0.6642 - acc: 0.7347 - val_loss: 0.6704 - val_acc: 0.7370\n",
      "Epoch 9/10\n",
      "1875/1875 [==============================] - 3s 2ms/step - loss: 0.6510 - acc: 0.7391 - val_loss: 0.7072 - val_acc: 0.7181\n",
      "Epoch 10/10\n",
      "1875/1875 [==============================] - 3s 2ms/step - loss: 0.6511 - acc: 0.7401 - val_loss: 0.7080 - val_acc: 0.7102\n"
     ]
    },
    {
     "data": {
      "text/plain": [
       "<matplotlib.legend.Legend at 0x7f27e2b07310>"
      ]
     },
     "execution_count": 58,
     "metadata": {},
     "output_type": "execute_result"
    },
    {
     "data": {
      "image/png": "[encoded data removed]",
      "text/plain": [
       "<Figure size 640x480 with 1 Axes>"
      ]
     },
     "metadata": {},
     "output_type": "display_data"
    }
   ],
   "source": [
    "#运行模型\n",
    "history = model.fit(train_image,train_label_onthot,epochs=10,\n",
    "                   validation_data=(test_image,test_label_onthot))\n",
    "\n",
    "#绘制损失数据\n",
    "plt.plot(history.epoch,history.history.get('acc'),label='acc')\n",
    "plt.plot(history.epoch,history.history.get('val_acc'),label='val_acc')\n",
    "plt.legend()"
   ]
  },
  {
   "cell_type": "code",
   "execution_count": null,
   "id": "c460a1da",
   "metadata": {},
   "outputs": [],
   "source": []
  }
 ],
 "metadata": {
  "kernelspec": {
   "display_name": "Python 3 (ipykernel)",
   "language": "python",
   "name": "python3"
  },
  "language_info": {
   "codemirror_mode": {
    "name": "ipython",
    "version": 3
   },
   "file_extension": ".py",
   "mimetype": "text/x-python",
   "name": "python",
   "nbconvert_exporter": "python",
   "pygments_lexer": "ipython3",
   "version": "3.11.3"
  }
 },
 "nbformat": 4,
 "nbformat_minor": 5
}
