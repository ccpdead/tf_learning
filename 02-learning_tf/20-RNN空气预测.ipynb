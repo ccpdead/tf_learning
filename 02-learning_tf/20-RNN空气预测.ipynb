{
 "cells": [
  {
   "cell_type": "code",
   "execution_count": 7,
   "id": "6d226b26",
   "metadata": {
    "ExecuteTime": {
     "end_time": "2023-08-15T03:15:26.104942600Z",
     "start_time": "2023-08-15T03:15:26.058939Z"
    }
   },
   "outputs": [],
   "source": [
    "import tensorflow as tf\n",
    "from tensorflow import keras\n",
    "from keras import layers\n",
    "import pandas as pd\n",
    "import numpy as np\n",
    "import matplotlib.pyplot as plt\n",
    "%matplotlib inline"
   ]
  },
  {
   "cell_type": "code",
   "execution_count": 12,
   "id": "d5c2a837",
   "metadata": {
    "ExecuteTime": {
     "end_time": "2023-08-15T02:00:33.063515528Z",
     "start_time": "2023-08-15T02:00:33.020641677Z"
    }
   },
   "outputs": [],
   "source": [
    "data = pd.read_csv(\n",
    "    \"/home/jhr/Documents/data/PRSA_data_2010.1.1-2014.12.31.csv\"\n",
    "    # \"../data/PRSA_data_2010.1.1-2014.12.31.csv\"\n",
    "    )"
   ]
  },
  {
   "cell_type": "code",
   "execution_count": 13,
   "id": "7ab258df",
   "metadata": {
    "ExecuteTime": {
     "end_time": "2023-08-15T02:00:34.145365488Z",
     "start_time": "2023-08-15T02:00:34.123650967Z"
    }
   },
   "outputs": [
    {
     "data": {
      "text/plain": "   No  year  month  day  hour  pm2.5  DEWP  TEMP    PRES cbwd    Iws  Is  Ir\n0   1  2010      1    1     0    NaN   -21 -11.0  1021.0   NW   1.79   0   0\n1   2  2010      1    1     1    NaN   -21 -12.0  1020.0   NW   4.92   0   0\n2   3  2010      1    1     2    NaN   -21 -11.0  1019.0   NW   6.71   0   0\n3   4  2010      1    1     3    NaN   -21 -14.0  1019.0   NW   9.84   0   0\n4   5  2010      1    1     4    NaN   -20 -12.0  1018.0   NW  12.97   0   0",
      "text/html": "<div>\n<style scoped>\n    .dataframe tbody tr th:only-of-type {\n        vertical-align: middle;\n    }\n\n    .dataframe tbody tr th {\n        vertical-align: top;\n    }\n\n    .dataframe thead th {\n        text-align: right;\n    }\n</style>\n<table border=\"1\" class=\"dataframe\">\n  <thead>\n    <tr style=\"text-align: right;\">\n      <th></th>\n      <th>No</th>\n      <th>year</th>\n      <th>month</th>\n      <th>day</th>\n      <th>hour</th>\n      <th>pm2.5</th>\n      <th>DEWP</th>\n      <th>TEMP</th>\n      <th>PRES</th>\n      <th>cbwd</th>\n      <th>Iws</th>\n      <th>Is</th>\n      <th>Ir</th>\n    </tr>\n  </thead>\n  <tbody>\n    <tr>\n      <th>0</th>\n      <td>1</td>\n      <td>2010</td>\n      <td>1</td>\n      <td>1</td>\n      <td>0</td>\n      <td>NaN</td>\n      <td>-21</td>\n      <td>-11.0</td>\n      <td>1021.0</td>\n      <td>NW</td>\n      <td>1.79</td>\n      <td>0</td>\n      <td>0</td>\n    </tr>\n    <tr>\n      <th>1</th>\n      <td>2</td>\n      <td>2010</td>\n      <td>1</td>\n      <td>1</td>\n      <td>1</td>\n      <td>NaN</td>\n      <td>-21</td>\n      <td>-12.0</td>\n      <td>1020.0</td>\n      <td>NW</td>\n      <td>4.92</td>\n      <td>0</td>\n      <td>0</td>\n    </tr>\n    <tr>\n      <th>2</th>\n      <td>3</td>\n      <td>2010</td>\n      <td>1</td>\n      <td>1</td>\n      <td>2</td>\n      <td>NaN</td>\n      <td>-21</td>\n      <td>-11.0</td>\n      <td>1019.0</td>\n      <td>NW</td>\n      <td>6.71</td>\n      <td>0</td>\n      <td>0</td>\n    </tr>\n    <tr>\n      <th>3</th>\n      <td>4</td>\n      <td>2010</td>\n      <td>1</td>\n      <td>1</td>\n      <td>3</td>\n      <td>NaN</td>\n      <td>-21</td>\n      <td>-14.0</td>\n      <td>1019.0</td>\n      <td>NW</td>\n      <td>9.84</td>\n      <td>0</td>\n      <td>0</td>\n    </tr>\n    <tr>\n      <th>4</th>\n      <td>5</td>\n      <td>2010</td>\n      <td>1</td>\n      <td>1</td>\n      <td>4</td>\n      <td>NaN</td>\n      <td>-20</td>\n      <td>-12.0</td>\n      <td>1018.0</td>\n      <td>NW</td>\n      <td>12.97</td>\n      <td>0</td>\n      <td>0</td>\n    </tr>\n  </tbody>\n</table>\n</div>"
     },
     "execution_count": 13,
     "metadata": {},
     "output_type": "execute_result"
    }
   ],
   "source": [
    "data.head()"
   ]
  },
  {
   "cell_type": "code",
   "execution_count": 14,
   "id": "4a1e2d6a",
   "metadata": {
    "ExecuteTime": {
     "end_time": "2023-08-15T02:00:37.381232498Z",
     "start_time": "2023-08-15T02:00:37.349561713Z"
    }
   },
   "outputs": [
    {
     "data": {
      "text/plain": "Index(['No', 'year', 'month', 'day', 'hour', 'pm2.5', 'DEWP', 'TEMP', 'PRES',\n       'cbwd', 'Iws', 'Is', 'Ir'],\n      dtype='object')"
     },
     "execution_count": 14,
     "metadata": {},
     "output_type": "execute_result"
    }
   ],
   "source": [
    "data.columns"
   ]
  },
  {
   "cell_type": "code",
   "execution_count": 15,
   "id": "8664b471",
   "metadata": {
    "ExecuteTime": {
     "end_time": "2023-08-15T02:00:38.902383413Z",
     "start_time": "2023-08-15T02:00:38.879085609Z"
    }
   },
   "outputs": [
    {
     "data": {
      "text/plain": "2067"
     },
     "execution_count": 15,
     "metadata": {},
     "output_type": "execute_result"
    }
   ],
   "source": [
    "data['pm2.5'].isna().sum()  # 检查所有的na数据"
   ]
  },
  {
   "cell_type": "code",
   "execution_count": 16,
   "id": "86809e91",
   "metadata": {
    "ExecuteTime": {
     "end_time": "2023-08-15T02:00:42.104422627Z",
     "start_time": "2023-08-15T02:00:42.069060726Z"
    }
   },
   "outputs": [],
   "source": [
    "# 对于nav数据，利用之前的数据进行填充\n",
    "data = data.iloc[24:].fillna(method='ffill')"
   ]
  },
  {
   "cell_type": "code",
   "execution_count": 17,
   "id": "8f148601",
   "metadata": {
    "ExecuteTime": {
     "end_time": "2023-08-15T02:00:42.522792837Z",
     "start_time": "2023-08-15T02:00:42.505782353Z"
    }
   },
   "outputs": [
    {
     "data": {
      "text/plain": "0"
     },
     "execution_count": 17,
     "metadata": {},
     "output_type": "execute_result"
    }
   ],
   "source": [
    "data['pm2.5'].isna().sum()"
   ]
  },
  {
   "cell_type": "code",
   "execution_count": 18,
   "id": "58cb8790",
   "metadata": {
    "ExecuteTime": {
     "end_time": "2023-08-15T02:00:42.895286907Z",
     "start_time": "2023-08-15T02:00:42.871402232Z"
    }
   },
   "outputs": [],
   "source": [
    "import datetime"
   ]
  },
  {
   "cell_type": "code",
   "execution_count": 19,
   "id": "89f6ec81",
   "metadata": {
    "ExecuteTime": {
     "end_time": "2023-08-15T02:00:43.850526470Z",
     "start_time": "2023-08-15T02:00:43.266734708Z"
    }
   },
   "outputs": [],
   "source": [
    "data['tm'] = data.apply(lambda x: datetime.datetime(year=x['year'],\n",
    "                                                    month=x['month'],\n",
    "                                                    day=x['day'],\n",
    "                                                    hour=x['hour']), axis=1\n",
    "                        )"
   ]
  },
  {
   "cell_type": "code",
   "execution_count": 20,
   "id": "183ae344",
   "metadata": {
    "ExecuteTime": {
     "end_time": "2023-08-15T02:00:43.872198990Z",
     "start_time": "2023-08-15T02:00:43.860320889Z"
    }
   },
   "outputs": [
    {
     "data": {
      "text/plain": "    No  year  month  day  hour  pm2.5  DEWP  TEMP    PRES cbwd   Iws  Is  Ir  \\\n24  25  2010      1    2     0  129.0   -16  -4.0  1020.0   SE  1.79   0   0   \n25  26  2010      1    2     1  148.0   -15  -4.0  1020.0   SE  2.68   0   0   \n26  27  2010      1    2     2  159.0   -11  -5.0  1021.0   SE  3.57   0   0   \n27  28  2010      1    2     3  181.0    -7  -5.0  1022.0   SE  5.36   1   0   \n28  29  2010      1    2     4  138.0    -7  -5.0  1022.0   SE  6.25   2   0   \n\n                    tm  \n24 2010-01-02 00:00:00  \n25 2010-01-02 01:00:00  \n26 2010-01-02 02:00:00  \n27 2010-01-02 03:00:00  \n28 2010-01-02 04:00:00  ",
      "text/html": "<div>\n<style scoped>\n    .dataframe tbody tr th:only-of-type {\n        vertical-align: middle;\n    }\n\n    .dataframe tbody tr th {\n        vertical-align: top;\n    }\n\n    .dataframe thead th {\n        text-align: right;\n    }\n</style>\n<table border=\"1\" class=\"dataframe\">\n  <thead>\n    <tr style=\"text-align: right;\">\n      <th></th>\n      <th>No</th>\n      <th>year</th>\n      <th>month</th>\n      <th>day</th>\n      <th>hour</th>\n      <th>pm2.5</th>\n      <th>DEWP</th>\n      <th>TEMP</th>\n      <th>PRES</th>\n      <th>cbwd</th>\n      <th>Iws</th>\n      <th>Is</th>\n      <th>Ir</th>\n      <th>tm</th>\n    </tr>\n  </thead>\n  <tbody>\n    <tr>\n      <th>24</th>\n      <td>25</td>\n      <td>2010</td>\n      <td>1</td>\n      <td>2</td>\n      <td>0</td>\n      <td>129.0</td>\n      <td>-16</td>\n      <td>-4.0</td>\n      <td>1020.0</td>\n      <td>SE</td>\n      <td>1.79</td>\n      <td>0</td>\n      <td>0</td>\n      <td>2010-01-02 00:00:00</td>\n    </tr>\n    <tr>\n      <th>25</th>\n      <td>26</td>\n      <td>2010</td>\n      <td>1</td>\n      <td>2</td>\n      <td>1</td>\n      <td>148.0</td>\n      <td>-15</td>\n      <td>-4.0</td>\n      <td>1020.0</td>\n      <td>SE</td>\n      <td>2.68</td>\n      <td>0</td>\n      <td>0</td>\n      <td>2010-01-02 01:00:00</td>\n    </tr>\n    <tr>\n      <th>26</th>\n      <td>27</td>\n      <td>2010</td>\n      <td>1</td>\n      <td>2</td>\n      <td>2</td>\n      <td>159.0</td>\n      <td>-11</td>\n      <td>-5.0</td>\n      <td>1021.0</td>\n      <td>SE</td>\n      <td>3.57</td>\n      <td>0</td>\n      <td>0</td>\n      <td>2010-01-02 02:00:00</td>\n    </tr>\n    <tr>\n      <th>27</th>\n      <td>28</td>\n      <td>2010</td>\n      <td>1</td>\n      <td>2</td>\n      <td>3</td>\n      <td>181.0</td>\n      <td>-7</td>\n      <td>-5.0</td>\n      <td>1022.0</td>\n      <td>SE</td>\n      <td>5.36</td>\n      <td>1</td>\n      <td>0</td>\n      <td>2010-01-02 03:00:00</td>\n    </tr>\n    <tr>\n      <th>28</th>\n      <td>29</td>\n      <td>2010</td>\n      <td>1</td>\n      <td>2</td>\n      <td>4</td>\n      <td>138.0</td>\n      <td>-7</td>\n      <td>-5.0</td>\n      <td>1022.0</td>\n      <td>SE</td>\n      <td>6.25</td>\n      <td>2</td>\n      <td>0</td>\n      <td>2010-01-02 04:00:00</td>\n    </tr>\n  </tbody>\n</table>\n</div>"
     },
     "execution_count": 20,
     "metadata": {},
     "output_type": "execute_result"
    }
   ],
   "source": [
    "data.head()"
   ]
  },
  {
   "cell_type": "code",
   "execution_count": 21,
   "id": "bd630847",
   "metadata": {
    "ExecuteTime": {
     "end_time": "2023-08-15T02:00:43.886914085Z",
     "start_time": "2023-08-15T02:00:43.864932280Z"
    }
   },
   "outputs": [],
   "source": [
    "# 删除部分数据\n",
    "data.drop(columns=['year', 'month', 'day', 'hour', 'No'], inplace=True)"
   ]
  },
  {
   "cell_type": "code",
   "execution_count": 22,
   "id": "89275597",
   "metadata": {
    "ExecuteTime": {
     "end_time": "2023-08-15T02:00:44.109529885Z",
     "start_time": "2023-08-15T02:00:44.074448828Z"
    }
   },
   "outputs": [],
   "source": [
    "# 将tm作为索引\n",
    "data = data.set_index('tm')"
   ]
  },
  {
   "cell_type": "code",
   "execution_count": 23,
   "id": "316bfe0a",
   "metadata": {
    "ExecuteTime": {
     "end_time": "2023-08-15T02:00:44.426712805Z",
     "start_time": "2023-08-15T02:00:44.371336296Z"
    }
   },
   "outputs": [
    {
     "data": {
      "text/plain": "                     pm2.5  DEWP  TEMP    PRES cbwd   Iws  Is  Ir\ntm                                                               \n2010-01-02 00:00:00  129.0   -16  -4.0  1020.0   SE  1.79   0   0\n2010-01-02 01:00:00  148.0   -15  -4.0  1020.0   SE  2.68   0   0\n2010-01-02 02:00:00  159.0   -11  -5.0  1021.0   SE  3.57   0   0\n2010-01-02 03:00:00  181.0    -7  -5.0  1022.0   SE  5.36   1   0\n2010-01-02 04:00:00  138.0    -7  -5.0  1022.0   SE  6.25   2   0",
      "text/html": "<div>\n<style scoped>\n    .dataframe tbody tr th:only-of-type {\n        vertical-align: middle;\n    }\n\n    .dataframe tbody tr th {\n        vertical-align: top;\n    }\n\n    .dataframe thead th {\n        text-align: right;\n    }\n</style>\n<table border=\"1\" class=\"dataframe\">\n  <thead>\n    <tr style=\"text-align: right;\">\n      <th></th>\n      <th>pm2.5</th>\n      <th>DEWP</th>\n      <th>TEMP</th>\n      <th>PRES</th>\n      <th>cbwd</th>\n      <th>Iws</th>\n      <th>Is</th>\n      <th>Ir</th>\n    </tr>\n    <tr>\n      <th>tm</th>\n      <th></th>\n      <th></th>\n      <th></th>\n      <th></th>\n      <th></th>\n      <th></th>\n      <th></th>\n      <th></th>\n    </tr>\n  </thead>\n  <tbody>\n    <tr>\n      <th>2010-01-02 00:00:00</th>\n      <td>129.0</td>\n      <td>-16</td>\n      <td>-4.0</td>\n      <td>1020.0</td>\n      <td>SE</td>\n      <td>1.79</td>\n      <td>0</td>\n      <td>0</td>\n    </tr>\n    <tr>\n      <th>2010-01-02 01:00:00</th>\n      <td>148.0</td>\n      <td>-15</td>\n      <td>-4.0</td>\n      <td>1020.0</td>\n      <td>SE</td>\n      <td>2.68</td>\n      <td>0</td>\n      <td>0</td>\n    </tr>\n    <tr>\n      <th>2010-01-02 02:00:00</th>\n      <td>159.0</td>\n      <td>-11</td>\n      <td>-5.0</td>\n      <td>1021.0</td>\n      <td>SE</td>\n      <td>3.57</td>\n      <td>0</td>\n      <td>0</td>\n    </tr>\n    <tr>\n      <th>2010-01-02 03:00:00</th>\n      <td>181.0</td>\n      <td>-7</td>\n      <td>-5.0</td>\n      <td>1022.0</td>\n      <td>SE</td>\n      <td>5.36</td>\n      <td>1</td>\n      <td>0</td>\n    </tr>\n    <tr>\n      <th>2010-01-02 04:00:00</th>\n      <td>138.0</td>\n      <td>-7</td>\n      <td>-5.0</td>\n      <td>1022.0</td>\n      <td>SE</td>\n      <td>6.25</td>\n      <td>2</td>\n      <td>0</td>\n    </tr>\n  </tbody>\n</table>\n</div>"
     },
     "execution_count": 23,
     "metadata": {},
     "output_type": "execute_result"
    }
   ],
   "source": [
    "data.head()"
   ]
  },
  {
   "cell_type": "code",
   "execution_count": 24,
   "id": "acaab87f",
   "metadata": {
    "ExecuteTime": {
     "end_time": "2023-08-15T02:00:44.816453444Z",
     "start_time": "2023-08-15T02:00:44.773328063Z"
    }
   },
   "outputs": [
    {
     "data": {
      "text/plain": "array(['SE', 'cv', 'NW', 'NE'], dtype=object)"
     },
     "execution_count": 24,
     "metadata": {},
     "output_type": "execute_result"
    }
   ],
   "source": [
    "data.cbwd.unique()  # 获取数据中唯一值"
   ]
  },
  {
   "cell_type": "code",
   "execution_count": 25,
   "id": "bbbf02e3",
   "metadata": {
    "ExecuteTime": {
     "end_time": "2023-08-15T02:00:45.940708588Z",
     "start_time": "2023-08-15T02:00:45.915050709Z"
    }
   },
   "outputs": [],
   "source": [
    "# 将独热编码后的cvwd方向增加到data中\n",
    "data = data.join(pd.get_dummies(data.cbwd))"
   ]
  },
  {
   "cell_type": "code",
   "execution_count": 26,
   "id": "56126846ec26816a",
   "metadata": {
    "collapsed": false,
    "ExecuteTime": {
     "end_time": "2023-08-15T02:00:46.422577017Z",
     "start_time": "2023-08-15T02:00:46.393516436Z"
    }
   },
   "outputs": [],
   "source": [
    "data.drop(columns=['cbwd'],inplace=True)"
   ]
  },
  {
   "cell_type": "code",
   "execution_count": 27,
   "id": "e75074e0",
   "metadata": {
    "ExecuteTime": {
     "end_time": "2023-08-15T02:00:46.765324854Z",
     "start_time": "2023-08-15T02:00:46.733718614Z"
    }
   },
   "outputs": [
    {
     "data": {
      "text/plain": "                     pm2.5  DEWP  TEMP    PRES   Iws  Is  Ir  NE  NW  SE  cv\ntm                                                                          \n2010-01-02 00:00:00  129.0   -16  -4.0  1020.0  1.79   0   0   0   0   1   0\n2010-01-02 01:00:00  148.0   -15  -4.0  1020.0  2.68   0   0   0   0   1   0\n2010-01-02 02:00:00  159.0   -11  -5.0  1021.0  3.57   0   0   0   0   1   0\n2010-01-02 03:00:00  181.0    -7  -5.0  1022.0  5.36   1   0   0   0   1   0\n2010-01-02 04:00:00  138.0    -7  -5.0  1022.0  6.25   2   0   0   0   1   0",
      "text/html": "<div>\n<style scoped>\n    .dataframe tbody tr th:only-of-type {\n        vertical-align: middle;\n    }\n\n    .dataframe tbody tr th {\n        vertical-align: top;\n    }\n\n    .dataframe thead th {\n        text-align: right;\n    }\n</style>\n<table border=\"1\" class=\"dataframe\">\n  <thead>\n    <tr style=\"text-align: right;\">\n      <th></th>\n      <th>pm2.5</th>\n      <th>DEWP</th>\n      <th>TEMP</th>\n      <th>PRES</th>\n      <th>Iws</th>\n      <th>Is</th>\n      <th>Ir</th>\n      <th>NE</th>\n      <th>NW</th>\n      <th>SE</th>\n      <th>cv</th>\n    </tr>\n    <tr>\n      <th>tm</th>\n      <th></th>\n      <th></th>\n      <th></th>\n      <th></th>\n      <th></th>\n      <th></th>\n      <th></th>\n      <th></th>\n      <th></th>\n      <th></th>\n      <th></th>\n    </tr>\n  </thead>\n  <tbody>\n    <tr>\n      <th>2010-01-02 00:00:00</th>\n      <td>129.0</td>\n      <td>-16</td>\n      <td>-4.0</td>\n      <td>1020.0</td>\n      <td>1.79</td>\n      <td>0</td>\n      <td>0</td>\n      <td>0</td>\n      <td>0</td>\n      <td>1</td>\n      <td>0</td>\n    </tr>\n    <tr>\n      <th>2010-01-02 01:00:00</th>\n      <td>148.0</td>\n      <td>-15</td>\n      <td>-4.0</td>\n      <td>1020.0</td>\n      <td>2.68</td>\n      <td>0</td>\n      <td>0</td>\n      <td>0</td>\n      <td>0</td>\n      <td>1</td>\n      <td>0</td>\n    </tr>\n    <tr>\n      <th>2010-01-02 02:00:00</th>\n      <td>159.0</td>\n      <td>-11</td>\n      <td>-5.0</td>\n      <td>1021.0</td>\n      <td>3.57</td>\n      <td>0</td>\n      <td>0</td>\n      <td>0</td>\n      <td>0</td>\n      <td>1</td>\n      <td>0</td>\n    </tr>\n    <tr>\n      <th>2010-01-02 03:00:00</th>\n      <td>181.0</td>\n      <td>-7</td>\n      <td>-5.0</td>\n      <td>1022.0</td>\n      <td>5.36</td>\n      <td>1</td>\n      <td>0</td>\n      <td>0</td>\n      <td>0</td>\n      <td>1</td>\n      <td>0</td>\n    </tr>\n    <tr>\n      <th>2010-01-02 04:00:00</th>\n      <td>138.0</td>\n      <td>-7</td>\n      <td>-5.0</td>\n      <td>1022.0</td>\n      <td>6.25</td>\n      <td>2</td>\n      <td>0</td>\n      <td>0</td>\n      <td>0</td>\n      <td>1</td>\n      <td>0</td>\n    </tr>\n  </tbody>\n</table>\n</div>"
     },
     "execution_count": 27,
     "metadata": {},
     "output_type": "execute_result"
    }
   ],
   "source": [
    "data.head()  # 返回前几行数据"
   ]
  },
  {
   "cell_type": "code",
   "execution_count": 28,
   "id": "0bfa5443",
   "metadata": {
    "ExecuteTime": {
     "end_time": "2023-08-15T02:00:47.435102291Z",
     "start_time": "2023-08-15T02:00:47.129051865Z"
    }
   },
   "outputs": [
    {
     "data": {
      "text/plain": "<Axes: xlabel='tm'>"
     },
     "execution_count": 28,
     "metadata": {},
     "output_type": "execute_result"
    },
    {
     "data": {
      "text/plain": "<Figure size 640x480 with 1 Axes>",
      "image/png": "[encoded data removed]"
     },
     "metadata": {},
     "output_type": "display_data"
    }
   ],
   "source": [
    "data['pm2.5'][-1000:].plot()"
   ]
  },
  {
   "cell_type": "code",
   "execution_count": 29,
   "id": "b338f6e6",
   "metadata": {
    "ExecuteTime": {
     "end_time": "2023-08-15T02:00:47.683283462Z",
     "start_time": "2023-08-15T02:00:47.633702553Z"
    }
   },
   "outputs": [],
   "source": [
    "seq_lenth = 5*24  # train 120\n",
    "delay = 24  # label 24"
   ]
  },
  {
   "cell_type": "code",
   "execution_count": 30,
   "id": "54f29637",
   "metadata": {
    "ExecuteTime": {
     "end_time": "2023-08-15T02:00:48.161827939Z",
     "start_time": "2023-08-15T02:00:48.135585980Z"
    }
   },
   "outputs": [],
   "source": [
    "data_ = []  # 列表"
   ]
  },
  {
   "cell_type": "markdown",
   "id": "902e16a5",
   "metadata": {},
   "source": [
    "data总共有43800行数据，训练数据为5*24小时的天气数据，训练标签为24小时的pm2.5的浓度\n",
    "\n",
    "data_形状为(43656,144,12)表明该列表总共43656行，每行由144个数据，每个数据由12部分数据组合"
   ]
  },
  {
   "cell_type": "code",
   "execution_count": 31,
   "id": "f32a2965",
   "metadata": {
    "ExecuteTime": {
     "end_time": "2023-08-15T02:00:51.224904380Z",
     "start_time": "2023-08-15T02:00:48.787947599Z"
    }
   },
   "outputs": [],
   "source": [
    "for i in range(len(data)-seq_lenth-delay):\n",
    "    data_.append(data.iloc[i:i+seq_lenth+delay])"
   ]
  },
  {
   "cell_type": "code",
   "execution_count": 32,
   "id": "80f2cc6e",
   "metadata": {
    "ExecuteTime": {
     "end_time": "2023-08-15T02:01:00.451932684Z",
     "start_time": "2023-08-15T02:00:51.208242541Z"
    }
   },
   "outputs": [],
   "source": [
    "# 将列表转换为集合\n",
    "data_ = np.array([df.values for df in data_])"
   ]
  },
  {
   "cell_type": "code",
   "execution_count": 33,
   "id": "ccba80d6",
   "metadata": {
    "ExecuteTime": {
     "end_time": "2023-08-15T02:01:00.459693194Z",
     "start_time": "2023-08-15T02:01:00.453127066Z"
    }
   },
   "outputs": [
    {
     "data": {
      "text/plain": "(43656, 144, 11)"
     },
     "execution_count": 33,
     "metadata": {},
     "output_type": "execute_result"
    }
   ],
   "source": [
    "data_.shape"
   ]
  },
  {
   "cell_type": "code",
   "execution_count": 34,
   "id": "cad801b5",
   "metadata": {
    "ExecuteTime": {
     "end_time": "2023-08-15T02:01:00.682145955Z",
     "start_time": "2023-08-15T02:01:00.458626717Z"
    }
   },
   "outputs": [],
   "source": [
    "np.random.shuffle(data_)  # 乱序"
   ]
  },
  {
   "cell_type": "code",
   "execution_count": 35,
   "id": "5bf76086",
   "metadata": {
    "ExecuteTime": {
     "end_time": "2023-08-15T02:01:00.688079936Z",
     "start_time": "2023-08-15T02:01:00.682886717Z"
    }
   },
   "outputs": [],
   "source": [
    "x = data_[:, :5*24, :]  # 切片[开始：停止：间隔]"
   ]
  },
  {
   "cell_type": "code",
   "execution_count": 36,
   "id": "b795e7f5",
   "metadata": {
    "ExecuteTime": {
     "end_time": "2023-08-15T02:01:00.717990369Z",
     "start_time": "2023-08-15T02:01:00.687221584Z"
    }
   },
   "outputs": [
    {
     "data": {
      "text/plain": "(43656, 120, 11)"
     },
     "execution_count": 36,
     "metadata": {},
     "output_type": "execute_result"
    }
   ],
   "source": [
    "x.shape"
   ]
  },
  {
   "cell_type": "code",
   "execution_count": 37,
   "id": "35c63273",
   "metadata": {
    "ExecuteTime": {
     "end_time": "2023-08-15T02:01:00.718283833Z",
     "start_time": "2023-08-15T02:01:00.695310976Z"
    }
   },
   "outputs": [],
   "source": [
    "y = data_[:, -1, 0]"
   ]
  },
  {
   "cell_type": "code",
   "execution_count": 38,
   "id": "bd58edbb",
   "metadata": {
    "ExecuteTime": {
     "end_time": "2023-08-15T02:01:00.740983660Z",
     "start_time": "2023-08-15T02:01:00.699574271Z"
    }
   },
   "outputs": [
    {
     "data": {
      "text/plain": "(43656,)"
     },
     "execution_count": 38,
     "metadata": {},
     "output_type": "execute_result"
    }
   ],
   "source": [
    "y.shape"
   ]
  },
  {
   "cell_type": "code",
   "execution_count": 39,
   "id": "48ac7f18",
   "metadata": {
    "ExecuteTime": {
     "end_time": "2023-08-15T02:01:00.754519846Z",
     "start_time": "2023-08-15T02:01:00.747719432Z"
    }
   },
   "outputs": [],
   "source": [
    "split_b = int(data_.shape[0]*0.8)"
   ]
  },
  {
   "cell_type": "code",
   "execution_count": 40,
   "id": "2b31e264",
   "metadata": {
    "ExecuteTime": {
     "end_time": "2023-08-15T02:01:00.754858601Z",
     "start_time": "2023-08-15T02:01:00.747864216Z"
    }
   },
   "outputs": [],
   "source": [
    "#训练数据\n",
    "train_x = x[:split_b]#数据\n",
    "train_y = y[:split_b]#标签\n",
    "#测试数据\n",
    "test_x = x[split_b:]\n",
    "test_y = y[split_b:]"
   ]
  },
  {
   "cell_type": "code",
   "execution_count": 41,
   "id": "4c0df8cd6e7fd1e",
   "metadata": {
    "collapsed": false,
    "ExecuteTime": {
     "end_time": "2023-08-15T02:01:00.755251386Z",
     "start_time": "2023-08-15T02:01:00.747941821Z"
    }
   },
   "outputs": [
    {
     "data": {
      "text/plain": "((8732, 120, 11), (8732,))"
     },
     "execution_count": 41,
     "metadata": {},
     "output_type": "execute_result"
    }
   ],
   "source": [
    "test_x.shape,test_y.shape"
   ]
  },
  {
   "cell_type": "markdown",
   "id": "48c69a30",
   "metadata": {},
   "source": [
    "**数据标准化**"
   ]
  },
  {
   "cell_type": "code",
   "execution_count": 42,
   "id": "96d7ba51",
   "metadata": {
    "ExecuteTime": {
     "end_time": "2023-08-15T02:01:06.297424022Z",
     "start_time": "2023-08-15T02:01:06.071799771Z"
    }
   },
   "outputs": [],
   "source": [
    "# train_x=train_x.astype(np.float64)\n",
    "# test_x=test_x.astype(np.float64)\n",
    "mean=train_x.mean(axis=0)\n",
    "std=train_x.std(axis=0)"
   ]
  },
  {
   "cell_type": "code",
   "execution_count": 43,
   "id": "8c90c684793047b0",
   "metadata": {
    "collapsed": false,
    "ExecuteTime": {
     "end_time": "2023-08-15T02:01:07.746977580Z",
     "start_time": "2023-08-15T02:01:07.494868233Z"
    }
   },
   "outputs": [],
   "source": [
    "train_x=(train_x-mean)/std\n",
    "test_x=(test_x-mean)/std"
   ]
  },
  {
   "cell_type": "code",
   "execution_count": 44,
   "id": "539768a5f7fafed4",
   "metadata": {
    "collapsed": false,
    "ExecuteTime": {
     "end_time": "2023-08-15T02:01:08.739362432Z",
     "start_time": "2023-08-15T02:01:08.693064383Z"
    }
   },
   "outputs": [
    {
     "data": {
      "text/plain": "(34924, 120, 11)"
     },
     "execution_count": 44,
     "metadata": {},
     "output_type": "execute_result"
    }
   ],
   "source": [
    "train_x.shape"
   ]
  },
  {
   "cell_type": "code",
   "execution_count": 45,
   "id": "aa23ee0fa5fe47e5",
   "metadata": {
    "collapsed": false,
    "ExecuteTime": {
     "end_time": "2023-08-15T02:01:09.162360817Z",
     "start_time": "2023-08-15T02:01:09.138350994Z"
    }
   },
   "outputs": [
    {
     "data": {
      "text/plain": "(8732, 120, 11)"
     },
     "execution_count": 45,
     "metadata": {},
     "output_type": "execute_result"
    }
   ],
   "source": [
    "test_x.shape"
   ]
  },
  {
   "cell_type": "markdown",
   "id": "ebba7a82f37e8d98",
   "metadata": {
    "collapsed": false
   },
   "source": [
    "**创建模型**"
   ]
  },
  {
   "cell_type": "code",
   "execution_count": 46,
   "id": "5bc9d708e69c2c90",
   "metadata": {
    "collapsed": false,
    "ExecuteTime": {
     "end_time": "2023-08-15T02:01:10.319068551Z",
     "start_time": "2023-08-15T02:01:10.290333263Z"
    }
   },
   "outputs": [],
   "source": [
    "batch_size=128"
   ]
  },
  {
   "cell_type": "markdown",
   "id": "aa2aba9e9c9de9c3",
   "metadata": {
    "collapsed": false
   },
   "source": [
    "Flatten 层是 TensorFlow 中的一个层，用于将输入张量展平为一维张量。Flatten 层经常用于在卷积神经网络 (CNN) 中将卷积层的输出转换为全连接层的输入。"
   ]
  },
  {
   "cell_type": "code",
   "execution_count": 38,
   "id": "3d074fd30be0e58d",
   "metadata": {
    "collapsed": false,
    "ExecuteTime": {
     "end_time": "2023-08-15T01:39:29.446062757Z",
     "start_time": "2023-08-15T01:39:29.372979076Z"
    }
   },
   "outputs": [],
   "source": [
    "model=keras.Sequential()\n",
    "model.add(layers.Flatten(input_shape=(train_x.shape[1:])))#120,11\n",
    "model.add(layers.Dense(32,activation='relu'))\n",
    "model.add(layers.Dense(1))"
   ]
  },
  {
   "cell_type": "code",
   "execution_count": 39,
   "id": "a79514460ba0a864",
   "metadata": {
    "collapsed": false,
    "ExecuteTime": {
     "end_time": "2023-08-15T01:39:31.272712572Z",
     "start_time": "2023-08-15T01:39:31.247973701Z"
    }
   },
   "outputs": [],
   "source": [
    "model.compile(optimizer='adam',\n",
    "              loss='mse',\n",
    "              metrics=['mae'])#均方差\n"
   ]
  },
  {
   "cell_type": "code",
   "execution_count": 41,
   "outputs": [
    {
     "ename": "ValueError",
     "evalue": "Failed to convert a NumPy array to a Tensor (Unsupported object type float).",
     "output_type": "error",
     "traceback": [
      "\u001B[0;31m---------------------------------------------------------------------------\u001B[0m",
      "\u001B[0;31mValueError\u001B[0m                                Traceback (most recent call last)",
      "Cell \u001B[0;32mIn[41], line 1\u001B[0m\n\u001B[0;32m----> 1\u001B[0m history\u001B[38;5;241m=\u001B[39m\u001B[43mmodel\u001B[49m\u001B[38;5;241;43m.\u001B[39;49m\u001B[43mfit\u001B[49m\u001B[43m(\u001B[49m\u001B[43mtrain_x\u001B[49m\u001B[43m,\u001B[49m\n\u001B[1;32m      2\u001B[0m \u001B[43m                  \u001B[49m\u001B[43mtrain_y\u001B[49m\u001B[43m,\u001B[49m\n\u001B[1;32m      3\u001B[0m \u001B[43m                  \u001B[49m\u001B[43mbatch_size\u001B[49m\u001B[38;5;241;43m=\u001B[39;49m\u001B[43mbatch_size\u001B[49m\u001B[43m,\u001B[49m\n\u001B[1;32m      4\u001B[0m \u001B[43m                  \u001B[49m\u001B[43mepochs\u001B[49m\u001B[38;5;241;43m=\u001B[39;49m\u001B[38;5;241;43m50\u001B[39;49m\u001B[43m,\u001B[49m\n\u001B[1;32m      5\u001B[0m \u001B[43m                  \u001B[49m\u001B[38;5;66;43;03m# validation_data=(test_x,test_y)\u001B[39;49;00m\n\u001B[1;32m      6\u001B[0m \u001B[43m                  \u001B[49m\u001B[43m)\u001B[49m\n",
      "File \u001B[0;32m~/.local/lib/python3.8/site-packages/keras/src/utils/traceback_utils.py:70\u001B[0m, in \u001B[0;36mfilter_traceback.<locals>.error_handler\u001B[0;34m(*args, **kwargs)\u001B[0m\n\u001B[1;32m     67\u001B[0m     filtered_tb \u001B[38;5;241m=\u001B[39m _process_traceback_frames(e\u001B[38;5;241m.\u001B[39m__traceback__)\n\u001B[1;32m     68\u001B[0m     \u001B[38;5;66;03m# To get the full stack trace, call:\u001B[39;00m\n\u001B[1;32m     69\u001B[0m     \u001B[38;5;66;03m# `tf.debugging.disable_traceback_filtering()`\u001B[39;00m\n\u001B[0;32m---> 70\u001B[0m     \u001B[38;5;28;01mraise\u001B[39;00m e\u001B[38;5;241m.\u001B[39mwith_traceback(filtered_tb) \u001B[38;5;28;01mfrom\u001B[39;00m \u001B[38;5;28;01mNone\u001B[39;00m\n\u001B[1;32m     71\u001B[0m \u001B[38;5;28;01mfinally\u001B[39;00m:\n\u001B[1;32m     72\u001B[0m     \u001B[38;5;28;01mdel\u001B[39;00m filtered_tb\n",
      "File \u001B[0;32m~/.local/lib/python3.8/site-packages/tensorflow/python/framework/constant_op.py:98\u001B[0m, in \u001B[0;36mconvert_to_eager_tensor\u001B[0;34m(value, ctx, dtype)\u001B[0m\n\u001B[1;32m     96\u001B[0m     dtype \u001B[38;5;241m=\u001B[39m dtypes\u001B[38;5;241m.\u001B[39mas_dtype(dtype)\u001B[38;5;241m.\u001B[39mas_datatype_enum\n\u001B[1;32m     97\u001B[0m ctx\u001B[38;5;241m.\u001B[39mensure_initialized()\n\u001B[0;32m---> 98\u001B[0m \u001B[38;5;28;01mreturn\u001B[39;00m \u001B[43mops\u001B[49m\u001B[38;5;241;43m.\u001B[39;49m\u001B[43mEagerTensor\u001B[49m\u001B[43m(\u001B[49m\u001B[43mvalue\u001B[49m\u001B[43m,\u001B[49m\u001B[43m \u001B[49m\u001B[43mctx\u001B[49m\u001B[38;5;241;43m.\u001B[39;49m\u001B[43mdevice_name\u001B[49m\u001B[43m,\u001B[49m\u001B[43m \u001B[49m\u001B[43mdtype\u001B[49m\u001B[43m)\u001B[49m\n",
      "\u001B[0;31mValueError\u001B[0m: Failed to convert a NumPy array to a Tensor (Unsupported object type float)."
     ]
    }
   ],
   "source": [
    "history=model.fit(train_x,\n",
    "                  train_y,\n",
    "                  batch_size=batch_size,\n",
    "                  epochs=50,\n",
    "                  # validation_data=(test_x,test_y)\n",
    "                  )"
   ],
   "metadata": {
    "collapsed": false,
    "ExecuteTime": {
     "end_time": "2023-08-15T01:39:50.356026985Z",
     "start_time": "2023-08-15T01:39:50.303560190Z"
    }
   },
   "id": "8ff29dcf8b881b4"
  },
  {
   "cell_type": "code",
   "execution_count": 42,
   "id": "12e9d509f478d5ae",
   "metadata": {
    "collapsed": false,
    "ExecuteTime": {
     "end_time": "2023-08-15T01:39:51.258861751Z",
     "start_time": "2023-08-15T01:39:51.148896990Z"
    }
   },
   "outputs": [
    {
     "ename": "NameError",
     "evalue": "name 'history' is not defined",
     "output_type": "error",
     "traceback": [
      "\u001B[0;31m---------------------------------------------------------------------------\u001B[0m",
      "\u001B[0;31mNameError\u001B[0m                                 Traceback (most recent call last)",
      "Cell \u001B[0;32mIn[42], line 1\u001B[0m\n\u001B[0;32m----> 1\u001B[0m \u001B[43mhistory\u001B[49m\u001B[38;5;241m.\u001B[39mhistory\u001B[38;5;241m.\u001B[39mkeys()\n",
      "\u001B[0;31mNameError\u001B[0m: name 'history' is not defined"
     ]
    }
   ],
   "source": [
    "history.history.keys()"
   ]
  },
  {
   "cell_type": "code",
   "execution_count": null,
   "id": "cadc36af1d84ec1",
   "metadata": {
    "collapsed": false
   },
   "outputs": [],
   "source": [
    "#显示平均误差\n",
    "plt.plot(history.epoch,history.history.get('mae'),c='r',label='training')\n",
    "plt.plot(history.epoch,history.history.get('val_mae'),c='b',label='testing')\n",
    "plt.legend()"
   ]
  },
  {
   "cell_type": "markdown",
   "id": "8e23c0232c24c1c0",
   "metadata": {
    "collapsed": false
   },
   "source": [
    "上图可知，由于模型的深度较小，训练后的误差在50%左右，假设正确值为100，则预测的数据为50或150（这个是回归模型）"
   ]
  },
  {
   "cell_type": "markdown",
   "id": "e9ae2401c44e8f59",
   "metadata": {
    "collapsed": false
   },
   "source": [
    " ## 建立LSTM网络模型"
   ]
  },
  {
   "cell_type": "code",
   "execution_count": null,
   "id": "7a573f7686b799b4",
   "metadata": {
    "collapsed": false
   },
   "outputs": [],
   "source": [
    "train_x.shape"
   ]
  },
  {
   "cell_type": "markdown",
   "id": "cd6c7ac099233826",
   "metadata": {
    "collapsed": false
   },
   "source": [
    "lstm网络输入的数据是一个三维，总数据，观测数据，以及数据特征\n"
   ]
  },
  {
   "cell_type": "code",
   "execution_count": null,
   "id": "502af8942693c0ea",
   "metadata": {
    "collapsed": false
   },
   "outputs": [],
   "source": [
    "#创建模型\n",
    "model=keras.Sequential()\n",
    "model.add(layers.LSTM(32,input_shape=(train_x.shape[1:])))\n",
    "model.add(layers.Dense(1))#对于回归问题，输出不需要激活函数 "
   ]
  },
  {
   "cell_type": "code",
   "execution_count": null,
   "id": "f8497ee96e313149",
   "metadata": {
    "collapsed": false
   },
   "outputs": [],
   "source": [
    "model.compile(optimizer='adam',\n",
    "              loss='mse',\n",
    "              metrics=['mae'])#均方差"
   ]
  },
  {
   "cell_type": "code",
   "execution_count": null,
   "id": "fb292dfb135e16e8",
   "metadata": {
    "collapsed": false
   },
   "outputs": [],
   "source": [
    "history=model.fit(train_x,\n",
    "                  train_y,\n",
    "                  batch_size=batch_size,\n",
    "                  epochs=100,\n",
    "                  validation_data=(test_x,test_y)\n",
    "                  )"
   ]
  },
  {
   "cell_type": "code",
   "execution_count": null,
   "id": "b05c826809d35fec",
   "metadata": {
    "collapsed": false
   },
   "outputs": [],
   "source": [
    "#显示平均误差\n",
    "plt.plot(history.epoch,history.history.get('mae'),c='r',label='training')\n",
    "plt.plot(history.epoch,history.history.get('val_mae'),c='b',label='testing')\n",
    "plt.legend()"
   ]
  },
  {
   "cell_type": "markdown",
   "source": [
    "## LSTM优化\n",
    "\n",
    "在训练过程中降低学习速率"
   ],
   "metadata": {
    "collapsed": false
   },
   "id": "b043494f57b3a7c5"
  },
  {
   "cell_type": "code",
   "execution_count": 51,
   "outputs": [],
   "source": [
    "#创建模型\n",
    "model=keras.Sequential()\n",
    "model.add(layers.LSTM(32,input_shape=(train_x.shape[1:]),return_sequences=True))#out层都输出\n",
    "model.add(layers.LSTM(32,return_sequences=True))\n",
    "model.add(layers.LSTM(32,return_sequences=True))\n",
    "model.add(layers.LSTM(32,return_sequences=True))\n",
    "model.add(layers.LSTM(32,return_sequences=True))\n",
    "model.add(layers.LSTM(32,return_sequences=True))\n",
    "model.add(layers.LSTM(32,return_sequences=True))\n",
    "model.add(layers.LSTM(32))\n",
    "model.add(layers.Dense(1))#对于回归问题，输出不需要激活函数 "
   ],
   "metadata": {
    "collapsed": false,
    "ExecuteTime": {
     "end_time": "2023-08-15T02:04:31.297216274Z",
     "start_time": "2023-08-15T02:04:29.828769447Z"
    }
   },
   "id": "7f524a9fbdd0cb2e"
  },
  {
   "cell_type": "code",
   "execution_count": 52,
   "outputs": [],
   "source": [
    "lr_reduce=keras.callbacks.ReduceLROnPlateau('val_loss',patience=3,factor=0.8,min_lr=0.000001)"
   ],
   "metadata": {
    "collapsed": false,
    "ExecuteTime": {
     "end_time": "2023-08-15T02:04:31.297690561Z",
     "start_time": "2023-08-15T02:04:31.278735801Z"
    }
   },
   "id": "56158c3a4e28eb7d"
  },
  {
   "cell_type": "code",
   "execution_count": 53,
   "outputs": [],
   "source": [
    "model.compile(optimizer='adam',\n",
    "              loss='mse',\n",
    "              metrics=['mae'])#均方差"
   ],
   "metadata": {
    "collapsed": false,
    "ExecuteTime": {
     "end_time": "2023-08-15T02:04:32.210707675Z",
     "start_time": "2023-08-15T02:04:32.180712050Z"
    }
   },
   "id": "5064535ee0f53fe1"
  },
  {
   "cell_type": "code",
   "execution_count": 54,
   "outputs": [
    {
     "name": "stdout",
     "output_type": "stream",
     "text": [
      "Epoch 1/100\n",
      "273/273 [==============================] - 31s 75ms/step - loss: 15941.1748 - mae: 87.6095 - val_loss: 14793.8545 - val_mae: 81.3352 - lr: 0.0010\n",
      "Epoch 2/100\n",
      "273/273 [==============================] - 18s 67ms/step - loss: 14261.7666 - mae: 79.9712 - val_loss: 13472.7295 - val_mae: 75.9660 - lr: 0.0010\n",
      "Epoch 3/100\n",
      "273/273 [==============================] - 18s 67ms/step - loss: 13040.1318 - mae: 75.3329 - val_loss: 12391.7549 - val_mae: 72.1106 - lr: 0.0010\n",
      "Epoch 4/100\n",
      "273/273 [==============================] - 18s 67ms/step - loss: 12028.4941 - mae: 71.8948 - val_loss: 11493.4170 - val_mae: 69.2131 - lr: 0.0010\n",
      "Epoch 5/100\n",
      "273/273 [==============================] - 18s 66ms/step - loss: 11191.2334 - mae: 69.3721 - val_loss: 10757.7344 - val_mae: 67.1449 - lr: 0.0010\n",
      "Epoch 6/100\n",
      "273/273 [==============================] - 18s 66ms/step - loss: 10503.3516 - mae: 67.6020 - val_loss: 10160.6396 - val_mae: 65.7732 - lr: 0.0010\n",
      "Epoch 7/100\n",
      "273/273 [==============================] - 18s 66ms/step - loss: 9945.9834 - mae: 66.4315 - val_loss: 9682.9463 - val_mae: 64.9570 - lr: 0.0010\n",
      "Epoch 8/100\n",
      "273/273 [==============================] - 18s 67ms/step - loss: 9502.4326 - mae: 65.7232 - val_loss: 9309.6885 - val_mae: 64.5735 - lr: 0.0010\n",
      "Epoch 9/100\n",
      "273/273 [==============================] - 18s 67ms/step - loss: 9157.3955 - mae: 65.4065 - val_loss: 9025.8594 - val_mae: 64.5287 - lr: 0.0010\n",
      "Epoch 10/100\n",
      "273/273 [==============================] - 17s 64ms/step - loss: 8895.7686 - mae: 65.3885 - val_loss: 8816.2939 - val_mae: 64.7303 - lr: 0.0010\n",
      "Epoch 11/100\n",
      "273/273 [==============================] - 18s 66ms/step - loss: 8704.3135 - mae: 65.6098 - val_loss: 8668.7510 - val_mae: 65.1200 - lr: 0.0010\n",
      "Epoch 12/100\n",
      "273/273 [==============================] - 18s 66ms/step - loss: 8569.5459 - mae: 65.9597 - val_loss: 8570.4150 - val_mae: 65.5999 - lr: 0.0010\n",
      "Epoch 13/100\n",
      "273/273 [==============================] - 18s 67ms/step - loss: 8479.0703 - mae: 66.4067 - val_loss: 8508.8398 - val_mae: 66.1101 - lr: 0.0010\n",
      "Epoch 14/100\n",
      "273/273 [==============================] - 18s 67ms/step - loss: 8421.4971 - mae: 66.8237 - val_loss: 8473.0439 - val_mae: 66.6109 - lr: 0.0010\n",
      "Epoch 15/100\n",
      "273/273 [==============================] - 19s 68ms/step - loss: 8387.2764 - mae: 67.2571 - val_loss: 8454.5312 - val_mae: 67.0629 - lr: 0.0010\n",
      "Epoch 16/100\n",
      "273/273 [==============================] - 18s 66ms/step - loss: 8368.8252 - mae: 67.6271 - val_loss: 8446.7656 - val_mae: 67.4230 - lr: 0.0010\n",
      "Epoch 17/100\n",
      "273/273 [==============================] - 18s 67ms/step - loss: 8359.4717 - mae: 67.9042 - val_loss: 8444.2539 - val_mae: 67.7154 - lr: 0.0010\n",
      "Epoch 18/100\n",
      "273/273 [==============================] - 18s 67ms/step - loss: 8355.3604 - mae: 68.1408 - val_loss: 8444.2646 - val_mae: 67.9205 - lr: 0.0010\n",
      "Epoch 19/100\n",
      "273/273 [==============================] - 19s 68ms/step - loss: 8353.7178 - mae: 68.3022 - val_loss: 8444.9492 - val_mae: 68.0507 - lr: 0.0010\n",
      "Epoch 20/100\n",
      "273/273 [==============================] - 18s 66ms/step - loss: 8353.1836 - mae: 68.3693 - val_loss: 8445.6729 - val_mae: 68.1348 - lr: 0.0010\n",
      "Epoch 21/100\n",
      "273/273 [==============================] - 18s 67ms/step - loss: 8352.8857 - mae: 68.4388 - val_loss: 8445.9238 - val_mae: 68.1593 - lr: 5.0000e-04\n",
      "Epoch 22/100\n",
      "273/273 [==============================] - 18s 66ms/step - loss: 8352.8711 - mae: 68.4602 - val_loss: 8445.9980 - val_mae: 68.1663 - lr: 5.0000e-04\n",
      "Epoch 23/100\n",
      "273/273 [==============================] - 18s 68ms/step - loss: 8352.8691 - mae: 68.4628 - val_loss: 8446.2246 - val_mae: 68.1871 - lr: 5.0000e-04\n",
      "Epoch 24/100\n",
      "273/273 [==============================] - 18s 68ms/step - loss: 8352.8076 - mae: 68.4683 - val_loss: 8446.2920 - val_mae: 68.1932 - lr: 2.5000e-04\n",
      "Epoch 25/100\n",
      "273/273 [==============================] - 18s 67ms/step - loss: 8352.8037 - mae: 68.4651 - val_loss: 8446.3604 - val_mae: 68.1987 - lr: 2.5000e-04\n",
      "Epoch 26/100\n",
      "273/273 [==============================] - 18s 67ms/step - loss: 8352.7979 - mae: 68.4929 - val_loss: 8446.4443 - val_mae: 68.2062 - lr: 2.5000e-04\n",
      "Epoch 27/100\n",
      "273/273 [==============================] - 18s 66ms/step - loss: 8352.7773 - mae: 68.4861 - val_loss: 8446.4346 - val_mae: 68.2053 - lr: 1.2500e-04\n",
      "Epoch 28/100\n",
      "273/273 [==============================] - 18s 66ms/step - loss: 8352.7646 - mae: 68.4843 - val_loss: 8446.4561 - val_mae: 68.2070 - lr: 1.2500e-04\n",
      "Epoch 29/100\n",
      "108/273 [==========>...................] - ETA: 9s - loss: 8065.6885 - mae: 68.0345"
     ]
    },
    {
     "ename": "KeyboardInterrupt",
     "evalue": "",
     "output_type": "error",
     "traceback": [
      "\u001B[0;31m---------------------------------------------------------------------------\u001B[0m",
      "\u001B[0;31mKeyboardInterrupt\u001B[0m                         Traceback (most recent call last)",
      "Cell \u001B[0;32mIn[54], line 1\u001B[0m\n\u001B[0;32m----> 1\u001B[0m history\u001B[38;5;241m=\u001B[39mmodel\u001B[38;5;241m.\u001B[39mfit(train_x,\n\u001B[1;32m      2\u001B[0m                   train_y,\n\u001B[1;32m      3\u001B[0m                   batch_size\u001B[38;5;241m=\u001B[39mbatch_size,\n\u001B[1;32m      4\u001B[0m                   epochs\u001B[38;5;241m=\u001B[39m\u001B[38;5;241m100\u001B[39m,\n\u001B[1;32m      5\u001B[0m                   validation_data\u001B[38;5;241m=\u001B[39m(test_x,test_y),\n\u001B[1;32m      6\u001B[0m                   callbacks\u001B[38;5;241m=\u001B[39m[lr_reduce]\n\u001B[1;32m      7\u001B[0m                   )\n",
      "File \u001B[0;32m~/anaconda3/lib/python3.11/site-packages/keras/src/utils/traceback_utils.py:65\u001B[0m, in \u001B[0;36mfilter_traceback.<locals>.error_handler\u001B[0;34m(*args, **kwargs)\u001B[0m\n\u001B[1;32m     63\u001B[0m filtered_tb \u001B[38;5;241m=\u001B[39m \u001B[38;5;28;01mNone\u001B[39;00m\n\u001B[1;32m     64\u001B[0m \u001B[38;5;28;01mtry\u001B[39;00m:\n\u001B[0;32m---> 65\u001B[0m     \u001B[38;5;28;01mreturn\u001B[39;00m fn(\u001B[38;5;241m*\u001B[39margs, \u001B[38;5;241m*\u001B[39m\u001B[38;5;241m*\u001B[39mkwargs)\n\u001B[1;32m     66\u001B[0m \u001B[38;5;28;01mexcept\u001B[39;00m \u001B[38;5;167;01mException\u001B[39;00m \u001B[38;5;28;01mas\u001B[39;00m e:\n\u001B[1;32m     67\u001B[0m     filtered_tb \u001B[38;5;241m=\u001B[39m _process_traceback_frames(e\u001B[38;5;241m.\u001B[39m__traceback__)\n",
      "File \u001B[0;32m~/anaconda3/lib/python3.11/site-packages/keras/src/engine/training.py:1742\u001B[0m, in \u001B[0;36mModel.fit\u001B[0;34m(self, x, y, batch_size, epochs, verbose, callbacks, validation_split, validation_data, shuffle, class_weight, sample_weight, initial_epoch, steps_per_epoch, validation_steps, validation_batch_size, validation_freq, max_queue_size, workers, use_multiprocessing)\u001B[0m\n\u001B[1;32m   1734\u001B[0m \u001B[38;5;28;01mwith\u001B[39;00m tf\u001B[38;5;241m.\u001B[39mprofiler\u001B[38;5;241m.\u001B[39mexperimental\u001B[38;5;241m.\u001B[39mTrace(\n\u001B[1;32m   1735\u001B[0m     \u001B[38;5;124m\"\u001B[39m\u001B[38;5;124mtrain\u001B[39m\u001B[38;5;124m\"\u001B[39m,\n\u001B[1;32m   1736\u001B[0m     epoch_num\u001B[38;5;241m=\u001B[39mepoch,\n\u001B[0;32m   (...)\u001B[0m\n\u001B[1;32m   1739\u001B[0m     _r\u001B[38;5;241m=\u001B[39m\u001B[38;5;241m1\u001B[39m,\n\u001B[1;32m   1740\u001B[0m ):\n\u001B[1;32m   1741\u001B[0m     callbacks\u001B[38;5;241m.\u001B[39mon_train_batch_begin(step)\n\u001B[0;32m-> 1742\u001B[0m     tmp_logs \u001B[38;5;241m=\u001B[39m \u001B[38;5;28mself\u001B[39m\u001B[38;5;241m.\u001B[39mtrain_function(iterator)\n\u001B[1;32m   1743\u001B[0m     \u001B[38;5;28;01mif\u001B[39;00m data_handler\u001B[38;5;241m.\u001B[39mshould_sync:\n\u001B[1;32m   1744\u001B[0m         context\u001B[38;5;241m.\u001B[39masync_wait()\n",
      "File \u001B[0;32m~/anaconda3/lib/python3.11/site-packages/tensorflow/python/util/traceback_utils.py:150\u001B[0m, in \u001B[0;36mfilter_traceback.<locals>.error_handler\u001B[0;34m(*args, **kwargs)\u001B[0m\n\u001B[1;32m    148\u001B[0m filtered_tb \u001B[38;5;241m=\u001B[39m \u001B[38;5;28;01mNone\u001B[39;00m\n\u001B[1;32m    149\u001B[0m \u001B[38;5;28;01mtry\u001B[39;00m:\n\u001B[0;32m--> 150\u001B[0m   \u001B[38;5;28;01mreturn\u001B[39;00m fn(\u001B[38;5;241m*\u001B[39margs, \u001B[38;5;241m*\u001B[39m\u001B[38;5;241m*\u001B[39mkwargs)\n\u001B[1;32m    151\u001B[0m \u001B[38;5;28;01mexcept\u001B[39;00m \u001B[38;5;167;01mException\u001B[39;00m \u001B[38;5;28;01mas\u001B[39;00m e:\n\u001B[1;32m    152\u001B[0m   filtered_tb \u001B[38;5;241m=\u001B[39m _process_traceback_frames(e\u001B[38;5;241m.\u001B[39m__traceback__)\n",
      "File \u001B[0;32m~/anaconda3/lib/python3.11/site-packages/tensorflow/python/eager/polymorphic_function/polymorphic_function.py:825\u001B[0m, in \u001B[0;36mFunction.__call__\u001B[0;34m(self, *args, **kwds)\u001B[0m\n\u001B[1;32m    822\u001B[0m compiler \u001B[38;5;241m=\u001B[39m \u001B[38;5;124m\"\u001B[39m\u001B[38;5;124mxla\u001B[39m\u001B[38;5;124m\"\u001B[39m \u001B[38;5;28;01mif\u001B[39;00m \u001B[38;5;28mself\u001B[39m\u001B[38;5;241m.\u001B[39m_jit_compile \u001B[38;5;28;01melse\u001B[39;00m \u001B[38;5;124m\"\u001B[39m\u001B[38;5;124mnonXla\u001B[39m\u001B[38;5;124m\"\u001B[39m\n\u001B[1;32m    824\u001B[0m \u001B[38;5;28;01mwith\u001B[39;00m OptionalXlaContext(\u001B[38;5;28mself\u001B[39m\u001B[38;5;241m.\u001B[39m_jit_compile):\n\u001B[0;32m--> 825\u001B[0m   result \u001B[38;5;241m=\u001B[39m \u001B[38;5;28mself\u001B[39m\u001B[38;5;241m.\u001B[39m_call(\u001B[38;5;241m*\u001B[39margs, \u001B[38;5;241m*\u001B[39m\u001B[38;5;241m*\u001B[39mkwds)\n\u001B[1;32m    827\u001B[0m new_tracing_count \u001B[38;5;241m=\u001B[39m \u001B[38;5;28mself\u001B[39m\u001B[38;5;241m.\u001B[39mexperimental_get_tracing_count()\n\u001B[1;32m    828\u001B[0m without_tracing \u001B[38;5;241m=\u001B[39m (tracing_count \u001B[38;5;241m==\u001B[39m new_tracing_count)\n",
      "File \u001B[0;32m~/anaconda3/lib/python3.11/site-packages/tensorflow/python/eager/polymorphic_function/polymorphic_function.py:857\u001B[0m, in \u001B[0;36mFunction._call\u001B[0;34m(self, *args, **kwds)\u001B[0m\n\u001B[1;32m    854\u001B[0m   \u001B[38;5;28mself\u001B[39m\u001B[38;5;241m.\u001B[39m_lock\u001B[38;5;241m.\u001B[39mrelease()\n\u001B[1;32m    855\u001B[0m   \u001B[38;5;66;03m# In this case we have created variables on the first call, so we run the\u001B[39;00m\n\u001B[1;32m    856\u001B[0m   \u001B[38;5;66;03m# defunned version which is guaranteed to never create variables.\u001B[39;00m\n\u001B[0;32m--> 857\u001B[0m   \u001B[38;5;28;01mreturn\u001B[39;00m \u001B[38;5;28mself\u001B[39m\u001B[38;5;241m.\u001B[39m_no_variable_creation_fn(\u001B[38;5;241m*\u001B[39margs, \u001B[38;5;241m*\u001B[39m\u001B[38;5;241m*\u001B[39mkwds)  \u001B[38;5;66;03m# pylint: disable=not-callable\u001B[39;00m\n\u001B[1;32m    858\u001B[0m \u001B[38;5;28;01melif\u001B[39;00m \u001B[38;5;28mself\u001B[39m\u001B[38;5;241m.\u001B[39m_variable_creation_fn \u001B[38;5;129;01mis\u001B[39;00m \u001B[38;5;129;01mnot\u001B[39;00m \u001B[38;5;28;01mNone\u001B[39;00m:\n\u001B[1;32m    859\u001B[0m   \u001B[38;5;66;03m# Release the lock early so that multiple threads can perform the call\u001B[39;00m\n\u001B[1;32m    860\u001B[0m   \u001B[38;5;66;03m# in parallel.\u001B[39;00m\n\u001B[1;32m    861\u001B[0m   \u001B[38;5;28mself\u001B[39m\u001B[38;5;241m.\u001B[39m_lock\u001B[38;5;241m.\u001B[39mrelease()\n",
      "File \u001B[0;32m~/anaconda3/lib/python3.11/site-packages/tensorflow/python/eager/polymorphic_function/tracing_compiler.py:148\u001B[0m, in \u001B[0;36mTracingCompiler.__call__\u001B[0;34m(self, *args, **kwargs)\u001B[0m\n\u001B[1;32m    145\u001B[0m \u001B[38;5;28;01mwith\u001B[39;00m \u001B[38;5;28mself\u001B[39m\u001B[38;5;241m.\u001B[39m_lock:\n\u001B[1;32m    146\u001B[0m   (concrete_function,\n\u001B[1;32m    147\u001B[0m    filtered_flat_args) \u001B[38;5;241m=\u001B[39m \u001B[38;5;28mself\u001B[39m\u001B[38;5;241m.\u001B[39m_maybe_define_function(args, kwargs)\n\u001B[0;32m--> 148\u001B[0m \u001B[38;5;28;01mreturn\u001B[39;00m concrete_function\u001B[38;5;241m.\u001B[39m_call_flat(\n\u001B[1;32m    149\u001B[0m     filtered_flat_args, captured_inputs\u001B[38;5;241m=\u001B[39mconcrete_function\u001B[38;5;241m.\u001B[39mcaptured_inputs)\n",
      "File \u001B[0;32m~/anaconda3/lib/python3.11/site-packages/tensorflow/python/eager/polymorphic_function/monomorphic_function.py:1349\u001B[0m, in \u001B[0;36mConcreteFunction._call_flat\u001B[0;34m(self, args, captured_inputs)\u001B[0m\n\u001B[1;32m   1345\u001B[0m possible_gradient_type \u001B[38;5;241m=\u001B[39m gradients_util\u001B[38;5;241m.\u001B[39mPossibleTapeGradientTypes(args)\n\u001B[1;32m   1346\u001B[0m \u001B[38;5;28;01mif\u001B[39;00m (possible_gradient_type \u001B[38;5;241m==\u001B[39m gradients_util\u001B[38;5;241m.\u001B[39mPOSSIBLE_GRADIENT_TYPES_NONE\n\u001B[1;32m   1347\u001B[0m     \u001B[38;5;129;01mand\u001B[39;00m executing_eagerly):\n\u001B[1;32m   1348\u001B[0m   \u001B[38;5;66;03m# No tape is watching; skip to running the function.\u001B[39;00m\n\u001B[0;32m-> 1349\u001B[0m   \u001B[38;5;28;01mreturn\u001B[39;00m \u001B[38;5;28mself\u001B[39m\u001B[38;5;241m.\u001B[39m_build_call_outputs(\u001B[38;5;28mself\u001B[39m\u001B[38;5;241m.\u001B[39m_inference_function(\u001B[38;5;241m*\u001B[39margs))\n\u001B[1;32m   1350\u001B[0m forward_backward \u001B[38;5;241m=\u001B[39m \u001B[38;5;28mself\u001B[39m\u001B[38;5;241m.\u001B[39m_select_forward_and_backward_functions(\n\u001B[1;32m   1351\u001B[0m     args,\n\u001B[1;32m   1352\u001B[0m     possible_gradient_type,\n\u001B[1;32m   1353\u001B[0m     executing_eagerly)\n\u001B[1;32m   1354\u001B[0m forward_function, args_with_tangents \u001B[38;5;241m=\u001B[39m forward_backward\u001B[38;5;241m.\u001B[39mforward()\n",
      "File \u001B[0;32m~/anaconda3/lib/python3.11/site-packages/tensorflow/python/eager/polymorphic_function/atomic_function.py:196\u001B[0m, in \u001B[0;36mAtomicFunction.__call__\u001B[0;34m(self, *args)\u001B[0m\n\u001B[1;32m    194\u001B[0m \u001B[38;5;28;01mwith\u001B[39;00m record\u001B[38;5;241m.\u001B[39mstop_recording():\n\u001B[1;32m    195\u001B[0m   \u001B[38;5;28;01mif\u001B[39;00m \u001B[38;5;28mself\u001B[39m\u001B[38;5;241m.\u001B[39m_bound_context\u001B[38;5;241m.\u001B[39mexecuting_eagerly():\n\u001B[0;32m--> 196\u001B[0m     outputs \u001B[38;5;241m=\u001B[39m \u001B[38;5;28mself\u001B[39m\u001B[38;5;241m.\u001B[39m_bound_context\u001B[38;5;241m.\u001B[39mcall_function(\n\u001B[1;32m    197\u001B[0m         \u001B[38;5;28mself\u001B[39m\u001B[38;5;241m.\u001B[39mname,\n\u001B[1;32m    198\u001B[0m         \u001B[38;5;28mlist\u001B[39m(args),\n\u001B[1;32m    199\u001B[0m         \u001B[38;5;28mlen\u001B[39m(\u001B[38;5;28mself\u001B[39m\u001B[38;5;241m.\u001B[39mfunction_type\u001B[38;5;241m.\u001B[39mflat_outputs),\n\u001B[1;32m    200\u001B[0m     )\n\u001B[1;32m    201\u001B[0m   \u001B[38;5;28;01melse\u001B[39;00m:\n\u001B[1;32m    202\u001B[0m     outputs \u001B[38;5;241m=\u001B[39m make_call_op_in_graph(\u001B[38;5;28mself\u001B[39m, \u001B[38;5;28mlist\u001B[39m(args))\n",
      "File \u001B[0;32m~/anaconda3/lib/python3.11/site-packages/tensorflow/python/eager/context.py:1457\u001B[0m, in \u001B[0;36mContext.call_function\u001B[0;34m(self, name, tensor_inputs, num_outputs)\u001B[0m\n\u001B[1;32m   1455\u001B[0m cancellation_context \u001B[38;5;241m=\u001B[39m cancellation\u001B[38;5;241m.\u001B[39mcontext()\n\u001B[1;32m   1456\u001B[0m \u001B[38;5;28;01mif\u001B[39;00m cancellation_context \u001B[38;5;129;01mis\u001B[39;00m \u001B[38;5;28;01mNone\u001B[39;00m:\n\u001B[0;32m-> 1457\u001B[0m   outputs \u001B[38;5;241m=\u001B[39m execute\u001B[38;5;241m.\u001B[39mexecute(\n\u001B[1;32m   1458\u001B[0m       name\u001B[38;5;241m.\u001B[39mdecode(\u001B[38;5;124m\"\u001B[39m\u001B[38;5;124mutf-8\u001B[39m\u001B[38;5;124m\"\u001B[39m),\n\u001B[1;32m   1459\u001B[0m       num_outputs\u001B[38;5;241m=\u001B[39mnum_outputs,\n\u001B[1;32m   1460\u001B[0m       inputs\u001B[38;5;241m=\u001B[39mtensor_inputs,\n\u001B[1;32m   1461\u001B[0m       attrs\u001B[38;5;241m=\u001B[39mattrs,\n\u001B[1;32m   1462\u001B[0m       ctx\u001B[38;5;241m=\u001B[39m\u001B[38;5;28mself\u001B[39m,\n\u001B[1;32m   1463\u001B[0m   )\n\u001B[1;32m   1464\u001B[0m \u001B[38;5;28;01melse\u001B[39;00m:\n\u001B[1;32m   1465\u001B[0m   outputs \u001B[38;5;241m=\u001B[39m execute\u001B[38;5;241m.\u001B[39mexecute_with_cancellation(\n\u001B[1;32m   1466\u001B[0m       name\u001B[38;5;241m.\u001B[39mdecode(\u001B[38;5;124m\"\u001B[39m\u001B[38;5;124mutf-8\u001B[39m\u001B[38;5;124m\"\u001B[39m),\n\u001B[1;32m   1467\u001B[0m       num_outputs\u001B[38;5;241m=\u001B[39mnum_outputs,\n\u001B[0;32m   (...)\u001B[0m\n\u001B[1;32m   1471\u001B[0m       cancellation_manager\u001B[38;5;241m=\u001B[39mcancellation_context,\n\u001B[1;32m   1472\u001B[0m   )\n",
      "File \u001B[0;32m~/anaconda3/lib/python3.11/site-packages/tensorflow/python/eager/execute.py:53\u001B[0m, in \u001B[0;36mquick_execute\u001B[0;34m(op_name, num_outputs, inputs, attrs, ctx, name)\u001B[0m\n\u001B[1;32m     51\u001B[0m \u001B[38;5;28;01mtry\u001B[39;00m:\n\u001B[1;32m     52\u001B[0m   ctx\u001B[38;5;241m.\u001B[39mensure_initialized()\n\u001B[0;32m---> 53\u001B[0m   tensors \u001B[38;5;241m=\u001B[39m pywrap_tfe\u001B[38;5;241m.\u001B[39mTFE_Py_Execute(ctx\u001B[38;5;241m.\u001B[39m_handle, device_name, op_name,\n\u001B[1;32m     54\u001B[0m                                       inputs, attrs, num_outputs)\n\u001B[1;32m     55\u001B[0m \u001B[38;5;28;01mexcept\u001B[39;00m core\u001B[38;5;241m.\u001B[39m_NotOkStatusException \u001B[38;5;28;01mas\u001B[39;00m e:\n\u001B[1;32m     56\u001B[0m   \u001B[38;5;28;01mif\u001B[39;00m name \u001B[38;5;129;01mis\u001B[39;00m \u001B[38;5;129;01mnot\u001B[39;00m \u001B[38;5;28;01mNone\u001B[39;00m:\n",
      "\u001B[0;31mKeyboardInterrupt\u001B[0m: "
     ]
    }
   ],
   "source": [
    "history=model.fit(train_x,\n",
    "                  train_y,\n",
    "                  batch_size=batch_size,\n",
    "                  epochs=100,\n",
    "                  validation_data=(test_x,test_y),\n",
    "                  callbacks=[lr_reduce]\n",
    "                  )"
   ],
   "metadata": {
    "collapsed": false,
    "ExecuteTime": {
     "end_time": "2023-08-15T02:13:28.682869503Z",
     "start_time": "2023-08-15T02:04:38.242525021Z"
    }
   },
   "id": "a57aa78292a8d0d"
  },
  {
   "cell_type": "code",
   "execution_count": null,
   "outputs": [],
   "source": [
    "# model.save('pm2.5_v1.h5')"
   ],
   "metadata": {
    "collapsed": false
   },
   "id": "828312aad858bfe0"
  },
  {
   "cell_type": "code",
   "execution_count": null,
   "outputs": [],
   "source": [
    "plt.plot(history.epoch,history.history.get('mae'),c='r',label='training')\n",
    "plt.plot(history.epoch,history.history.get('val_mae'),c='b',label='testing')\n",
    "plt.legend()"
   ],
   "metadata": {
    "collapsed": false,
    "ExecuteTime": {
     "start_time": "2023-08-15T02:04:24.267828272Z"
    }
   },
   "id": "5e466e6f6bf2a87c"
  },
  {
   "cell_type": "markdown",
   "source": [
    "## 使用模型进行预测"
   ],
   "metadata": {
    "collapsed": false
   },
   "id": "518ffc39ba72f2da"
  },
  {
   "cell_type": "code",
   "execution_count": 55,
   "outputs": [],
   "source": [
    "new_model=tf.keras.models.load_model(\"/home/jhr/pm2.5_v1.h5\")"
   ],
   "metadata": {
    "collapsed": false,
    "ExecuteTime": {
     "end_time": "2023-08-15T02:14:03.954846056Z",
     "start_time": "2023-08-15T02:14:03.091846756Z"
    }
   },
   "id": "d6ae53706e5f03fd"
  },
  {
   "cell_type": "code",
   "execution_count": 57,
   "outputs": [
    {
     "name": "stdout",
     "output_type": "stream",
     "text": [
      "Model: \"sequential_2\"\n",
      "_________________________________________________________________\n",
      " Layer (type)                Output Shape              Param #   \n",
      "=================================================================\n",
      " lstm_5 (LSTM)               (None, 120, 32)           5632      \n",
      "                                                                 \n",
      " lstm_6 (LSTM)               (None, 120, 32)           8320      \n",
      "                                                                 \n",
      " lstm_7 (LSTM)               (None, 120, 32)           8320      \n",
      "                                                                 \n",
      " lstm_8 (LSTM)               (None, 32)                8320      \n",
      "                                                                 \n",
      " dense_2 (Dense)             (None, 1)                 33        \n",
      "                                                                 \n",
      "=================================================================\n",
      "Total params: 30625 (119.63 KB)\n",
      "Trainable params: 30625 (119.63 KB)\n",
      "Non-trainable params: 0 (0.00 Byte)\n",
      "_________________________________________________________________\n"
     ]
    }
   ],
   "source": [
    "new_model.summary()"
   ],
   "metadata": {
    "collapsed": false,
    "ExecuteTime": {
     "end_time": "2023-08-15T02:14:40.975324624Z",
     "start_time": "2023-08-15T02:14:40.855788073Z"
    }
   },
   "id": "7fad353fd68e66e7"
  },
  {
   "cell_type": "code",
   "execution_count": 61,
   "outputs": [
    {
     "data": {
      "text/plain": "[2635.8583984375, 32.80181884765625]"
     },
     "execution_count": 61,
     "metadata": {},
     "output_type": "execute_result"
    }
   ],
   "source": [
    "#模型的评价\n",
    "new_model.evaluate(test_x,test_y,verbose=0)"
   ],
   "metadata": {
    "collapsed": false,
    "ExecuteTime": {
     "end_time": "2023-08-15T02:16:25.808254277Z",
     "start_time": "2023-08-15T02:16:21.907025665Z"
    }
   },
   "id": "df59c2b25eb6e3e2"
  },
  {
   "cell_type": "code",
   "execution_count": 62,
   "outputs": [
    {
     "name": "stdout",
     "output_type": "stream",
     "text": [
      "273/273 [==============================] - 5s 14ms/step\n"
     ]
    }
   ],
   "source": [
    "pre_test=new_model.predict(test_x)"
   ],
   "metadata": {
    "collapsed": false,
    "ExecuteTime": {
     "end_time": "2023-08-15T02:17:55.322064555Z",
     "start_time": "2023-08-15T02:17:50.015376922Z"
    }
   },
   "id": "70891f83294efdc8"
  },
  {
   "cell_type": "code",
   "execution_count": 65,
   "outputs": [
    {
     "data": {
      "text/plain": "array([[100.88525 ],\n       [157.87274 ],\n       [117.43089 ],\n       ...,\n       [ 59.39696 ],\n       [ 93.25651 ],\n       [ 33.114597]], dtype=float32)"
     },
     "execution_count": 65,
     "metadata": {},
     "output_type": "execute_result"
    }
   ],
   "source": [
    "pre_test"
   ],
   "metadata": {
    "collapsed": false,
    "ExecuteTime": {
     "end_time": "2023-08-15T02:18:12.745873612Z",
     "start_time": "2023-08-15T02:18:12.716771137Z"
    }
   },
   "id": "55b51e81030ab34a"
  },
  {
   "cell_type": "code",
   "execution_count": 66,
   "outputs": [
    {
     "data": {
      "text/plain": "array([ 99., 273., 144., ...,  20.,  32., 234.])"
     },
     "execution_count": 66,
     "metadata": {},
     "output_type": "execute_result"
    }
   ],
   "source": [
    "test_y"
   ],
   "metadata": {
    "collapsed": false,
    "ExecuteTime": {
     "end_time": "2023-08-15T02:18:17.127770529Z",
     "start_time": "2023-08-15T02:18:17.075824857Z"
    }
   },
   "id": "12f344f74f01b57b"
  },
  {
   "cell_type": "code",
   "execution_count": 70,
   "outputs": [
    {
     "data": {
      "text/plain": "((8732, 120, 11), (8732,), (8732, 1))"
     },
     "execution_count": 70,
     "metadata": {},
     "output_type": "execute_result"
    }
   ],
   "source": [
    "test_x.shape,test_y.shape,pre_test.shape"
   ],
   "metadata": {
    "collapsed": false,
    "ExecuteTime": {
     "end_time": "2023-08-15T02:20:32.940695972Z",
     "start_time": "2023-08-15T02:20:32.916995603Z"
    }
   },
   "id": "125ca42188e1a067"
  },
  {
   "cell_type": "code",
   "execution_count": 71,
   "outputs": [
    {
     "data": {
      "text/plain": "array([[100.88525],\n       [157.87274],\n       [117.43089],\n       [ 38.09892],\n       [236.31248]], dtype=float32)"
     },
     "execution_count": 71,
     "metadata": {},
     "output_type": "execute_result"
    }
   ],
   "source": [
    "pre_test[:5]"
   ],
   "metadata": {
    "collapsed": false,
    "ExecuteTime": {
     "end_time": "2023-08-15T02:20:44.879240912Z",
     "start_time": "2023-08-15T02:20:44.813961977Z"
    }
   },
   "id": "d4b9d9e8337d96af"
  },
  {
   "cell_type": "code",
   "execution_count": 72,
   "outputs": [
    {
     "data": {
      "text/plain": "array([ 99., 273., 144.,  26., 199.])"
     },
     "execution_count": 72,
     "metadata": {},
     "output_type": "execute_result"
    }
   ],
   "source": [
    "test_y[:5]"
   ],
   "metadata": {
    "collapsed": false,
    "ExecuteTime": {
     "end_time": "2023-08-15T02:20:54.754602562Z",
     "start_time": "2023-08-15T02:20:54.726285691Z"
    }
   },
   "id": "c790ed292100e5ab"
  },
  {
   "cell_type": "markdown",
   "source": [
    "**单条数据预测**"
   ],
   "metadata": {
    "collapsed": false
   },
   "id": "90b0b9ef0c1da68"
  },
  {
   "cell_type": "code",
   "execution_count": 83,
   "outputs": [],
   "source": [
    "data = pd.read_csv(\n",
    "    \"/home/jhr/Documents/data/PRSA_data_2010.1.1-2014.12.31.csv\"\n",
    "    # \"../data/PRSA_data_2010.1.1-2014.12.31.csv\"\n",
    "    )"
   ],
   "metadata": {
    "collapsed": false,
    "ExecuteTime": {
     "end_time": "2023-08-15T02:26:45.107228714Z",
     "start_time": "2023-08-15T02:26:45.066943318Z"
    }
   },
   "id": "8a523303fd644757"
  },
  {
   "cell_type": "code",
   "execution_count": 84,
   "outputs": [],
   "source": [
    "data_test=data[-120:]"
   ],
   "metadata": {
    "collapsed": false,
    "ExecuteTime": {
     "end_time": "2023-08-15T02:26:45.396937869Z",
     "start_time": "2023-08-15T02:26:45.367305938Z"
    }
   },
   "id": "9d47c6754bd6c6d0"
  },
  {
   "cell_type": "code",
   "execution_count": 85,
   "outputs": [
    {
     "data": {
      "text/plain": "          No  year  month  day  hour  pm2.5  DEWP  TEMP    PRES cbwd     Iws  \\\n43704  43705  2014     12   27     0  163.0   -10  -5.0  1030.0   NW    1.79   \n43705  43706  2014     12   27     1  194.0   -10  -5.0  1030.0   NW    3.58   \n43706  43707  2014     12   27     2  187.0   -10  -5.0  1030.0   NW    5.37   \n43707  43708  2014     12   27     3  216.0   -11  -6.0  1030.0   NW    7.16   \n43708  43709  2014     12   27     4  225.0   -11  -6.0  1030.0   NW    8.95   \n...      ...   ...    ...  ...   ...    ...   ...   ...     ...  ...     ...   \n43819  43820  2014     12   31    19    8.0   -23  -2.0  1034.0   NW  231.97   \n43820  43821  2014     12   31    20   10.0   -22  -3.0  1034.0   NW  237.78   \n43821  43822  2014     12   31    21   10.0   -22  -3.0  1034.0   NW  242.70   \n43822  43823  2014     12   31    22    8.0   -22  -4.0  1034.0   NW  246.72   \n43823  43824  2014     12   31    23   12.0   -21  -3.0  1034.0   NW  249.85   \n\n       Is  Ir  \n43704   0   0  \n43705   0   0  \n43706   0   0  \n43707   0   0  \n43708   0   0  \n...    ..  ..  \n43819   0   0  \n43820   0   0  \n43821   0   0  \n43822   0   0  \n43823   0   0  \n\n[120 rows x 13 columns]",
      "text/html": "<div>\n<style scoped>\n    .dataframe tbody tr th:only-of-type {\n        vertical-align: middle;\n    }\n\n    .dataframe tbody tr th {\n        vertical-align: top;\n    }\n\n    .dataframe thead th {\n        text-align: right;\n    }\n</style>\n<table border=\"1\" class=\"dataframe\">\n  <thead>\n    <tr style=\"text-align: right;\">\n      <th></th>\n      <th>No</th>\n      <th>year</th>\n      <th>month</th>\n      <th>day</th>\n      <th>hour</th>\n      <th>pm2.5</th>\n      <th>DEWP</th>\n      <th>TEMP</th>\n      <th>PRES</th>\n      <th>cbwd</th>\n      <th>Iws</th>\n      <th>Is</th>\n      <th>Ir</th>\n    </tr>\n  </thead>\n  <tbody>\n    <tr>\n      <th>43704</th>\n      <td>43705</td>\n      <td>2014</td>\n      <td>12</td>\n      <td>27</td>\n      <td>0</td>\n      <td>163.0</td>\n      <td>-10</td>\n      <td>-5.0</td>\n      <td>1030.0</td>\n      <td>NW</td>\n      <td>1.79</td>\n      <td>0</td>\n      <td>0</td>\n    </tr>\n    <tr>\n      <th>43705</th>\n      <td>43706</td>\n      <td>2014</td>\n      <td>12</td>\n      <td>27</td>\n      <td>1</td>\n      <td>194.0</td>\n      <td>-10</td>\n      <td>-5.0</td>\n      <td>1030.0</td>\n      <td>NW</td>\n      <td>3.58</td>\n      <td>0</td>\n      <td>0</td>\n    </tr>\n    <tr>\n      <th>43706</th>\n      <td>43707</td>\n      <td>2014</td>\n      <td>12</td>\n      <td>27</td>\n      <td>2</td>\n      <td>187.0</td>\n      <td>-10</td>\n      <td>-5.0</td>\n      <td>1030.0</td>\n      <td>NW</td>\n      <td>5.37</td>\n      <td>0</td>\n      <td>0</td>\n    </tr>\n    <tr>\n      <th>43707</th>\n      <td>43708</td>\n      <td>2014</td>\n      <td>12</td>\n      <td>27</td>\n      <td>3</td>\n      <td>216.0</td>\n      <td>-11</td>\n      <td>-6.0</td>\n      <td>1030.0</td>\n      <td>NW</td>\n      <td>7.16</td>\n      <td>0</td>\n      <td>0</td>\n    </tr>\n    <tr>\n      <th>43708</th>\n      <td>43709</td>\n      <td>2014</td>\n      <td>12</td>\n      <td>27</td>\n      <td>4</td>\n      <td>225.0</td>\n      <td>-11</td>\n      <td>-6.0</td>\n      <td>1030.0</td>\n      <td>NW</td>\n      <td>8.95</td>\n      <td>0</td>\n      <td>0</td>\n    </tr>\n    <tr>\n      <th>...</th>\n      <td>...</td>\n      <td>...</td>\n      <td>...</td>\n      <td>...</td>\n      <td>...</td>\n      <td>...</td>\n      <td>...</td>\n      <td>...</td>\n      <td>...</td>\n      <td>...</td>\n      <td>...</td>\n      <td>...</td>\n      <td>...</td>\n    </tr>\n    <tr>\n      <th>43819</th>\n      <td>43820</td>\n      <td>2014</td>\n      <td>12</td>\n      <td>31</td>\n      <td>19</td>\n      <td>8.0</td>\n      <td>-23</td>\n      <td>-2.0</td>\n      <td>1034.0</td>\n      <td>NW</td>\n      <td>231.97</td>\n      <td>0</td>\n      <td>0</td>\n    </tr>\n    <tr>\n      <th>43820</th>\n      <td>43821</td>\n      <td>2014</td>\n      <td>12</td>\n      <td>31</td>\n      <td>20</td>\n      <td>10.0</td>\n      <td>-22</td>\n      <td>-3.0</td>\n      <td>1034.0</td>\n      <td>NW</td>\n      <td>237.78</td>\n      <td>0</td>\n      <td>0</td>\n    </tr>\n    <tr>\n      <th>43821</th>\n      <td>43822</td>\n      <td>2014</td>\n      <td>12</td>\n      <td>31</td>\n      <td>21</td>\n      <td>10.0</td>\n      <td>-22</td>\n      <td>-3.0</td>\n      <td>1034.0</td>\n      <td>NW</td>\n      <td>242.70</td>\n      <td>0</td>\n      <td>0</td>\n    </tr>\n    <tr>\n      <th>43822</th>\n      <td>43823</td>\n      <td>2014</td>\n      <td>12</td>\n      <td>31</td>\n      <td>22</td>\n      <td>8.0</td>\n      <td>-22</td>\n      <td>-4.0</td>\n      <td>1034.0</td>\n      <td>NW</td>\n      <td>246.72</td>\n      <td>0</td>\n      <td>0</td>\n    </tr>\n    <tr>\n      <th>43823</th>\n      <td>43824</td>\n      <td>2014</td>\n      <td>12</td>\n      <td>31</td>\n      <td>23</td>\n      <td>12.0</td>\n      <td>-21</td>\n      <td>-3.0</td>\n      <td>1034.0</td>\n      <td>NW</td>\n      <td>249.85</td>\n      <td>0</td>\n      <td>0</td>\n    </tr>\n  </tbody>\n</table>\n<p>120 rows × 13 columns</p>\n</div>"
     },
     "execution_count": 85,
     "metadata": {},
     "output_type": "execute_result"
    }
   ],
   "source": [
    "data_test"
   ],
   "metadata": {
    "collapsed": false,
    "ExecuteTime": {
     "end_time": "2023-08-15T02:26:45.581281879Z",
     "start_time": "2023-08-15T02:26:45.556659716Z"
    }
   },
   "id": "a6e1db7e36d37079"
  },
  {
   "cell_type": "code",
   "execution_count": 86,
   "outputs": [],
   "source": [
    "data_test=data_test.iloc[:,5:]"
   ],
   "metadata": {
    "collapsed": false,
    "ExecuteTime": {
     "end_time": "2023-08-15T02:26:45.851993581Z",
     "start_time": "2023-08-15T02:26:45.822079849Z"
    }
   },
   "id": "251699819600cb8"
  },
  {
   "cell_type": "code",
   "execution_count": 87,
   "outputs": [
    {
     "data": {
      "text/plain": "       pm2.5  DEWP  TEMP    PRES cbwd     Iws  Is  Ir\n43704  163.0   -10  -5.0  1030.0   NW    1.79   0   0\n43705  194.0   -10  -5.0  1030.0   NW    3.58   0   0\n43706  187.0   -10  -5.0  1030.0   NW    5.37   0   0\n43707  216.0   -11  -6.0  1030.0   NW    7.16   0   0\n43708  225.0   -11  -6.0  1030.0   NW    8.95   0   0\n...      ...   ...   ...     ...  ...     ...  ..  ..\n43819    8.0   -23  -2.0  1034.0   NW  231.97   0   0\n43820   10.0   -22  -3.0  1034.0   NW  237.78   0   0\n43821   10.0   -22  -3.0  1034.0   NW  242.70   0   0\n43822    8.0   -22  -4.0  1034.0   NW  246.72   0   0\n43823   12.0   -21  -3.0  1034.0   NW  249.85   0   0\n\n[120 rows x 8 columns]",
      "text/html": "<div>\n<style scoped>\n    .dataframe tbody tr th:only-of-type {\n        vertical-align: middle;\n    }\n\n    .dataframe tbody tr th {\n        vertical-align: top;\n    }\n\n    .dataframe thead th {\n        text-align: right;\n    }\n</style>\n<table border=\"1\" class=\"dataframe\">\n  <thead>\n    <tr style=\"text-align: right;\">\n      <th></th>\n      <th>pm2.5</th>\n      <th>DEWP</th>\n      <th>TEMP</th>\n      <th>PRES</th>\n      <th>cbwd</th>\n      <th>Iws</th>\n      <th>Is</th>\n      <th>Ir</th>\n    </tr>\n  </thead>\n  <tbody>\n    <tr>\n      <th>43704</th>\n      <td>163.0</td>\n      <td>-10</td>\n      <td>-5.0</td>\n      <td>1030.0</td>\n      <td>NW</td>\n      <td>1.79</td>\n      <td>0</td>\n      <td>0</td>\n    </tr>\n    <tr>\n      <th>43705</th>\n      <td>194.0</td>\n      <td>-10</td>\n      <td>-5.0</td>\n      <td>1030.0</td>\n      <td>NW</td>\n      <td>3.58</td>\n      <td>0</td>\n      <td>0</td>\n    </tr>\n    <tr>\n      <th>43706</th>\n      <td>187.0</td>\n      <td>-10</td>\n      <td>-5.0</td>\n      <td>1030.0</td>\n      <td>NW</td>\n      <td>5.37</td>\n      <td>0</td>\n      <td>0</td>\n    </tr>\n    <tr>\n      <th>43707</th>\n      <td>216.0</td>\n      <td>-11</td>\n      <td>-6.0</td>\n      <td>1030.0</td>\n      <td>NW</td>\n      <td>7.16</td>\n      <td>0</td>\n      <td>0</td>\n    </tr>\n    <tr>\n      <th>43708</th>\n      <td>225.0</td>\n      <td>-11</td>\n      <td>-6.0</td>\n      <td>1030.0</td>\n      <td>NW</td>\n      <td>8.95</td>\n      <td>0</td>\n      <td>0</td>\n    </tr>\n    <tr>\n      <th>...</th>\n      <td>...</td>\n      <td>...</td>\n      <td>...</td>\n      <td>...</td>\n      <td>...</td>\n      <td>...</td>\n      <td>...</td>\n      <td>...</td>\n    </tr>\n    <tr>\n      <th>43819</th>\n      <td>8.0</td>\n      <td>-23</td>\n      <td>-2.0</td>\n      <td>1034.0</td>\n      <td>NW</td>\n      <td>231.97</td>\n      <td>0</td>\n      <td>0</td>\n    </tr>\n    <tr>\n      <th>43820</th>\n      <td>10.0</td>\n      <td>-22</td>\n      <td>-3.0</td>\n      <td>1034.0</td>\n      <td>NW</td>\n      <td>237.78</td>\n      <td>0</td>\n      <td>0</td>\n    </tr>\n    <tr>\n      <th>43821</th>\n      <td>10.0</td>\n      <td>-22</td>\n      <td>-3.0</td>\n      <td>1034.0</td>\n      <td>NW</td>\n      <td>242.70</td>\n      <td>0</td>\n      <td>0</td>\n    </tr>\n    <tr>\n      <th>43822</th>\n      <td>8.0</td>\n      <td>-22</td>\n      <td>-4.0</td>\n      <td>1034.0</td>\n      <td>NW</td>\n      <td>246.72</td>\n      <td>0</td>\n      <td>0</td>\n    </tr>\n    <tr>\n      <th>43823</th>\n      <td>12.0</td>\n      <td>-21</td>\n      <td>-3.0</td>\n      <td>1034.0</td>\n      <td>NW</td>\n      <td>249.85</td>\n      <td>0</td>\n      <td>0</td>\n    </tr>\n  </tbody>\n</table>\n<p>120 rows × 8 columns</p>\n</div>"
     },
     "execution_count": 87,
     "metadata": {},
     "output_type": "execute_result"
    }
   ],
   "source": [
    "data_test"
   ],
   "metadata": {
    "collapsed": false,
    "ExecuteTime": {
     "end_time": "2023-08-15T02:26:46.922586802Z",
     "start_time": "2023-08-15T02:26:46.840456910Z"
    }
   },
   "id": "cd2081815cc189bc"
  },
  {
   "cell_type": "code",
   "execution_count": 89,
   "outputs": [],
   "source": [
    "data_test=data_test.join(pd.get_dummies(data_test.cbwd))"
   ],
   "metadata": {
    "collapsed": false,
    "ExecuteTime": {
     "end_time": "2023-08-15T02:27:55.866274076Z",
     "start_time": "2023-08-15T02:27:55.805015234Z"
    }
   },
   "id": "77f91892df360bb2"
  },
  {
   "cell_type": "code",
   "execution_count": 92,
   "outputs": [],
   "source": [
    "data_test.drop('cbwd',axis=1,inplace=True)"
   ],
   "metadata": {
    "collapsed": false,
    "ExecuteTime": {
     "end_time": "2023-08-15T02:28:29.684575750Z",
     "start_time": "2023-08-15T02:28:29.662570330Z"
    }
   },
   "id": "3e13ba54690fdf29"
  },
  {
   "cell_type": "code",
   "execution_count": 95,
   "outputs": [
    {
     "data": {
      "text/plain": "       pm2.5  DEWP  TEMP    PRES     Iws  Is  Ir  NE  NW  SE  cv\n43704  163.0   -10  -5.0  1030.0    1.79   0   0   0   1   0   0\n43705  194.0   -10  -5.0  1030.0    3.58   0   0   0   1   0   0\n43706  187.0   -10  -5.0  1030.0    5.37   0   0   0   1   0   0\n43707  216.0   -11  -6.0  1030.0    7.16   0   0   0   1   0   0\n43708  225.0   -11  -6.0  1030.0    8.95   0   0   0   1   0   0\n...      ...   ...   ...     ...     ...  ..  ..  ..  ..  ..  ..\n43819    8.0   -23  -2.0  1034.0  231.97   0   0   0   1   0   0\n43820   10.0   -22  -3.0  1034.0  237.78   0   0   0   1   0   0\n43821   10.0   -22  -3.0  1034.0  242.70   0   0   0   1   0   0\n43822    8.0   -22  -4.0  1034.0  246.72   0   0   0   1   0   0\n43823   12.0   -21  -3.0  1034.0  249.85   0   0   0   1   0   0\n\n[120 rows x 11 columns]",
      "text/html": "<div>\n<style scoped>\n    .dataframe tbody tr th:only-of-type {\n        vertical-align: middle;\n    }\n\n    .dataframe tbody tr th {\n        vertical-align: top;\n    }\n\n    .dataframe thead th {\n        text-align: right;\n    }\n</style>\n<table border=\"1\" class=\"dataframe\">\n  <thead>\n    <tr style=\"text-align: right;\">\n      <th></th>\n      <th>pm2.5</th>\n      <th>DEWP</th>\n      <th>TEMP</th>\n      <th>PRES</th>\n      <th>Iws</th>\n      <th>Is</th>\n      <th>Ir</th>\n      <th>NE</th>\n      <th>NW</th>\n      <th>SE</th>\n      <th>cv</th>\n    </tr>\n  </thead>\n  <tbody>\n    <tr>\n      <th>43704</th>\n      <td>163.0</td>\n      <td>-10</td>\n      <td>-5.0</td>\n      <td>1030.0</td>\n      <td>1.79</td>\n      <td>0</td>\n      <td>0</td>\n      <td>0</td>\n      <td>1</td>\n      <td>0</td>\n      <td>0</td>\n    </tr>\n    <tr>\n      <th>43705</th>\n      <td>194.0</td>\n      <td>-10</td>\n      <td>-5.0</td>\n      <td>1030.0</td>\n      <td>3.58</td>\n      <td>0</td>\n      <td>0</td>\n      <td>0</td>\n      <td>1</td>\n      <td>0</td>\n      <td>0</td>\n    </tr>\n    <tr>\n      <th>43706</th>\n      <td>187.0</td>\n      <td>-10</td>\n      <td>-5.0</td>\n      <td>1030.0</td>\n      <td>5.37</td>\n      <td>0</td>\n      <td>0</td>\n      <td>0</td>\n      <td>1</td>\n      <td>0</td>\n      <td>0</td>\n    </tr>\n    <tr>\n      <th>43707</th>\n      <td>216.0</td>\n      <td>-11</td>\n      <td>-6.0</td>\n      <td>1030.0</td>\n      <td>7.16</td>\n      <td>0</td>\n      <td>0</td>\n      <td>0</td>\n      <td>1</td>\n      <td>0</td>\n      <td>0</td>\n    </tr>\n    <tr>\n      <th>43708</th>\n      <td>225.0</td>\n      <td>-11</td>\n      <td>-6.0</td>\n      <td>1030.0</td>\n      <td>8.95</td>\n      <td>0</td>\n      <td>0</td>\n      <td>0</td>\n      <td>1</td>\n      <td>0</td>\n      <td>0</td>\n    </tr>\n    <tr>\n      <th>...</th>\n      <td>...</td>\n      <td>...</td>\n      <td>...</td>\n      <td>...</td>\n      <td>...</td>\n      <td>...</td>\n      <td>...</td>\n      <td>...</td>\n      <td>...</td>\n      <td>...</td>\n      <td>...</td>\n    </tr>\n    <tr>\n      <th>43819</th>\n      <td>8.0</td>\n      <td>-23</td>\n      <td>-2.0</td>\n      <td>1034.0</td>\n      <td>231.97</td>\n      <td>0</td>\n      <td>0</td>\n      <td>0</td>\n      <td>1</td>\n      <td>0</td>\n      <td>0</td>\n    </tr>\n    <tr>\n      <th>43820</th>\n      <td>10.0</td>\n      <td>-22</td>\n      <td>-3.0</td>\n      <td>1034.0</td>\n      <td>237.78</td>\n      <td>0</td>\n      <td>0</td>\n      <td>0</td>\n      <td>1</td>\n      <td>0</td>\n      <td>0</td>\n    </tr>\n    <tr>\n      <th>43821</th>\n      <td>10.0</td>\n      <td>-22</td>\n      <td>-3.0</td>\n      <td>1034.0</td>\n      <td>242.70</td>\n      <td>0</td>\n      <td>0</td>\n      <td>0</td>\n      <td>1</td>\n      <td>0</td>\n      <td>0</td>\n    </tr>\n    <tr>\n      <th>43822</th>\n      <td>8.0</td>\n      <td>-22</td>\n      <td>-4.0</td>\n      <td>1034.0</td>\n      <td>246.72</td>\n      <td>0</td>\n      <td>0</td>\n      <td>0</td>\n      <td>1</td>\n      <td>0</td>\n      <td>0</td>\n    </tr>\n    <tr>\n      <th>43823</th>\n      <td>12.0</td>\n      <td>-21</td>\n      <td>-3.0</td>\n      <td>1034.0</td>\n      <td>249.85</td>\n      <td>0</td>\n      <td>0</td>\n      <td>0</td>\n      <td>1</td>\n      <td>0</td>\n      <td>0</td>\n    </tr>\n  </tbody>\n</table>\n<p>120 rows × 11 columns</p>\n</div>"
     },
     "execution_count": 95,
     "metadata": {},
     "output_type": "execute_result"
    }
   ],
   "source": [
    "# data_test.reindex(columns=[])#排列所有的列\n",
    "data_test"
   ],
   "metadata": {
    "collapsed": false,
    "ExecuteTime": {
     "end_time": "2023-08-15T02:29:56.262513459Z",
     "start_time": "2023-08-15T02:29:56.225626672Z"
    }
   },
   "id": "d0dc5f0c473c6ac5"
  },
  {
   "cell_type": "code",
   "execution_count": 96,
   "outputs": [],
   "source": [
    "#数据归一化\n",
    "data_test=(data_test-mean)/std"
   ],
   "metadata": {
    "collapsed": false,
    "ExecuteTime": {
     "end_time": "2023-08-15T02:30:54.264413093Z",
     "start_time": "2023-08-15T02:30:54.152620284Z"
    }
   },
   "id": "e1e5634e80f992c8"
  },
  {
   "cell_type": "code",
   "execution_count": 97,
   "outputs": [],
   "source": [
    "data_test=data_test.to_numpy()"
   ],
   "metadata": {
    "collapsed": false,
    "ExecuteTime": {
     "end_time": "2023-08-15T02:31:27.194451540Z",
     "start_time": "2023-08-15T02:31:27.107217196Z"
    }
   },
   "id": "b7c73a71b9f6a7c4"
  },
  {
   "cell_type": "code",
   "execution_count": 98,
   "outputs": [
    {
     "data": {
      "text/plain": "array([[ 0.71139815, -0.82567656, -1.43844794, ...,  1.4578032 ,\n        -0.73285758, -0.52459848],\n       [ 1.05046629, -0.82525713, -1.43842001, ...,  1.45302081,\n        -0.73465851, -0.52162391],\n       [ 0.97459661, -0.82583767, -1.4387557 , ...,  1.45550428,\n        -0.73424276, -0.52371079],\n       ...,\n       [-0.96189379, -1.66300737, -1.28044209, ...,  1.45349784,\n        -0.73488953, -0.52033565],\n       [-0.98568945, -1.66393734, -1.36254351, ...,  1.45502613,\n        -0.73202698, -0.52331127],\n       [-0.94193014, -1.59523936, -1.27986348, ...,  1.45655718,\n        -0.73391945, -0.52406589]])"
     },
     "execution_count": 98,
     "metadata": {},
     "output_type": "execute_result"
    }
   ],
   "source": [
    "data_test"
   ],
   "metadata": {
    "collapsed": false,
    "ExecuteTime": {
     "end_time": "2023-08-15T02:31:32.054596092Z",
     "start_time": "2023-08-15T02:31:31.976514149Z"
    }
   },
   "id": "a862615f3c302d9a"
  },
  {
   "cell_type": "code",
   "execution_count": 100,
   "outputs": [],
   "source": [
    "#数据扩充维度\n",
    "data_test=np.expand_dims(data_test,0)\n",
    "# data_test.reshape(1,120,11)"
   ],
   "metadata": {
    "collapsed": false,
    "ExecuteTime": {
     "end_time": "2023-08-15T02:33:28.808312858Z",
     "start_time": "2023-08-15T02:33:28.774790535Z"
    }
   },
   "id": "a6b8fa3c201a5593"
  },
  {
   "cell_type": "code",
   "execution_count": 101,
   "outputs": [
    {
     "data": {
      "text/plain": "(1, 120, 11)"
     },
     "execution_count": 101,
     "metadata": {},
     "output_type": "execute_result"
    }
   ],
   "source": [
    "data_test.shape"
   ],
   "metadata": {
    "collapsed": false,
    "ExecuteTime": {
     "end_time": "2023-08-15T02:33:34.425709635Z",
     "start_time": "2023-08-15T02:33:34.353749436Z"
    }
   },
   "id": "2ec773a7d6901696"
  },
  {
   "cell_type": "code",
   "execution_count": 102,
   "outputs": [
    {
     "name": "stdout",
     "output_type": "stream",
     "text": [
      "1/1 [==============================] - 0s 36ms/step\n"
     ]
    },
    {
     "data": {
      "text/plain": "array([[58.39847]], dtype=float32)"
     },
     "execution_count": 102,
     "metadata": {},
     "output_type": "execute_result"
    }
   ],
   "source": [
    "new_model.predict(data_test)"
   ],
   "metadata": {
    "collapsed": false,
    "ExecuteTime": {
     "end_time": "2023-08-15T02:34:40.404193410Z",
     "start_time": "2023-08-15T02:34:40.292782140Z"
    }
   },
   "id": "97a6c01a2c0b0c55"
  },
  {
   "cell_type": "code",
   "execution_count": null,
   "outputs": [],
   "source": [],
   "metadata": {
    "collapsed": false
   },
   "id": "53320446428612af"
  }
 ],
 "metadata": {
  "kernelspec": {
   "display_name": "Python 3 (ipykernel)",
   "language": "python",
   "name": "python3"
  },
  "language_info": {
   "codemirror_mode": {
    "name": "ipython",
    "version": 3
   },
   "file_extension": ".py",
   "mimetype": "text/x-python",
   "name": "python",
   "nbconvert_exporter": "python",
   "pygments_lexer": "ipython3",
   "version": "3.8.10"
  }
 },
 "nbformat": 4,
 "nbformat_minor": 5
}
