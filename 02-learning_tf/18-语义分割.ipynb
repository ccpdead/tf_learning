{
 "cells": [
  {
   "cell_type": "markdown",
   "metadata": {},
   "source": [
    "## FCN全连接网络"
   ]
  },
  {
   "cell_type": "code",
   "execution_count": 1,
   "metadata": {
    "ExecuteTime": {
     "end_time": "2023-08-21T07:42:40.848554800Z",
     "start_time": "2023-08-21T07:42:38.139568900Z"
    }
   },
   "outputs": [
    {
     "name": "stderr",
     "output_type": "stream",
     "text": [
      "2023-08-21 15:42:41.664450: I tensorflow/core/platform/cpu_feature_guard.cc:182] This TensorFlow binary is optimized to use available CPU instructions in performance-critical operations.\n",
      "To enable the following instructions: AVX2 FMA, in other operations, rebuild TensorFlow with the appropriate compiler flags.\n",
      "2023-08-21 15:42:42.482207: W tensorflow/compiler/tf2tensorrt/utils/py_utils.cc:38] TF-TRT Warning: Could not find TensorRT\n"
     ]
    },
    {
     "name": "stdout",
     "output_type": "stream",
     "text": [
      "pip 23.2.1 from /home/jhr/anaconda3/envs/yolo/lib/python3.11/site-packages/pip (python 3.11)\r\n"
     ]
    }
   ],
   "source": [
    "import glob\n",
    "\n",
    "import matplotlib.pyplot as plt\n",
    "import numpy as np\n",
    "import tensorflow as tf\n",
    "import tensorflow.keras as keras\n",
    "%matplotlib inline\n",
    "\n",
    "!pip -V"
   ]
  },
  {
   "cell_type": "code",
   "execution_count": 10,
   "metadata": {},
   "outputs": [],
   "source": [
    "# os.listdir(\n",
    "#     \"/home/jhr/Documents/data/location/annotations1/annotations/trimaps\")[:1]\n",
    "# img = tf.io.read_file(\n",
    "#     \"/home/jhr/Documents/data/location/annotations1/annotations/trimaps/leonberger_24.png\")\n",
    "# img = tf.image.decode_png(img)\n",
    "# plt.imshow(img)\n",
    "# img.shape\n",
    "# img = tf.squeeze(img)  # 降维度\n",
    "# img.shape\n",
    "# plt.imshow(img)\n",
    "# img2 = tf.io.read_file(\n",
    "#     \"/home/jhr/Documents/data/location/images1/images/leonberger_24.jpg\")\n",
    "# img2 = tf.image.decode_jpeg(img2)\n",
    "# # plt.imshow(img2)"
   ]
  },
  {
   "cell_type": "markdown",
   "metadata": {},
   "source": [
    "## 读取图片"
   ]
  },
  {
   "cell_type": "code",
   "execution_count": 2,
   "metadata": {
    "ExecuteTime": {
     "end_time": "2023-08-21T07:42:43.094584500Z",
     "start_time": "2023-08-21T07:42:43.049452300Z"
    }
   },
   "outputs": [
    {
     "data": {
      "text/plain": "['/home/jhr/Documents/data/location/images1/images/Abyssinian_1.jpg',\n '/home/jhr/Documents/data/location/images1/images/Abyssinian_10.jpg',\n '/home/jhr/Documents/data/location/images1/images/Abyssinian_100.jpg',\n '/home/jhr/Documents/data/location/images1/images/Abyssinian_101.jpg',\n '/home/jhr/Documents/data/location/images1/images/Abyssinian_102.jpg']"
     },
     "execution_count": 2,
     "metadata": {},
     "output_type": "execute_result"
    }
   ],
   "source": [
    "images = glob.glob(\n",
    "    #     'C:/Users/yeolume/source/data/图片定位与分割数据集/images/*.jpg')\n",
    "    '/home/jhr/Documents/data/location/images1/images/*.jpg')\n",
    "images.sort(key=lambda x: x.split('/')[-1].split('.jpg')[0])  # 排序\n",
    "images[:5]"
   ]
  },
  {
   "cell_type": "code",
   "execution_count": 3,
   "metadata": {
    "ExecuteTime": {
     "end_time": "2023-08-21T07:42:43.469920200Z",
     "start_time": "2023-08-21T07:42:43.409405900Z"
    }
   },
   "outputs": [
    {
     "data": {
      "text/plain": "['/home/jhr/Documents/data/location/annotations1/annotations/trimaps/Abyssinian_1.png',\n '/home/jhr/Documents/data/location/annotations1/annotations/trimaps/Abyssinian_10.png',\n '/home/jhr/Documents/data/location/annotations1/annotations/trimaps/Abyssinian_100.png',\n '/home/jhr/Documents/data/location/annotations1/annotations/trimaps/Abyssinian_101.png',\n '/home/jhr/Documents/data/location/annotations1/annotations/trimaps/Abyssinian_102.png']"
     },
     "execution_count": 3,
     "metadata": {},
     "output_type": "execute_result"
    }
   ],
   "source": [
    "anno = glob.glob(\n",
    "    # 'C:/Users/yeolume/source/data/图片定位与分割数据集/annotations/trimaps/*.png')\n",
    "    '/home/jhr/Documents/data/location/annotations1/annotations/trimaps/*.png')\n",
    "anno.sort(key=lambda x: x.split('/')[-1].split('.png')[0])\n",
    "anno[:5]"
   ]
  },
  {
   "cell_type": "markdown",
   "metadata": {},
   "source": [
    "**乱序**"
   ]
  },
  {
   "cell_type": "code",
   "execution_count": 4,
   "metadata": {
    "ExecuteTime": {
     "end_time": "2023-08-21T07:42:44.730364900Z",
     "start_time": "2023-08-21T07:42:44.709423300Z"
    }
   },
   "outputs": [
    {
     "data": {
      "text/plain": "(array(['/home/jhr/Documents/data/location/images1/images/newfoundland_22.jpg'],\n       dtype='<U83'),\n array(['/home/jhr/Documents/data/location/annotations1/annotations/trimaps/newfoundland_22.png'],\n       dtype='<U101'))"
     },
     "execution_count": 4,
     "metadata": {},
     "output_type": "execute_result"
    }
   ],
   "source": [
    "np.random.seed(2019)\n",
    "index = np.random.permutation(len(images))\n",
    "\n",
    "images = np.array(images)[index]\n",
    "anno = np.array(anno)[index]\n",
    "images[:1], anno[:1]"
   ]
  },
  {
   "cell_type": "code",
   "execution_count": 5,
   "metadata": {
    "ExecuteTime": {
     "end_time": "2023-08-21T07:42:46.331479500Z",
     "start_time": "2023-08-21T07:42:44.962494300Z"
    }
   },
   "outputs": [
    {
     "name": "stderr",
     "output_type": "stream",
     "text": [
      "2023-08-21 15:42:49.505691: I tensorflow/core/common_runtime/gpu/gpu_device.cc:1639] Created device /job:localhost/replica:0/task:0/device:GPU:0 with 9583 MB memory:  -> device: 0, name: NVIDIA GeForce RTX 2080 Ti, pci bus id: 0000:01:00.0, compute capability: 7.5\n",
      "2023-08-21 15:42:49.506428: I tensorflow/core/common_runtime/gpu/gpu_device.cc:1639] Created device /job:localhost/replica:0/task:0/device:GPU:1 with 9625 MB memory:  -> device: 1, name: NVIDIA GeForce RTX 2080 Ti, pci bus id: 0000:61:00.0, compute capability: 7.5\n"
     ]
    }
   ],
   "source": [
    "dataset = tf.data.Dataset.from_tensor_slices((images, anno))"
   ]
  },
  {
   "cell_type": "code",
   "execution_count": 6,
   "metadata": {
    "ExecuteTime": {
     "end_time": "2023-08-21T07:42:46.353483500Z",
     "start_time": "2023-08-21T07:42:46.335479800Z"
    }
   },
   "outputs": [
    {
     "data": {
      "text/plain": "(1478, 5912)"
     },
     "execution_count": 6,
     "metadata": {},
     "output_type": "execute_result"
    }
   ],
   "source": [
    "test_count = int(len(images) * 0.2)\n",
    "train_count = len(images) - test_count\n",
    "\n",
    "test_count, train_count"
   ]
  },
  {
   "cell_type": "code",
   "execution_count": 7,
   "metadata": {
    "ExecuteTime": {
     "end_time": "2023-08-21T07:42:46.353483500Z",
     "start_time": "2023-08-21T07:42:46.341479700Z"
    }
   },
   "outputs": [],
   "source": [
    "data_train = dataset.skip(test_count)\n",
    "data_test = dataset.skip(train_count)"
   ]
  },
  {
   "cell_type": "code",
   "execution_count": 8,
   "metadata": {
    "ExecuteTime": {
     "end_time": "2023-08-21T07:42:46.353483500Z",
     "start_time": "2023-08-21T07:42:46.351481300Z"
    }
   },
   "outputs": [],
   "source": [
    "def read_jpg(path):\n",
    "    img = tf.io.read_file(path)\n",
    "    img = tf.image.decode_jpeg(img, channels=3)\n",
    "    return img"
   ]
  },
  {
   "cell_type": "code",
   "execution_count": 9,
   "metadata": {
    "ExecuteTime": {
     "end_time": "2023-08-21T07:42:46.582062800Z",
     "start_time": "2023-08-21T07:42:46.555710600Z"
    }
   },
   "outputs": [],
   "source": [
    "def read_png(path):\n",
    "    img = tf.io.read_file(path)\n",
    "    img = tf.image.decode_png(img, channels=1)\n",
    "    return img"
   ]
  },
  {
   "cell_type": "code",
   "execution_count": 10,
   "metadata": {
    "ExecuteTime": {
     "end_time": "2023-08-21T07:42:46.975441600Z",
     "start_time": "2023-08-21T07:42:46.950156500Z"
    }
   },
   "outputs": [],
   "source": [
    "def normal_img(input_images, input_anno):\n",
    "    input_images = tf.cast(input_images, tf.float32)\n",
    "    input_images = input_images / 127.5 - 1\n",
    "\n",
    "    input_anno -= 1\n",
    "    return input_images, input_anno"
   ]
  },
  {
   "cell_type": "code",
   "execution_count": 11,
   "metadata": {
    "ExecuteTime": {
     "end_time": "2023-08-21T07:42:47.290406Z",
     "start_time": "2023-08-21T07:42:47.248490200Z"
    }
   },
   "outputs": [],
   "source": [
    "@tf.function\n",
    "def load_images(input_images_path, input_anno_path):\n",
    "    input_image = read_jpg(input_images_path)\n",
    "    input_anno = read_png(input_anno_path)\n",
    "    input_image = tf.image.resize(input_image, (224, 224))\n",
    "    input_anno = tf.image.resize(input_anno, (224, 224))\n",
    "    return normal_img(input_image, input_anno)"
   ]
  },
  {
   "cell_type": "markdown",
   "metadata": {},
   "source": [
    "**创建训练数据与测试数据**"
   ]
  },
  {
   "cell_type": "code",
   "execution_count": 12,
   "metadata": {
    "ExecuteTime": {
     "end_time": "2023-08-21T07:42:48.761661100Z",
     "start_time": "2023-08-21T07:42:48.629578400Z"
    }
   },
   "outputs": [],
   "source": [
    "data_train = data_train.map(load_images,\n",
    "                            num_parallel_calls=tf.data.experimental.AUTOTUNE\n",
    "                            )\n",
    "\n",
    "data_test = data_test.map(load_images,\n",
    "                          num_parallel_calls=tf.data.experimental.AUTOTUNE\n",
    "                          )"
   ]
  },
  {
   "cell_type": "code",
   "execution_count": 13,
   "metadata": {
    "ExecuteTime": {
     "end_time": "2023-08-21T07:42:48.966031700Z",
     "start_time": "2023-08-21T07:42:48.865240600Z"
    }
   },
   "outputs": [
    {
     "name": "stdout",
     "output_type": "stream",
     "text": [
      "INFO:tensorflow:Using MirroredStrategy with devices ('/job:localhost/replica:0/task:0/device:GPU:0', '/job:localhost/replica:0/task:0/device:GPU:1')\n",
      "Number of devices: 2\n"
     ]
    }
   ],
   "source": [
    "batch_size_per_replica = 64  #单卡batch数量\n",
    "strategy = tf.distribute.MirroredStrategy()\n",
    "print('Number of devices: %d' % strategy.num_replicas_in_sync)  # 輸出設備數量\n",
    "batch_size = batch_size_per_replica * strategy.num_replicas_in_sync  #输出总batch"
   ]
  },
  {
   "cell_type": "code",
   "execution_count": 14,
   "metadata": {
    "ExecuteTime": {
     "end_time": "2023-08-21T07:42:49.233265700Z",
     "start_time": "2023-08-21T07:42:49.179524100Z"
    }
   },
   "outputs": [],
   "source": [
    "BATCH_SIZE = batch_size\n",
    "data_train = data_train.repeat().shuffle(100).batch(BATCH_SIZE)\n",
    "data_test = data_test.batch(BATCH_SIZE)"
   ]
  },
  {
   "cell_type": "markdown",
   "metadata": {},
   "source": [
    "绘制图片"
   ]
  },
  {
   "cell_type": "code",
   "execution_count": 15,
   "metadata": {
    "ExecuteTime": {
     "end_time": "2023-08-21T07:42:50.809158100Z",
     "start_time": "2023-08-21T07:42:50.086402400Z"
    }
   },
   "outputs": [
    {
     "data": {
      "text/plain": "<Figure size 640x480 with 2 Axes>",
      "image/png": "[encoded data removed]"
     },
     "metadata": {},
     "output_type": "display_data"
    }
   ],
   "source": [
    "for img, anno in data_train.take(1):\n",
    "    plt.subplot(1, 2, 1)\n",
    "    plt.imshow(tf.keras.preprocessing.image.array_to_img(img[0]))\n",
    "    plt.subplot(1, 2, 2)\n",
    "    plt.imshow(tf.keras.preprocessing.image.array_to_img(anno[0]))"
   ]
  },
  {
   "cell_type": "markdown",
   "metadata": {},
   "source": [
    "**以下为单卡训练**"
   ]
  },
  {
   "cell_type": "markdown",
   "metadata": {},
   "source": [
    "创建网络"
   ]
  },
  {
   "cell_type": "code",
   "execution_count": null,
   "metadata": {},
   "outputs": [],
   "source": [
    "conv_base = tf.keras.applications.VGG16(weights='imagenet',\n",
    "                                        input_shape=(224, 224, 3),\n",
    "                                        include_top=False\n",
    "                                        )"
   ]
  },
  {
   "cell_type": "code",
   "execution_count": null,
   "metadata": {},
   "outputs": [],
   "source": [
    "# conv_base.summary()"
   ]
  },
  {
   "cell_type": "code",
   "execution_count": null,
   "metadata": {},
   "outputs": [],
   "source": [
    "# conv_base.get_layer('block5_conv3').output"
   ]
  },
  {
   "cell_type": "code",
   "execution_count": null,
   "metadata": {},
   "outputs": [],
   "source": [
    "# sub_model = tf.keras.models.Model(inputs=conv_base.input,\n",
    "#                                   outputs=conv_base.get_layer('block5_conv3').output\n",
    "#                                  )"
   ]
  },
  {
   "cell_type": "code",
   "execution_count": null,
   "metadata": {},
   "outputs": [],
   "source": [
    "# sub_model.summary()"
   ]
  },
  {
   "cell_type": "markdown",
   "metadata": {},
   "source": [
    "**创建多输出模型**"
   ]
  },
  {
   "cell_type": "code",
   "execution_count": null,
   "metadata": {},
   "outputs": [],
   "source": [
    "layer_names = [\n",
    "    'block5_conv3',\n",
    "    'block4_conv3',\n",
    "    'block3_conv3',\n",
    "    'block5_pool'\n",
    "]\n",
    "\n",
    "layers_output = [conv_base.get_layer(\n",
    "    layer_name).output for layer_name in layer_names]"
   ]
  },
  {
   "cell_type": "code",
   "execution_count": null,
   "metadata": {},
   "outputs": [],
   "source": [
    "multi_out_model = tf.keras.models.Model(inputs=conv_base.input,\n",
    "                                        outputs=layers_output\n",
    "                                        )"
   ]
  },
  {
   "cell_type": "code",
   "execution_count": null,
   "metadata": {},
   "outputs": [],
   "source": [
    "multi_out_model.trainable = False"
   ]
  },
  {
   "cell_type": "code",
   "execution_count": null,
   "metadata": {},
   "outputs": [],
   "source": [
    "inputs = tf.keras.layers.Input(shape=(224, 224, 3))\n",
    "out_block5_conv3, out_block4_conv3, out_block3_conv3, out = multi_out_model(\n",
    "    inputs)"
   ]
  },
  {
   "cell_type": "code",
   "execution_count": null,
   "metadata": {},
   "outputs": [],
   "source": [
    "# 对out做上采样\n",
    "x1 = tf.keras.layers.Conv2DTranspose(512, 3,\n",
    "                                     strides=2,\n",
    "                                     padding='same',\n",
    "                                     activation='relu'\n",
    "                                     )(out)\n",
    "# 增加一层卷积，提高特征识别\n",
    "x1 = tf.keras.layers.Conv2D(512, 3, padding='same', activation='relu')(x1)"
   ]
  },
  {
   "cell_type": "code",
   "execution_count": null,
   "metadata": {},
   "outputs": [],
   "source": [
    "x1.shape"
   ]
  },
  {
   "cell_type": "code",
   "execution_count": null,
   "metadata": {},
   "outputs": [],
   "source": [
    "x2 = tf.add(x1, out_block5_conv3)\n",
    "# 对x2做上采样\n",
    "x2 = tf.keras.layers.Conv2DTranspose(512, 3,\n",
    "                                     strides=2,\n",
    "                                     padding='same',\n",
    "                                     activation='relu'\n",
    "                                     )(x2)\n",
    "# 增加一层卷积，提高特征识别\n",
    "x2 = tf.keras.layers.Conv2D(512, 3, padding='same', activation='relu')(x2)"
   ]
  },
  {
   "cell_type": "code",
   "execution_count": null,
   "metadata": {},
   "outputs": [],
   "source": [
    "x2.shape"
   ]
  },
  {
   "cell_type": "code",
   "execution_count": null,
   "metadata": {},
   "outputs": [],
   "source": [
    "x3 = tf.add(x2, out_block4_conv3)\n",
    "# 对x3做上采样\n",
    "x3 = tf.keras.layers.Conv2DTranspose(256, 3,\n",
    "                                     strides=2,\n",
    "                                     padding='same',\n",
    "                                     activation='relu'\n",
    "                                     )(x3)\n",
    "# 增加一层卷积，提高特征识别\n",
    "x3 = tf.keras.layers.Conv2D(256, 3, padding='same', activation='relu')(x3)"
   ]
  },
  {
   "cell_type": "code",
   "execution_count": null,
   "metadata": {},
   "outputs": [],
   "source": [
    "x3.shape"
   ]
  },
  {
   "cell_type": "code",
   "execution_count": null,
   "metadata": {},
   "outputs": [],
   "source": [
    "x4 = tf.add(x3, out_block3_conv3)\n",
    "# 对x4做上采样\n",
    "x5 = tf.keras.layers.Conv2DTranspose(128, 3,\n",
    "                                     strides=2,\n",
    "                                     padding='same',\n",
    "                                     activation='relu'\n",
    "                                     )(x4)\n",
    "# 增加一层卷积，提高特征识别\n",
    "x5 = tf.keras.layers.Conv2D(128, 3, padding='same', activation='relu')(x5)"
   ]
  },
  {
   "cell_type": "code",
   "execution_count": null,
   "metadata": {},
   "outputs": [],
   "source": [
    "x5.shape"
   ]
  },
  {
   "cell_type": "code",
   "execution_count": null,
   "metadata": {},
   "outputs": [],
   "source": [
    "prediction = tf.keras.layers.Conv2DTranspose(3, 3,\n",
    "                                             strides=2,\n",
    "                                             padding='same',\n",
    "                                             activation='softmax'\n",
    "                                             )(x5)"
   ]
  },
  {
   "cell_type": "code",
   "execution_count": null,
   "metadata": {},
   "outputs": [],
   "source": [
    "prediction.shape"
   ]
  },
  {
   "cell_type": "code",
   "execution_count": null,
   "metadata": {},
   "outputs": [],
   "source": [
    "model = tf.keras.models.Model(\n",
    "    inputs=inputs,\n",
    "    outputs=prediction\n",
    ")"
   ]
  },
  {
   "cell_type": "code",
   "execution_count": null,
   "metadata": {},
   "outputs": [],
   "source": [
    "# model.summary()"
   ]
  },
  {
   "cell_type": "markdown",
   "metadata": {},
   "source": [
    "**单机多卡**"
   ]
  },
  {
   "cell_type": "code",
   "execution_count": 23,
   "metadata": {
    "ExecuteTime": {
     "end_time": "2023-08-21T09:29:20.443942700Z",
     "start_time": "2023-08-21T09:29:19.749739800Z"
    }
   },
   "outputs": [],
   "source": [
    "with strategy.scope():\n",
    "    conv_base = tf.keras.applications.VGG16(weights='imagenet',\n",
    "                                            input_shape=(224, 224, 3),\n",
    "                                            include_top=False)\n",
    "\n",
    "    layer_names = [\n",
    "        'block5_conv3',\n",
    "        'block4_conv3',\n",
    "        'block3_conv3',\n",
    "        'block5_pool'\n",
    "    ]\n",
    "\n",
    "    layers_output = [conv_base.get_layer(\n",
    "        layer_name).output for layer_name in layer_names]\n",
    "\n",
    "    multi_out_model = tf.keras.models.Model(inputs=conv_base.input,\n",
    "                                            outputs=layers_output\n",
    "                                            )\n",
    "    multi_out_model.trainable = True\n",
    "    inputs = tf.keras.layers.Input(shape=(224, 224, 3))\n",
    "    out_block5_conv3, out_block4_conv3, out_block3_conv3, out = multi_out_model(\n",
    "        inputs)\n",
    "\n",
    "    # 对out做上采样\n",
    "    x1 = tf.keras.layers.Conv2DTranspose(512, 3,\n",
    "                                         strides=2,\n",
    "                                         padding='same',\n",
    "                                         activation='relu'\n",
    "                                         )(out)\n",
    "    # 增加一层卷积，提高特征识别\n",
    "    x1 = tf.keras.layers.Conv2D(512, 3, padding='same', activation='relu')(x1)\n",
    "\n",
    "    x2 = tf.add(x1, out_block5_conv3)\n",
    "    # 对x2做上采样\n",
    "    x2 = tf.keras.layers.Conv2DTranspose(512, 3,\n",
    "                                         strides=2,\n",
    "                                         padding='same',\n",
    "                                         activation='relu'\n",
    "                                         )(x2)\n",
    "    # 增加一层卷积，提高特征识别\n",
    "    x2 = tf.keras.layers.Conv2D(512, 3, padding='same', activation='relu')(x2)\n",
    "\n",
    "    x3 = tf.add(x2, out_block4_conv3)\n",
    "    # 对x3做上采样\n",
    "    x3 = tf.keras.layers.Conv2DTranspose(256, 3,\n",
    "                                         strides=2,\n",
    "                                         padding='same',\n",
    "                                         activation='relu'\n",
    "                                         )(x3)\n",
    "    # 增加一层卷积，提高特征识别\n",
    "    x3 = tf.keras.layers.Conv2D(256, 3, padding='same', activation='relu')(x3)\n",
    "\n",
    "    x4 = tf.add(x3, out_block3_conv3)\n",
    "    # 对x4做上采样\n",
    "    x5 = tf.keras.layers.Conv2DTranspose(128, 3,\n",
    "                                         strides=2,\n",
    "                                         padding='same',\n",
    "                                         activation='relu'\n",
    "                                         )(x4)\n",
    "    # 增加一层卷积，提高特征识别\n",
    "    x5 = tf.keras.layers.Conv2D(128, 3, padding='same', activation='relu')(x5)\n",
    "\n",
    "    prediction = tf.keras.layers.Conv2DTranspose(3, 3,\n",
    "                                                 strides=2,\n",
    "                                                 padding='same',\n",
    "                                                 activation='softmax'\n",
    "                                                 )(x5)\n",
    "\n",
    "    #创建模型\n",
    "    model = tf.keras.models.Model(\n",
    "        inputs=inputs,\n",
    "        outputs=prediction\n",
    "    )"
   ]
  },
  {
   "cell_type": "code",
   "execution_count": 24,
   "metadata": {
    "ExecuteTime": {
     "end_time": "2023-08-21T09:29:21.511563700Z",
     "start_time": "2023-08-21T09:29:21.388742100Z"
    }
   },
   "outputs": [
    {
     "name": "stdout",
     "output_type": "stream",
     "text": [
      "Model: \"model_3\"\n",
      "__________________________________________________________________________________________________\n",
      " Layer (type)                Output Shape                 Param #   Connected to                  \n",
      "==================================================================================================\n",
      " input_4 (InputLayer)        [(None, 224, 224, 3)]        0         []                            \n",
      "                                                                                                  \n",
      " model_2 (Functional)        [(None, 14, 14, 512),        1471468   ['input_4[0][0]']             \n",
      "                              (None, 28, 28, 512),        8                                       \n",
      "                              (None, 56, 56, 256),                                                \n",
      "                              (None, 7, 7, 512)]                                                  \n",
      "                                                                                                  \n",
      " conv2d_transpose_5 (Conv2D  (None, 14, 14, 512)          2359808   ['model_2[0][3]']             \n",
      " Transpose)                                                                                       \n",
      "                                                                                                  \n",
      " conv2d_4 (Conv2D)           (None, 14, 14, 512)          2359808   ['conv2d_transpose_5[0][0]']  \n",
      "                                                                                                  \n",
      " tf.math.add_3 (TFOpLambda)  (None, 14, 14, 512)          0         ['conv2d_4[0][0]',            \n",
      "                                                                     'model_2[0][0]']             \n",
      "                                                                                                  \n",
      " conv2d_transpose_6 (Conv2D  (None, 28, 28, 512)          2359808   ['tf.math.add_3[0][0]']       \n",
      " Transpose)                                                                                       \n",
      "                                                                                                  \n",
      " conv2d_5 (Conv2D)           (None, 28, 28, 512)          2359808   ['conv2d_transpose_6[0][0]']  \n",
      "                                                                                                  \n",
      " tf.math.add_4 (TFOpLambda)  (None, 28, 28, 512)          0         ['conv2d_5[0][0]',            \n",
      "                                                                     'model_2[0][1]']             \n",
      "                                                                                                  \n",
      " conv2d_transpose_7 (Conv2D  (None, 56, 56, 256)          1179904   ['tf.math.add_4[0][0]']       \n",
      " Transpose)                                                                                       \n",
      "                                                                                                  \n",
      " conv2d_6 (Conv2D)           (None, 56, 56, 256)          590080    ['conv2d_transpose_7[0][0]']  \n",
      "                                                                                                  \n",
      " tf.math.add_5 (TFOpLambda)  (None, 56, 56, 256)          0         ['conv2d_6[0][0]',            \n",
      "                                                                     'model_2[0][2]']             \n",
      "                                                                                                  \n",
      " conv2d_transpose_8 (Conv2D  (None, 112, 112, 128)        295040    ['tf.math.add_5[0][0]']       \n",
      " Transpose)                                                                                       \n",
      "                                                                                                  \n",
      " conv2d_7 (Conv2D)           (None, 112, 112, 128)        147584    ['conv2d_transpose_8[0][0]']  \n",
      "                                                                                                  \n",
      " conv2d_transpose_9 (Conv2D  (None, 224, 224, 3)          3459      ['conv2d_7[0][0]']            \n",
      " Transpose)                                                                                       \n",
      "                                                                                                  \n",
      "==================================================================================================\n",
      "Total params: 26369987 (100.59 MB)\n",
      "Trainable params: 26369987 (100.59 MB)\n",
      "Non-trainable params: 0 (0.00 Byte)\n",
      "__________________________________________________________________________________________________\n"
     ]
    }
   ],
   "source": [
    "model.summary()"
   ]
  },
  {
   "cell_type": "markdown",
   "metadata": {},
   "source": [
    "**配置模型**"
   ]
  },
  {
   "cell_type": "code",
   "execution_count": 25,
   "metadata": {
    "ExecuteTime": {
     "end_time": "2023-08-21T09:29:24.353052900Z",
     "start_time": "2023-08-21T09:29:24.319219700Z"
    }
   },
   "outputs": [],
   "source": [
    "model.compile(\n",
    "    optimizer='adam',\n",
    "    loss='sparse_categorical_crossentropy',\n",
    "    metrics=['acc']\n",
    ")"
   ]
  },
  {
   "cell_type": "markdown",
   "metadata": {},
   "source": [
    "**训练模型**"
   ]
  },
  {
   "cell_type": "code",
   "execution_count": 26,
   "outputs": [],
   "source": [
    "lr_reduce = keras.callbacks.ReduceLROnPlateau('val_loss', patience=3, factor=0.8, min_lr=0.00000001)"
   ],
   "metadata": {
    "collapsed": false,
    "ExecuteTime": {
     "end_time": "2023-08-21T09:29:30.085694100Z",
     "start_time": "2023-08-21T09:29:30.055077800Z"
    }
   }
  },
  {
   "cell_type": "code",
   "execution_count": 27,
   "metadata": {
    "collapsed": true
   },
   "outputs": [
    {
     "name": "stdout",
     "output_type": "stream",
     "text": [
      "46/46 [==============================] - 46s 703ms/step - loss: 0.8824 - acc: 0.5644 - val_loss: 0.7362 - val_acc: 0.5827 - lr: 0.0010\n",
      "Epoch 2/100\n",
      "46/46 [==============================] - 33s 722ms/step - loss: 0.6687 - acc: 0.6997 - val_loss: 0.5773 - val_acc: 0.7505 - lr: 0.0010\n",
      "Epoch 3/100\n",
      "46/46 [==============================] - 33s 728ms/step - loss: 0.5379 - acc: 0.7715 - val_loss: 0.4521 - val_acc: 0.8145 - lr: 0.0010\n",
      "Epoch 4/100\n",
      "46/46 [==============================] - 34s 731ms/step - loss: 0.4964 - acc: 0.7953 - val_loss: 0.4049 - val_acc: 0.8339 - lr: 0.0010\n",
      "Epoch 5/100\n",
      "46/46 [==============================] - 33s 728ms/step - loss: 0.3862 - acc: 0.8433 - val_loss: 0.3648 - val_acc: 0.8516 - lr: 0.0010\n",
      "Epoch 6/100\n",
      "46/46 [==============================] - 33s 728ms/step - loss: 0.4669 - acc: 0.8159 - val_loss: 0.4661 - val_acc: 0.8117 - lr: 0.0010\n",
      "Epoch 7/100\n",
      "46/46 [==============================] - 33s 727ms/step - loss: 0.3934 - acc: 0.8411 - val_loss: 0.3305 - val_acc: 0.8655 - lr: 0.0010\n",
      "Epoch 8/100\n",
      "46/46 [==============================] - 33s 717ms/step - loss: 0.3643 - acc: 0.8545 - val_loss: 0.3893 - val_acc: 0.8438 - lr: 0.0010\n",
      "Epoch 9/100\n",
      "46/46 [==============================] - 33s 729ms/step - loss: 0.3394 - acc: 0.8637 - val_loss: 0.3017 - val_acc: 0.8780 - lr: 0.0010\n",
      "Epoch 10/100\n",
      "46/46 [==============================] - 34s 736ms/step - loss: 0.2985 - acc: 0.8797 - val_loss: 0.2697 - val_acc: 0.8897 - lr: 0.0010\n",
      "Epoch 11/100\n",
      "33/46 [====================>.........] - ETA: 8s - loss: 0.2810 - acc: 0.8862"
     ]
    },
    {
     "ename": "KeyboardInterrupt",
     "evalue": "",
     "output_type": "error",
     "traceback": [
      "\u001B[0;31m---------------------------------------------------------------------------\u001B[0m",
      "\u001B[0;31mKeyboardInterrupt\u001B[0m                         Traceback (most recent call last)",
      "Cell \u001B[0;32mIn[27], line 1\u001B[0m\n\u001B[0;32m----> 1\u001B[0m history\u001B[38;5;241m=\u001B[39m\u001B[43mmodel\u001B[49m\u001B[38;5;241;43m.\u001B[39;49m\u001B[43mfit\u001B[49m\u001B[43m(\u001B[49m\u001B[43mdata_train\u001B[49m\u001B[43m,\u001B[49m\n\u001B[1;32m      2\u001B[0m \u001B[43m          \u001B[49m\u001B[43mepochs\u001B[49m\u001B[38;5;241;43m=\u001B[39;49m\u001B[38;5;241;43m100\u001B[39;49m\u001B[43m,\u001B[49m\n\u001B[1;32m      3\u001B[0m \u001B[43m          \u001B[49m\u001B[43msteps_per_epoch\u001B[49m\u001B[38;5;241;43m=\u001B[39;49m\u001B[43mtrain_count\u001B[49m\u001B[38;5;241;43m/\u001B[39;49m\u001B[38;5;241;43m/\u001B[39;49m\u001B[43mBATCH_SIZE\u001B[49m\u001B[43m,\u001B[49m\n\u001B[1;32m      4\u001B[0m \u001B[43m          \u001B[49m\u001B[43mvalidation_data\u001B[49m\u001B[38;5;241;43m=\u001B[39;49m\u001B[43mdata_test\u001B[49m\u001B[43m,\u001B[49m\n\u001B[1;32m      5\u001B[0m \u001B[43m          \u001B[49m\u001B[43mvalidation_steps\u001B[49m\u001B[38;5;241;43m=\u001B[39;49m\u001B[43mtest_count\u001B[49m\u001B[38;5;241;43m/\u001B[39;49m\u001B[38;5;241;43m/\u001B[39;49m\u001B[43mBATCH_SIZE\u001B[49m\u001B[43m,\u001B[49m\n\u001B[1;32m      6\u001B[0m \u001B[43m                  \u001B[49m\u001B[43mcallbacks\u001B[49m\u001B[38;5;241;43m=\u001B[39;49m\u001B[43m[\u001B[49m\u001B[43mlr_reduce\u001B[49m\u001B[43m]\u001B[49m\n\u001B[1;32m      7\u001B[0m \u001B[43m          \u001B[49m\u001B[43m)\u001B[49m\n",
      "File \u001B[0;32m~/anaconda3/envs/yolo/lib/python3.11/site-packages/keras/src/utils/traceback_utils.py:65\u001B[0m, in \u001B[0;36mfilter_traceback.<locals>.error_handler\u001B[0;34m(*args, **kwargs)\u001B[0m\n\u001B[1;32m     63\u001B[0m filtered_tb \u001B[38;5;241m=\u001B[39m \u001B[38;5;28;01mNone\u001B[39;00m\n\u001B[1;32m     64\u001B[0m \u001B[38;5;28;01mtry\u001B[39;00m:\n\u001B[0;32m---> 65\u001B[0m     \u001B[38;5;28;01mreturn\u001B[39;00m \u001B[43mfn\u001B[49m\u001B[43m(\u001B[49m\u001B[38;5;241;43m*\u001B[39;49m\u001B[43margs\u001B[49m\u001B[43m,\u001B[49m\u001B[43m \u001B[49m\u001B[38;5;241;43m*\u001B[39;49m\u001B[38;5;241;43m*\u001B[39;49m\u001B[43mkwargs\u001B[49m\u001B[43m)\u001B[49m\n\u001B[1;32m     66\u001B[0m \u001B[38;5;28;01mexcept\u001B[39;00m \u001B[38;5;167;01mException\u001B[39;00m \u001B[38;5;28;01mas\u001B[39;00m e:\n\u001B[1;32m     67\u001B[0m     filtered_tb \u001B[38;5;241m=\u001B[39m _process_traceback_frames(e\u001B[38;5;241m.\u001B[39m__traceback__)\n",
      "File \u001B[0;32m~/anaconda3/envs/yolo/lib/python3.11/site-packages/keras/src/engine/training.py:1742\u001B[0m, in \u001B[0;36mModel.fit\u001B[0;34m(self, x, y, batch_size, epochs, verbose, callbacks, validation_split, validation_data, shuffle, class_weight, sample_weight, initial_epoch, steps_per_epoch, validation_steps, validation_batch_size, validation_freq, max_queue_size, workers, use_multiprocessing)\u001B[0m\n\u001B[1;32m   1734\u001B[0m \u001B[38;5;28;01mwith\u001B[39;00m tf\u001B[38;5;241m.\u001B[39mprofiler\u001B[38;5;241m.\u001B[39mexperimental\u001B[38;5;241m.\u001B[39mTrace(\n\u001B[1;32m   1735\u001B[0m     \u001B[38;5;124m\"\u001B[39m\u001B[38;5;124mtrain\u001B[39m\u001B[38;5;124m\"\u001B[39m,\n\u001B[1;32m   1736\u001B[0m     epoch_num\u001B[38;5;241m=\u001B[39mepoch,\n\u001B[0;32m   (...)\u001B[0m\n\u001B[1;32m   1739\u001B[0m     _r\u001B[38;5;241m=\u001B[39m\u001B[38;5;241m1\u001B[39m,\n\u001B[1;32m   1740\u001B[0m ):\n\u001B[1;32m   1741\u001B[0m     callbacks\u001B[38;5;241m.\u001B[39mon_train_batch_begin(step)\n\u001B[0;32m-> 1742\u001B[0m     tmp_logs \u001B[38;5;241m=\u001B[39m \u001B[38;5;28;43mself\u001B[39;49m\u001B[38;5;241;43m.\u001B[39;49m\u001B[43mtrain_function\u001B[49m\u001B[43m(\u001B[49m\u001B[43miterator\u001B[49m\u001B[43m)\u001B[49m\n\u001B[1;32m   1743\u001B[0m     \u001B[38;5;28;01mif\u001B[39;00m data_handler\u001B[38;5;241m.\u001B[39mshould_sync:\n\u001B[1;32m   1744\u001B[0m         context\u001B[38;5;241m.\u001B[39masync_wait()\n",
      "File \u001B[0;32m~/anaconda3/envs/yolo/lib/python3.11/site-packages/tensorflow/python/util/traceback_utils.py:150\u001B[0m, in \u001B[0;36mfilter_traceback.<locals>.error_handler\u001B[0;34m(*args, **kwargs)\u001B[0m\n\u001B[1;32m    148\u001B[0m filtered_tb \u001B[38;5;241m=\u001B[39m \u001B[38;5;28;01mNone\u001B[39;00m\n\u001B[1;32m    149\u001B[0m \u001B[38;5;28;01mtry\u001B[39;00m:\n\u001B[0;32m--> 150\u001B[0m   \u001B[38;5;28;01mreturn\u001B[39;00m \u001B[43mfn\u001B[49m\u001B[43m(\u001B[49m\u001B[38;5;241;43m*\u001B[39;49m\u001B[43margs\u001B[49m\u001B[43m,\u001B[49m\u001B[43m \u001B[49m\u001B[38;5;241;43m*\u001B[39;49m\u001B[38;5;241;43m*\u001B[39;49m\u001B[43mkwargs\u001B[49m\u001B[43m)\u001B[49m\n\u001B[1;32m    151\u001B[0m \u001B[38;5;28;01mexcept\u001B[39;00m \u001B[38;5;167;01mException\u001B[39;00m \u001B[38;5;28;01mas\u001B[39;00m e:\n\u001B[1;32m    152\u001B[0m   filtered_tb \u001B[38;5;241m=\u001B[39m _process_traceback_frames(e\u001B[38;5;241m.\u001B[39m__traceback__)\n",
      "File \u001B[0;32m~/anaconda3/envs/yolo/lib/python3.11/site-packages/tensorflow/python/eager/polymorphic_function/polymorphic_function.py:825\u001B[0m, in \u001B[0;36mFunction.__call__\u001B[0;34m(self, *args, **kwds)\u001B[0m\n\u001B[1;32m    822\u001B[0m compiler \u001B[38;5;241m=\u001B[39m \u001B[38;5;124m\"\u001B[39m\u001B[38;5;124mxla\u001B[39m\u001B[38;5;124m\"\u001B[39m \u001B[38;5;28;01mif\u001B[39;00m \u001B[38;5;28mself\u001B[39m\u001B[38;5;241m.\u001B[39m_jit_compile \u001B[38;5;28;01melse\u001B[39;00m \u001B[38;5;124m\"\u001B[39m\u001B[38;5;124mnonXla\u001B[39m\u001B[38;5;124m\"\u001B[39m\n\u001B[1;32m    824\u001B[0m \u001B[38;5;28;01mwith\u001B[39;00m OptionalXlaContext(\u001B[38;5;28mself\u001B[39m\u001B[38;5;241m.\u001B[39m_jit_compile):\n\u001B[0;32m--> 825\u001B[0m   result \u001B[38;5;241m=\u001B[39m \u001B[38;5;28;43mself\u001B[39;49m\u001B[38;5;241;43m.\u001B[39;49m\u001B[43m_call\u001B[49m\u001B[43m(\u001B[49m\u001B[38;5;241;43m*\u001B[39;49m\u001B[43margs\u001B[49m\u001B[43m,\u001B[49m\u001B[43m \u001B[49m\u001B[38;5;241;43m*\u001B[39;49m\u001B[38;5;241;43m*\u001B[39;49m\u001B[43mkwds\u001B[49m\u001B[43m)\u001B[49m\n\u001B[1;32m    827\u001B[0m new_tracing_count \u001B[38;5;241m=\u001B[39m \u001B[38;5;28mself\u001B[39m\u001B[38;5;241m.\u001B[39mexperimental_get_tracing_count()\n\u001B[1;32m    828\u001B[0m without_tracing \u001B[38;5;241m=\u001B[39m (tracing_count \u001B[38;5;241m==\u001B[39m new_tracing_count)\n",
      "File \u001B[0;32m~/anaconda3/envs/yolo/lib/python3.11/site-packages/tensorflow/python/eager/polymorphic_function/polymorphic_function.py:857\u001B[0m, in \u001B[0;36mFunction._call\u001B[0;34m(self, *args, **kwds)\u001B[0m\n\u001B[1;32m    854\u001B[0m   \u001B[38;5;28mself\u001B[39m\u001B[38;5;241m.\u001B[39m_lock\u001B[38;5;241m.\u001B[39mrelease()\n\u001B[1;32m    855\u001B[0m   \u001B[38;5;66;03m# In this case we have created variables on the first call, so we run the\u001B[39;00m\n\u001B[1;32m    856\u001B[0m   \u001B[38;5;66;03m# defunned version which is guaranteed to never create variables.\u001B[39;00m\n\u001B[0;32m--> 857\u001B[0m   \u001B[38;5;28;01mreturn\u001B[39;00m \u001B[38;5;28;43mself\u001B[39;49m\u001B[38;5;241;43m.\u001B[39;49m\u001B[43m_no_variable_creation_fn\u001B[49m\u001B[43m(\u001B[49m\u001B[38;5;241;43m*\u001B[39;49m\u001B[43margs\u001B[49m\u001B[43m,\u001B[49m\u001B[43m \u001B[49m\u001B[38;5;241;43m*\u001B[39;49m\u001B[38;5;241;43m*\u001B[39;49m\u001B[43mkwds\u001B[49m\u001B[43m)\u001B[49m  \u001B[38;5;66;03m# pylint: disable=not-callable\u001B[39;00m\n\u001B[1;32m    858\u001B[0m \u001B[38;5;28;01melif\u001B[39;00m \u001B[38;5;28mself\u001B[39m\u001B[38;5;241m.\u001B[39m_variable_creation_fn \u001B[38;5;129;01mis\u001B[39;00m \u001B[38;5;129;01mnot\u001B[39;00m \u001B[38;5;28;01mNone\u001B[39;00m:\n\u001B[1;32m    859\u001B[0m   \u001B[38;5;66;03m# Release the lock early so that multiple threads can perform the call\u001B[39;00m\n\u001B[1;32m    860\u001B[0m   \u001B[38;5;66;03m# in parallel.\u001B[39;00m\n\u001B[1;32m    861\u001B[0m   \u001B[38;5;28mself\u001B[39m\u001B[38;5;241m.\u001B[39m_lock\u001B[38;5;241m.\u001B[39mrelease()\n",
      "File \u001B[0;32m~/anaconda3/envs/yolo/lib/python3.11/site-packages/tensorflow/python/eager/polymorphic_function/tracing_compiler.py:148\u001B[0m, in \u001B[0;36mTracingCompiler.__call__\u001B[0;34m(self, *args, **kwargs)\u001B[0m\n\u001B[1;32m    145\u001B[0m \u001B[38;5;28;01mwith\u001B[39;00m \u001B[38;5;28mself\u001B[39m\u001B[38;5;241m.\u001B[39m_lock:\n\u001B[1;32m    146\u001B[0m   (concrete_function,\n\u001B[1;32m    147\u001B[0m    filtered_flat_args) \u001B[38;5;241m=\u001B[39m \u001B[38;5;28mself\u001B[39m\u001B[38;5;241m.\u001B[39m_maybe_define_function(args, kwargs)\n\u001B[0;32m--> 148\u001B[0m \u001B[38;5;28;01mreturn\u001B[39;00m \u001B[43mconcrete_function\u001B[49m\u001B[38;5;241;43m.\u001B[39;49m\u001B[43m_call_flat\u001B[49m\u001B[43m(\u001B[49m\n\u001B[1;32m    149\u001B[0m \u001B[43m    \u001B[49m\u001B[43mfiltered_flat_args\u001B[49m\u001B[43m,\u001B[49m\u001B[43m \u001B[49m\u001B[43mcaptured_inputs\u001B[49m\u001B[38;5;241;43m=\u001B[39;49m\u001B[43mconcrete_function\u001B[49m\u001B[38;5;241;43m.\u001B[39;49m\u001B[43mcaptured_inputs\u001B[49m\u001B[43m)\u001B[49m\n",
      "File \u001B[0;32m~/anaconda3/envs/yolo/lib/python3.11/site-packages/tensorflow/python/eager/polymorphic_function/monomorphic_function.py:1349\u001B[0m, in \u001B[0;36mConcreteFunction._call_flat\u001B[0;34m(self, args, captured_inputs)\u001B[0m\n\u001B[1;32m   1345\u001B[0m possible_gradient_type \u001B[38;5;241m=\u001B[39m gradients_util\u001B[38;5;241m.\u001B[39mPossibleTapeGradientTypes(args)\n\u001B[1;32m   1346\u001B[0m \u001B[38;5;28;01mif\u001B[39;00m (possible_gradient_type \u001B[38;5;241m==\u001B[39m gradients_util\u001B[38;5;241m.\u001B[39mPOSSIBLE_GRADIENT_TYPES_NONE\n\u001B[1;32m   1347\u001B[0m     \u001B[38;5;129;01mand\u001B[39;00m executing_eagerly):\n\u001B[1;32m   1348\u001B[0m   \u001B[38;5;66;03m# No tape is watching; skip to running the function.\u001B[39;00m\n\u001B[0;32m-> 1349\u001B[0m   \u001B[38;5;28;01mreturn\u001B[39;00m \u001B[38;5;28mself\u001B[39m\u001B[38;5;241m.\u001B[39m_build_call_outputs(\u001B[38;5;28;43mself\u001B[39;49m\u001B[38;5;241;43m.\u001B[39;49m\u001B[43m_inference_function\u001B[49m\u001B[43m(\u001B[49m\u001B[38;5;241;43m*\u001B[39;49m\u001B[43margs\u001B[49m\u001B[43m)\u001B[49m)\n\u001B[1;32m   1350\u001B[0m forward_backward \u001B[38;5;241m=\u001B[39m \u001B[38;5;28mself\u001B[39m\u001B[38;5;241m.\u001B[39m_select_forward_and_backward_functions(\n\u001B[1;32m   1351\u001B[0m     args,\n\u001B[1;32m   1352\u001B[0m     possible_gradient_type,\n\u001B[1;32m   1353\u001B[0m     executing_eagerly)\n\u001B[1;32m   1354\u001B[0m forward_function, args_with_tangents \u001B[38;5;241m=\u001B[39m forward_backward\u001B[38;5;241m.\u001B[39mforward()\n",
      "File \u001B[0;32m~/anaconda3/envs/yolo/lib/python3.11/site-packages/tensorflow/python/eager/polymorphic_function/atomic_function.py:196\u001B[0m, in \u001B[0;36mAtomicFunction.__call__\u001B[0;34m(self, *args)\u001B[0m\n\u001B[1;32m    194\u001B[0m \u001B[38;5;28;01mwith\u001B[39;00m record\u001B[38;5;241m.\u001B[39mstop_recording():\n\u001B[1;32m    195\u001B[0m   \u001B[38;5;28;01mif\u001B[39;00m \u001B[38;5;28mself\u001B[39m\u001B[38;5;241m.\u001B[39m_bound_context\u001B[38;5;241m.\u001B[39mexecuting_eagerly():\n\u001B[0;32m--> 196\u001B[0m     outputs \u001B[38;5;241m=\u001B[39m \u001B[38;5;28;43mself\u001B[39;49m\u001B[38;5;241;43m.\u001B[39;49m\u001B[43m_bound_context\u001B[49m\u001B[38;5;241;43m.\u001B[39;49m\u001B[43mcall_function\u001B[49m\u001B[43m(\u001B[49m\n\u001B[1;32m    197\u001B[0m \u001B[43m        \u001B[49m\u001B[38;5;28;43mself\u001B[39;49m\u001B[38;5;241;43m.\u001B[39;49m\u001B[43mname\u001B[49m\u001B[43m,\u001B[49m\n\u001B[1;32m    198\u001B[0m \u001B[43m        \u001B[49m\u001B[38;5;28;43mlist\u001B[39;49m\u001B[43m(\u001B[49m\u001B[43margs\u001B[49m\u001B[43m)\u001B[49m\u001B[43m,\u001B[49m\n\u001B[1;32m    199\u001B[0m \u001B[43m        \u001B[49m\u001B[38;5;28;43mlen\u001B[39;49m\u001B[43m(\u001B[49m\u001B[38;5;28;43mself\u001B[39;49m\u001B[38;5;241;43m.\u001B[39;49m\u001B[43mfunction_type\u001B[49m\u001B[38;5;241;43m.\u001B[39;49m\u001B[43mflat_outputs\u001B[49m\u001B[43m)\u001B[49m\u001B[43m,\u001B[49m\n\u001B[1;32m    200\u001B[0m \u001B[43m    \u001B[49m\u001B[43m)\u001B[49m\n\u001B[1;32m    201\u001B[0m   \u001B[38;5;28;01melse\u001B[39;00m:\n\u001B[1;32m    202\u001B[0m     outputs \u001B[38;5;241m=\u001B[39m make_call_op_in_graph(\u001B[38;5;28mself\u001B[39m, \u001B[38;5;28mlist\u001B[39m(args))\n",
      "File \u001B[0;32m~/anaconda3/envs/yolo/lib/python3.11/site-packages/tensorflow/python/eager/context.py:1457\u001B[0m, in \u001B[0;36mContext.call_function\u001B[0;34m(self, name, tensor_inputs, num_outputs)\u001B[0m\n\u001B[1;32m   1455\u001B[0m cancellation_context \u001B[38;5;241m=\u001B[39m cancellation\u001B[38;5;241m.\u001B[39mcontext()\n\u001B[1;32m   1456\u001B[0m \u001B[38;5;28;01mif\u001B[39;00m cancellation_context \u001B[38;5;129;01mis\u001B[39;00m \u001B[38;5;28;01mNone\u001B[39;00m:\n\u001B[0;32m-> 1457\u001B[0m   outputs \u001B[38;5;241m=\u001B[39m \u001B[43mexecute\u001B[49m\u001B[38;5;241;43m.\u001B[39;49m\u001B[43mexecute\u001B[49m\u001B[43m(\u001B[49m\n\u001B[1;32m   1458\u001B[0m \u001B[43m      \u001B[49m\u001B[43mname\u001B[49m\u001B[38;5;241;43m.\u001B[39;49m\u001B[43mdecode\u001B[49m\u001B[43m(\u001B[49m\u001B[38;5;124;43m\"\u001B[39;49m\u001B[38;5;124;43mutf-8\u001B[39;49m\u001B[38;5;124;43m\"\u001B[39;49m\u001B[43m)\u001B[49m\u001B[43m,\u001B[49m\n\u001B[1;32m   1459\u001B[0m \u001B[43m      \u001B[49m\u001B[43mnum_outputs\u001B[49m\u001B[38;5;241;43m=\u001B[39;49m\u001B[43mnum_outputs\u001B[49m\u001B[43m,\u001B[49m\n\u001B[1;32m   1460\u001B[0m \u001B[43m      \u001B[49m\u001B[43minputs\u001B[49m\u001B[38;5;241;43m=\u001B[39;49m\u001B[43mtensor_inputs\u001B[49m\u001B[43m,\u001B[49m\n\u001B[1;32m   1461\u001B[0m \u001B[43m      \u001B[49m\u001B[43mattrs\u001B[49m\u001B[38;5;241;43m=\u001B[39;49m\u001B[43mattrs\u001B[49m\u001B[43m,\u001B[49m\n\u001B[1;32m   1462\u001B[0m \u001B[43m      \u001B[49m\u001B[43mctx\u001B[49m\u001B[38;5;241;43m=\u001B[39;49m\u001B[38;5;28;43mself\u001B[39;49m\u001B[43m,\u001B[49m\n\u001B[1;32m   1463\u001B[0m \u001B[43m  \u001B[49m\u001B[43m)\u001B[49m\n\u001B[1;32m   1464\u001B[0m \u001B[38;5;28;01melse\u001B[39;00m:\n\u001B[1;32m   1465\u001B[0m   outputs \u001B[38;5;241m=\u001B[39m execute\u001B[38;5;241m.\u001B[39mexecute_with_cancellation(\n\u001B[1;32m   1466\u001B[0m       name\u001B[38;5;241m.\u001B[39mdecode(\u001B[38;5;124m\"\u001B[39m\u001B[38;5;124mutf-8\u001B[39m\u001B[38;5;124m\"\u001B[39m),\n\u001B[1;32m   1467\u001B[0m       num_outputs\u001B[38;5;241m=\u001B[39mnum_outputs,\n\u001B[0;32m   (...)\u001B[0m\n\u001B[1;32m   1471\u001B[0m       cancellation_manager\u001B[38;5;241m=\u001B[39mcancellation_context,\n\u001B[1;32m   1472\u001B[0m   )\n",
      "File \u001B[0;32m~/anaconda3/envs/yolo/lib/python3.11/site-packages/tensorflow/python/eager/execute.py:53\u001B[0m, in \u001B[0;36mquick_execute\u001B[0;34m(op_name, num_outputs, inputs, attrs, ctx, name)\u001B[0m\n\u001B[1;32m     51\u001B[0m \u001B[38;5;28;01mtry\u001B[39;00m:\n\u001B[1;32m     52\u001B[0m   ctx\u001B[38;5;241m.\u001B[39mensure_initialized()\n\u001B[0;32m---> 53\u001B[0m   tensors \u001B[38;5;241m=\u001B[39m \u001B[43mpywrap_tfe\u001B[49m\u001B[38;5;241;43m.\u001B[39;49m\u001B[43mTFE_Py_Execute\u001B[49m\u001B[43m(\u001B[49m\u001B[43mctx\u001B[49m\u001B[38;5;241;43m.\u001B[39;49m\u001B[43m_handle\u001B[49m\u001B[43m,\u001B[49m\u001B[43m \u001B[49m\u001B[43mdevice_name\u001B[49m\u001B[43m,\u001B[49m\u001B[43m \u001B[49m\u001B[43mop_name\u001B[49m\u001B[43m,\u001B[49m\n\u001B[1;32m     54\u001B[0m \u001B[43m                                      \u001B[49m\u001B[43minputs\u001B[49m\u001B[43m,\u001B[49m\u001B[43m \u001B[49m\u001B[43mattrs\u001B[49m\u001B[43m,\u001B[49m\u001B[43m \u001B[49m\u001B[43mnum_outputs\u001B[49m\u001B[43m)\u001B[49m\n\u001B[1;32m     55\u001B[0m \u001B[38;5;28;01mexcept\u001B[39;00m core\u001B[38;5;241m.\u001B[39m_NotOkStatusException \u001B[38;5;28;01mas\u001B[39;00m e:\n\u001B[1;32m     56\u001B[0m   \u001B[38;5;28;01mif\u001B[39;00m name \u001B[38;5;129;01mis\u001B[39;00m \u001B[38;5;129;01mnot\u001B[39;00m \u001B[38;5;28;01mNone\u001B[39;00m:\n",
      "\u001B[0;31mKeyboardInterrupt\u001B[0m: "
     ]
    }
   ],
   "source": [
    "history = model.fit(data_train,\n",
    "                    epochs=100,\n",
    "                    steps_per_epoch=train_count // BATCH_SIZE,\n",
    "                    validation_data=data_test,\n",
    "                    validation_steps=test_count // BATCH_SIZE,\n",
    "                    callbacks=[lr_reduce]\n",
    "                    )"
   ]
  },
  {
   "cell_type": "code",
   "execution_count": null,
   "metadata": {
    "ExecuteTime": {
     "end_time": "2023-08-21T09:35:38.975798Z",
     "start_time": "2023-08-21T09:35:38.933928900Z"
    }
   },
   "outputs": [],
   "source": [
    "history.history.keys()"
   ]
  },
  {
   "cell_type": "code",
   "execution_count": null,
   "metadata": {
    "ExecuteTime": {
     "start_time": "2023-08-21T09:35:38.933928900Z"
    }
   },
   "outputs": [],
   "source": [
    "plt.plot(history.epoch, history.history.get('acc'), label='acc', color='b')\n",
    "plt.plot(history.epoch, history.history.get(\n",
    "    'val_acc'), label='val_acc', color='r')"
   ]
  },
  {
   "cell_type": "code",
   "execution_count": null,
   "metadata": {},
   "outputs": [],
   "source": [
    "num = 3\n",
    "for img, mask in data_train.take(1):\n",
    "    out_img = model.predict(img)\n",
    "    out_img = tf.argmax(out_img, axis=-1)\n",
    "    out_img = out_img[..., tf.newaxis]\n",
    "\n",
    "    plt.figure(figsize=(10, 10))\n",
    "    for i in range(num):\n",
    "        plt.subplot(num, 3, i * num + 1)\n",
    "        plt.imshow(tf.keras.preprocessing.image.array_to_img(img[i]))\n",
    "        plt.subplot(num, 3, i * num + 2)\n",
    "        plt.imshow(tf.keras.preprocessing.image.array_to_img(mask[i]))\n",
    "        plt.subplot(num, 3, i * num + 3)\n",
    "        plt.imshow(tf.keras.preprocessing.image.array_to_img(out_img[i]))"
   ]
  },
  {
   "cell_type": "code",
   "execution_count": null,
   "metadata": {},
   "outputs": [],
   "source": [
    "model.save('segmentation_v1.h5')"
   ]
  },
  {
   "cell_type": "markdown",
   "metadata": {},
   "source": [
    "**tesging**"
   ]
  },
  {
   "cell_type": "code",
   "execution_count": 2,
   "metadata": {
    "ExecuteTime": {
     "end_time": "2023-08-14T09:01:07.460098585Z",
     "start_time": "2023-08-14T09:01:05.392719495Z"
    }
   },
   "outputs": [],
   "source": [
    "#加载模型\n",
    "new_model = tf.keras.models.load_model('/home/jhr/Documents/segmentation_v1.h5')"
   ]
  },
  {
   "cell_type": "code",
   "execution_count": 3,
   "metadata": {
    "ExecuteTime": {
     "end_time": "2023-08-14T09:01:10.010642407Z",
     "start_time": "2023-08-14T09:01:08.937386147Z"
    }
   },
   "outputs": [
    {
     "ename": "NameError",
     "evalue": "name 'data_train' is not defined",
     "output_type": "error",
     "traceback": [
      "\u001B[0;31m---------------------------------------------------------------------------\u001B[0m",
      "\u001B[0;31mNameError\u001B[0m                                 Traceback (most recent call last)",
      "Cell \u001B[0;32mIn[3], line 2\u001B[0m\n\u001B[1;32m      1\u001B[0m num\u001B[38;5;241m=\u001B[39m\u001B[38;5;241m3\u001B[39m\n\u001B[0;32m----> 2\u001B[0m \u001B[38;5;28;01mfor\u001B[39;00m img,mask \u001B[38;5;129;01min\u001B[39;00m data_train\u001B[38;5;241m.\u001B[39mtake(\u001B[38;5;241m1\u001B[39m):\n\u001B[1;32m      3\u001B[0m   out_img \u001B[38;5;241m=\u001B[39m new_model\u001B[38;5;241m.\u001B[39mpredict(img)\n\u001B[1;32m      4\u001B[0m   out_img\u001B[38;5;241m=\u001B[39mtf\u001B[38;5;241m.\u001B[39margmax(out_img,axis\u001B[38;5;241m=\u001B[39m\u001B[38;5;241m-\u001B[39m\u001B[38;5;241m1\u001B[39m)\n",
      "\u001B[0;31mNameError\u001B[0m: name 'data_train' is not defined"
     ]
    }
   ],
   "source": [
    "num = 3\n",
    "for img, mask in data_train.take(1):\n",
    "    out_img = new_model.predict(img)\n",
    "    out_img = tf.argmax(out_img, axis=-1)\n",
    "    out_img = out_img[..., tf.newaxis]\n",
    "\n",
    "    plt.figure(figsize=(10, 10))\n",
    "    for i in range(num):\n",
    "        plt.subplot(num, 3, i * num + 1)\n",
    "        plt.imshow(tf.keras.preprocessing.image.array_to_img(img[i]))\n",
    "        plt.subplot(num, 3, i * num + 2)\n",
    "        plt.imshow(tf.keras.preprocessing.image.array_to_img(mask[i]))\n",
    "        plt.subplot(num, 3, i * num + 3)\n",
    "        plt.imshow(tf.keras.preprocessing.image.array_to_img(out_img[i]))"
   ]
  },
  {
   "cell_type": "code",
   "execution_count": 23,
   "metadata": {},
   "outputs": [
    {
     "data": {
      "text/plain": [
       "TensorShape([64, 224, 224, 3])"
      ]
     },
     "execution_count": 23,
     "metadata": {},
     "output_type": "execute_result"
    }
   ],
   "source": [
    "img.shape"
   ]
  },
  {
   "cell_type": "code",
   "execution_count": 20,
   "metadata": {},
   "outputs": [],
   "source": [
    "# new_model.summary()"
   ]
  },
  {
   "cell_type": "code",
   "execution_count": null,
   "metadata": {},
   "outputs": [],
   "source": []
  }
 ],
 "metadata": {
  "kernelspec": {
   "display_name": "Python 3 (ipykernel)",
   "language": "python",
   "name": "python3"
  },
  "language_info": {
   "codemirror_mode": {
    "name": "ipython",
    "version": 3
   },
   "file_extension": ".py",
   "mimetype": "text/x-python",
   "name": "python",
   "nbconvert_exporter": "python",
   "pygments_lexer": "ipython3",
   "version": "3.11.3"
  }
 },
 "nbformat": 4,
 "nbformat_minor": 2
}
