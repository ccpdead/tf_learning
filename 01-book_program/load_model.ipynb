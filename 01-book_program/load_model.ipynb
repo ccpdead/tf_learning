{
 "cells": [
  {
   "cell_type": "code",
   "execution_count": null,
   "outputs": [],
   "source": [
    "import tensorflow as tf\n",
    "from tensorflow import keras\n",
    "import matplotlib.pyplot as plt\n",
    "%matplotlib inline\n",
    "import numpy as np\n",
    "import sys\n",
    "\n",
    "print(\"Python 环境路径:\", sys.prefix)\n",
    "print(\"Python 版本:\", sys.version)\n",
    "print(\"Python 可执行文件路径:\", sys.executable)"
   ],
   "metadata": {
    "collapsed": false
   },
   "id": "9bdde78a8d027f36"
  },
  {
   "cell_type": "code",
   "execution_count": null,
   "outputs": [],
   "source": [
    "fashion_mnist = keras.datasets.fashion_mnist\n",
    "(train_images,train_labels),(test_images,test_labels)=fashion_mnist.load_data()"
   ],
   "metadata": {
    "collapsed": false
   },
   "id": "45c9d18558ddca14"
  },
  {
   "cell_type": "code",
   "execution_count": null,
   "outputs": [],
   "source": [
    "#扩展维度\n",
    "train_images = np.expand_dims(train_images,-1)\n",
    "test_images = np.expand_dims(test_images,-1)"
   ],
   "metadata": {
    "collapsed": false
   },
   "id": "751ba63963c763cf"
  },
  {
   "cell_type": "code",
   "execution_count": null,
   "outputs": [],
   "source": [
    "train_images.shape"
   ],
   "metadata": {
    "collapsed": false
   },
   "id": "e0c6d112709d8c78"
  },
  {
   "cell_type": "code",
   "execution_count": null,
   "outputs": [],
   "source": [
    "#建立模型\n",
    "model = tf.keras.Sequential()\n",
    "model.add(tf.keras.layers.Conv2D(64,(3,3),\n",
    "                                 input_shape=train_images.shape[1:],\n",
    "                                 activation='relu'),)\n",
    "model.add(tf.keras.layers.MaxPooling2D())#默认2x2\n",
    "model.add(tf.keras.layers.Conv2D(64,(3,3),activation='relu'))\n",
    "model.add(tf.keras.layers.GlobalAveragePooling2D())#全局平均池化\n",
    "model.add(tf.keras.layers.Dense(10,activation='softmax'))\n",
    "model.summary()"
   ],
   "metadata": {
    "collapsed": false
   },
   "id": "36ce4076e40ec468"
  },
  {
   "cell_type": "code",
   "execution_count": null,
   "outputs": [],
   "source": [
    "model.compile(optimizer='adam',\n",
    "             loss='sparse_categorical_crossentropy',\n",
    "             metrics=['acc'])"
   ],
   "metadata": {
    "collapsed": false
   },
   "id": "37c630c3d5b07138"
  },
  {
   "cell_type": "code",
   "execution_count": null,
   "outputs": [],
   "source": [
    "#模型训练\n",
    "history=model.fit(train_images,\n",
    "                  train_labels,\n",
    "                  epochs=5,\n",
    "                 validation_data=(test_images,test_labels))"
   ],
   "metadata": {
    "collapsed": false
   },
   "id": "dfa1037488970516"
  },
  {
   "cell_type": "code",
   "execution_count": null,
   "outputs": [],
   "source": [
    "history.history.keys()"
   ],
   "metadata": {
    "collapsed": false
   },
   "id": "9538044d6251800b"
  },
  {
   "cell_type": "code",
   "execution_count": null,
   "outputs": [],
   "source": [
    "plt.plot(history.epoch,history.history.get('acc'),label='acc')\n",
    "plt.plot(history.epoch,history.history.get('val_acc'),label='val_acc')\n",
    "plt.legend()"
   ],
   "metadata": {
    "collapsed": false
   },
   "id": "1456a4b0e8314894"
  },
  {
   "cell_type": "code",
   "execution_count": null,
   "outputs": [],
   "source": [
    "#模型保存\n",
    "# tf.saved_model.save(model,\"./fashion_mnist/v1\")"
   ],
   "metadata": {
    "collapsed": false
   },
   "id": "b84ed4f10327e27"
  },
  {
   "cell_type": "markdown",
   "source": [
    "**------------------------------------------------------------------------------------**"
   ],
   "metadata": {
    "collapsed": false
   },
   "id": "fca371255921e3d6"
  },
  {
   "cell_type": "markdown",
   "source": [
    "### 加载模型，并读取签名"
   ],
   "metadata": {
    "collapsed": false
   },
   "id": "2c55748809ef9aa0"
  },
  {
   "cell_type": "code",
   "execution_count": null,
   "outputs": [],
   "source": [
    "new_model=tf.saved_model.load(\"./fashion_mnist/v1\")\n",
    "model_signature=new_model.signatures[\"serving_default\"]\n",
    "print(model_signature)"
   ],
   "metadata": {
    "collapsed": false
   },
   "id": "654960f54924e734"
  },
  {
   "cell_type": "markdown",
   "source": [
    "### 查看模型输入输出"
   ],
   "metadata": {
    "collapsed": false
   },
   "id": "5cdce9d24f05ca64"
  },
  {
   "cell_type": "code",
   "execution_count": null,
   "outputs": [],
   "source": [
    "model_signature.inputs,model_signature.outputs"
   ],
   "metadata": {
    "collapsed": false
   },
   "id": "153627cc3df2755c"
  },
  {
   "cell_type": "code",
   "execution_count": null,
   "outputs": [],
   "source": [
    "fashion_mnist = keras.datasets.fashion_mnist\n",
    "(train_images,train_labels),(test_images,test_labels)=fashion_mnist.load_data()\n",
    "print(test_images.shape)"
   ],
   "metadata": {
    "collapsed": false
   },
   "id": "9f3091367ea23dfc"
  },
  {
   "cell_type": "code",
   "execution_count": null,
   "outputs": [],
   "source": [
    "x_test=tf.keras.utils.normalize(test_images,axis=1)#归一化处理\n",
    "# x_test=tf.cast(x_test,dtype=tf.float32)#更改数据类型\n",
    "# print(x_test.shape)\n",
    "x_test = np.expand_dims(x_test,-1)#扩展维度\n",
    "print(x_test.shape)"
   ],
   "metadata": {
    "collapsed": false
   },
   "id": "491a39536bf0c469"
  },
  {
   "cell_type": "code",
   "execution_count": null,
   "outputs": [],
   "source": [
    "x_test=tf.data.Dataset.from_tensor_slices(x_test)#将数据加载为tensorspec\n",
    "print(\"shape1: \",x_test)\n",
    "x_test=x_test.shuffle(100)\n",
    "# x_test=x_test.batch(2)\n",
    "# print(\"shape2: \",x_test)\n",
    "# print(\"len: \",len(x_test))"
   ],
   "metadata": {
    "collapsed": false
   },
   "id": "fe567cca155a78e1"
  },
  {
   "cell_type": "markdown",
   "source": [
    "### 通过take方法读取一个数据"
   ],
   "metadata": {
    "collapsed": false
   },
   "id": "b817ae1935590a2e"
  },
  {
   "cell_type": "code",
   "execution_count": null,
   "outputs": [],
   "source": [
    "batch=next(iter(x_test.take(1)))#通过take方法从batch中获取一个数据\n",
    "plt.imshow(tf.keras.preprocessing.image.array_to_img(batch))#显示数据，通过array_to_img将数组转化为图像\n",
    "dataset=tf.constant(batch)#将数组转化为tensor\n",
    "print(\"shape1: \",dataset.shape)\n",
    "dataset=np.expand_dims(dataset,0)#扩展维度\n",
    "print(\"shape2: \",dataset.shape)"
   ],
   "metadata": {
    "collapsed": false
   },
   "id": "a2f2fb406e28e817"
  },
  {
   "cell_type": "markdown",
   "source": [
    "### 通过next方式读取一个数据"
   ],
   "metadata": {
    "collapsed": false
   },
   "id": "d2c6d95674343b02"
  },
  {
   "cell_type": "code",
   "execution_count": null,
   "outputs": [],
   "source": [
    "batch=next(iter(x_test))\n",
    "plt.imshow(tf.keras.preprocessing.image.array_to_img(batch))\n",
    "batch = next(iter(x_test))#迭代器，取出一个batch的数据\n",
    "dataset=tf.constant(batch)#转化为tensor对象\n",
    "print(\"shape: \",dataset.shape)\n",
    "dataset=np.expand_dims(dataset,0)\n",
    "print(\"shape2: \",dataset.shape)"
   ],
   "metadata": {
    "collapsed": false
   },
   "id": "39774aecae5baa48"
  },
  {
   "cell_type": "markdown",
   "source": [
    "### 模型测试"
   ],
   "metadata": {
    "collapsed": false
   },
   "id": "f9a8c024c8281f12"
  },
  {
   "cell_type": "code",
   "execution_count": null,
   "outputs": [],
   "source": [
    "import tensorflow as tf\n",
    "print(\"TensorFlow version:\", tf.__version__)\n",
    "print(\"GPU available:\", tf.config.list_physical_devices('GPU'))\n"
   ],
   "metadata": {
    "collapsed": false
   },
   "id": "260a000b84663f7e"
  },
  {
   "cell_type": "code",
   "execution_count": null,
   "outputs": [],
   "source": [
    "resout=model_signature(conv2d_input=dataset)"
   ],
   "metadata": {
    "collapsed": false
   },
   "id": "51aaf7e30bbbc6f3"
  },
  {
   "cell_type": "code",
   "execution_count": null,
   "outputs": [],
   "source": [
    "class_names = ['T-shirt/top', 'Trouser', 'Pullover', 'Dress', 'Coat',\n",
    "               'Sandal', 'Shirt', 'Sneaker', 'Bag', 'Ankle boot']\n",
    "def plot_value_array(predictions_array):\n",
    "    plt.grid(False)\n",
    "    plt.xticks(range(10),class_names,rotation=45)\n",
    "    plt.yticks()\n",
    "    plt.bar(range(10),predictions_array['dense'][0])\n",
    "    plt.ylim([0,1])"
   ],
   "metadata": {
    "collapsed": false
   },
   "id": "6b6311f0ca5be5d8"
  },
  {
   "cell_type": "code",
   "execution_count": null,
   "outputs": [],
   "source": [
    "plot_value_array(resout)"
   ],
   "metadata": {
    "collapsed": false
   },
   "id": "58dfc839cd368818"
  }
 ],
 "metadata": {
  "kernelspec": {
   "display_name": "Python 3",
   "language": "python",
   "name": "python3"
  },
  "language_info": {
   "codemirror_mode": {
    "name": "ipython",
    "version": 2
   },
   "file_extension": ".py",
   "mimetype": "text/x-python",
   "name": "python",
   "nbconvert_exporter": "python",
   "pygments_lexer": "ipython2",
   "version": "2.7.6"
  }
 },
 "nbformat": 4,
 "nbformat_minor": 5
}
