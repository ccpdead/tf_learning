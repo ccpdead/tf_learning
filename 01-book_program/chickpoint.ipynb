{
 "cells": [
  {
   "cell_type": "code",
   "execution_count": 6,
   "id": "initial_id",
   "metadata": {
    "collapsed": true,
    "ExecuteTime": {
     "end_time": "2023-08-18T06:58:34.833044700Z",
     "start_time": "2023-08-18T06:58:34.824229100Z"
    }
   },
   "outputs": [],
   "source": [
    "import tensorflow as tf\n",
    "from tensorflow.keras import datasets,layers,models"
   ]
  },
  {
   "cell_type": "code",
   "execution_count": 5,
   "outputs": [],
   "source": [
    "#定义CNN模型类\n",
    "class CNN(object):\n",
    "    def __init__(self):\n",
    "        model=models.Sequential()\n",
    "        #第一卷积层，卷积核3x3，32个，图像28x28\n",
    "        model.add(layers.Conv2D(32,(3,3),activation='relu',\n",
    "                                input_shape=(28,28,1)))\n",
    "        model.add(layers.MaxPooling2D((2,2)))\n",
    "        #第二卷积层\n",
    "        model.add(layers.Conv2D(64,(3,3),activation='relu'))\n",
    "        model.add(layers.MaxPooling2D((2,2)))\n",
    "        #第三卷积层\n",
    "        model.add(layers.Conv2D(64,(3,3),activation='relu'))\n",
    "        model.add(layers.Flatten())\n",
    "        #全连接层\n",
    "        model.add(layers.Dense(64,activation='relu'))\n",
    "        model.add(layers.Dense(10,activation='softmax'))\n",
    "        model.summary()\n",
    "        self.model=model"
   ],
   "metadata": {
    "collapsed": false,
    "ExecuteTime": {
     "end_time": "2023-08-18T06:57:33.119874400Z",
     "start_time": "2023-08-18T06:57:33.096423700Z"
    }
   },
   "id": "77b28e690462aed1"
  },
  {
   "cell_type": "code",
   "execution_count": 9,
   "outputs": [],
   "source": [
    "class DataSource(object):\n",
    "    def __init__(self):\n",
    "        (train_images,train_labels),(test_images,test_labels)=datasets.mnist.load_data()\n",
    "        train_images=train_images.reshape((60000,28,28,1))\n",
    "        test_images=test_images.reshape((10000,28,28,1))\n",
    "        #将像素映射到0~1\n",
    "        train_images,test_images=train_images/255.0,test_images/255.0\n",
    "        self.train_iamges,self.train_labels=train_images,train_labels\n",
    "        self.test_images,self.test_labels=test_images,test_labels"
   ],
   "metadata": {
    "collapsed": false,
    "ExecuteTime": {
     "end_time": "2023-08-18T07:17:39.299242500Z",
     "start_time": "2023-08-18T07:17:39.273139600Z"
    }
   },
   "id": "42b1657c9ef0bd44"
  },
  {
   "cell_type": "code",
   "execution_count": 29,
   "outputs": [],
   "source": [
    "class Train:\n",
    "    def __init__(self):\n",
    "        self.cnn=CNN()\n",
    "        self.data=DataSource()\n",
    "    def train(self):\n",
    "        check_path='./ckpt/cp-{epoch:04d}.ckpt'\n",
    "        #定义回调函数，每训练5次保存一次检查点\n",
    "        save_model_cb=tf.keras.callbacks.ModelCheckpoint(\n",
    "            check_path,save_weights_only=True,verbose=1,period=5)\n",
    "        #定义模型参数\n",
    "        self.cnn.model.compile(optimizer='adam',\n",
    "                               loss=tf.keras.losses.sparse_categorical_crossentropy,\n",
    "                               metrics=['acc'])\n",
    "        #指定训练计划\n",
    "        self.cnn.model.fit(self.data.train_iamges,\n",
    "                           self.data.train_labels,\n",
    "                           epochs=10,\n",
    "                           callbacks=[save_model_cb])\n",
    "        #对模型进行评估\n",
    "        test_loss,test_acc=self.cnn.model.evaluate(\n",
    "            self.data.test_images,self.data.test_labels)\n",
    "        print(\"acc:%.4f,tested %d image\"%(test_acc,len(self.data.test_labels)))"
   ],
   "metadata": {
    "collapsed": false,
    "ExecuteTime": {
     "end_time": "2023-08-18T07:43:21.994494400Z",
     "start_time": "2023-08-18T07:43:21.982099800Z"
    }
   },
   "id": "6adc9125baf8c9bf"
  },
  {
   "cell_type": "code",
   "execution_count": 30,
   "outputs": [
    {
     "name": "stdout",
     "output_type": "stream",
     "text": [
      "Model: \"sequential_12\"\n",
      "_________________________________________________________________\n",
      " Layer (type)                Output Shape              Param #   \n",
      "=================================================================\n",
      " conv2d_36 (Conv2D)          (None, 26, 26, 32)        320       \n",
      "                                                                 \n",
      " max_pooling2d_24 (MaxPooli  (None, 13, 13, 32)        0         \n",
      " ng2D)                                                           \n",
      "                                                                 \n",
      " conv2d_37 (Conv2D)          (None, 11, 11, 64)        18496     \n",
      "                                                                 \n",
      " max_pooling2d_25 (MaxPooli  (None, 5, 5, 64)          0         \n",
      " ng2D)                                                           \n",
      "                                                                 \n",
      " conv2d_38 (Conv2D)          (None, 3, 3, 64)          36928     \n",
      "                                                                 \n",
      " flatten_12 (Flatten)        (None, 576)               0         \n",
      "                                                                 \n",
      " dense_24 (Dense)            (None, 64)                36928     \n",
      "                                                                 \n",
      " dense_25 (Dense)            (None, 10)                650       \n",
      "                                                                 \n",
      "=================================================================\n",
      "Total params: 93322 (364.54 KB)\n",
      "Trainable params: 93322 (364.54 KB)\n",
      "Non-trainable params: 0 (0.00 Byte)\n",
      "_________________________________________________________________\n",
      "WARNING:tensorflow:`period` argument is deprecated. Please use `save_freq` to specify the frequency in number of batches seen.\n",
      "WARNING:tensorflow:Detecting that an object or model or tf.train.Checkpoint is being deleted with unrestored values. See the following logs for the specific values in question. To silence these warnings, use `status.expect_partial()`. See https://www.tensorflow.org/api_docs/python/tf/train/Checkpoint#restorefor details about the status object returned by the restore function.\n",
      "WARNING:tensorflow:Value in checkpoint could not be found in the restored object: (root).optimizer._iterations\n",
      "WARNING:tensorflow:Value in checkpoint could not be found in the restored object: (root).optimizer._learning_rate\n",
      "WARNING:tensorflow:Value in checkpoint could not be found in the restored object: (root).optimizer._variables.1\n",
      "WARNING:tensorflow:Value in checkpoint could not be found in the restored object: (root).optimizer._variables.2\n",
      "WARNING:tensorflow:Value in checkpoint could not be found in the restored object: (root).optimizer._variables.3\n",
      "WARNING:tensorflow:Value in checkpoint could not be found in the restored object: (root).optimizer._variables.4\n",
      "WARNING:tensorflow:Value in checkpoint could not be found in the restored object: (root).optimizer._variables.5\n",
      "WARNING:tensorflow:Value in checkpoint could not be found in the restored object: (root).optimizer._variables.6\n",
      "WARNING:tensorflow:Value in checkpoint could not be found in the restored object: (root).optimizer._variables.7\n",
      "WARNING:tensorflow:Value in checkpoint could not be found in the restored object: (root).optimizer._variables.8\n",
      "WARNING:tensorflow:Value in checkpoint could not be found in the restored object: (root).optimizer._variables.9\n",
      "WARNING:tensorflow:Value in checkpoint could not be found in the restored object: (root).optimizer._variables.10\n",
      "WARNING:tensorflow:Value in checkpoint could not be found in the restored object: (root).optimizer._variables.11\n",
      "WARNING:tensorflow:Value in checkpoint could not be found in the restored object: (root).optimizer._variables.12\n",
      "WARNING:tensorflow:Value in checkpoint could not be found in the restored object: (root).optimizer._variables.13\n",
      "WARNING:tensorflow:Value in checkpoint could not be found in the restored object: (root).optimizer._variables.14\n",
      "WARNING:tensorflow:Value in checkpoint could not be found in the restored object: (root).optimizer._variables.15\n",
      "WARNING:tensorflow:Value in checkpoint could not be found in the restored object: (root).optimizer._variables.16\n",
      "WARNING:tensorflow:Value in checkpoint could not be found in the restored object: (root).optimizer._variables.17\n",
      "WARNING:tensorflow:Value in checkpoint could not be found in the restored object: (root).optimizer._variables.18\n",
      "WARNING:tensorflow:Value in checkpoint could not be found in the restored object: (root).optimizer._variables.19\n",
      "WARNING:tensorflow:Value in checkpoint could not be found in the restored object: (root).optimizer._variables.20\n",
      "Epoch 1/10\n",
      "1875/1875 [==============================] - 22s 11ms/step - loss: 0.1372 - acc: 0.9575\n",
      "Epoch 2/10\n",
      "1875/1875 [==============================] - 24s 13ms/step - loss: 0.0456 - acc: 0.9859\n",
      "Epoch 3/10\n",
      "1875/1875 [==============================] - 27s 14ms/step - loss: 0.0335 - acc: 0.9896\n",
      "Epoch 4/10\n",
      "1875/1875 [==============================] - 33s 18ms/step - loss: 0.0256 - acc: 0.9919\n",
      "Epoch 5/10\n",
      "1874/1875 [============================>.] - ETA: 0s - loss: 0.0201 - acc: 0.9937\n",
      "Epoch 5: saving model to ./ckpt\\cp-0005.ckpt\n",
      "1875/1875 [==============================] - 33s 18ms/step - loss: 0.0202 - acc: 0.9937\n",
      "Epoch 6/10\n",
      "1875/1875 [==============================] - 40s 21ms/step - loss: 0.0165 - acc: 0.9944\n",
      "Epoch 7/10\n",
      "1875/1875 [==============================] - 52s 28ms/step - loss: 0.0129 - acc: 0.9957\n",
      "Epoch 8/10\n",
      "1875/1875 [==============================] - 59s 31ms/step - loss: 0.0119 - acc: 0.9960\n",
      "Epoch 9/10\n",
      "1875/1875 [==============================] - 58s 31ms/step - loss: 0.0098 - acc: 0.9968\n",
      "Epoch 10/10\n",
      "1874/1875 [============================>.] - ETA: 0s - loss: 0.0092 - acc: 0.9969\n",
      "Epoch 10: saving model to ./ckpt\\cp-0010.ckpt\n",
      "1875/1875 [==============================] - 45s 24ms/step - loss: 0.0092 - acc: 0.9969\n",
      "313/313 [==============================] - 3s 7ms/step - loss: 0.0371 - acc: 0.9908\n",
      "acc:0.9908,tested 10000 image\n"
     ]
    }
   ],
   "source": [
    "\n",
    "if __name__=='__main__':\n",
    "    test=Train()\n",
    "    test.train()"
   ],
   "metadata": {
    "collapsed": false,
    "ExecuteTime": {
     "end_time": "2023-08-18T07:50:00.283016900Z",
     "start_time": "2023-08-18T07:43:23.488212900Z"
    }
   },
   "id": "29cf51c2fb5e04ce"
  },
  {
   "cell_type": "code",
   "execution_count": 16,
   "outputs": [],
   "source": [
    "from PIL import Image\n",
    "import numpy as np\n",
    "import tensorflow as tf"
   ],
   "metadata": {
    "collapsed": false,
    "ExecuteTime": {
     "end_time": "2023-08-18T07:22:34.225506100Z",
     "start_time": "2023-08-18T07:22:34.207979800Z"
    }
   },
   "id": "616a432df83988dc"
  },
  {
   "cell_type": "code",
   "execution_count": 32,
   "outputs": [],
   "source": [
    "#定义预测类\n",
    "class Predict(object):\n",
    "    def __init__(self):\n",
    "        latest=tf.train.latest_checkpoint('./ckpt')\n",
    "        self.cnn=CNN()\n",
    "        #恢复网络权重\n",
    "        self.cnn.model.load_weights(latest)\n",
    "    def predict(self,image_path):\n",
    "        #读取黑白图片\n",
    "        img=Image.open(image_path).convert('L')\n",
    "        flatten_img=np.reshape(img,(28,28,1))\n",
    "        x=np.array([1-flatten_img])\n",
    "        y=self.cnn.model.predict(x)\n",
    "        print(image_path)\n",
    "        print(y[0])\n",
    "        print('  ->Predict digit',np.argmax(y[0]))"
   ],
   "metadata": {
    "collapsed": false,
    "ExecuteTime": {
     "end_time": "2023-08-18T07:52:32.186042500Z",
     "start_time": "2023-08-18T07:52:32.176448600Z"
    }
   },
   "id": "64804787f4ea32a0"
  },
  {
   "cell_type": "code",
   "execution_count": 33,
   "outputs": [
    {
     "name": "stdout",
     "output_type": "stream",
     "text": [
      "Model: \"sequential_14\"\n",
      "_________________________________________________________________\n",
      " Layer (type)                Output Shape              Param #   \n",
      "=================================================================\n",
      " conv2d_42 (Conv2D)          (None, 26, 26, 32)        320       \n",
      "                                                                 \n",
      " max_pooling2d_28 (MaxPooli  (None, 13, 13, 32)        0         \n",
      " ng2D)                                                           \n",
      "                                                                 \n",
      " conv2d_43 (Conv2D)          (None, 11, 11, 64)        18496     \n",
      "                                                                 \n",
      " max_pooling2d_29 (MaxPooli  (None, 5, 5, 64)          0         \n",
      " ng2D)                                                           \n",
      "                                                                 \n",
      " conv2d_44 (Conv2D)          (None, 3, 3, 64)          36928     \n",
      "                                                                 \n",
      " flatten_14 (Flatten)        (None, 576)               0         \n",
      "                                                                 \n",
      " dense_28 (Dense)            (None, 64)                36928     \n",
      "                                                                 \n",
      " dense_29 (Dense)            (None, 10)                650       \n",
      "                                                                 \n",
      "=================================================================\n",
      "Total params: 93322 (364.54 KB)\n",
      "Trainable params: 93322 (364.54 KB)\n",
      "Non-trainable params: 0 (0.00 Byte)\n",
      "_________________________________________________________________\n",
      "1/1 [==============================] - 0s 88ms/step\n",
      "C:/Users/yeolume/Pictures/三星多屏联动/0.jpg\n",
      "[0. 0. 0. 0. 0. 0. 0. 0. 1. 0.]\n",
      "  ->Predict digit 8\n",
      "1/1 [==============================] - 0s 24ms/step\n",
      "C:/Users/yeolume/Pictures/三星多屏联动/1.jpg\n",
      "[0. 0. 0. 1. 0. 0. 0. 0. 0. 0.]\n",
      "  ->Predict digit 3\n",
      "1/1 [==============================] - 0s 24ms/step\n",
      "C:/Users/yeolume/Pictures/三星多屏联动/2.jpg\n",
      "[0. 0. 0. 0. 0. 0. 0. 0. 1. 0.]\n",
      "  ->Predict digit 8\n"
     ]
    }
   ],
   "source": [
    "if __name__ == \"__main__\":\n",
    "    test=Predict()\n",
    "    test.predict(\"C:/Users/yeolume/Pictures/三星多屏联动/0.jpg\")\n",
    "    test.predict(\"C:/Users/yeolume/Pictures/三星多屏联动/1.jpg\")\n",
    "    test.predict(\"C:/Users/yeolume/Pictures/三星多屏联动/2.jpg\")"
   ],
   "metadata": {
    "collapsed": false,
    "ExecuteTime": {
     "end_time": "2023-08-18T07:52:33.116710400Z",
     "start_time": "2023-08-18T07:52:32.775584700Z"
    }
   },
   "id": "7d1bcc11e3983adb"
  },
  {
   "cell_type": "code",
   "execution_count": null,
   "outputs": [],
   "source": [],
   "metadata": {
    "collapsed": false
   },
   "id": "137d2cf051de754a"
  }
 ],
 "metadata": {
  "kernelspec": {
   "display_name": "Python 3",
   "language": "python",
   "name": "python3"
  },
  "language_info": {
   "codemirror_mode": {
    "name": "ipython",
    "version": 2
   },
   "file_extension": ".py",
   "mimetype": "text/x-python",
   "name": "python",
   "nbconvert_exporter": "python",
   "pygments_lexer": "ipython2",
   "version": "2.7.6"
  }
 },
 "nbformat": 4,
 "nbformat_minor": 5
}
