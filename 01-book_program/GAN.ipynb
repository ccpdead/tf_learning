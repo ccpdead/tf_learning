{
 "cells": [
  {
   "cell_type": "code",
   "execution_count": 4,
   "outputs": [],
   "source": [
    "train_images=train_images.reshape(train_images.shape[0],28,28,1).astype('float32')\n",
    "train_images=(train_images-127.5)/127.5\n",
    "train_dataset=tf.data.Dataset.from_tensor_slices(train_images).shuffle(BUFFER_SIZE).batch(BATCH_SIZE)"
   ],
   "metadata": {
    "collapsed": false,
    "ExecuteTime": {
     "end_time": "2023-08-23T02:47:38.271016700Z",
     "start_time": "2023-08-23T02:47:37.921947700Z"
    }
   },
   "id": "b292aa7a8102fe03"
  },
  {
   "cell_type": "code",
   "execution_count": 5,
   "outputs": [],
   "source": [
    "#构建生成器\n",
    "def make_generator():\n",
    "    generator=keras.Sequential([\n",
    "        keras.layers.Dense(7*7*256,use_bias=False,input_shape=(100,)),\n",
    "        keras.layers.BatchNormalization(),\n",
    "        keras.layers.LeakyReLU(),\n",
    "        keras.layers.Reshape((7,7,256)),\n",
    "        keras.layers.Conv2DTranspose(128,(5,5),strides=(1,1),padding='same',use_bias=False),\n",
    "        keras.layers.BatchNormalization(),\n",
    "        keras.layers.LeakyReLU(),\n",
    "        keras.layers.Conv2DTranspose(64,(5,5),strides=(2,2),padding='same',use_bias=False),\n",
    "        keras.layers.BatchNormalization(),\n",
    "        keras.layers.LeakyReLU(),\n",
    "        keras.layers.Conv2DTranspose(1,(5,5),strides=(2,2),padding='same',use_bias=False,\n",
    "                                     activation='tanh')\n",
    "    ])\n",
    "    return generator"
   ],
   "metadata": {
    "collapsed": false,
    "ExecuteTime": {
     "end_time": "2023-08-23T02:47:38.271016700Z",
     "start_time": "2023-08-23T02:47:38.271016700Z"
    }
   },
   "id": "3656e028ef9997cd"
  },
  {
   "cell_type": "code",
   "execution_count": 6,
   "outputs": [
    {
     "name": "stderr",
     "output_type": "stream",
     "text": [
      "2023-08-23 10:47:39.940521: I tensorflow/compiler/xla/stream_executor/cuda/cuda_dnn.cc:432] Loaded cuDNN version 8801\n"
     ]
    },
    {
     "data": {
      "text/plain": "<Figure size 640x480 with 1 Axes>",
      "image/png": "[encoded data removed]"
     },
     "metadata": {},
     "output_type": "display_data"
    }
   ],
   "source": [
    "#对生成器进行测试\n",
    "g=make_generator()\n",
    "z=tf.random.normal([1,100])\n",
    "fake_image=g(z,training=False)\n",
    "plt.imshow(fake_image[0,:,:,0],cmap='gray')\n",
    "plt.show()"
   ],
   "metadata": {
    "collapsed": false,
    "ExecuteTime": {
     "end_time": "2023-08-23T02:47:41.105000200Z",
     "start_time": "2023-08-23T02:47:38.271016700Z"
    }
   },
   "id": "1eff21eb68f38de0"
  },
  {
   "cell_type": "code",
   "execution_count": 7,
   "outputs": [],
   "source": [
    "#构建判别器\n",
    "def make_discriminator():\n",
    "    discriminator=keras.Sequential([\n",
    "        keras.layers.Conv2D(64,(5,5),strides=(2,2),padding='same'),\n",
    "        keras.layers.LeakyReLU(),\n",
    "        keras.layers.Dropout(0.2),\n",
    "        keras.layers.Conv2D(128,(5,5),strides=(2,2),padding='same'),\n",
    "        keras.layers.LeakyReLU(),\n",
    "        keras.layers.Dropout(0.2),\n",
    "        keras.layers.Flatten(),\n",
    "        keras.layers.Dense(1),\n",
    "    ])\n",
    "    return discriminator"
   ],
   "metadata": {
    "collapsed": false,
    "ExecuteTime": {
     "end_time": "2023-08-23T02:47:41.116104Z",
     "start_time": "2023-08-23T02:47:41.105000200Z"
    }
   },
   "id": "5d97f9aed5c9f50f"
  },
  {
   "cell_type": "code",
   "execution_count": 8,
   "outputs": [
    {
     "name": "stdout",
     "output_type": "stream",
     "text": [
      "pred score is : tf.Tensor([[-0.00178258]], shape=(1, 1), dtype=float32)\n"
     ]
    }
   ],
   "source": [
    "#对判别器进行测试\n",
    "g=make_generator()#生成器\n",
    "z=tf.random.normal([1,100])\n",
    "fake_image=g(z,training=False)\n",
    "d=make_discriminator()#判别器\n",
    "pred=d(fake_image)\n",
    "print('pred score is :',pred)"
   ],
   "metadata": {
    "collapsed": false,
    "ExecuteTime": {
     "end_time": "2023-08-23T02:47:41.319843900Z",
     "start_time": "2023-08-23T02:47:41.116104Z"
    }
   },
   "id": "c15050b5bba8a1b1"
  },
  {
   "cell_type": "code",
   "execution_count": 9,
   "outputs": [],
   "source": [
    "#定义损失函数和优化器\n",
    "cross_entropy=tf.keras.losses.BinaryCrossentropy(from_logits=True)\n",
    "g_optimizer=keras.optimizers.Adam(1e-4)\n",
    "d_optimizer=keras.optimizers.Adam(1e-4)\n",
    "#定义生成器和判别器的损失函数\n",
    "def generator_loss(fake_image):\n",
    "    return cross_entropy(tf.ones_like(fake_image),fake_image)\n",
    "def discriminator_loss(fake_image,real_image):\n",
    "    real_loss=cross_entropy(tf.ones_like(real_image),real_image)\n",
    "    fake_loss=cross_entropy(tf.ones_like(fake_image),fake_image)\n",
    "    return real_loss+fake_loss"
   ],
   "metadata": {
    "collapsed": false,
    "ExecuteTime": {
     "end_time": "2023-08-23T02:47:41.319843900Z",
     "start_time": "2023-08-23T02:47:41.304175900Z"
    }
   },
   "id": "66f5fe6f7fa10cf7"
  },
  {
   "cell_type": "code",
   "execution_count": 10,
   "outputs": [],
   "source": [
    "#设置检查点\n",
    "checkpoint_dir='./training_chekpoints'\n",
    "checkpoint_prefix=os.path.join(checkpoint_dir,\"cpkt\")\n",
    "checkpoint=tf.train.Checkpoint(g_optimizer=g_optimizer,\n",
    "                               d_optimizer=d_optimizer,g=g,d=d)"
   ],
   "metadata": {
    "collapsed": false,
    "ExecuteTime": {
     "end_time": "2023-08-23T02:47:41.335454200Z",
     "start_time": "2023-08-23T02:47:41.319843900Z"
    }
   },
   "id": "64312d10fb2b9898"
  },
  {
   "cell_type": "code",
   "execution_count": 11,
   "outputs": [],
   "source": [
    "#定义大批量数据训练过程，注意此处使用tf.function来加快函数运算\n",
    "@tf.function\n",
    "def train_one_step(images):\n",
    "    z=tf.random.normal([BATCH_SIZE,z_dim])\n",
    "    with tf.GradientTape() as g_tape,tf.GradientTape() as d_tape:\n",
    "        fake_images=g(z,training=True)\n",
    "        real_pred=d(images,training=True)\n",
    "        fake_pred=d(fake_images,training=True)\n",
    "        g_loss=generator_loss(fake_images)\n",
    "        d_loss=discriminator_loss(real_pred,fake_pred)\n",
    "        \n",
    "    g_gradients=g_tape.gradient(g_loss,g.trainable_variables)\n",
    "    d_gradients=d_tape.gradient(d_loss,d.trainable_variables)\n",
    "    g_optimizer.apply_gradients(zip(g_gradients,g.trainable_variables))\n",
    "    d_optimizer.apply_gradients(zip(d_gradients,d.trainable_variables))\n",
    "#整个数据集训练过程\n",
    "def train(dataset,epochs):\n",
    "    for epoch in range(epochs):\n",
    "        start=time.time()\n",
    "        for image_batch in dataset:\n",
    "            train_one_step(image_batch)\n",
    "        generate_and_save_images(g,epoch+1,seed)\n",
    "        if(epoch+1)%15 == 0:\n",
    "            checkpoint.save(file_prefix=checkpoint_prefix)\n",
    "        print('Time of epoch {} is {} sec'.format(epoch+1,time.time()-start))\n",
    "    generate_and_save_images(g,epochs,seed)\n",
    "        \n",
    "#显示图像\n",
    "def generate_and_save_images(model,epoch,test_input):\n",
    "    predictions=model(test_input,training=False)\n",
    "    fig=plt.figure(figsize=(4,4))\n",
    "    for i in range(predictions.shape[0]):\n",
    "        plt.subplot(4,4,i+1)\n",
    "        plt.imshow(predictions[i,:,:,0]*127.5+127.5,cmap='gray')\n",
    "        plt.axis('off')\n",
    "    plt.savefig('image_at_epoch_{:04d}.png'.format(epoch))\n",
    "    plt.show()"
   ],
   "metadata": {
    "collapsed": false,
    "ExecuteTime": {
     "end_time": "2023-08-23T02:47:41.413906600Z",
     "start_time": "2023-08-23T02:47:41.351164800Z"
    }
   },
   "id": "31fb6ce19176f149"
  },
  {
   "cell_type": "code",
   "execution_count": null,
   "outputs": [],
   "source": [],
   "metadata": {
    "collapsed": false,
    "ExecuteTime": {
     "start_time": "2023-08-23T02:50:52.303356700Z"
    }
   },
   "id": "b2b3ce0f166cfeb0"
  }
 ],
 "metadata": {
  "kernelspec": {
   "display_name": "Python 3",
   "language": "python",
   "name": "python3"
  },
  "language_info": {
   "codemirror_mode": {
    "name": "ipython",
    "version": 2
   },
   "file_extension": ".py",
   "mimetype": "text/x-python",
   "name": "python",
   "nbconvert_exporter": "python",
   "pygments_lexer": "ipython2",
   "version": "2.7.6"
  }
 },
 "nbformat": 4,
 "nbformat_minor": 5
}
