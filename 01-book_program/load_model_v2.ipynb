{
 "cells": [
  {
   "cell_type": "code",
   "execution_count": null,
   "id": "421fe4efa964aa89",
   "metadata": {},
   "outputs": [],
   "source": [
    "import tensorflow as tf\n",
    "import matplotlib.pyplot as plt\n",
    "%matplotlib inline\n",
    "import numpy as np\n",
    "import torchvision\n",
    "import torch\n",
    "from matplotlib.patches import Rectangle\n",
    "import os\n",
    "# os.environ['KMP_DUPLICATE_LIB_OK']='True'\n",
    "\n",
    "import sys\n",
    "print(\"Python 环境路径:\", sys.prefix)\n",
    "print(\"Python 版本:\", sys.version)\n",
    "print(\"Python 可执行文件路径:\", sys.executable)"
   ]
  },
  {
   "cell_type": "code",
   "execution_count": null,
   "id": "12e945c59f392292",
   "metadata": {},
   "outputs": [],
   "source": [
    "# 加载模型，读取签名\n",
    "new_model=tf.saved_model.load(\"/home/jhr/Program/TensorFlow/00-model/model/last_saved_model-3\")\n",
    "model_signature=new_model.signatures[\"serving_default\"]\n",
    "print(model_signature)\n",
    "#查看模型结构\n",
    "model_signature.inputs,model_signature.outputs"
   ]
  },
  {
   "cell_type": "code",
   "execution_count": null,
   "id": "b364516210ae680d",
   "metadata": {},
   "outputs": [],
   "source": [
    "img=tf.io.read_file(\"/home/jhr/Program/TensorFlow/03-program/cap1_15.jpg\")\n",
    "img=tf.image.decode_jpeg(img,channels=3)\n",
    "img=tf.image.resize(img,[640,640])\n",
    "img=img/255.0\n",
    "plt.imshow(img)"
   ]
  },
  {
   "cell_type": "code",
   "execution_count": null,
   "id": "fcd5dc9ad7e1eb96",
   "metadata": {},
   "outputs": [],
   "source": [
    "dataset=tf.constant(img)\n",
    "print(\"shape1 \",dataset.shape)\n",
    "dataset=np.expand_dims(dataset,0)\n",
    "print(\"shape2 \",dataset.shape)"
   ]
  },
  {
   "cell_type": "code",
   "execution_count": null,
   "id": "816ae6f99415d6cd",
   "metadata": {},
   "outputs": [],
   "source": [
    "resout=model_signature(x=dataset)#模型预测\n",
    "resout=resout[\"output_0\"]\n",
    "resout=resout.numpy()\n",
    "resout[0][...,:4]*=[640,640,640,640]"
   ]
  },
  {
   "cell_type": "code",
   "execution_count": null,
   "id": "77c4297695d42d59",
   "metadata": {},
   "outputs": [],
   "source": [
    "agnostic=False\n",
    "conf_thres=0.25\n",
    "iou_thres=0.45\n",
    "max_wh = 7680\n",
    "max_nms = 30000\n",
    "max_det=300\n",
    "nm=0\n",
    "bs=resout.shape[0] #batch_size\n",
    "nc=resout.shape[2]-5    #number of classes\n",
    "xc=resout[...,4]>conf_thres     #condidates\n",
    "mi=10\n",
    "output=[tf.zeros((0,6))]*bs"
   ]
  },
  {
   "cell_type": "code",
   "execution_count": null,
   "id": "cf73fc020e6c1875",
   "metadata": {},
   "outputs": [],
   "source": [
    "#tensorflow模式\n",
    "def xywh2xyxy(x):\n",
    "    y=np.copy(x)\n",
    "    y[..., 0] = x[..., 0] - x[..., 2] / 2.0 # top left x\n",
    "    y[..., 1] = x[..., 1] - x[..., 3] / 2.0  # top left y\n",
    "    y[..., 2] = x[..., 0] + x[..., 2] / 2.0  # bottom right x\n",
    "    y[..., 3] = x[..., 1] + x[..., 3] / 2.0  # bottom right y\n",
    "    return y\n",
    "\n",
    "for xi,x in enumerate(resout): #image index,image inference\n",
    "    x=x[xc[xi]]#根据阈值剔除不符合的数据【116，10】\n",
    "    x[:,5:]*=x[:,4:5]\n",
    "    box = xywh2xyxy(x[:, :4])#center_x, center_y, width, height) to (x1, y1, x2, y2)\n",
    "    mask=x[:,mi:]# zero columns if no masks\n",
    "\n",
    "    conf = tf.reduce_max(x[:,5:mi], axis=1, keepdims=True)#计算每一列最大值\n",
    "    j = np.expand_dims(tf.math.argmax(x[:,5:mi], axis=1),-1)#保存每列最大值的索引\n",
    "\n",
    "    # #拼接张量\n",
    "    concatenated = tf.concat([box, conf, j, mask], axis=1)\n",
    "    conf_mask=tf.reshape(conf,[-1])>conf_thres#展平矩阵，并与conf_thres比较\n",
    "    x=tf.boolean_mask(concatenated,conf_mask,axis=0)#center_x, center_y, width, height，percent，class\n",
    "\n",
    "    #将x按照x[:,4]进行排列\n",
    "    sorted_indices=tf.argsort(x[:,4],direction=\"DESCENDING\")\n",
    "    x=tf.gather(x,sorted_indices[:max_nms])\n",
    "\n",
    "    c = x[:, 5:6] * max_wh\n",
    "    boxes, scores = x[:, :4] + c, x[:, 4]#boxes是\n",
    "    #极大值抑制算法\n",
    "    i=tf.image.non_max_suppression(boxes,scores,iou_threshold=iou_thres,max_output_size=10)\n",
    "    i=i[:max_det]\n",
    "    output[xi]=tf.gather(x,i)\n",
    "output"
   ]
  },
  {
   "cell_type": "code",
   "execution_count": null,
   "id": "888fad9eaf1812a9",
   "metadata": {},
   "outputs": [],
   "source": [
    "#pytorch模式\n",
    "def xywh2xyxy(x):\n",
    "    y=np.copy(x)\n",
    "    y[..., 0] = x[..., 0] - x[..., 2] / 2.0 # top left x\n",
    "    y[..., 1] = x[..., 1] - x[..., 3] / 2.0  # top left y\n",
    "    y[..., 2] = x[..., 0] + x[..., 2] / 2.0  # bottom right x\n",
    "    y[..., 3] = x[..., 1] + x[..., 3] / 2.0  # bottom right y\n",
    "    return torch.tensor(y)\n",
    "\n",
    "#torch模式\n",
    "for xi,x in enumerate(resout):\n",
    "    x=torch.tensor(x)#抓换为tensor对象\n",
    "    x=x[xc[xi]]\n",
    "    x[:,5:]*=x[:,4:5]\n",
    "    box=xywh2xyxy(x[:,:4])#计算四个边框\n",
    "    mask=x[:,mi:]\n",
    "    conf, j = x[:, 5:mi].max(1, keepdim=True)\n",
    "    x = torch.cat((box, conf, j.float(), mask), 1)[conf.view(-1) > conf_thres]\n",
    "    x = x[x[:, 4].argsort(descending=True)[:max_nms]]\n",
    "    c = x[:, 5:6] * (0 if agnostic else max_wh)  # classes\n",
    "    boxes, scores = x[:, :4] + c, x[:, 4]  # boxes (offset by class), scores\n",
    "    i = torchvision.ops.nms(boxes, scores, iou_thres)  # NMS 非最大值抑制\n",
    "    i = i[:max_det]  # limit detections\n",
    "    output[xi] = x[i]\n",
    "\n",
    "# output"
   ]
  },
  {
   "cell_type": "code",
   "execution_count": null,
   "id": "2b03c1c539dd960e",
   "metadata": {},
   "outputs": [],
   "source": [
    "rect=output[0][3,:4]\n",
    "plt.imshow(img)\n",
    "rect=Rectangle((rect[0],rect[1]),\n",
    "               (rect[2]-rect[0]),\n",
    "               (rect[3]-rect[1]),\n",
    "               fill=False,\n",
    "               color='red')\n",
    "ax=plt.gca()\n",
    "ax.axes.add_patch(rect)\n",
    "plt.show()"
   ]
  },
  {
   "cell_type": "code",
   "execution_count": null,
   "id": "cfb05067888633be",
   "metadata": {},
   "outputs": [],
   "source": []
  }
 ],
 "metadata": {
  "kernelspec": {
   "display_name": "Python 3 (ipykernel)",
   "language": "python",
   "name": "python3"
  },
  "language_info": {
   "codemirror_mode": {
    "name": "ipython",
    "version": 2
   },
   "file_extension": ".py",
   "mimetype": "text/x-python",
   "name": "python",
   "nbconvert_exporter": "python",
   "pygments_lexer": "ipython2",
   "version": "2.7.6"
  }
 },
 "nbformat": 4,
 "nbformat_minor": 5
}
