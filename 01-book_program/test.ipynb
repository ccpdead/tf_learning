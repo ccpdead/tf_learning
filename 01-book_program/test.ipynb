{
 "cells": [
  {
   "cell_type": "code",
   "execution_count": 1,
   "id": "initial_id",
   "metadata": {
    "collapsed": true,
    "ExecuteTime": {
     "end_time": "2023-09-27T10:11:14.820080020Z",
     "start_time": "2023-09-27T10:11:14.646961093Z"
    }
   },
   "outputs": [
    {
     "ename": "NameError",
     "evalue": "name 'dfdsdffd' is not defined",
     "output_type": "error",
     "traceback": [
      "\u001B[0;31m---------------------------------------------------------------------------\u001B[0m",
      "\u001B[0;31mNameError\u001B[0m                                 Traceback (most recent call last)",
      "Cell \u001B[0;32mIn[1], line 1\u001B[0m\n\u001B[0;32m----> 1\u001B[0m \u001B[43mdfdsdffd\u001B[49m\n\u001B[1;32m      2\u001B[0m sdf\n\u001B[1;32m      3\u001B[0m sdf\n",
      "\u001B[0;31mNameError\u001B[0m: name 'dfdsdffd' is not defined"
     ]
    }
   ],
   "source": [
    "dfdsdffd\n",
    "sdf\n",
    "sdf\n",
    "\n",
    "sdfsd\n",
    "dsfdsf\n"
   ]
  },
  {
   "cell_type": "code",
   "execution_count": 2,
   "outputs": [
    {
     "ename": "NameError",
     "evalue": "name 'sdfsdf' is not defined",
     "output_type": "error",
     "traceback": [
      "\u001B[0;31m---------------------------------------------------------------------------\u001B[0m",
      "\u001B[0;31mNameError\u001B[0m                                 Traceback (most recent call last)",
      "Cell \u001B[0;32mIn[2], line 1\u001B[0m\n\u001B[0;32m----> 1\u001B[0m \u001B[43msdfsdf\u001B[49m\n\u001B[1;32m      2\u001B[0m sdf\n\u001B[1;32m      3\u001B[0m sdf\n",
      "\u001B[0;31mNameError\u001B[0m: name 'sdfsdf' is not defined"
     ]
    }
   ],
   "source": [
    "sdfsdf\n",
    "sdf\n",
    "sdf\n"
   ],
   "metadata": {
    "collapsed": false,
    "ExecuteTime": {
     "end_time": "2023-09-27T10:11:16.853733475Z",
     "start_time": "2023-09-27T10:11:16.848986121Z"
    }
   },
   "id": "1064efad519ab69b"
  },
  {
   "cell_type": "code",
   "execution_count": null,
   "outputs": [],
   "source": [],
   "metadata": {
    "collapsed": false
   },
   "id": "ad1c5fdd6fec9708"
  }
 ],
 "metadata": {
  "kernelspec": {
   "display_name": "Python 3",
   "language": "python",
   "name": "python3"
  },
  "language_info": {
   "codemirror_mode": {
    "name": "ipython",
    "version": 2
   },
   "file_extension": ".py",
   "mimetype": "text/x-python",
   "name": "python",
   "nbconvert_exporter": "python",
   "pygments_lexer": "ipython2",
   "version": "2.7.6"
  }
 },
 "nbformat": 4,
 "nbformat_minor": 5
}
