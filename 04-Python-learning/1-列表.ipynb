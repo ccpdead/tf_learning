{
 "cells": [
  {
   "cell_type": "code",
   "execution_count": null,
   "id": "initial_id",
   "metadata": {
    "collapsed": true
   },
   "outputs": [],
   "source": [
    "list = ['red', 'green', 'blue', 'yellow', 'white', 'black']\n",
    "print( list[0] )\n",
    "print( list[1] )\n",
    "print( list[2] )"
   ]
  },
  {
   "cell_type": "code",
   "execution_count": null,
   "outputs": [],
   "source": [
    "list = ['red', 'green', 'blue', 'yellow', 'white', 'black']\n",
    "print( list[-1] )\n",
    "print( list[-2] )\n",
    "print( list[-3] )"
   ],
   "metadata": {
    "collapsed": false
   },
   "id": "c57339057c3453ed"
  },
  {
   "cell_type": "code",
   "execution_count": null,
   "outputs": [],
   "source": [
    "list = ['Google', 'Runoob', \"Zhihu\", \"Taobao\", \"Wiki\"]\n",
    " \n",
    "# 读取第二位\n",
    "print (\"list[1]: \", list[1])\n",
    "# 从第二位开始（包含）截取到倒数第二位（不包含）\n",
    "print (\"list[1:-2]: \", list[1:-2])"
   ],
   "metadata": {
    "collapsed": false
   },
   "id": "bb7cab3bf8f22a40"
  },
  {
   "cell_type": "code",
   "execution_count": null,
   "outputs": [],
   "source": [
    "list = ['Google', 'Runoob', 1997, 2000]\n",
    " \n",
    "print (\"第三个元素为 : \", list[2])\n",
    "list[2] = 2001\n",
    "print (\"更新后的第三个元素为 : \", list[2])\n",
    " \n",
    "list1 = ['Google', 'Runoob', 'Taobao']\n",
    "list1.append('Baidu')\n",
    "print (\"更新后的列表 : \", list1)"
   ],
   "metadata": {
    "collapsed": false
   },
   "id": "f1870a480e0ef0da"
  },
  {
   "cell_type": "code",
   "execution_count": 2,
   "outputs": [
    {
     "name": "stdout",
     "output_type": "stream",
     "text": [
      "图像数据类型: <class 'NoneType'>\n"
     ]
    },
    {
     "name": "stderr",
     "output_type": "stream",
     "text": [
      "[ WARN:0@4.834] global loadsave.cpp:248 findDecoder imread_('/home/jhr/depth.png'): can't open/read file: check file path/integrity\n"
     ]
    },
    {
     "ename": "AttributeError",
     "evalue": "'NoneType' object has no attribute 'shape'",
     "output_type": "error",
     "traceback": [
      "\u001B[0;31m---------------------------------------------------------------------------\u001B[0m",
      "\u001B[0;31mAttributeError\u001B[0m                            Traceback (most recent call last)",
      "Cell \u001B[0;32mIn[2], line 7\u001B[0m\n\u001B[1;32m      5\u001B[0m \u001B[38;5;66;03m# 检查图像数据类型和形状\u001B[39;00m\n\u001B[1;32m      6\u001B[0m \u001B[38;5;28mprint\u001B[39m(\u001B[38;5;124m\"\u001B[39m\u001B[38;5;124m图像数据类型:\u001B[39m\u001B[38;5;124m\"\u001B[39m, \u001B[38;5;28mtype\u001B[39m(depth_image))\n\u001B[0;32m----> 7\u001B[0m \u001B[38;5;28mprint\u001B[39m(\u001B[38;5;124m\"\u001B[39m\u001B[38;5;124m图像形状:\u001B[39m\u001B[38;5;124m\"\u001B[39m, depth_image\u001B[38;5;241m.\u001B[39mshape)\n",
      "\u001B[0;31mAttributeError\u001B[0m: 'NoneType' object has no attribute 'shape'"
     ]
    }
   ],
   "source": [
    "import cv2\n",
    "import numpy as np\n",
    "\n",
    "depth_image = cv2.imread(\"/home/jhr/depth.png\")\n",
    "# 检查图像数据类型和形状\n",
    "print(\"图像数据类型:\", type(depth_image))\n",
    "print(\"图像形状:\", depth_image.shape)"
   ],
   "metadata": {
    "collapsed": false,
    "ExecuteTime": {
     "end_time": "2023-10-09T06:32:30.707475986Z",
     "start_time": "2023-10-09T06:32:30.695768608Z"
    }
   },
   "id": "98babe717da95561"
  },
  {
   "cell_type": "code",
   "execution_count": 5,
   "outputs": [],
   "source": [
    "image_array = np.array(depth_image)"
   ],
   "metadata": {
    "collapsed": false,
    "ExecuteTime": {
     "end_time": "2023-10-07T08:20:36.059365512Z",
     "start_time": "2023-10-07T08:20:36.052984869Z"
    }
   },
   "id": "52737e071c6c5c58"
  },
  {
   "cell_type": "code",
   "execution_count": 15,
   "outputs": [
    {
     "data": {
      "text/plain": "232"
     },
     "execution_count": 15,
     "metadata": {},
     "output_type": "execute_result"
    }
   ],
   "source": [
    "image_array[:,:,1].max()"
   ],
   "metadata": {
    "collapsed": false,
    "ExecuteTime": {
     "end_time": "2023-10-07T08:22:37.266570105Z",
     "start_time": "2023-10-07T08:22:37.255396470Z"
    }
   },
   "id": "c2f2f6fe97257b79"
  },
  {
   "cell_type": "code",
   "execution_count": null,
   "outputs": [],
   "source": [],
   "metadata": {
    "collapsed": false
   },
   "id": "316d0397c626b14d"
  }
 ],
 "metadata": {
  "kernelspec": {
   "display_name": "Python 3",
   "language": "python",
   "name": "python3"
  },
  "language_info": {
   "codemirror_mode": {
    "name": "ipython",
    "version": 2
   },
   "file_extension": ".py",
   "mimetype": "text/x-python",
   "name": "python",
   "nbconvert_exporter": "python",
   "pygments_lexer": "ipython2",
   "version": "2.7.6"
  }
 },
 "nbformat": 4,
 "nbformat_minor": 5
}
